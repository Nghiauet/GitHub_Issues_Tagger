{
 "cells": [
  {
   "cell_type": "markdown",
   "metadata": {},
   "source": [
    "# import library"
   ]
  },
  {
   "cell_type": "code",
   "execution_count": 3,
   "metadata": {},
   "outputs": [],
   "source": [
    "from transformers import set_seed \n",
    "import nlpaug.augmenter.word as naw "
   ]
  },
  {
   "cell_type": "code",
   "execution_count": 13,
   "metadata": {},
   "outputs": [
    {
     "name": "stdout",
     "output_type": "stream",
     "text": [
      "Original: Transformers are the most popular toys\n",
      "Augmented Text: ['transformers — the most coveted toys']\n"
     ]
    }
   ],
   "source": [
    "set_seed(3)\n",
    "aug = naw.ContextualWordEmbsAug(\n",
    "    model_path = 'distilbert-base-uncased',\n",
    "    device = 'cpu', \n",
    "    action = 'substitute' # thay the\n",
    ")\n",
    "text = 'Transformers are the most popular toys' \n",
    "print(f\"Original: {text}\") \n",
    "print(f\"Augmented Text: {aug.augment(text)}\") "
   ]
  },
  {
   "cell_type": "markdown",
   "metadata": {},
   "source": [
    "# Augment function"
   ]
  },
  {
   "cell_type": "code",
   "execution_count": 14,
   "metadata": {},
   "outputs": [],
   "source": [
    "def augment_text(batch, transformation_per_example = 1): \n",
    "    \"\"\"return \n",
    "\n",
    "    Args:\n",
    "        batch (_type_): _description_\n",
    "        transformation_per_example (int, optional): _description_. Defaults to 1.\n",
    "\n",
    "    Returns:\n",
    "        _type_: _description_\n",
    "    \"\"\"\n",
    "    text_aug , label_ids = [], [] \n",
    "    for text, labels in zip(batch['text'], batch['labels_ids']): \n",
    "        text_aug += [text] \n",
    "        label_ids += [labels] \n",
    "        for _ in range(transformation_per_example):\n",
    "            text_aug += [aug.augment(text)] \n",
    "            label_ids += [labels]\n",
    "    return {'text': text_aug, 'labels_ids': label_ids}"
   ]
  },
  {
   "cell_type": "code",
   "execution_count": null,
   "metadata": {},
   "outputs": [],
   "source": []
  },
  {
   "cell_type": "code",
   "execution_count": null,
   "metadata": {},
   "outputs": [],
   "source": []
  },
  {
   "cell_type": "code",
   "execution_count": null,
   "metadata": {},
   "outputs": [],
   "source": []
  },
  {
   "cell_type": "code",
   "execution_count": null,
   "metadata": {},
   "outputs": [],
   "source": []
  },
  {
   "cell_type": "code",
   "execution_count": null,
   "metadata": {},
   "outputs": [],
   "source": []
  },
  {
   "cell_type": "code",
   "execution_count": null,
   "metadata": {},
   "outputs": [],
   "source": []
  }
 ],
 "metadata": {
  "kernelspec": {
   "display_name": "GEC_env",
   "language": "python",
   "name": "python3"
  },
  "language_info": {
   "codemirror_mode": {
    "name": "ipython",
    "version": 3
   },
   "file_extension": ".py",
   "mimetype": "text/x-python",
   "name": "python",
   "nbconvert_exporter": "python",
   "pygments_lexer": "ipython3",
   "version": "3.8.10"
  },
  "orig_nbformat": 4
 },
 "nbformat": 4,
 "nbformat_minor": 2
}
