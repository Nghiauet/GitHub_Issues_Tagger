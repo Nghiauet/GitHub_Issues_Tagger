{
 "cells": [
  {
   "cell_type": "markdown",
   "metadata": {},
   "source": [
    "# Import lib and dataset"
   ]
  },
  {
   "cell_type": "code",
   "execution_count": 25,
   "metadata": {},
   "outputs": [],
   "source": [
    "import pandas as pd\n",
    "import json\n",
    "import numpy as np \n",
    "import matplotlib.pyplot as plt\n",
    "from transformers import set_seed \n",
    "import nlpaug.augmenter.word as naw \n",
    "from sklearn.naive_bayes import MultinomialNB\n",
    "from sklearn.metrics import classification_report \n",
    "from skmultilearn.problem_transform import BinaryRelevance \n",
    "from sklearn.feature_extraction.text import CountVectorizer \n",
    "import torch \n",
    "from sklearn.preprocessing import MultiLabelBinarizer\n",
    "from skmultilearn.model_selection import iterative_train_test_split \n",
    "from transformers import AutoTokenizer, AutoConfig, AutoModelForSequenceClassification\n",
    "pd.set_option('display.max_colwidth', 200)\n"
   ]
  },
  {
   "cell_type": "markdown",
   "metadata": {},
   "source": [
    "## Load data to json file"
   ]
  },
  {
   "cell_type": "code",
   "execution_count": null,
   "metadata": {},
   "outputs": [],
   "source": [
    "\n",
    "# set width for dataframe display\n",
    "# dataset_url = \"https://git.io/nlp-with-transformers\"\n",
    "# df_issues = pd.read_json(dataset_url, lines=True)\n",
    "# print(f\"DataFrame shape: {df_issues.shape}\")"
   ]
  },
  {
   "cell_type": "code",
   "execution_count": 26,
   "metadata": {},
   "outputs": [],
   "source": [
    "df_issues = pd.read_json(\"dataset.json\", lines=True)"
   ]
  },
  {
   "cell_type": "code",
   "execution_count": 27,
   "metadata": {},
   "outputs": [
    {
     "data": {
      "text/html": [
       "<div>\n",
       "<style scoped>\n",
       "    .dataframe tbody tr th:only-of-type {\n",
       "        vertical-align: middle;\n",
       "    }\n",
       "\n",
       "    .dataframe tbody tr th {\n",
       "        vertical-align: top;\n",
       "    }\n",
       "\n",
       "    .dataframe thead th {\n",
       "        text-align: right;\n",
       "    }\n",
       "</style>\n",
       "<table border=\"1\" class=\"dataframe\">\n",
       "  <thead>\n",
       "    <tr style=\"text-align: right;\">\n",
       "      <th></th>\n",
       "      <th>2</th>\n",
       "    </tr>\n",
       "  </thead>\n",
       "  <tbody>\n",
       "    <tr>\n",
       "      <th>url</th>\n",
       "      <td>https://api.github.com/repos/huggingface/transformers/issues/11044</td>\n",
       "    </tr>\n",
       "    <tr>\n",
       "      <th>id</th>\n",
       "      <td>849529761</td>\n",
       "    </tr>\n",
       "    <tr>\n",
       "      <th>title</th>\n",
       "      <td>[DeepSpeed] ZeRO stage 3 integration: getting started and issues</td>\n",
       "    </tr>\n",
       "    <tr>\n",
       "      <th>user</th>\n",
       "      <td>{'login': 'stas00', 'id': 10676103, 'node_id': 'MDQ6VXNlcjEwNjc2MTAz', 'avatar_url': 'https://avatars.githubusercontent.com/u/10676103?v=4', 'gravatar_id': '', 'url': 'https://api.github.com/users...</td>\n",
       "    </tr>\n",
       "    <tr>\n",
       "      <th>labels</th>\n",
       "      <td>[{'id': 2659267025, 'node_id': 'MDU6TGFiZWwyNjU5MjY3MDI1', 'url': 'https://api.github.com/repos/huggingface/transformers/labels/DeepSpeed', 'name': 'DeepSpeed', 'color': '4D34F7', 'default': False...</td>\n",
       "    </tr>\n",
       "    <tr>\n",
       "      <th>state</th>\n",
       "      <td>open</td>\n",
       "    </tr>\n",
       "    <tr>\n",
       "      <th>created_at</th>\n",
       "      <td>2021-04-02 23:40:42</td>\n",
       "    </tr>\n",
       "    <tr>\n",
       "      <th>body</th>\n",
       "      <td>**[This is not yet alive, preparing for the release, so please ignore for now]**\\r\\n\\r\\nThe DeepSpeed ZeRO-3 has been integrated into HF `transformers`. \\r\\n\\r\\nWhile I tried to write tests for a ...</td>\n",
       "    </tr>\n",
       "  </tbody>\n",
       "</table>\n",
       "</div>"
      ],
      "text/plain": [
       "                                                                                                                                                                                                                  2\n",
       "url                                                                                                                                              https://api.github.com/repos/huggingface/transformers/issues/11044\n",
       "id                                                                                                                                                                                                        849529761\n",
       "title                                                                                                                                              [DeepSpeed] ZeRO stage 3 integration: getting started and issues\n",
       "user        {'login': 'stas00', 'id': 10676103, 'node_id': 'MDQ6VXNlcjEwNjc2MTAz', 'avatar_url': 'https://avatars.githubusercontent.com/u/10676103?v=4', 'gravatar_id': '', 'url': 'https://api.github.com/users...\n",
       "labels      [{'id': 2659267025, 'node_id': 'MDU6TGFiZWwyNjU5MjY3MDI1', 'url': 'https://api.github.com/repos/huggingface/transformers/labels/DeepSpeed', 'name': 'DeepSpeed', 'color': '4D34F7', 'default': False...\n",
       "state                                                                                                                                                                                                          open\n",
       "created_at                                                                                                                                                                                      2021-04-02 23:40:42\n",
       "body        **[This is not yet alive, preparing for the release, so please ignore for now]**\\r\\n\\r\\nThe DeepSpeed ZeRO-3 has been integrated into HF `transformers`. \\r\\n\\r\\nWhile I tried to write tests for a ..."
      ]
     },
     "execution_count": 27,
     "metadata": {},
     "output_type": "execute_result"
    }
   ],
   "source": [
    "cols = [\"url\", \"id\", \"title\", \"user\", \"labels\", \"state\", \"created_at\", \"body\"]\n",
    "df_issues.loc[2, cols].to_frame()"
   ]
  },
  {
   "cell_type": "markdown",
   "metadata": {},
   "source": [
    "## Process data"
   ]
  },
  {
   "cell_type": "code",
   "execution_count": 28,
   "metadata": {},
   "outputs": [
    {
     "data": {
      "text/html": [
       "<div>\n",
       "<style scoped>\n",
       "    .dataframe tbody tr th:only-of-type {\n",
       "        vertical-align: middle;\n",
       "    }\n",
       "\n",
       "    .dataframe tbody tr th {\n",
       "        vertical-align: top;\n",
       "    }\n",
       "\n",
       "    .dataframe thead th {\n",
       "        text-align: right;\n",
       "    }\n",
       "</style>\n",
       "<table border=\"1\" class=\"dataframe\">\n",
       "  <thead>\n",
       "    <tr style=\"text-align: right;\">\n",
       "      <th></th>\n",
       "      <th>labels</th>\n",
       "    </tr>\n",
       "  </thead>\n",
       "  <tbody>\n",
       "    <tr>\n",
       "      <th>0</th>\n",
       "      <td>[]</td>\n",
       "    </tr>\n",
       "    <tr>\n",
       "      <th>1</th>\n",
       "      <td>[]</td>\n",
       "    </tr>\n",
       "    <tr>\n",
       "      <th>2</th>\n",
       "      <td>[DeepSpeed]</td>\n",
       "    </tr>\n",
       "    <tr>\n",
       "      <th>3</th>\n",
       "      <td>[]</td>\n",
       "    </tr>\n",
       "    <tr>\n",
       "      <th>4</th>\n",
       "      <td>[]</td>\n",
       "    </tr>\n",
       "  </tbody>\n",
       "</table>\n",
       "</div>"
      ],
      "text/plain": [
       "        labels\n",
       "0           []\n",
       "1           []\n",
       "2  [DeepSpeed]\n",
       "3           []\n",
       "4           []"
      ]
     },
     "execution_count": 28,
     "metadata": {},
     "output_type": "execute_result"
    }
   ],
   "source": [
    "df_issues[\"labels\"] = (df_issues[\"labels\"]\n",
    "        .apply(lambda x: [meta[\"name\"] for meta in x]))\n",
    "df_issues[[\"labels\"]].head()"
   ]
  },
  {
   "cell_type": "code",
   "execution_count": 29,
   "metadata": {},
   "outputs": [
    {
     "name": "stdout",
     "output_type": "stream",
     "text": [
      "Number of labels: 65\n"
     ]
    },
    {
     "data": {
      "text/html": [
       "<div>\n",
       "<style scoped>\n",
       "    .dataframe tbody tr th:only-of-type {\n",
       "        vertical-align: middle;\n",
       "    }\n",
       "\n",
       "    .dataframe tbody tr th {\n",
       "        vertical-align: top;\n",
       "    }\n",
       "\n",
       "    .dataframe thead th {\n",
       "        text-align: right;\n",
       "    }\n",
       "</style>\n",
       "<table border=\"1\" class=\"dataframe\">\n",
       "  <thead>\n",
       "    <tr style=\"text-align: right;\">\n",
       "      <th>labels</th>\n",
       "      <th>wontfix</th>\n",
       "      <th>model card</th>\n",
       "      <th>Core: Tokenization</th>\n",
       "      <th>New model</th>\n",
       "      <th>Core: Modeling</th>\n",
       "      <th>Help wanted</th>\n",
       "      <th>Good First Issue</th>\n",
       "      <th>Usage</th>\n",
       "      <th>Core: Pipeline</th>\n",
       "      <th>Feature request</th>\n",
       "    </tr>\n",
       "  </thead>\n",
       "  <tbody>\n",
       "    <tr>\n",
       "      <th>count</th>\n",
       "      <td>2284</td>\n",
       "      <td>649</td>\n",
       "      <td>106</td>\n",
       "      <td>98</td>\n",
       "      <td>64</td>\n",
       "      <td>52</td>\n",
       "      <td>50</td>\n",
       "      <td>46</td>\n",
       "      <td>42</td>\n",
       "      <td>41</td>\n",
       "    </tr>\n",
       "  </tbody>\n",
       "</table>\n",
       "</div>"
      ],
      "text/plain": [
       "labels  wontfix  model card  Core: Tokenization  New model  Core: Modeling  \\\n",
       "count      2284         649                 106         98              64   \n",
       "\n",
       "labels  Help wanted  Good First Issue  Usage  Core: Pipeline  Feature request  \n",
       "count            52                50     46              42               41  "
      ]
     },
     "execution_count": 29,
     "metadata": {},
     "output_type": "execute_result"
    }
   ],
   "source": [
    "df_counts = df_issues[\"labels\"].explode().value_counts()\n",
    "print(f\"Number of labels: {len(df_counts)}\") \n",
    "df_counts.head(10).to_frame().T"
   ]
  },
  {
   "cell_type": "code",
   "execution_count": 30,
   "metadata": {},
   "outputs": [],
   "source": [
    "label_map = {\"Core: Tokenization\": \"tokenization\",\n",
    " \"New model\": \"new model\",\n",
    " \"Core: Modeling\": \"model training\",\n",
    " \"Usage\": \"usage\",\n",
    " \"Core: Pipeline\": \"pipeline\",\n",
    " \"TensorFlow\": \"tensorflow or tf\",\n",
    " \"PyTorch\": \"pytorch\",\n",
    " \"Examples\": \"examples\",\n",
    " \"Documentation\": \"documentation\"}"
   ]
  },
  {
   "cell_type": "code",
   "execution_count": 31,
   "metadata": {},
   "outputs": [],
   "source": [
    "def filter_lables(x): \n",
    "    return [label_map[label] for label in x if label in label_map] \n",
    "df_issues[\"labels\"] = df_issues[\"labels\"].apply(filter_lables) \n",
    "all_labels = list(label_map.values()) "
   ]
  },
  {
   "cell_type": "code",
   "execution_count": 32,
   "metadata": {},
   "outputs": [
    {
     "name": "stdout",
     "output_type": "stream",
     "text": [
      "Number of labels: 9\n"
     ]
    },
    {
     "data": {
      "text/html": [
       "<div>\n",
       "<style scoped>\n",
       "    .dataframe tbody tr th:only-of-type {\n",
       "        vertical-align: middle;\n",
       "    }\n",
       "\n",
       "    .dataframe tbody tr th {\n",
       "        vertical-align: top;\n",
       "    }\n",
       "\n",
       "    .dataframe thead th {\n",
       "        text-align: right;\n",
       "    }\n",
       "</style>\n",
       "<table border=\"1\" class=\"dataframe\">\n",
       "  <thead>\n",
       "    <tr style=\"text-align: right;\">\n",
       "      <th>labels</th>\n",
       "      <th>tokenization</th>\n",
       "      <th>new model</th>\n",
       "      <th>model training</th>\n",
       "      <th>usage</th>\n",
       "      <th>pipeline</th>\n",
       "      <th>tensorflow or tf</th>\n",
       "      <th>pytorch</th>\n",
       "      <th>documentation</th>\n",
       "      <th>examples</th>\n",
       "    </tr>\n",
       "  </thead>\n",
       "  <tbody>\n",
       "    <tr>\n",
       "      <th>count</th>\n",
       "      <td>106</td>\n",
       "      <td>98</td>\n",
       "      <td>64</td>\n",
       "      <td>46</td>\n",
       "      <td>42</td>\n",
       "      <td>41</td>\n",
       "      <td>37</td>\n",
       "      <td>28</td>\n",
       "      <td>24</td>\n",
       "    </tr>\n",
       "  </tbody>\n",
       "</table>\n",
       "</div>"
      ],
      "text/plain": [
       "labels  tokenization  new model  model training  usage  pipeline  \\\n",
       "count            106         98              64     46        42   \n",
       "\n",
       "labels  tensorflow or tf  pytorch  documentation  examples  \n",
       "count                 41       37             28        24  "
      ]
     },
     "execution_count": 32,
     "metadata": {},
     "output_type": "execute_result"
    }
   ],
   "source": [
    "df_counts = df_issues[\"labels\"].explode().value_counts()\n",
    "print(f\"Number of labels: {len(df_counts)}\")\n",
    "df_counts.head(10).to_frame().T"
   ]
  },
  {
   "cell_type": "markdown",
   "metadata": {},
   "source": [
    "## save the unlabels data"
   ]
  },
  {
   "cell_type": "code",
   "execution_count": 33,
   "metadata": {},
   "outputs": [
    {
     "data": {
      "text/html": [
       "<div>\n",
       "<style scoped>\n",
       "    .dataframe tbody tr th:only-of-type {\n",
       "        vertical-align: middle;\n",
       "    }\n",
       "\n",
       "    .dataframe tbody tr th {\n",
       "        vertical-align: top;\n",
       "    }\n",
       "\n",
       "    .dataframe thead th {\n",
       "        text-align: right;\n",
       "    }\n",
       "</style>\n",
       "<table border=\"1\" class=\"dataframe\">\n",
       "  <thead>\n",
       "    <tr style=\"text-align: right;\">\n",
       "      <th></th>\n",
       "      <th>count</th>\n",
       "    </tr>\n",
       "    <tr>\n",
       "      <th>split</th>\n",
       "      <th></th>\n",
       "    </tr>\n",
       "  </thead>\n",
       "  <tbody>\n",
       "    <tr>\n",
       "      <th>unlabeled</th>\n",
       "      <td>9489</td>\n",
       "    </tr>\n",
       "    <tr>\n",
       "      <th>labeled</th>\n",
       "      <td>441</td>\n",
       "    </tr>\n",
       "  </tbody>\n",
       "</table>\n",
       "</div>"
      ],
      "text/plain": [
       "           count\n",
       "split           \n",
       "unlabeled   9489\n",
       "labeled      441"
      ]
     },
     "execution_count": 33,
     "metadata": {},
     "output_type": "execute_result"
    }
   ],
   "source": [
    "df_issues[\"split\"] = \"unlabeled\"\n",
    "mark = df_issues[\"labels\"].apply(lambda x: len(x) > 0)\n",
    "df_issues.loc[mark, \"split\"] = \"labeled\"\n",
    "df_issues[\"split\"].value_counts().to_frame()"
   ]
  },
  {
   "cell_type": "code",
   "execution_count": 34,
   "metadata": {},
   "outputs": [
    {
     "name": "stdout",
     "output_type": "stream",
     "text": [
      "title: Add new CANINE model\n",
      "\n",
      "body: # 🌟 New model addition\n",
      "\n",
      "## Model description\n",
      "\n",
      "Google recently proposed a new **C**haracter **A**rchitecture with **N**o tokenization **I**n **N**eural **E**ncoders architecture (CANINE). Not only the title is exciting:\n",
      "\n",
      "> Pipelined NLP systems have largely been superseded by end-to-end neural modeling, yet nearly all commonly-used models still require an explicit tokenization step. While recent tokenization approaches based on data-derived subword lexicons are less brittle than manually en\n",
      "\n",
      "labels: ['new model']\n",
      "\n"
     ]
    }
   ],
   "source": [
    "# print some examples\n",
    "for colume in ['title', 'body', 'labels']:\n",
    "    print(f\"{colume}: {df_issues[colume].iloc[26][:500]}\\n\")"
   ]
  },
  {
   "cell_type": "code",
   "execution_count": 35,
   "metadata": {},
   "outputs": [],
   "source": [
    "# concat the title and body \n",
    "df_issues['text'] = (df_issues\n",
    "                     .apply(lambda x: f\"{x['title']} +  {x['body']}\", axis=1))"
   ]
  },
  {
   "cell_type": "code",
   "execution_count": 36,
   "metadata": {},
   "outputs": [
    {
     "data": {
      "text/plain": [
       "0    Potential incorrect application of layer norm in BlenderbotSmallDecoder +  In BlenderbotSmallDecoder,  layer norm is applied only on the token embeddings, and not on the hidden_states, whereas in ...\n",
       "1    Multi-GPU seq2seq example evaluation significantly slower than legacy example evaluation +  \\r\\n### Who can help\\r\\n@patil-suraj @sgugger \\r\\n\\r\\nModels:\\r\\nT5\\r\\n\\r\\n## Information\\r\\n\\r\\nI've be...\n",
       "2    [DeepSpeed] ZeRO stage 3 integration: getting started and issues +  **[This is not yet alive, preparing for the release, so please ignore for now]**\\r\\n\\r\\nThe DeepSpeed ZeRO-3 has been integrated...\n",
       "3    Can't load model to estimater +  I was trying to follow the Sagemaker instructions [here](https://docs.aws.amazon.com/sagemaker/latest/dg/deploy-model.html) to load the model I just trained and te...\n",
       "4    [LXMERT] Unclear what img_tensorize does with color spaces +  ## Environment info\\r\\n\\r\\n- `transformers` version: Not using transformers directly, I'm loading a model \"unc-nlp/frcnn-vg-finetuned\"...\n",
       "Name: text, dtype: object"
      ]
     },
     "execution_count": 36,
     "metadata": {},
     "output_type": "execute_result"
    }
   ],
   "source": [
    "df_issues['text'].head()"
   ]
  },
  {
   "cell_type": "code",
   "execution_count": 37,
   "metadata": {},
   "outputs": [
    {
     "name": "stdout",
     "output_type": "stream",
     "text": [
      "Remove 1.88% duplicates.\n"
     ]
    }
   ],
   "source": [
    "len_before = len(df_issues)\n",
    "df_issues = df_issues.drop_duplicates(subset=['text'])\n",
    "print(f\"Remove {(len_before - len(df_issues)) / len_before:.2%} duplicates.\")\n"
   ]
  },
  {
   "cell_type": "markdown",
   "metadata": {},
   "source": [
    "## Plot the dataset"
   ]
  },
  {
   "cell_type": "code",
   "execution_count": 38,
   "metadata": {},
   "outputs": [
    {
     "data": {
      "image/png": "[encoded data removed]",
      "text/plain": [
       "<Figure size 640x480 with 1 Axes>"
      ]
     },
     "metadata": {},
     "output_type": "display_data"
    }
   ],
   "source": [
    "df_issues['text'].str.split().apply(len).hist(bins = np.linspace(0, 500, 50), grid=False, edgecolor='C0') \n",
    "plt.title(\"Words per issue\") \n",
    "plt.xlabel(\"Number of words\")\n",
    "plt.ylabel(\"Number of issues\")\n",
    "plt.show()"
   ]
  },
  {
   "cell_type": "markdown",
   "metadata": {},
   "source": [
    "# Creating training set"
   ]
  },
  {
   "cell_type": "code",
   "execution_count": 39,
   "metadata": {},
   "outputs": [
    {
     "data": {
      "text/plain": [
       "array([[0, 0, 0, 1, 0, 0, 0, 1, 0],\n",
       "       [0, 0, 0, 0, 0, 1, 0, 0, 0]])"
      ]
     },
     "execution_count": 39,
     "metadata": {},
     "output_type": "execute_result"
    }
   ],
   "source": [
    "#create balance split by using sk ml\n",
    "mlb = MultiLabelBinarizer()\n",
    "mlb.fit([all_labels])\n",
    "mlb.transform([[\"tokenization\", \"new model\"], [\"pytorch\"]])  # example of target encoding"
   ]
  },
  {
   "cell_type": "markdown",
   "metadata": {},
   "source": [
    "## split dataset"
   ]
  },
  {
   "cell_type": "code",
   "execution_count": 40,
   "metadata": {},
   "outputs": [],
   "source": [
    "def balanced_split(df , test_size = 0.5): \n",
    "    ind = np.expand_dims(np.arange(len(df)), axis=1)\n",
    "    labels = mlb.transform(df[\"labels\"]) # transform labels to binary\n",
    "    ind_train , _ , ind_test, _  = iterative_train_test_split(ind, labels, test_size=test_size) # split data\n",
    "    return df.iloc[ind_train[:, 0]], df.iloc[ind_test[:, 0]]  # return train and test DataFrames"
   ]
  },
  {
   "cell_type": "markdown",
   "metadata": {},
   "source": [
    "Example of balance split\n",
    "![Alt text](image-1.png)"
   ]
  },
  {
   "cell_type": "code",
   "execution_count": 41,
   "metadata": {},
   "outputs": [],
   "source": [
    "from sklearn.model_selection import train_test_split\n",
    "df_clean = df_issues[[\"text\" , \"labels\", \"split\"]].reset_index(drop=True).copy() \n",
    "df_unsup = df_clean.loc[df_clean[\"split\"] == \"unlabeled\", [\"text\", \"labels\"]].copy()\n",
    "df_sup = df_clean.loc[df_clean[\"split\"] == \"labeled\", [\"text\", \"labels\"]].copy()\n",
    "\n",
    "np.random.seed(0)\n",
    " \n",
    "df_train , df_tmp = balanced_split(df_sup, test_size=0.5) \n",
    "df_valid , df_test = balanced_split(df_tmp, test_size=0.5) "
   ]
  },
  {
   "cell_type": "markdown",
   "metadata": {},
   "source": [
    "## Create datasetDict"
   ]
  },
  {
   "cell_type": "code",
   "execution_count": 42,
   "metadata": {},
   "outputs": [],
   "source": [
    "from datasets import Dataset, DatasetDict \n",
    "ds = DatasetDict({\"train\": Dataset.from_pandas(df_train.reset_index(drop=True)),\n",
    "                  \"valid\": Dataset.from_pandas(df_valid.reset_index(drop=True)),\n",
    "                    \"test\": Dataset.from_pandas(df_test.reset_index(drop=True)),\n",
    "                    \"unsup\": Dataset.from_pandas(df_unsup.reset_index(drop=True))\n",
    "                  })"
   ]
  },
  {
   "cell_type": "markdown",
   "metadata": {},
   "source": [
    "## Creating Training slices"
   ]
  },
  {
   "cell_type": "code",
   "execution_count": 43,
   "metadata": {},
   "outputs": [
    {
     "name": "stdout",
     "output_type": "stream",
     "text": [
      "Number of samples: 223\n"
     ]
    }
   ],
   "source": [
    "np.random.seed(0)\n",
    "all_indices = np.expand_dims(list(range(len(ds[\"train\"]))) , axis=1) \n",
    "print(f\"Number of samples: {len(all_indices)}\")\n",
    "indices_pool = all_indices \n",
    "lables = mlb.transform(ds[\"train\"][\"labels\"]) \n",
    "train_samples =  [8, 16, 32, 64, 128] \n",
    "train_slices , last_k = [], 0 \n",
    "for i , k in enumerate(train_samples):\n",
    "    # split off samples necessary to fill the gap to the next split size\n",
    "    indices_pool, lables, new_slice, _ = iterative_train_test_split(indices_pool, lables, (k - last_k)/len(lables))\n",
    "    last_k = k \n",
    "    if i == 0:\n",
    "        train_slices.append(new_slice)\n",
    "    else: train_slices.append(np.concatenate([train_slices[-1], new_slice]))\n",
    "# add full dataset as last slice \n",
    "train_slices.append(all_indices) , train_samples.append(len(ds[\"train\"]))\n",
    "train_slices = [np.squeeze(x) for x in train_slices]"
   ]
  },
  {
   "cell_type": "code",
   "execution_count": 44,
   "metadata": {},
   "outputs": [
    {
     "data": {
      "application/vnd.jupyter.widget-view+json": {
       "model_id": "b925a2fecb914cc2a29ae41210766012",
       "version_major": 2,
       "version_minor": 0
      },
      "text/plain": [
       "Map:   0%|          | 0/223 [00:00<?, ? examples/s]"
      ]
     },
     "metadata": {},
     "output_type": "display_data"
    },
    {
     "data": {
      "application/vnd.jupyter.widget-view+json": {
       "model_id": "95818cc0193d4841a07dab406b33aae9",
       "version_major": 2,
       "version_minor": 0
      },
      "text/plain": [
       "Map:   0%|          | 0/106 [00:00<?, ? examples/s]"
      ]
     },
     "metadata": {},
     "output_type": "display_data"
    },
    {
     "data": {
      "application/vnd.jupyter.widget-view+json": {
       "model_id": "cb1e7a72401346eaa09572698f8b1bdf",
       "version_major": 2,
       "version_minor": 0
      },
      "text/plain": [
       "Map:   0%|          | 0/111 [00:00<?, ? examples/s]"
      ]
     },
     "metadata": {},
     "output_type": "display_data"
    },
    {
     "data": {
      "application/vnd.jupyter.widget-view+json": {
       "model_id": "4396f42fb7bd48d0a07206e2616c53bb",
       "version_major": 2,
       "version_minor": 0
      },
      "text/plain": [
       "Map:   0%|          | 0/9303 [00:00<?, ? examples/s]"
      ]
     },
     "metadata": {},
     "output_type": "display_data"
    }
   ],
   "source": [
    "def prepare_labels(batch): \n",
    "    batch[\"label_ids\"] = mlb.transform(batch[\"labels\"])\n",
    "    return batch\n",
    "ds = ds.map(prepare_labels, batched=True) "
   ]
  },
  {
   "cell_type": "code",
   "execution_count": 45,
   "metadata": {},
   "outputs": [
    {
     "data": {
      "text/html": [
       "<div>\n",
       "<style scoped>\n",
       "    .dataframe tbody tr th:only-of-type {\n",
       "        vertical-align: middle;\n",
       "    }\n",
       "\n",
       "    .dataframe tbody tr th {\n",
       "        vertical-align: top;\n",
       "    }\n",
       "\n",
       "    .dataframe thead th {\n",
       "        text-align: right;\n",
       "    }\n",
       "</style>\n",
       "<table border=\"1\" class=\"dataframe\">\n",
       "  <thead>\n",
       "    <tr style=\"text-align: right;\">\n",
       "      <th></th>\n",
       "      <th>text</th>\n",
       "      <th>labels</th>\n",
       "    </tr>\n",
       "  </thead>\n",
       "  <tbody>\n",
       "    <tr>\n",
       "      <th>26</th>\n",
       "      <td>Add new CANINE model +  # 🌟 New model addition\\r\\n\\r\\n## Model description\\r\\n\\r\\nGoogle recently proposed a new **C**haracter **A**rchitecture with **N**o tokenization **I**n **N**eural **E**ncod...</td>\n",
       "      <td>[new model]</td>\n",
       "    </tr>\n",
       "    <tr>\n",
       "      <th>107</th>\n",
       "      <td>Please implement DUMA: Reading Comprehension with Transposition Thinking +  # 🚀 Feature request\\r\\n\\r\\n&lt;!-- A clear and concise description of the feature proposal.\\r\\n     Please provide a link t...</td>\n",
       "      <td>[new model]</td>\n",
       "    </tr>\n",
       "    <tr>\n",
       "      <th>264</th>\n",
       "      <td>Can DeepSpeed ZeRO-3 be applied for training?  +  # 🌟 New model addition\\r\\n\\r\\nWe have applied DeepSpeed v0.3.10(ZeRO-2) on T5 training. \\r\\nI heard DeepSpeed ZeRO-3 library has been released 10 ...</td>\n",
       "      <td>[new model]</td>\n",
       "    </tr>\n",
       "    <tr>\n",
       "      <th>484</th>\n",
       "      <td>XLSR-53 +  # 🚀 Feature request\\r\\n\\r\\nIs it possible to use XLSR-53 with transformers in the near future? \\r\\n</td>\n",
       "      <td>[new model]</td>\n",
       "    </tr>\n",
       "    <tr>\n",
       "      <th>566</th>\n",
       "      <td>[examples] should all examples support the predict stage? +  This is part of the ongoing effort to sync the example scripts.\\r\\n\\r\\nIn https://github.com/huggingface/transformers/issues/10437#issu...</td>\n",
       "      <td>[examples]</td>\n",
       "    </tr>\n",
       "  </tbody>\n",
       "</table>\n",
       "</div>"
      ],
      "text/plain": [
       "                                                                                                                                                                                                        text  \\\n",
       "26   Add new CANINE model +  # 🌟 New model addition\\r\\n\\r\\n## Model description\\r\\n\\r\\nGoogle recently proposed a new **C**haracter **A**rchitecture with **N**o tokenization **I**n **N**eural **E**ncod...   \n",
       "107  Please implement DUMA: Reading Comprehension with Transposition Thinking +  # 🚀 Feature request\\r\\n\\r\\n<!-- A clear and concise description of the feature proposal.\\r\\n     Please provide a link t...   \n",
       "264  Can DeepSpeed ZeRO-3 be applied for training?  +  # 🌟 New model addition\\r\\n\\r\\nWe have applied DeepSpeed v0.3.10(ZeRO-2) on T5 training. \\r\\nI heard DeepSpeed ZeRO-3 library has been released 10 ...   \n",
       "484                                                                                           XLSR-53 +  # 🚀 Feature request\\r\\n\\r\\nIs it possible to use XLSR-53 with transformers in the near future? \\r\\n   \n",
       "566  [examples] should all examples support the predict stage? +  This is part of the ongoing effort to sync the example scripts.\\r\\n\\r\\nIn https://github.com/huggingface/transformers/issues/10437#issu...   \n",
       "\n",
       "          labels  \n",
       "26   [new model]  \n",
       "107  [new model]  \n",
       "264  [new model]  \n",
       "484  [new model]  \n",
       "566   [examples]  "
      ]
     },
     "execution_count": 45,
     "metadata": {},
     "output_type": "execute_result"
    }
   ],
   "source": [
    "df_train.head()"
   ]
  },
  {
   "cell_type": "code",
   "execution_count": 46,
   "metadata": {},
   "outputs": [],
   "source": [
    "from collections import defaultdict\n",
    "macro_scores , micro_scores = defaultdict(list), defaultdict(list)"
   ]
  },
  {
   "cell_type": "code",
   "execution_count": 47,
   "metadata": {},
   "outputs": [],
   "source": [
    "def plot_metrics(micro_scores, macro_scores, sample_sizes, current_model):\n",
    "    fig, (ax0, ax1) = plt.subplots(1, 2, figsize=(10, 4), sharey=True)\n",
    "    for run in micro_scores.keys():\n",
    "        if run == current_model:\n",
    "            print(run)\n",
    "            ax0.plot(sample_sizes, micro_scores[run], label = run , linewidth=2)            \n",
    "            ax1.plot(sample_sizes, macro_scores[run], label = run , linewidth=2)\n",
    "        else:\n",
    "            print(run)\n",
    "            ax0.plot(sample_sizes, micro_scores[run], label=run,linestyle=\"dashed\")\n",
    "            ax1.plot(sample_sizes, macro_scores[run], label=run,linestyle=\"dashed\")\n",
    "    ax0.set_title(\"Micro F1 scores\")\n",
    "    ax1.set_title(\"Macro F1 scores\")\n",
    "    ax0.set_ylabel(\"Test set F1 score\")\n",
    "    ax0.legend(loc=\"lower right\")\n",
    "    for ax in [ax0, ax1]:\n",
    "        ax.set_xlabel(\"Number of training samples\")\n",
    "        ax.set_xscale(\"log\")\n",
    "        ax.set_xticks(sample_sizes)\n",
    "        ax.set_xticklabels(sample_sizes)\n",
    "        ax.minorticks_off()\n",
    "    plt.tight_layout()\n",
    "    plt.show()"
   ]
  },
  {
   "cell_type": "code",
   "execution_count": null,
   "metadata": {},
   "outputs": [],
   "source": []
  },
  {
   "cell_type": "code",
   "execution_count": null,
   "metadata": {},
   "outputs": [],
   "source": []
  }
 ],
 "metadata": {
  "kernelspec": {
   "display_name": "GEC_env",
   "language": "python",
   "name": "python3"
  },
  "language_info": {
   "codemirror_mode": {
    "name": "ipython",
    "version": 3
   },
   "file_extension": ".py",
   "mimetype": "text/x-python",
   "name": "python",
   "nbconvert_exporter": "python",
   "pygments_lexer": "ipython3",
   "version": "3.8.10"
  },
  "orig_nbformat": 4
 },
 "nbformat": 4,
 "nbformat_minor": 2
}
