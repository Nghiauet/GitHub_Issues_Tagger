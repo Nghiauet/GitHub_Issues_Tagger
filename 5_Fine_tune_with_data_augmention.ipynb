{
 "cells": [
  {
   "cell_type": "markdown",
   "metadata": {},
   "source": [
    "# Import dataset"
   ]
  },
  {
   "cell_type": "code",
   "execution_count": 1,
   "metadata": {},
   "outputs": [],
   "source": [
    "import pandas as pd\n",
    "import json\n",
    "import numpy as np \n",
    "import matplotlib.pyplot as plt\n",
    "from transformers import set_seed \n",
    "import nlpaug.augmenter.word as naw \n",
    "# set width for dataframe display\n",
    "pd.set_option('display.max_colwidth', 200)\n",
    "# dataset_url = \"https://git.io/nlp-with-transformers\"\n",
    "# df_issues = pd.read_json(dataset_url, lines=True)\n",
    "# print(f\"DataFrame shape: {df_issues.shape}\")"
   ]
  },
  {
   "cell_type": "markdown",
   "metadata": {},
   "source": [
    "## Load data from json file"
   ]
  },
  {
   "cell_type": "code",
   "execution_count": 2,
   "metadata": {},
   "outputs": [],
   "source": [
    "df_issues = pd.read_json(\"dataset.json\", lines=True)"
   ]
  },
  {
   "cell_type": "code",
   "execution_count": 3,
   "metadata": {},
   "outputs": [
    {
     "data": {
      "text/plain": [
       "(9930, 26)"
      ]
     },
     "execution_count": 3,
     "metadata": {},
     "output_type": "execute_result"
    }
   ],
   "source": [
    "df_issues.shape"
   ]
  },
  {
   "cell_type": "code",
   "execution_count": 4,
   "metadata": {},
   "outputs": [
    {
     "data": {
      "text/html": [
       "<div>\n",
       "<style scoped>\n",
       "    .dataframe tbody tr th:only-of-type {\n",
       "        vertical-align: middle;\n",
       "    }\n",
       "\n",
       "    .dataframe tbody tr th {\n",
       "        vertical-align: top;\n",
       "    }\n",
       "\n",
       "    .dataframe thead th {\n",
       "        text-align: right;\n",
       "    }\n",
       "</style>\n",
       "<table border=\"1\" class=\"dataframe\">\n",
       "  <thead>\n",
       "    <tr style=\"text-align: right;\">\n",
       "      <th></th>\n",
       "      <th>2</th>\n",
       "    </tr>\n",
       "  </thead>\n",
       "  <tbody>\n",
       "    <tr>\n",
       "      <th>url</th>\n",
       "      <td>https://api.github.com/repos/huggingface/transformers/issues/11044</td>\n",
       "    </tr>\n",
       "    <tr>\n",
       "      <th>id</th>\n",
       "      <td>849529761</td>\n",
       "    </tr>\n",
       "    <tr>\n",
       "      <th>title</th>\n",
       "      <td>[DeepSpeed] ZeRO stage 3 integration: getting started and issues</td>\n",
       "    </tr>\n",
       "    <tr>\n",
       "      <th>user</th>\n",
       "      <td>{'login': 'stas00', 'id': 10676103, 'node_id': 'MDQ6VXNlcjEwNjc2MTAz', 'avatar_url': 'https://avatars.githubusercontent.com/u/10676103?v=4', 'gravatar_id': '', 'url': 'https://api.github.com/users...</td>\n",
       "    </tr>\n",
       "    <tr>\n",
       "      <th>labels</th>\n",
       "      <td>[{'id': 2659267025, 'node_id': 'MDU6TGFiZWwyNjU5MjY3MDI1', 'url': 'https://api.github.com/repos/huggingface/transformers/labels/DeepSpeed', 'name': 'DeepSpeed', 'color': '4D34F7', 'default': False...</td>\n",
       "    </tr>\n",
       "    <tr>\n",
       "      <th>state</th>\n",
       "      <td>open</td>\n",
       "    </tr>\n",
       "    <tr>\n",
       "      <th>created_at</th>\n",
       "      <td>2021-04-02 23:40:42</td>\n",
       "    </tr>\n",
       "    <tr>\n",
       "      <th>body</th>\n",
       "      <td>**[This is not yet alive, preparing for the release, so please ignore for now]**\\r\\n\\r\\nThe DeepSpeed ZeRO-3 has been integrated into HF `transformers`. \\r\\n\\r\\nWhile I tried to write tests for a ...</td>\n",
       "    </tr>\n",
       "  </tbody>\n",
       "</table>\n",
       "</div>"
      ],
      "text/plain": [
       "                                                                                                                                                                                                                  2\n",
       "url                                                                                                                                              https://api.github.com/repos/huggingface/transformers/issues/11044\n",
       "id                                                                                                                                                                                                        849529761\n",
       "title                                                                                                                                              [DeepSpeed] ZeRO stage 3 integration: getting started and issues\n",
       "user        {'login': 'stas00', 'id': 10676103, 'node_id': 'MDQ6VXNlcjEwNjc2MTAz', 'avatar_url': 'https://avatars.githubusercontent.com/u/10676103?v=4', 'gravatar_id': '', 'url': 'https://api.github.com/users...\n",
       "labels      [{'id': 2659267025, 'node_id': 'MDU6TGFiZWwyNjU5MjY3MDI1', 'url': 'https://api.github.com/repos/huggingface/transformers/labels/DeepSpeed', 'name': 'DeepSpeed', 'color': '4D34F7', 'default': False...\n",
       "state                                                                                                                                                                                                          open\n",
       "created_at                                                                                                                                                                                      2021-04-02 23:40:42\n",
       "body        **[This is not yet alive, preparing for the release, so please ignore for now]**\\r\\n\\r\\nThe DeepSpeed ZeRO-3 has been integrated into HF `transformers`. \\r\\n\\r\\nWhile I tried to write tests for a ..."
      ]
     },
     "execution_count": 4,
     "metadata": {},
     "output_type": "execute_result"
    }
   ],
   "source": [
    "cols = [\"url\", \"id\", \"title\", \"user\", \"labels\", \"state\", \"created_at\", \"body\"]\n",
    "df_issues.loc[2, cols].to_frame()\n"
   ]
  },
  {
   "cell_type": "code",
   "execution_count": 5,
   "metadata": {},
   "outputs": [
    {
     "name": "stdout",
     "output_type": "stream",
     "text": [
      "Index(['url', 'repository_url', 'labels_url', 'comments_url', 'events_url',\n",
      "       'html_url', 'id', 'node_id', 'number', 'title', 'user', 'labels',\n",
      "       'state', 'locked', 'assignee', 'assignees', 'milestone', 'comments',\n",
      "       'created_at', 'updated_at', 'closed_at', 'author_association',\n",
      "       'active_lock_reason', 'body', 'performed_via_github_app',\n",
      "       'pull_request'],\n",
      "      dtype='object')\n"
     ]
    }
   ],
   "source": [
    "# print all the columns\n",
    "print(df_issues.columns)"
   ]
  },
  {
   "cell_type": "markdown",
   "metadata": {},
   "source": [
    "## Process label"
   ]
  },
  {
   "cell_type": "code",
   "execution_count": 6,
   "metadata": {},
   "outputs": [
    {
     "data": {
      "text/html": [
       "<div>\n",
       "<style scoped>\n",
       "    .dataframe tbody tr th:only-of-type {\n",
       "        vertical-align: middle;\n",
       "    }\n",
       "\n",
       "    .dataframe tbody tr th {\n",
       "        vertical-align: top;\n",
       "    }\n",
       "\n",
       "    .dataframe thead th {\n",
       "        text-align: right;\n",
       "    }\n",
       "</style>\n",
       "<table border=\"1\" class=\"dataframe\">\n",
       "  <thead>\n",
       "    <tr style=\"text-align: right;\">\n",
       "      <th></th>\n",
       "      <th>labels</th>\n",
       "    </tr>\n",
       "  </thead>\n",
       "  <tbody>\n",
       "    <tr>\n",
       "      <th>0</th>\n",
       "      <td>[]</td>\n",
       "    </tr>\n",
       "    <tr>\n",
       "      <th>1</th>\n",
       "      <td>[]</td>\n",
       "    </tr>\n",
       "    <tr>\n",
       "      <th>2</th>\n",
       "      <td>[DeepSpeed]</td>\n",
       "    </tr>\n",
       "    <tr>\n",
       "      <th>3</th>\n",
       "      <td>[]</td>\n",
       "    </tr>\n",
       "    <tr>\n",
       "      <th>4</th>\n",
       "      <td>[]</td>\n",
       "    </tr>\n",
       "  </tbody>\n",
       "</table>\n",
       "</div>"
      ],
      "text/plain": [
       "        labels\n",
       "0           []\n",
       "1           []\n",
       "2  [DeepSpeed]\n",
       "3           []\n",
       "4           []"
      ]
     },
     "execution_count": 6,
     "metadata": {},
     "output_type": "execute_result"
    }
   ],
   "source": [
    "df_issues[\"labels\"] = (df_issues[\"labels\"]\n",
    " .apply(lambda x: [meta[\"name\"] for meta in x]))\n",
    "df_issues[[\"labels\"]].head()"
   ]
  },
  {
   "cell_type": "code",
   "execution_count": 7,
   "metadata": {},
   "outputs": [
    {
     "name": "stdout",
     "output_type": "stream",
     "text": [
      "Number of labels: 65\n"
     ]
    },
    {
     "data": {
      "text/html": [
       "<div>\n",
       "<style scoped>\n",
       "    .dataframe tbody tr th:only-of-type {\n",
       "        vertical-align: middle;\n",
       "    }\n",
       "\n",
       "    .dataframe tbody tr th {\n",
       "        vertical-align: top;\n",
       "    }\n",
       "\n",
       "    .dataframe thead th {\n",
       "        text-align: right;\n",
       "    }\n",
       "</style>\n",
       "<table border=\"1\" class=\"dataframe\">\n",
       "  <thead>\n",
       "    <tr style=\"text-align: right;\">\n",
       "      <th>labels</th>\n",
       "      <th>wontfix</th>\n",
       "      <th>model card</th>\n",
       "      <th>Core: Tokenization</th>\n",
       "      <th>New model</th>\n",
       "      <th>Core: Modeling</th>\n",
       "      <th>Help wanted</th>\n",
       "      <th>Good First Issue</th>\n",
       "      <th>Usage</th>\n",
       "      <th>Core: Pipeline</th>\n",
       "      <th>Feature request</th>\n",
       "    </tr>\n",
       "  </thead>\n",
       "  <tbody>\n",
       "    <tr>\n",
       "      <th>count</th>\n",
       "      <td>2284</td>\n",
       "      <td>649</td>\n",
       "      <td>106</td>\n",
       "      <td>98</td>\n",
       "      <td>64</td>\n",
       "      <td>52</td>\n",
       "      <td>50</td>\n",
       "      <td>46</td>\n",
       "      <td>42</td>\n",
       "      <td>41</td>\n",
       "    </tr>\n",
       "  </tbody>\n",
       "</table>\n",
       "</div>"
      ],
      "text/plain": [
       "labels  wontfix  model card  Core: Tokenization  New model  Core: Modeling  \\\n",
       "count      2284         649                 106         98              64   \n",
       "\n",
       "labels  Help wanted  Good First Issue  Usage  Core: Pipeline  Feature request  \n",
       "count            52                50     46              42               41  "
      ]
     },
     "execution_count": 7,
     "metadata": {},
     "output_type": "execute_result"
    }
   ],
   "source": [
    "df_counts = df_issues[\"labels\"].explode().value_counts()\n",
    "print(f\"Number of labels: {len(df_counts)}\") \n",
    "df_counts.head(10).to_frame().T"
   ]
  },
  {
   "cell_type": "code",
   "execution_count": 8,
   "metadata": {},
   "outputs": [],
   "source": [
    "label_map = {\"Core: Tokenization\": \"tokenization\",\n",
    " \"New model\": \"new model\",\n",
    " \"Core: Modeling\": \"model training\",\n",
    " \"Usage\": \"usage\",\n",
    " \"Core: Pipeline\": \"pipeline\",\n",
    " \"TensorFlow\": \"tensorflow or tf\",\n",
    " \"PyTorch\": \"pytorch\",\n",
    " \"Examples\": \"examples\",\n",
    " \"Documentation\": \"documentation\"}"
   ]
  },
  {
   "cell_type": "code",
   "execution_count": 9,
   "metadata": {},
   "outputs": [],
   "source": [
    "def filter_lables(x): \n",
    "    return [label_map[label] for label in x if label in label_map] \n",
    "df_issues[\"labels\"] = df_issues[\"labels\"].apply(filter_lables) \n",
    "all_labels = list(label_map.values()) "
   ]
  },
  {
   "cell_type": "code",
   "execution_count": 10,
   "metadata": {},
   "outputs": [
    {
     "name": "stdout",
     "output_type": "stream",
     "text": [
      "Number of labels: 9\n"
     ]
    },
    {
     "data": {
      "text/html": [
       "<div>\n",
       "<style scoped>\n",
       "    .dataframe tbody tr th:only-of-type {\n",
       "        vertical-align: middle;\n",
       "    }\n",
       "\n",
       "    .dataframe tbody tr th {\n",
       "        vertical-align: top;\n",
       "    }\n",
       "\n",
       "    .dataframe thead th {\n",
       "        text-align: right;\n",
       "    }\n",
       "</style>\n",
       "<table border=\"1\" class=\"dataframe\">\n",
       "  <thead>\n",
       "    <tr style=\"text-align: right;\">\n",
       "      <th>labels</th>\n",
       "      <th>tokenization</th>\n",
       "      <th>new model</th>\n",
       "      <th>model training</th>\n",
       "      <th>usage</th>\n",
       "      <th>pipeline</th>\n",
       "      <th>tensorflow or tf</th>\n",
       "      <th>pytorch</th>\n",
       "      <th>documentation</th>\n",
       "      <th>examples</th>\n",
       "    </tr>\n",
       "  </thead>\n",
       "  <tbody>\n",
       "    <tr>\n",
       "      <th>count</th>\n",
       "      <td>106</td>\n",
       "      <td>98</td>\n",
       "      <td>64</td>\n",
       "      <td>46</td>\n",
       "      <td>42</td>\n",
       "      <td>41</td>\n",
       "      <td>37</td>\n",
       "      <td>28</td>\n",
       "      <td>24</td>\n",
       "    </tr>\n",
       "  </tbody>\n",
       "</table>\n",
       "</div>"
      ],
      "text/plain": [
       "labels  tokenization  new model  model training  usage  pipeline  \\\n",
       "count            106         98              64     46        42   \n",
       "\n",
       "labels  tensorflow or tf  pytorch  documentation  examples  \n",
       "count                 41       37             28        24  "
      ]
     },
     "execution_count": 10,
     "metadata": {},
     "output_type": "execute_result"
    }
   ],
   "source": [
    "df_counts = df_issues[\"labels\"].explode().value_counts()\n",
    "print(f\"Number of labels: {len(df_counts)}\")\n",
    "df_counts.head(10).to_frame().T"
   ]
  },
  {
   "cell_type": "markdown",
   "metadata": {},
   "source": [
    "## save the unlabels data"
   ]
  },
  {
   "cell_type": "code",
   "execution_count": 11,
   "metadata": {},
   "outputs": [
    {
     "data": {
      "text/html": [
       "<div>\n",
       "<style scoped>\n",
       "    .dataframe tbody tr th:only-of-type {\n",
       "        vertical-align: middle;\n",
       "    }\n",
       "\n",
       "    .dataframe tbody tr th {\n",
       "        vertical-align: top;\n",
       "    }\n",
       "\n",
       "    .dataframe thead th {\n",
       "        text-align: right;\n",
       "    }\n",
       "</style>\n",
       "<table border=\"1\" class=\"dataframe\">\n",
       "  <thead>\n",
       "    <tr style=\"text-align: right;\">\n",
       "      <th></th>\n",
       "      <th>count</th>\n",
       "    </tr>\n",
       "    <tr>\n",
       "      <th>split</th>\n",
       "      <th></th>\n",
       "    </tr>\n",
       "  </thead>\n",
       "  <tbody>\n",
       "    <tr>\n",
       "      <th>unlabeled</th>\n",
       "      <td>9489</td>\n",
       "    </tr>\n",
       "    <tr>\n",
       "      <th>labeled</th>\n",
       "      <td>441</td>\n",
       "    </tr>\n",
       "  </tbody>\n",
       "</table>\n",
       "</div>"
      ],
      "text/plain": [
       "           count\n",
       "split           \n",
       "unlabeled   9489\n",
       "labeled      441"
      ]
     },
     "execution_count": 11,
     "metadata": {},
     "output_type": "execute_result"
    }
   ],
   "source": [
    "df_issues[\"split\"] = \"unlabeled\"\n",
    "mark = df_issues[\"labels\"].apply(lambda x: len(x) > 0)\n",
    "df_issues.loc[mark, \"split\"] = \"labeled\"\n",
    "df_issues[\"split\"].value_counts().to_frame()"
   ]
  },
  {
   "cell_type": "code",
   "execution_count": 12,
   "metadata": {},
   "outputs": [
    {
     "name": "stdout",
     "output_type": "stream",
     "text": [
      "title: Add new CANINE model\n",
      "\n",
      "body: # 🌟 New model addition\n",
      "\n",
      "## Model description\n",
      "\n",
      "Google recently proposed a new **C**haracter **A**rchitecture with **N**o tokenization **I**n **N**eural **E**ncoders architecture (CANINE). Not only the title is exciting:\n",
      "\n",
      "> Pipelined NLP systems have largely been superseded by end-to-end neural modeling, yet nearly all commonly-used models still require an explicit tokenization step. While recent tokenization approaches based on data-derived subword lexicons are less brittle than manually en\n",
      "\n",
      "labels: ['new model']\n",
      "\n"
     ]
    }
   ],
   "source": [
    "# print some examples\n",
    "for colume in ['title', 'body', 'labels']:\n",
    "    print(f\"{colume}: {df_issues[colume].iloc[26][:500]}\\n\")"
   ]
  },
  {
   "cell_type": "code",
   "execution_count": 13,
   "metadata": {},
   "outputs": [],
   "source": [
    "# concat the title and body \n",
    "df_issues['text'] = (df_issues\n",
    "                     .apply(lambda x: f\"{x['title']} +  {x['body']}\", axis=1))"
   ]
  },
  {
   "cell_type": "code",
   "execution_count": 14,
   "metadata": {},
   "outputs": [
    {
     "data": {
      "text/plain": [
       "0    Potential incorrect application of layer norm in BlenderbotSmallDecoder +  In BlenderbotSmallDecoder,  layer norm is applied only on the token embeddings, and not on the hidden_states, whereas in ...\n",
       "1    Multi-GPU seq2seq example evaluation significantly slower than legacy example evaluation +  \\r\\n### Who can help\\r\\n@patil-suraj @sgugger \\r\\n\\r\\nModels:\\r\\nT5\\r\\n\\r\\n## Information\\r\\n\\r\\nI've be...\n",
       "2    [DeepSpeed] ZeRO stage 3 integration: getting started and issues +  **[This is not yet alive, preparing for the release, so please ignore for now]**\\r\\n\\r\\nThe DeepSpeed ZeRO-3 has been integrated...\n",
       "3    Can't load model to estimater +  I was trying to follow the Sagemaker instructions [here](https://docs.aws.amazon.com/sagemaker/latest/dg/deploy-model.html) to load the model I just trained and te...\n",
       "4    [LXMERT] Unclear what img_tensorize does with color spaces +  ## Environment info\\r\\n\\r\\n- `transformers` version: Not using transformers directly, I'm loading a model \"unc-nlp/frcnn-vg-finetuned\"...\n",
       "Name: text, dtype: object"
      ]
     },
     "execution_count": 14,
     "metadata": {},
     "output_type": "execute_result"
    }
   ],
   "source": [
    "df_issues['text'].head()"
   ]
  },
  {
   "cell_type": "code",
   "execution_count": 15,
   "metadata": {},
   "outputs": [
    {
     "name": "stdout",
     "output_type": "stream",
     "text": [
      "Remove 1.88% duplicates.\n"
     ]
    }
   ],
   "source": [
    "len_before = len(df_issues)\n",
    "df_issues = df_issues.drop_duplicates(subset=['text'])\n",
    "print(f\"Remove {(len_before - len(df_issues)) / len_before:.2%} duplicates.\")\n"
   ]
  },
  {
   "cell_type": "markdown",
   "metadata": {},
   "source": [
    "## Plot the dataset"
   ]
  },
  {
   "cell_type": "code",
   "execution_count": 16,
   "metadata": {},
   "outputs": [
    {
     "data": {
      "image/png": "[encoded data removed]",
      "text/plain": [
       "<Figure size 640x480 with 1 Axes>"
      ]
     },
     "metadata": {},
     "output_type": "display_data"
    }
   ],
   "source": [
    "df_issues['text'].str.split().apply(len).hist(bins = np.linspace(0, 500, 50), grid=False, edgecolor='C0') \n",
    "plt.title(\"Words per issue\") \n",
    "plt.xlabel(\"Number of words\")\n",
    "plt.ylabel(\"Number of issues\")\n",
    "plt.show()"
   ]
  },
  {
   "cell_type": "markdown",
   "metadata": {},
   "source": [
    "# Creating training set"
   ]
  },
  {
   "cell_type": "code",
   "execution_count": 17,
   "metadata": {},
   "outputs": [
    {
     "data": {
      "text/plain": [
       "array([[0, 0, 0, 1, 0, 0, 0, 1, 0],\n",
       "       [0, 0, 0, 0, 0, 1, 0, 0, 0]])"
      ]
     },
     "execution_count": 17,
     "metadata": {},
     "output_type": "execute_result"
    }
   ],
   "source": [
    "#create balance split by using sk ml\n",
    "from sklearn.preprocessing import MultiLabelBinarizer\n",
    "mlb = MultiLabelBinarizer()\n",
    "mlb.fit([all_labels])\n",
    "mlb.transform([[\"tokenization\", \"new model\"], [\"pytorch\"]])  # example of target encoding"
   ]
  },
  {
   "cell_type": "code",
   "execution_count": 18,
   "metadata": {},
   "outputs": [
    {
     "data": {
      "text/plain": [
       "array([   0,    1,    2, ..., 9740, 9741, 9742])"
      ]
     },
     "execution_count": 18,
     "metadata": {},
     "output_type": "execute_result"
    }
   ],
   "source": [
    "np.arange(len(df_issues))"
   ]
  },
  {
   "cell_type": "code",
   "execution_count": 19,
   "metadata": {},
   "outputs": [
    {
     "data": {
      "text/plain": [
       "array([[   0],\n",
       "       [   1],\n",
       "       [   2],\n",
       "       ...,\n",
       "       [9740],\n",
       "       [9741],\n",
       "       [9742]])"
      ]
     },
     "execution_count": 19,
     "metadata": {},
     "output_type": "execute_result"
    }
   ],
   "source": [
    "np.expand_dims(np.arange(len(df_issues)), axis=1)"
   ]
  },
  {
   "cell_type": "markdown",
   "metadata": {},
   "source": [
    "## split dataset"
   ]
  },
  {
   "cell_type": "code",
   "execution_count": 20,
   "metadata": {},
   "outputs": [],
   "source": [
    "from skmultilearn.model_selection import iterative_train_test_split \n",
    "def balanced_split(df , test_size = 0.5): \n",
    "    ind = np.expand_dims(np.arange(len(df)), axis=1)\n",
    "    labels = mlb.transform(df[\"labels\"]) # transform labels to binary\n",
    "    ind_train , _ , ind_test, _  = iterative_train_test_split(ind, labels, test_size=test_size) # split data\n",
    "    return df.iloc[ind_train[:, 0]], df.iloc[ind_test[:, 0]]  # return train and test DataFrames"
   ]
  },
  {
   "cell_type": "markdown",
   "metadata": {},
   "source": [
    "Example of balance split\n",
    "![Alt text](image-1.png)"
   ]
  },
  {
   "cell_type": "code",
   "execution_count": 21,
   "metadata": {},
   "outputs": [],
   "source": [
    "from sklearn.model_selection import train_test_split\n",
    "df_clean = df_issues[[\"text\" , \"labels\", \"split\"]].reset_index(drop=True).copy() \n",
    "df_unsup = df_clean.loc[df_clean[\"split\"] == \"unlabeled\", [\"text\", \"labels\"]].copy()\n",
    "df_sup = df_clean.loc[df_clean[\"split\"] == \"labeled\", [\"text\", \"labels\"]].copy()\n",
    "\n",
    "np.random.seed(0)\n",
    " \n",
    "df_train , df_tmp = balanced_split(df_sup, test_size=0.5) \n",
    "df_valid , df_test = balanced_split(df_tmp, test_size=0.5) "
   ]
  },
  {
   "cell_type": "code",
   "execution_count": 22,
   "metadata": {},
   "outputs": [],
   "source": [
    "# df_unsup.head()"
   ]
  },
  {
   "cell_type": "markdown",
   "metadata": {},
   "source": [
    "## Create datasetDict"
   ]
  },
  {
   "cell_type": "code",
   "execution_count": 23,
   "metadata": {},
   "outputs": [],
   "source": [
    "from datasets import Dataset, DatasetDict \n",
    "ds = DatasetDict({\"train\": Dataset.from_pandas(df_train.reset_index(drop=True)),\n",
    "                  \"valid\": Dataset.from_pandas(df_valid.reset_index(drop=True)),\n",
    "                    \"test\": Dataset.from_pandas(df_test.reset_index(drop=True)),\n",
    "                    \"unsup\": Dataset.from_pandas(df_unsup.reset_index(drop=True))\n",
    "                  })"
   ]
  },
  {
   "cell_type": "markdown",
   "metadata": {},
   "source": [
    "## Creating Training slices"
   ]
  },
  {
   "cell_type": "code",
   "execution_count": 24,
   "metadata": {},
   "outputs": [
    {
     "name": "stdout",
     "output_type": "stream",
     "text": [
      "Number of samples: 223\n"
     ]
    }
   ],
   "source": [
    "np.random.seed(0)\n",
    "all_indices = np.expand_dims(list(range(len(ds[\"train\"]))) , axis=1) \n",
    "print(f\"Number of samples: {len(all_indices)}\")\n",
    "indices_pool = all_indices \n",
    "lables = mlb.transform(ds[\"train\"][\"labels\"]) \n",
    "train_samples =  [8, 16, 32, 64, 128] \n",
    "train_slices , last_k = [], 0 \n",
    "for i , k in enumerate(train_samples):\n",
    "    # split off samples necessary to fill the gap to the next split size\n",
    "    indices_pool, lables, new_slice, _ = iterative_train_test_split(indices_pool, lables, (k - last_k)/len(lables))\n",
    "    last_k = k \n",
    "    if i == 0:\n",
    "        train_slices.append(new_slice)\n",
    "    else: train_slices.append(np.concatenate([train_slices[-1], new_slice]))\n",
    "# add full dataset as last slice \n",
    "train_slices.append(all_indices) , train_samples.append(len(ds[\"train\"]))\n",
    "train_slices = [np.squeeze(x) for x in train_slices]"
   ]
  },
  {
   "cell_type": "code",
   "execution_count": 25,
   "metadata": {},
   "outputs": [
    {
     "data": {
      "text/plain": [
       "6"
      ]
     },
     "execution_count": 25,
     "metadata": {},
     "output_type": "execute_result"
    }
   ],
   "source": [
    "len(train_slices)\n"
   ]
  },
  {
   "cell_type": "code",
   "execution_count": 26,
   "metadata": {},
   "outputs": [
    {
     "data": {
      "text/plain": [
       "array([[  7],\n",
       "       [ 21],\n",
       "       [ 24],\n",
       "       [ 29],\n",
       "       [ 34],\n",
       "       [ 39],\n",
       "       [ 43],\n",
       "       [ 47],\n",
       "       [ 49],\n",
       "       [ 51],\n",
       "       [ 53],\n",
       "       [ 59],\n",
       "       [ 66],\n",
       "       [ 68],\n",
       "       [ 71],\n",
       "       [ 76],\n",
       "       [ 79],\n",
       "       [ 81],\n",
       "       [ 84],\n",
       "       [ 86],\n",
       "       [ 87],\n",
       "       [ 93],\n",
       "       [ 98],\n",
       "       [102],\n",
       "       [103],\n",
       "       [104],\n",
       "       [107],\n",
       "       [108],\n",
       "       [109],\n",
       "       [113],\n",
       "       [114],\n",
       "       [115],\n",
       "       [116],\n",
       "       [117],\n",
       "       [119],\n",
       "       [124],\n",
       "       [125],\n",
       "       [128],\n",
       "       [131],\n",
       "       [134],\n",
       "       [138],\n",
       "       [142],\n",
       "       [144],\n",
       "       [146],\n",
       "       [148],\n",
       "       [150],\n",
       "       [151],\n",
       "       [155],\n",
       "       [156],\n",
       "       [158],\n",
       "       [159],\n",
       "       [160],\n",
       "       [161],\n",
       "       [162],\n",
       "       [164],\n",
       "       [166],\n",
       "       [169],\n",
       "       [171],\n",
       "       [172],\n",
       "       [173],\n",
       "       [177],\n",
       "       [179],\n",
       "       [181],\n",
       "       [182],\n",
       "       [186],\n",
       "       [187],\n",
       "       [188],\n",
       "       [189],\n",
       "       [191],\n",
       "       [192],\n",
       "       [193],\n",
       "       [195],\n",
       "       [196],\n",
       "       [198],\n",
       "       [201],\n",
       "       [202],\n",
       "       [204],\n",
       "       [206],\n",
       "       [207],\n",
       "       [208],\n",
       "       [209],\n",
       "       [211],\n",
       "       [212],\n",
       "       [213],\n",
       "       [215],\n",
       "       [217],\n",
       "       [219],\n",
       "       [221],\n",
       "       [222]])"
      ]
     },
     "execution_count": 26,
     "metadata": {},
     "output_type": "execute_result"
    }
   ],
   "source": [
    "indices_pool"
   ]
  },
  {
   "cell_type": "code",
   "execution_count": 27,
   "metadata": {},
   "outputs": [],
   "source": [
    "# example data = {\n",
    "#     \"text\": [\"Text1\", \"Text2\", \"Text3\", \"Text4\", \"Text5\", \"Text6\", \"Text7\", \"Text8\", \"Text9\", \"Text10\"],\n",
    "#     \"labels\": [[\"A\"], [\"B\"], [\"A\", \"B\"], [\"A\"], [\"A\", \"B\"], [\"B\"], [\"A\"], [\"A\"], [\"B\"], [\"A\", \"B\"]],\n",
    "# }\n",
    "# Sample Sizes: [2, 4, 6, 10]\n",
    "# Train Slices: [array([4, 3], dtype=int64), array([4, 3, 8, 6], dtype=int64), array([4, 3, 8, 6, 1, 7], dtype=int64), array([0, 1, 2, 3, 4, 5, 6, 7, 8, 9])]\n",
    "\n"
   ]
  },
  {
   "cell_type": "code",
   "execution_count": 28,
   "metadata": {},
   "outputs": [
    {
     "name": "stdout",
     "output_type": "stream",
     "text": [
      "Target split sizes:\n",
      "[8, 16, 32, 64, 128, 223]\n",
      "Actual split sizes:\n",
      "[10, 19, 36, 68, 134, 223]\n"
     ]
    }
   ],
   "source": [
    "print(\"Target split sizes:\")\n",
    "print(train_samples)\n",
    "print(\"Actual split sizes:\")\n",
    "print([len(x) for x in train_slices])\n"
   ]
  },
  {
   "cell_type": "markdown",
   "metadata": {},
   "source": [
    "# Implementing a Naive Bayesline"
   ]
  },
  {
   "cell_type": "code",
   "execution_count": 29,
   "metadata": {},
   "outputs": [
    {
     "data": {
      "application/vnd.jupyter.widget-view+json": {
       "model_id": "239a45f8312e4e88b7ec20baa2937883",
       "version_major": 2,
       "version_minor": 0
      },
      "text/plain": [
       "Map:   0%|          | 0/223 [00:00<?, ? examples/s]"
      ]
     },
     "metadata": {},
     "output_type": "display_data"
    },
    {
     "data": {
      "application/vnd.jupyter.widget-view+json": {
       "model_id": "bf06bcf6fcb74cc6be1c08b74f54ab55",
       "version_major": 2,
       "version_minor": 0
      },
      "text/plain": [
       "Map:   0%|          | 0/106 [00:00<?, ? examples/s]"
      ]
     },
     "metadata": {},
     "output_type": "display_data"
    },
    {
     "data": {
      "application/vnd.jupyter.widget-view+json": {
       "model_id": "d60f7bd3f7714c8aa674663e4d5e4823",
       "version_major": 2,
       "version_minor": 0
      },
      "text/plain": [
       "Map:   0%|          | 0/111 [00:00<?, ? examples/s]"
      ]
     },
     "metadata": {},
     "output_type": "display_data"
    },
    {
     "data": {
      "application/vnd.jupyter.widget-view+json": {
       "model_id": "e3cf8af6f530423d9c288e6424e7be88",
       "version_major": 2,
       "version_minor": 0
      },
      "text/plain": [
       "Map:   0%|          | 0/9303 [00:00<?, ? examples/s]"
      ]
     },
     "metadata": {},
     "output_type": "display_data"
    }
   ],
   "source": [
    "def prepare_labels(batch): \n",
    "    batch[\"label_ids\"] = mlb.transform(batch[\"labels\"])\n",
    "    return batch\n",
    "ds = ds.map(prepare_labels, batched=True) "
   ]
  },
  {
   "cell_type": "code",
   "execution_count": 30,
   "metadata": {},
   "outputs": [],
   "source": [
    "# use f1 score and micro and macro to track performance\n",
    "from collections import defaultdict"
   ]
  },
  {
   "cell_type": "code",
   "execution_count": 31,
   "metadata": {},
   "outputs": [
    {
     "data": {
      "text/plain": [
       "[array([ 0,  2,  9, 11, 18, 19, 45, 52, 54, 92]),\n",
       " array([  0,   2,   9,  11,  18,  19,  45,  52,  54,  92,   1,   6,  10,\n",
       "         12,  41,  56,  63,  88, 110]),\n",
       " array([  0,   2,   9,  11,  18,  19,  45,  52,  54,  92,   1,   6,  10,\n",
       "         12,  41,  56,  63,  88, 110,   3,   4,  14,  16,  22,  28,  40,\n",
       "         55,  58,  60,  65,  89,  97, 118, 122, 132, 133]),\n",
       " array([  0,   2,   9,  11,  18,  19,  45,  52,  54,  92,   1,   6,  10,\n",
       "         12,  41,  56,  63,  88, 110,   3,   4,  14,  16,  22,  28,  40,\n",
       "         55,  58,  60,  65,  89,  97, 118, 122, 132, 133,   5,  13,  15,\n",
       "         20,  23,  25,  27,  30,  31,  33,  35,  36,  44,  57,  64,  69,\n",
       "         73,  74,  78,  80,  90,  91,  99, 105, 123, 136, 141, 152, 180,\n",
       "        184, 190, 197]),\n",
       " array([  0,   2,   9,  11,  18,  19,  45,  52,  54,  92,   1,   6,  10,\n",
       "         12,  41,  56,  63,  88, 110,   3,   4,  14,  16,  22,  28,  40,\n",
       "         55,  58,  60,  65,  89,  97, 118, 122, 132, 133,   5,  13,  15,\n",
       "         20,  23,  25,  27,  30,  31,  33,  35,  36,  44,  57,  64,  69,\n",
       "         73,  74,  78,  80,  90,  91,  99, 105, 123, 136, 141, 152, 180,\n",
       "        184, 190, 197,   8,  17,  26,  32,  37,  38,  42,  46,  48,  50,\n",
       "         61,  62,  67,  70,  72,  75,  77,  82,  83,  85,  94,  95,  96,\n",
       "        100, 101, 106, 111, 112, 120, 121, 126, 127, 129, 130, 135, 137,\n",
       "        139, 140, 143, 145, 147, 149, 153, 154, 157, 163, 165, 167, 168,\n",
       "        170, 174, 175, 176, 178, 183, 185, 194, 199, 200, 203, 205, 210,\n",
       "        214, 216, 218, 220]),\n",
       " array([  0,   1,   2,   3,   4,   5,   6,   7,   8,   9,  10,  11,  12,\n",
       "         13,  14,  15,  16,  17,  18,  19,  20,  21,  22,  23,  24,  25,\n",
       "         26,  27,  28,  29,  30,  31,  32,  33,  34,  35,  36,  37,  38,\n",
       "         39,  40,  41,  42,  43,  44,  45,  46,  47,  48,  49,  50,  51,\n",
       "         52,  53,  54,  55,  56,  57,  58,  59,  60,  61,  62,  63,  64,\n",
       "         65,  66,  67,  68,  69,  70,  71,  72,  73,  74,  75,  76,  77,\n",
       "         78,  79,  80,  81,  82,  83,  84,  85,  86,  87,  88,  89,  90,\n",
       "         91,  92,  93,  94,  95,  96,  97,  98,  99, 100, 101, 102, 103,\n",
       "        104, 105, 106, 107, 108, 109, 110, 111, 112, 113, 114, 115, 116,\n",
       "        117, 118, 119, 120, 121, 122, 123, 124, 125, 126, 127, 128, 129,\n",
       "        130, 131, 132, 133, 134, 135, 136, 137, 138, 139, 140, 141, 142,\n",
       "        143, 144, 145, 146, 147, 148, 149, 150, 151, 152, 153, 154, 155,\n",
       "        156, 157, 158, 159, 160, 161, 162, 163, 164, 165, 166, 167, 168,\n",
       "        169, 170, 171, 172, 173, 174, 175, 176, 177, 178, 179, 180, 181,\n",
       "        182, 183, 184, 185, 186, 187, 188, 189, 190, 191, 192, 193, 194,\n",
       "        195, 196, 197, 198, 199, 200, 201, 202, 203, 204, 205, 206, 207,\n",
       "        208, 209, 210, 211, 212, 213, 214, 215, 216, 217, 218, 219, 220,\n",
       "        221, 222])]"
      ]
     },
     "execution_count": 31,
     "metadata": {},
     "output_type": "execute_result"
    }
   ],
   "source": [
    "train_slices"
   ]
  },
  {
   "cell_type": "code",
   "execution_count": 32,
   "metadata": {},
   "outputs": [
    {
     "data": {
      "text/html": [
       "<div>\n",
       "<style scoped>\n",
       "    .dataframe tbody tr th:only-of-type {\n",
       "        vertical-align: middle;\n",
       "    }\n",
       "\n",
       "    .dataframe tbody tr th {\n",
       "        vertical-align: top;\n",
       "    }\n",
       "\n",
       "    .dataframe thead th {\n",
       "        text-align: right;\n",
       "    }\n",
       "</style>\n",
       "<table border=\"1\" class=\"dataframe\">\n",
       "  <thead>\n",
       "    <tr style=\"text-align: right;\">\n",
       "      <th></th>\n",
       "      <th>text</th>\n",
       "      <th>labels</th>\n",
       "    </tr>\n",
       "  </thead>\n",
       "  <tbody>\n",
       "    <tr>\n",
       "      <th>26</th>\n",
       "      <td>Add new CANINE model +  # 🌟 New model addition\\r\\n\\r\\n## Model description\\r\\n\\r\\nGoogle recently proposed a new **C**haracter **A**rchitecture with **N**o tokenization **I**n **N**eural **E**ncod...</td>\n",
       "      <td>[new model]</td>\n",
       "    </tr>\n",
       "    <tr>\n",
       "      <th>107</th>\n",
       "      <td>Please implement DUMA: Reading Comprehension with Transposition Thinking +  # 🚀 Feature request\\r\\n\\r\\n&lt;!-- A clear and concise description of the feature proposal.\\r\\n     Please provide a link t...</td>\n",
       "      <td>[new model]</td>\n",
       "    </tr>\n",
       "    <tr>\n",
       "      <th>264</th>\n",
       "      <td>Can DeepSpeed ZeRO-3 be applied for training?  +  # 🌟 New model addition\\r\\n\\r\\nWe have applied DeepSpeed v0.3.10(ZeRO-2) on T5 training. \\r\\nI heard DeepSpeed ZeRO-3 library has been released 10 ...</td>\n",
       "      <td>[new model]</td>\n",
       "    </tr>\n",
       "    <tr>\n",
       "      <th>484</th>\n",
       "      <td>XLSR-53 +  # 🚀 Feature request\\r\\n\\r\\nIs it possible to use XLSR-53 with transformers in the near future? \\r\\n</td>\n",
       "      <td>[new model]</td>\n",
       "    </tr>\n",
       "    <tr>\n",
       "      <th>566</th>\n",
       "      <td>[examples] should all examples support the predict stage? +  This is part of the ongoing effort to sync the example scripts.\\r\\n\\r\\nIn https://github.com/huggingface/transformers/issues/10437#issu...</td>\n",
       "      <td>[examples]</td>\n",
       "    </tr>\n",
       "  </tbody>\n",
       "</table>\n",
       "</div>"
      ],
      "text/plain": [
       "                                                                                                                                                                                                        text  \\\n",
       "26   Add new CANINE model +  # 🌟 New model addition\\r\\n\\r\\n## Model description\\r\\n\\r\\nGoogle recently proposed a new **C**haracter **A**rchitecture with **N**o tokenization **I**n **N**eural **E**ncod...   \n",
       "107  Please implement DUMA: Reading Comprehension with Transposition Thinking +  # 🚀 Feature request\\r\\n\\r\\n<!-- A clear and concise description of the feature proposal.\\r\\n     Please provide a link t...   \n",
       "264  Can DeepSpeed ZeRO-3 be applied for training?  +  # 🌟 New model addition\\r\\n\\r\\nWe have applied DeepSpeed v0.3.10(ZeRO-2) on T5 training. \\r\\nI heard DeepSpeed ZeRO-3 library has been released 10 ...   \n",
       "484                                                                                           XLSR-53 +  # 🚀 Feature request\\r\\n\\r\\nIs it possible to use XLSR-53 with transformers in the near future? \\r\\n   \n",
       "566  [examples] should all examples support the predict stage? +  This is part of the ongoing effort to sync the example scripts.\\r\\n\\r\\nIn https://github.com/huggingface/transformers/issues/10437#issu...   \n",
       "\n",
       "          labels  \n",
       "26   [new model]  \n",
       "107  [new model]  \n",
       "264  [new model]  \n",
       "484  [new model]  \n",
       "566   [examples]  "
      ]
     },
     "execution_count": 32,
     "metadata": {},
     "output_type": "execute_result"
    }
   ],
   "source": [
    "df_train.head()"
   ]
  },
  {
   "cell_type": "code",
   "execution_count": 33,
   "metadata": {},
   "outputs": [],
   "source": [
    "macro_scores , micro_scores = defaultdict(list), defaultdict(list)"
   ]
  },
  {
   "cell_type": "code",
   "execution_count": 34,
   "metadata": {},
   "outputs": [
    {
     "data": {
      "text/plain": [
       "[\"Please implement DUMA: Reading Comprehension with Transposition Thinking +  # 🚀 Feature request\\r\\n\\r\\n<!-- A clear and concise description of the feature proposal.\\r\\n     Please provide a link to the paper and code in case they exist. -->\\r\\nThis one is on the race leaderborad top, will you guys consider implement this?\\r\\n\\r\\n## Motivation\\r\\n\\r\\n<!-- Please outline the motivation for the proposal. Is your feature request\\r\\n     related to a problem? e.g., I'm always frustrated when [...]. If this is related\\r\\n     to another GitHub issue, please link here too. -->\\r\\n\\r\\n## Your contribution\\r\\n\\r\\n<!-- Is there any way that you could help, e.g. by submitting a PR?\\r\\n     Make sure to read the CONTRIBUTING.MD readme:\\r\\n     https://github.com/huggingface/transformers/blob/master/CONTRIBUTING.md -->\\r\\n\",\n",
       " \"Can DeepSpeed ZeRO-3 be applied for training?  +  # 🌟 New model addition\\r\\n\\r\\nWe have applied DeepSpeed v0.3.10(ZeRO-2) on T5 training. \\r\\nI heard DeepSpeed ZeRO-3 library has been released 10 days ago(8/MAR). \\r\\nI'd like to adopt ZeRO-3 for our training.\\r\\nCan this library be applied, especially for T5 training? \\r\\nDo you have any experience applying this library?\\r\\nIf any, could share your experience?  \\r\\n\",\n",
       " 'XLSR-53 +  # 🚀 Feature request\\r\\n\\r\\nIs it possible to use XLSR-53 with transformers in the near future? \\r\\n']"
      ]
     },
     "execution_count": 34,
     "metadata": {},
     "output_type": "execute_result"
    }
   ],
   "source": [
    "ds[\"train\"].select([1,2,3])['text']"
   ]
  },
  {
   "cell_type": "code",
   "execution_count": 35,
   "metadata": {},
   "outputs": [
    {
     "name": "stdout",
     "output_type": "stream",
     "text": [
      "Train size: 10\n",
      "Training done!\n",
      "Train size: 19\n",
      "Training done!\n",
      "Train size: 36\n",
      "Training done!\n",
      "Train size: 68\n",
      "Training done!\n",
      "Train size: 134\n",
      "Training done!\n",
      "Train size: 223\n",
      "Training done!\n"
     ]
    }
   ],
   "source": [
    "# train the model\n",
    "from sklearn.naive_bayes import MultinomialNB\n",
    "from sklearn.metrics import classification_report \n",
    "from skmultilearn.problem_transform import BinaryRelevance \n",
    "from sklearn.feature_extraction.text import CountVectorizer \n",
    "for train_slice in train_slices:\n",
    "    # Get training slice and test data\n",
    "    ds_train_sample = ds[\"train\"].select(train_slice)\n",
    "    y_train = np.array(ds_train_sample[\"label_ids\"])\n",
    "    y_test_labels = np.array(ds[\"test\"][\"label_ids\"])\n",
    "    print(f\"Train size: {len(ds_train_sample)}\")\n",
    "\n",
    "    # Use a simple count vectorizer to encode our texts as token counts\n",
    "    count_vectorize = CountVectorizer()\n",
    "    X_train_counts = count_vectorize.fit_transform(ds_train_sample[\"text\"])\n",
    "#     print(\"shape of X_train_counts: \", X_train_counts.shape)\n",
    "#     print(f\"shape of y_train {y_train.shape}\")\n",
    "    X_test_counts = count_vectorize.transform(ds[\"test\"][\"text\"])\n",
    "#     print(f\"Vocabulary size: {len(count_vectorize.vocabulary_)}\")   \n",
    "    # Create and train our model!\n",
    "    classifier = BinaryRelevance(classifier=MultinomialNB())\n",
    "    classifier.fit(X_train_counts, y_train)\n",
    "    print(\"Training done!\")\n",
    "    # Generate predictions and evaluate\n",
    "    y_pred_test = classifier.predict(X_test_counts)\n",
    "    clf_report = classification_report(\n",
    "            y_test_labels, y_pred_test, target_names=mlb.classes_, zero_division=0,\n",
    "            output_dict=True)\n",
    "    # Store metrics\n",
    "    macro_scores[\"Naive Bayes\"].append(clf_report[\"macro avg\"][\"f1-score\"])\n",
    "    micro_scores[\"Naive Bayes\"].append(clf_report[\"micro avg\"][\"f1-score\"])"
   ]
  },
  {
   "cell_type": "code",
   "execution_count": 36,
   "metadata": {},
   "outputs": [
    {
     "data": {
      "text/plain": [
       "defaultdict(list,\n",
       "            {'Naive Bayes': [0.23288166214995487,\n",
       "              0.21006897585844955,\n",
       "              0.24086240556828795,\n",
       "              0.25730500818220114,\n",
       "              0.28271105113210376,\n",
       "              0.27403710305671086]})"
      ]
     },
     "execution_count": 36,
     "metadata": {},
     "output_type": "execute_result"
    }
   ],
   "source": [
    "macro_scores"
   ]
  },
  {
   "cell_type": "code",
   "execution_count": 37,
   "metadata": {},
   "outputs": [
    {
     "data": {
      "text/plain": [
       "defaultdict(list,\n",
       "            {'Naive Bayes': [0.3604651162790698,\n",
       "              0.30208333333333337,\n",
       "              0.41081081081081083,\n",
       "              0.4435483870967742,\n",
       "              0.5046728971962616,\n",
       "              0.5346534653465347]})"
      ]
     },
     "execution_count": 37,
     "metadata": {},
     "output_type": "execute_result"
    }
   ],
   "source": [
    "micro_scores"
   ]
  },
  {
   "cell_type": "code",
   "execution_count": 38,
   "metadata": {},
   "outputs": [
    {
     "data": {
      "text/plain": [
       "6"
      ]
     },
     "execution_count": 38,
     "metadata": {},
     "output_type": "execute_result"
    }
   ],
   "source": [
    "len(micro_scores['Naive Bayes'])"
   ]
  },
  {
   "cell_type": "code",
   "execution_count": 39,
   "metadata": {},
   "outputs": [
    {
     "name": "stdout",
     "output_type": "stream",
     "text": [
      "Naive Bayes\n"
     ]
    },
    {
     "data": {
      "image/png": "[encoded data removed]",
      "text/plain": [
       "<Figure size 1000x400 with 2 Axes>"
      ]
     },
     "metadata": {},
     "output_type": "display_data"
    }
   ],
   "source": [
    "def plot_metrics(micro_scores, macro_scores, sample_sizes, current_model):\n",
    "    fig, (ax0, ax1) = plt.subplots(1, 2, figsize=(10, 4), sharey=True)\n",
    "    for run in micro_scores.keys():\n",
    "        if run == current_model:\n",
    "            print(run)\n",
    "            ax0.plot(sample_sizes, micro_scores[run], label = run , linewidth=2)            \n",
    "            ax1.plot(sample_sizes, macro_scores[run], label = run , linewidth=2)\n",
    "        else:\n",
    "            print(run)\n",
    "            ax0.plot(sample_sizes, micro_scores[run], label=run,linestyle=\"dashed\")\n",
    "            ax1.plot(sample_sizes, macro_scores[run], label=run,linestyle=\"dashed\")\n",
    "    ax0.set_title(\"Micro F1 scores\")\n",
    "    ax1.set_title(\"Macro F1 scores\")\n",
    "    ax0.set_ylabel(\"Test set F1 score\")\n",
    "    ax0.legend(loc=\"lower right\")\n",
    "    for ax in [ax0, ax1]:\n",
    "        ax.set_xlabel(\"Number of training samples\")\n",
    "        ax.set_xscale(\"log\")\n",
    "        ax.set_xticks(sample_sizes)\n",
    "        ax.set_xticklabels(sample_sizes)\n",
    "        ax.minorticks_off()\n",
    "    plt.tight_layout()\n",
    "    plt.show()\n",
    "plot_metrics(micro_scores, macro_scores, train_samples, \"Naive Bayes\")"
   ]
  },
  {
   "cell_type": "markdown",
   "metadata": {},
   "source": [
    "# Working with no labled data"
   ]
  },
  {
   "cell_type": "markdown",
   "metadata": {},
   "source": [
    "## Import the pipeline"
   ]
  },
  {
   "cell_type": "code",
   "execution_count": 40,
   "metadata": {},
   "outputs": [
    {
     "name": "stderr",
     "output_type": "stream",
     "text": [
      "Some weights of the model checkpoint at bert-base-uncased were not used when initializing BertForMaskedLM: ['cls.seq_relationship.bias', 'bert.pooler.dense.bias', 'cls.seq_relationship.weight', 'bert.pooler.dense.weight']\n",
      "- This IS expected if you are initializing BertForMaskedLM from the checkpoint of a model trained on another task or with another architecture (e.g. initializing a BertForSequenceClassification model from a BertForPreTraining model).\n",
      "- This IS NOT expected if you are initializing BertForMaskedLM from the checkpoint of a model that you expect to be exactly identical (initializing a BertForSequenceClassification model from a BertForSequenceClassification model).\n"
     ]
    },
    {
     "name": "stdout",
     "output_type": "stream",
     "text": [
      "Token animals:\t0.103%\n",
      "Token car:\t0.000%\n"
     ]
    }
   ],
   "source": [
    "from transformers import pipeline \n",
    "pipe = pipeline(\"fill-mask\", model=\"bert-base-uncased\")\n",
    "movie_desc = \"The main characters of the movie madacascar \\\n",
    "are a lion, a zebra, a giraffe, and a hippo. \"\n",
    "prompt = \"The movie is about [MASK].\"\n",
    "output = pipe(movie_desc + prompt, targets = ['animals', 'car']) \n",
    "for element in output:\n",
    "    print(f\"Token {element['token_str']}:\\t{element['score']:.3f}%\")"
   ]
  },
  {
   "cell_type": "code",
   "execution_count": 41,
   "metadata": {},
   "outputs": [
    {
     "name": "stdout",
     "output_type": "stream",
     "text": [
      "Token cars:\t0.139%\n",
      "Token animals:\t0.006%\n"
     ]
    }
   ],
   "source": [
    "movie_desc = \"In the movie transformers aliens \\\n",
    "can morph into a wide range of vehicles.\"\n",
    "output = pipe(movie_desc + prompt, targets=[\"animals\", \"cars\"])\n",
    "for element in output:\n",
    "    print(f\"Token {element['token_str']}:\\t{element['score']:.3f}%\")\n"
   ]
  },
  {
   "cell_type": "markdown",
   "metadata": {},
   "source": [
    "## Use Multi-Genre NLI Corpus (MNLI) to zero short the model"
   ]
  },
  {
   "cell_type": "code",
   "execution_count": 42,
   "metadata": {},
   "outputs": [
    {
     "data": {
      "text/plain": [
       "Dataset({\n",
       "    features: ['text', 'labels', 'label_ids'],\n",
       "    num_rows: 223\n",
       "})"
      ]
     },
     "execution_count": 42,
     "metadata": {},
     "output_type": "execute_result"
    }
   ],
   "source": [
    "ds[\"train\"]"
   ]
  },
  {
   "cell_type": "code",
   "execution_count": 43,
   "metadata": {},
   "outputs": [],
   "source": [
    "import torch\n",
    "device  = \"cuda\" if torch.cuda.is_available() else \"cpu\""
   ]
  },
  {
   "cell_type": "code",
   "execution_count": 44,
   "metadata": {},
   "outputs": [
    {
     "name": "stderr",
     "output_type": "stream",
     "text": [
      "No model was supplied, defaulted to facebook/bart-large-mnli and revision c626438 (https://huggingface.co/facebook/bart-large-mnli).\n",
      "Using a pipeline without specifying a model name and revision in production is not recommended.\n"
     ]
    },
    {
     "name": "stdout",
     "output_type": "stream",
     "text": [
      "Add new CANINE model +  # 🌟 New model addition\n",
      "\n",
      "## Model description\n",
      "\n",
      "Google recently proposed a new **C**haracter **A**rchitecture with **N**o tokenization **I**n **N**eural **E**ncoders architecture (CANINE). Not only the title is exciting:\n",
      "\n",
      "> Pipelined NLP systems have largely been superseded by end-to-end neural modeling, yet nearly all commonly-used models still require an explicit toke\n",
      "\n",
      "Predictions:\n",
      "new model, 0.98\n",
      "tensorflow or tf, 0.37\n",
      "examples, 0.37\n",
      "usage, 0.30\n",
      "documentation, 0.26\n",
      "pytorch, 0.25\n",
      "model training, 0.24\n",
      "tokenization, 0.20\n",
      "pipeline, 0.17\n"
     ]
    }
   ],
   "source": [
    "from transformers import pipeline \n",
    "pipe = pipeline(\"zero-shot-classification\", device=device )\n",
    "sample = ds[\"train\"][0]\n",
    "output = pipe(sample[\"text\"], all_labels, multi_label=True)\n",
    "print(output[\"sequence\"][:400])\n",
    "print(\"\\nPredictions:\")\n",
    "for label, score in zip(output[\"labels\"], output[\"scores\"]):\n",
    "     print(f\"{label}, {score:.2f}\")"
   ]
  },
  {
   "cell_type": "code",
   "execution_count": 45,
   "metadata": {},
   "outputs": [
    {
     "name": "stdout",
     "output_type": "stream",
     "text": [
      "BartConfig {\n",
      "  \"_name_or_path\": \"facebook/bart-large-mnli\",\n",
      "  \"_num_labels\": 3,\n",
      "  \"activation_dropout\": 0.0,\n",
      "  \"activation_function\": \"gelu\",\n",
      "  \"add_final_layer_norm\": false,\n",
      "  \"architectures\": [\n",
      "    \"BartForSequenceClassification\"\n",
      "  ],\n",
      "  \"attention_dropout\": 0.0,\n",
      "  \"bos_token_id\": 0,\n",
      "  \"classif_dropout\": 0.0,\n",
      "  \"classifier_dropout\": 0.0,\n",
      "  \"d_model\": 1024,\n",
      "  \"decoder_attention_heads\": 16,\n",
      "  \"decoder_ffn_dim\": 4096,\n",
      "  \"decoder_layerdrop\": 0.0,\n",
      "  \"decoder_layers\": 12,\n",
      "  \"decoder_start_token_id\": 2,\n",
      "  \"dropout\": 0.1,\n",
      "  \"encoder_attention_heads\": 16,\n",
      "  \"encoder_ffn_dim\": 4096,\n",
      "  \"encoder_layerdrop\": 0.0,\n",
      "  \"encoder_layers\": 12,\n",
      "  \"eos_token_id\": 2,\n",
      "  \"forced_eos_token_id\": 2,\n",
      "  \"gradient_checkpointing\": false,\n",
      "  \"id2label\": {\n",
      "    \"0\": \"contradiction\",\n",
      "    \"1\": \"neutral\",\n",
      "    \"2\": \"entailment\"\n",
      "  },\n",
      "  \"init_std\": 0.02,\n",
      "  \"is_encoder_decoder\": true,\n",
      "  \"label2id\": {\n",
      "    \"contradiction\": 0,\n",
      "    \"entailment\": 2,\n",
      "    \"neutral\": 1\n",
      "  },\n",
      "  \"max_position_embeddings\": 1024,\n",
      "  \"model_type\": \"bart\",\n",
      "  \"normalize_before\": false,\n",
      "  \"num_hidden_layers\": 12,\n",
      "  \"output_past\": false,\n",
      "  \"pad_token_id\": 1,\n",
      "  \"scale_embedding\": false,\n",
      "  \"transformers_version\": \"4.33.1\",\n",
      "  \"use_cache\": true,\n",
      "  \"vocab_size\": 50265\n",
      "}\n",
      "\n"
     ]
    }
   ],
   "source": [
    "# print pipe arguments\n",
    "print(pipe.model.config)"
   ]
  },
  {
   "cell_type": "code",
   "execution_count": 46,
   "metadata": {},
   "outputs": [
    {
     "data": {
      "application/vnd.jupyter.widget-view+json": {
       "model_id": "b253427b001c4f00854c8f1099a4b8d4",
       "version_major": 2,
       "version_minor": 0
      },
      "text/plain": [
       "Map:   0%|          | 0/106 [00:00<?, ? examples/s]"
      ]
     },
     "metadata": {},
     "output_type": "display_data"
    },
    {
     "name": "stderr",
     "output_type": "stream",
     "text": [
      "/home/nghiaph/GEC/GEC_env/lib/python3.8/site-packages/transformers/pipelines/base.py:1101: UserWarning: You seem to be using the pipelines sequentially on GPU. In order to maximize efficiency please use a dataset\n",
      "  warnings.warn(\n"
     ]
    }
   ],
   "source": [
    "def zero_shot_pipeline(example): \n",
    "    output = pipe(example[\"text\"], all_labels, multi_label=True)\n",
    "    example[\"predictions\"] = output[\"labels\"]   \n",
    "    example[\"scores\"] = output[\"scores\"] \n",
    "    return example \n",
    "ds_zero_shot = ds[\"valid\"].map(zero_shot_pipeline) \n"
   ]
  },
  {
   "cell_type": "code",
   "execution_count": 47,
   "metadata": {},
   "outputs": [],
   "source": [
    "def get_preds(example, threshold = None , topk = None ): \n",
    "    '''Returns the predicted labels for a given example.'''\n",
    "    preds = [] \n",
    "    if threshold: \n",
    "        for label, score in zip(example[\"predictions\"], example[\"scores\"]):\n",
    "            if score >= threshold:\n",
    "                preds.append(label)\n",
    "    elif topk: \n",
    "        for i in range(topk):\n",
    "            preds.append(example[\"predictions\"][i]) \n",
    "    else: \n",
    "        raise ValueError(\"Either threshold or topk must be set\") \n",
    "    return {'pred_label_ids': list(np.squeeze(mlb.transform([preds])))}\n",
    "def get_clf_report(ds):\n",
    "    y_true = np.array(ds[\"label_ids\"])\n",
    "    y_pred = np.array(ds[\"pred_label_ids\"]) \n",
    "    return classification_report(y_true, y_pred, target_names=mlb.classes_, zero_division=0, output_dict=True)\n",
    "            "
   ]
  },
  {
   "cell_type": "markdown",
   "metadata": {},
   "source": [
    "## plot top-k pred"
   ]
  },
  {
   "cell_type": "code",
   "execution_count": 48,
   "metadata": {},
   "outputs": [
    {
     "data": {
      "application/vnd.jupyter.widget-view+json": {
       "model_id": "c65b9901917342a68e9bad66fa558093",
       "version_major": 2,
       "version_minor": 0
      },
      "text/plain": [
       "Map:   0%|          | 0/106 [00:00<?, ? examples/s]"
      ]
     },
     "metadata": {},
     "output_type": "display_data"
    },
    {
     "data": {
      "application/vnd.jupyter.widget-view+json": {
       "model_id": "7b87493da86246e1adfe9b0d3eea209c",
       "version_major": 2,
       "version_minor": 0
      },
      "text/plain": [
       "Map:   0%|          | 0/106 [00:00<?, ? examples/s]"
      ]
     },
     "metadata": {},
     "output_type": "display_data"
    },
    {
     "data": {
      "application/vnd.jupyter.widget-view+json": {
       "model_id": "fb3210f2a3364a41902d6f9c126365b5",
       "version_major": 2,
       "version_minor": 0
      },
      "text/plain": [
       "Map:   0%|          | 0/106 [00:00<?, ? examples/s]"
      ]
     },
     "metadata": {},
     "output_type": "display_data"
    },
    {
     "data": {
      "application/vnd.jupyter.widget-view+json": {
       "model_id": "02d65362575349fd8f545de0506c8eeb",
       "version_major": 2,
       "version_minor": 0
      },
      "text/plain": [
       "Map:   0%|          | 0/106 [00:00<?, ? examples/s]"
      ]
     },
     "metadata": {},
     "output_type": "display_data"
    },
    {
     "data": {
      "image/png": "[encoded data removed]",
      "text/plain": [
       "<Figure size 640x480 with 1 Axes>"
      ]
     },
     "metadata": {},
     "output_type": "display_data"
    }
   ],
   "source": [
    "macros , micros = [] , []\n",
    "topks = [1,2,3,4]\n",
    "for topk in topks: \n",
    "    ds_zero_shot = ds_zero_shot.map(get_preds, batched = False, fn_kwargs={\"topk\": topk}) \n",
    "    clf_report = get_clf_report(ds_zero_shot) \n",
    "    macros.append(clf_report[\"macro avg\"][\"f1-score\"]) \n",
    "    micros.append(clf_report[\"micro avg\"][\"f1-score\"])\n",
    "\n",
    "plt.plot(topks, micros, label=\"Micro F1 score\")\n",
    "plt.plot(topks, macros, label=\"Macro F1 score\")\n",
    "plt.xlabel(\"Top k predictions\")\n",
    "plt.ylabel(\"F1 score\")\n",
    "plt.legend(loc = 'best')\n",
    "plt.show()"
   ]
  },
  {
   "cell_type": "markdown",
   "metadata": {},
   "source": [
    "## plot threshold pred"
   ]
  },
  {
   "cell_type": "code",
   "execution_count": 49,
   "metadata": {},
   "outputs": [
    {
     "data": {
      "application/vnd.jupyter.widget-view+json": {
       "model_id": "cb37595ff7924f00b0d7c4183361d2b2",
       "version_major": 2,
       "version_minor": 0
      },
      "text/plain": [
       "Map:   0%|          | 0/106 [00:00<?, ? examples/s]"
      ]
     },
     "metadata": {},
     "output_type": "display_data"
    },
    {
     "data": {
      "application/vnd.jupyter.widget-view+json": {
       "model_id": "920c09c8f7f443e0bbe27ed28f6f3bff",
       "version_major": 2,
       "version_minor": 0
      },
      "text/plain": [
       "Map:   0%|          | 0/106 [00:00<?, ? examples/s]"
      ]
     },
     "metadata": {},
     "output_type": "display_data"
    },
    {
     "data": {
      "application/vnd.jupyter.widget-view+json": {
       "model_id": "fae5c7c8820d44d1adf96ec5a697ec23",
       "version_major": 2,
       "version_minor": 0
      },
      "text/plain": [
       "Map:   0%|          | 0/106 [00:00<?, ? examples/s]"
      ]
     },
     "metadata": {},
     "output_type": "display_data"
    },
    {
     "data": {
      "application/vnd.jupyter.widget-view+json": {
       "model_id": "4822466d291a439483e4c84269b6d75e",
       "version_major": 2,
       "version_minor": 0
      },
      "text/plain": [
       "Map:   0%|          | 0/106 [00:00<?, ? examples/s]"
      ]
     },
     "metadata": {},
     "output_type": "display_data"
    },
    {
     "data": {
      "application/vnd.jupyter.widget-view+json": {
       "model_id": "34f9a8d69bc04bbaabf13e7a7937889d",
       "version_major": 2,
       "version_minor": 0
      },
      "text/plain": [
       "Map:   0%|          | 0/106 [00:00<?, ? examples/s]"
      ]
     },
     "metadata": {},
     "output_type": "display_data"
    },
    {
     "data": {
      "application/vnd.jupyter.widget-view+json": {
       "model_id": "53b40acad02a49edb79e99d80bd1ebf4",
       "version_major": 2,
       "version_minor": 0
      },
      "text/plain": [
       "Map:   0%|          | 0/106 [00:00<?, ? examples/s]"
      ]
     },
     "metadata": {},
     "output_type": "display_data"
    },
    {
     "data": {
      "application/vnd.jupyter.widget-view+json": {
       "model_id": "e2745493e90f4422af9d33b85cf8b907",
       "version_major": 2,
       "version_minor": 0
      },
      "text/plain": [
       "Map:   0%|          | 0/106 [00:00<?, ? examples/s]"
      ]
     },
     "metadata": {},
     "output_type": "display_data"
    },
    {
     "data": {
      "application/vnd.jupyter.widget-view+json": {
       "model_id": "658526de880946828c01695b2dc4226b",
       "version_major": 2,
       "version_minor": 0
      },
      "text/plain": [
       "Map:   0%|          | 0/106 [00:00<?, ? examples/s]"
      ]
     },
     "metadata": {},
     "output_type": "display_data"
    },
    {
     "data": {
      "application/vnd.jupyter.widget-view+json": {
       "model_id": "ccb6d2040356446aa1ff9a74e9fcf84c",
       "version_major": 2,
       "version_minor": 0
      },
      "text/plain": [
       "Map:   0%|          | 0/106 [00:00<?, ? examples/s]"
      ]
     },
     "metadata": {},
     "output_type": "display_data"
    },
    {
     "data": {
      "application/vnd.jupyter.widget-view+json": {
       "model_id": "fef83a39fc464c7f9bc4101d1dcda555",
       "version_major": 2,
       "version_minor": 0
      },
      "text/plain": [
       "Map:   0%|          | 0/106 [00:00<?, ? examples/s]"
      ]
     },
     "metadata": {},
     "output_type": "display_data"
    },
    {
     "data": {
      "application/vnd.jupyter.widget-view+json": {
       "model_id": "ebb9ff1e389f4575aa2214758796d611",
       "version_major": 2,
       "version_minor": 0
      },
      "text/plain": [
       "Map:   0%|          | 0/106 [00:00<?, ? examples/s]"
      ]
     },
     "metadata": {},
     "output_type": "display_data"
    },
    {
     "data": {
      "application/vnd.jupyter.widget-view+json": {
       "model_id": "ed0dc0ee566140858416808d1a0b45b3",
       "version_major": 2,
       "version_minor": 0
      },
      "text/plain": [
       "Map:   0%|          | 0/106 [00:00<?, ? examples/s]"
      ]
     },
     "metadata": {},
     "output_type": "display_data"
    },
    {
     "data": {
      "application/vnd.jupyter.widget-view+json": {
       "model_id": "7ae886a0b3c04d14ad42dd5d31f84b3d",
       "version_major": 2,
       "version_minor": 0
      },
      "text/plain": [
       "Map:   0%|          | 0/106 [00:00<?, ? examples/s]"
      ]
     },
     "metadata": {},
     "output_type": "display_data"
    },
    {
     "data": {
      "application/vnd.jupyter.widget-view+json": {
       "model_id": "8d7b6b47668144fabe42c0f439c1b428",
       "version_major": 2,
       "version_minor": 0
      },
      "text/plain": [
       "Map:   0%|          | 0/106 [00:00<?, ? examples/s]"
      ]
     },
     "metadata": {},
     "output_type": "display_data"
    },
    {
     "data": {
      "application/vnd.jupyter.widget-view+json": {
       "model_id": "b5af688456474a3ebee6b9b478b4056f",
       "version_major": 2,
       "version_minor": 0
      },
      "text/plain": [
       "Map:   0%|          | 0/106 [00:00<?, ? examples/s]"
      ]
     },
     "metadata": {},
     "output_type": "display_data"
    },
    {
     "data": {
      "application/vnd.jupyter.widget-view+json": {
       "model_id": "f8c171442aa44805bb9ea4fbfd2315d4",
       "version_major": 2,
       "version_minor": 0
      },
      "text/plain": [
       "Map:   0%|          | 0/106 [00:00<?, ? examples/s]"
      ]
     },
     "metadata": {},
     "output_type": "display_data"
    },
    {
     "data": {
      "application/vnd.jupyter.widget-view+json": {
       "model_id": "94032e8cce39400499729656d2603c18",
       "version_major": 2,
       "version_minor": 0
      },
      "text/plain": [
       "Map:   0%|          | 0/106 [00:00<?, ? examples/s]"
      ]
     },
     "metadata": {},
     "output_type": "display_data"
    },
    {
     "data": {
      "application/vnd.jupyter.widget-view+json": {
       "model_id": "9f50bbe957dd47dd8ee0bd74accfcdbe",
       "version_major": 2,
       "version_minor": 0
      },
      "text/plain": [
       "Map:   0%|          | 0/106 [00:00<?, ? examples/s]"
      ]
     },
     "metadata": {},
     "output_type": "display_data"
    },
    {
     "data": {
      "application/vnd.jupyter.widget-view+json": {
       "model_id": "406dfff38553439b83e8c363ed4985e5",
       "version_major": 2,
       "version_minor": 0
      },
      "text/plain": [
       "Map:   0%|          | 0/106 [00:00<?, ? examples/s]"
      ]
     },
     "metadata": {},
     "output_type": "display_data"
    },
    {
     "data": {
      "application/vnd.jupyter.widget-view+json": {
       "model_id": "9c52f434bf934b00a59e5cb99580fa90",
       "version_major": 2,
       "version_minor": 0
      },
      "text/plain": [
       "Map:   0%|          | 0/106 [00:00<?, ? examples/s]"
      ]
     },
     "metadata": {},
     "output_type": "display_data"
    },
    {
     "data": {
      "application/vnd.jupyter.widget-view+json": {
       "model_id": "f549c3c684784733af192f56b4149b89",
       "version_major": 2,
       "version_minor": 0
      },
      "text/plain": [
       "Map:   0%|          | 0/106 [00:00<?, ? examples/s]"
      ]
     },
     "metadata": {},
     "output_type": "display_data"
    },
    {
     "data": {
      "application/vnd.jupyter.widget-view+json": {
       "model_id": "2a5dcfdba6454a72981bbf195806dd31",
       "version_major": 2,
       "version_minor": 0
      },
      "text/plain": [
       "Map:   0%|          | 0/106 [00:00<?, ? examples/s]"
      ]
     },
     "metadata": {},
     "output_type": "display_data"
    },
    {
     "data": {
      "application/vnd.jupyter.widget-view+json": {
       "model_id": "7dd85b91330a43f09bf279fe6f8b9c0c",
       "version_major": 2,
       "version_minor": 0
      },
      "text/plain": [
       "Map:   0%|          | 0/106 [00:00<?, ? examples/s]"
      ]
     },
     "metadata": {},
     "output_type": "display_data"
    },
    {
     "data": {
      "application/vnd.jupyter.widget-view+json": {
       "model_id": "528ad83f8de346d28fcea52513db5b9e",
       "version_major": 2,
       "version_minor": 0
      },
      "text/plain": [
       "Map:   0%|          | 0/106 [00:00<?, ? examples/s]"
      ]
     },
     "metadata": {},
     "output_type": "display_data"
    },
    {
     "data": {
      "application/vnd.jupyter.widget-view+json": {
       "model_id": "cca4b1d5286b487fbcca307a5e955c9a",
       "version_major": 2,
       "version_minor": 0
      },
      "text/plain": [
       "Map:   0%|          | 0/106 [00:00<?, ? examples/s]"
      ]
     },
     "metadata": {},
     "output_type": "display_data"
    },
    {
     "data": {
      "application/vnd.jupyter.widget-view+json": {
       "model_id": "76fb5925bf9e4f4c805b66275f84a09c",
       "version_major": 2,
       "version_minor": 0
      },
      "text/plain": [
       "Map:   0%|          | 0/106 [00:00<?, ? examples/s]"
      ]
     },
     "metadata": {},
     "output_type": "display_data"
    },
    {
     "data": {
      "application/vnd.jupyter.widget-view+json": {
       "model_id": "594cde5603d94613ace89c6c7dcff356",
       "version_major": 2,
       "version_minor": 0
      },
      "text/plain": [
       "Map:   0%|          | 0/106 [00:00<?, ? examples/s]"
      ]
     },
     "metadata": {},
     "output_type": "display_data"
    },
    {
     "data": {
      "application/vnd.jupyter.widget-view+json": {
       "model_id": "63f8ead6d1894c1983c11be19a5a1bbb",
       "version_major": 2,
       "version_minor": 0
      },
      "text/plain": [
       "Map:   0%|          | 0/106 [00:00<?, ? examples/s]"
      ]
     },
     "metadata": {},
     "output_type": "display_data"
    },
    {
     "data": {
      "application/vnd.jupyter.widget-view+json": {
       "model_id": "94b13ab5bc9e4d76bfffd2e48e530fd7",
       "version_major": 2,
       "version_minor": 0
      },
      "text/plain": [
       "Map:   0%|          | 0/106 [00:00<?, ? examples/s]"
      ]
     },
     "metadata": {},
     "output_type": "display_data"
    },
    {
     "data": {
      "application/vnd.jupyter.widget-view+json": {
       "model_id": "0568e181ae4d493781166ab36c4f40de",
       "version_major": 2,
       "version_minor": 0
      },
      "text/plain": [
       "Map:   0%|          | 0/106 [00:00<?, ? examples/s]"
      ]
     },
     "metadata": {},
     "output_type": "display_data"
    },
    {
     "data": {
      "application/vnd.jupyter.widget-view+json": {
       "model_id": "deb902006adf45b6b53513a86cc89969",
       "version_major": 2,
       "version_minor": 0
      },
      "text/plain": [
       "Map:   0%|          | 0/106 [00:00<?, ? examples/s]"
      ]
     },
     "metadata": {},
     "output_type": "display_data"
    },
    {
     "data": {
      "application/vnd.jupyter.widget-view+json": {
       "model_id": "96092f7407e3487ca3ce6081b92190d5",
       "version_major": 2,
       "version_minor": 0
      },
      "text/plain": [
       "Map:   0%|          | 0/106 [00:00<?, ? examples/s]"
      ]
     },
     "metadata": {},
     "output_type": "display_data"
    },
    {
     "data": {
      "application/vnd.jupyter.widget-view+json": {
       "model_id": "49fb6a2547af4129a715fd4b2f66d091",
       "version_major": 2,
       "version_minor": 0
      },
      "text/plain": [
       "Map:   0%|          | 0/106 [00:00<?, ? examples/s]"
      ]
     },
     "metadata": {},
     "output_type": "display_data"
    },
    {
     "data": {
      "application/vnd.jupyter.widget-view+json": {
       "model_id": "7893c02dfeb04995b94424807a06e3b0",
       "version_major": 2,
       "version_minor": 0
      },
      "text/plain": [
       "Map:   0%|          | 0/106 [00:00<?, ? examples/s]"
      ]
     },
     "metadata": {},
     "output_type": "display_data"
    },
    {
     "data": {
      "application/vnd.jupyter.widget-view+json": {
       "model_id": "a3bc157be4d44cfd8bcf84c2e905f084",
       "version_major": 2,
       "version_minor": 0
      },
      "text/plain": [
       "Map:   0%|          | 0/106 [00:00<?, ? examples/s]"
      ]
     },
     "metadata": {},
     "output_type": "display_data"
    },
    {
     "data": {
      "application/vnd.jupyter.widget-view+json": {
       "model_id": "b563c607253e4858993e7b02e0771156",
       "version_major": 2,
       "version_minor": 0
      },
      "text/plain": [
       "Map:   0%|          | 0/106 [00:00<?, ? examples/s]"
      ]
     },
     "metadata": {},
     "output_type": "display_data"
    },
    {
     "data": {
      "application/vnd.jupyter.widget-view+json": {
       "model_id": "f631363da5554ae8a0f10561c10bd469",
       "version_major": 2,
       "version_minor": 0
      },
      "text/plain": [
       "Map:   0%|          | 0/106 [00:00<?, ? examples/s]"
      ]
     },
     "metadata": {},
     "output_type": "display_data"
    },
    {
     "data": {
      "application/vnd.jupyter.widget-view+json": {
       "model_id": "ef643ac85412454a810d6bf08e6045a8",
       "version_major": 2,
       "version_minor": 0
      },
      "text/plain": [
       "Map:   0%|          | 0/106 [00:00<?, ? examples/s]"
      ]
     },
     "metadata": {},
     "output_type": "display_data"
    },
    {
     "data": {
      "application/vnd.jupyter.widget-view+json": {
       "model_id": "53b6c78dfc874df9984a1e3c860b8da8",
       "version_major": 2,
       "version_minor": 0
      },
      "text/plain": [
       "Map:   0%|          | 0/106 [00:00<?, ? examples/s]"
      ]
     },
     "metadata": {},
     "output_type": "display_data"
    },
    {
     "data": {
      "application/vnd.jupyter.widget-view+json": {
       "model_id": "f55b20e5602f46839bf6f123aa40c21c",
       "version_major": 2,
       "version_minor": 0
      },
      "text/plain": [
       "Map:   0%|          | 0/106 [00:00<?, ? examples/s]"
      ]
     },
     "metadata": {},
     "output_type": "display_data"
    },
    {
     "data": {
      "application/vnd.jupyter.widget-view+json": {
       "model_id": "0d48c5fa69064b92a8de4f7c4be9a6f2",
       "version_major": 2,
       "version_minor": 0
      },
      "text/plain": [
       "Map:   0%|          | 0/106 [00:00<?, ? examples/s]"
      ]
     },
     "metadata": {},
     "output_type": "display_data"
    },
    {
     "data": {
      "application/vnd.jupyter.widget-view+json": {
       "model_id": "43ce038e0c774174ae50680586a37b89",
       "version_major": 2,
       "version_minor": 0
      },
      "text/plain": [
       "Map:   0%|          | 0/106 [00:00<?, ? examples/s]"
      ]
     },
     "metadata": {},
     "output_type": "display_data"
    },
    {
     "data": {
      "application/vnd.jupyter.widget-view+json": {
       "model_id": "93f535cb954b42b0a733bbe4d031ef37",
       "version_major": 2,
       "version_minor": 0
      },
      "text/plain": [
       "Map:   0%|          | 0/106 [00:00<?, ? examples/s]"
      ]
     },
     "metadata": {},
     "output_type": "display_data"
    },
    {
     "data": {
      "application/vnd.jupyter.widget-view+json": {
       "model_id": "23366772b4fa42a2a601e3bcb08bb346",
       "version_major": 2,
       "version_minor": 0
      },
      "text/plain": [
       "Map:   0%|          | 0/106 [00:00<?, ? examples/s]"
      ]
     },
     "metadata": {},
     "output_type": "display_data"
    },
    {
     "data": {
      "application/vnd.jupyter.widget-view+json": {
       "model_id": "53c62a4984244d85ba830ace57d5dffb",
       "version_major": 2,
       "version_minor": 0
      },
      "text/plain": [
       "Map:   0%|          | 0/106 [00:00<?, ? examples/s]"
      ]
     },
     "metadata": {},
     "output_type": "display_data"
    },
    {
     "data": {
      "application/vnd.jupyter.widget-view+json": {
       "model_id": "28d58a3192544b039d899590f9cb500c",
       "version_major": 2,
       "version_minor": 0
      },
      "text/plain": [
       "Map:   0%|          | 0/106 [00:00<?, ? examples/s]"
      ]
     },
     "metadata": {},
     "output_type": "display_data"
    },
    {
     "data": {
      "application/vnd.jupyter.widget-view+json": {
       "model_id": "4e145195edc24cbc87162c4f8826c85a",
       "version_major": 2,
       "version_minor": 0
      },
      "text/plain": [
       "Map:   0%|          | 0/106 [00:00<?, ? examples/s]"
      ]
     },
     "metadata": {},
     "output_type": "display_data"
    },
    {
     "data": {
      "application/vnd.jupyter.widget-view+json": {
       "model_id": "6b71c8de1f7d47fdbe8b04db21e8fdc6",
       "version_major": 2,
       "version_minor": 0
      },
      "text/plain": [
       "Map:   0%|          | 0/106 [00:00<?, ? examples/s]"
      ]
     },
     "metadata": {},
     "output_type": "display_data"
    },
    {
     "data": {
      "application/vnd.jupyter.widget-view+json": {
       "model_id": "f6cf35623b9641efa5802f03ab8f3588",
       "version_major": 2,
       "version_minor": 0
      },
      "text/plain": [
       "Map:   0%|          | 0/106 [00:00<?, ? examples/s]"
      ]
     },
     "metadata": {},
     "output_type": "display_data"
    },
    {
     "data": {
      "application/vnd.jupyter.widget-view+json": {
       "model_id": "8987409a2e254b30bc0e5f5b3cee61c9",
       "version_major": 2,
       "version_minor": 0
      },
      "text/plain": [
       "Map:   0%|          | 0/106 [00:00<?, ? examples/s]"
      ]
     },
     "metadata": {},
     "output_type": "display_data"
    },
    {
     "data": {
      "application/vnd.jupyter.widget-view+json": {
       "model_id": "8b9842af2e4e45c6a51ae2b72f836881",
       "version_major": 2,
       "version_minor": 0
      },
      "text/plain": [
       "Map:   0%|          | 0/106 [00:00<?, ? examples/s]"
      ]
     },
     "metadata": {},
     "output_type": "display_data"
    },
    {
     "data": {
      "application/vnd.jupyter.widget-view+json": {
       "model_id": "f987f1989dfb40f691f227608fc88416",
       "version_major": 2,
       "version_minor": 0
      },
      "text/plain": [
       "Map:   0%|          | 0/106 [00:00<?, ? examples/s]"
      ]
     },
     "metadata": {},
     "output_type": "display_data"
    },
    {
     "data": {
      "application/vnd.jupyter.widget-view+json": {
       "model_id": "32031e87dc7c460892b90e36bd183cb7",
       "version_major": 2,
       "version_minor": 0
      },
      "text/plain": [
       "Map:   0%|          | 0/106 [00:00<?, ? examples/s]"
      ]
     },
     "metadata": {},
     "output_type": "display_data"
    },
    {
     "data": {
      "application/vnd.jupyter.widget-view+json": {
       "model_id": "9d47acd742e7460c93225fe5aff1bdad",
       "version_major": 2,
       "version_minor": 0
      },
      "text/plain": [
       "Map:   0%|          | 0/106 [00:00<?, ? examples/s]"
      ]
     },
     "metadata": {},
     "output_type": "display_data"
    },
    {
     "data": {
      "application/vnd.jupyter.widget-view+json": {
       "model_id": "9813e430e97142129dc10d36326c604b",
       "version_major": 2,
       "version_minor": 0
      },
      "text/plain": [
       "Map:   0%|          | 0/106 [00:00<?, ? examples/s]"
      ]
     },
     "metadata": {},
     "output_type": "display_data"
    },
    {
     "data": {
      "application/vnd.jupyter.widget-view+json": {
       "model_id": "8651a38bd3604b2d83ad0c5425795cf2",
       "version_major": 2,
       "version_minor": 0
      },
      "text/plain": [
       "Map:   0%|          | 0/106 [00:00<?, ? examples/s]"
      ]
     },
     "metadata": {},
     "output_type": "display_data"
    },
    {
     "data": {
      "application/vnd.jupyter.widget-view+json": {
       "model_id": "e82773e361d5453caea46388630bf016",
       "version_major": 2,
       "version_minor": 0
      },
      "text/plain": [
       "Map:   0%|          | 0/106 [00:00<?, ? examples/s]"
      ]
     },
     "metadata": {},
     "output_type": "display_data"
    },
    {
     "data": {
      "application/vnd.jupyter.widget-view+json": {
       "model_id": "9f0b4ab609264b7c87a4f47d0c06d2c3",
       "version_major": 2,
       "version_minor": 0
      },
      "text/plain": [
       "Map:   0%|          | 0/106 [00:00<?, ? examples/s]"
      ]
     },
     "metadata": {},
     "output_type": "display_data"
    },
    {
     "data": {
      "application/vnd.jupyter.widget-view+json": {
       "model_id": "f230db69d2004577ba2a0379b337b096",
       "version_major": 2,
       "version_minor": 0
      },
      "text/plain": [
       "Map:   0%|          | 0/106 [00:00<?, ? examples/s]"
      ]
     },
     "metadata": {},
     "output_type": "display_data"
    },
    {
     "data": {
      "application/vnd.jupyter.widget-view+json": {
       "model_id": "0c792c1786f84333a762b274c75ee9ea",
       "version_major": 2,
       "version_minor": 0
      },
      "text/plain": [
       "Map:   0%|          | 0/106 [00:00<?, ? examples/s]"
      ]
     },
     "metadata": {},
     "output_type": "display_data"
    },
    {
     "data": {
      "application/vnd.jupyter.widget-view+json": {
       "model_id": "03799a88e1b4485d9dfb8cbbaa6be27a",
       "version_major": 2,
       "version_minor": 0
      },
      "text/plain": [
       "Map:   0%|          | 0/106 [00:00<?, ? examples/s]"
      ]
     },
     "metadata": {},
     "output_type": "display_data"
    },
    {
     "data": {
      "application/vnd.jupyter.widget-view+json": {
       "model_id": "643c28fbc24a4620a4a8e2f77346913a",
       "version_major": 2,
       "version_minor": 0
      },
      "text/plain": [
       "Map:   0%|          | 0/106 [00:00<?, ? examples/s]"
      ]
     },
     "metadata": {},
     "output_type": "display_data"
    },
    {
     "data": {
      "application/vnd.jupyter.widget-view+json": {
       "model_id": "c9d5c081ed8c4f5c9eda237f8291c19b",
       "version_major": 2,
       "version_minor": 0
      },
      "text/plain": [
       "Map:   0%|          | 0/106 [00:00<?, ? examples/s]"
      ]
     },
     "metadata": {},
     "output_type": "display_data"
    },
    {
     "data": {
      "application/vnd.jupyter.widget-view+json": {
       "model_id": "2ff49ec5b2a44eac8aad460cea66d673",
       "version_major": 2,
       "version_minor": 0
      },
      "text/plain": [
       "Map:   0%|          | 0/106 [00:00<?, ? examples/s]"
      ]
     },
     "metadata": {},
     "output_type": "display_data"
    },
    {
     "data": {
      "application/vnd.jupyter.widget-view+json": {
       "model_id": "b7c10b318ad641b6aa498a194c4ee0e7",
       "version_major": 2,
       "version_minor": 0
      },
      "text/plain": [
       "Map:   0%|          | 0/106 [00:00<?, ? examples/s]"
      ]
     },
     "metadata": {},
     "output_type": "display_data"
    },
    {
     "data": {
      "application/vnd.jupyter.widget-view+json": {
       "model_id": "3f0972c6f4d74bc2b8a56a1d2828ca2f",
       "version_major": 2,
       "version_minor": 0
      },
      "text/plain": [
       "Map:   0%|          | 0/106 [00:00<?, ? examples/s]"
      ]
     },
     "metadata": {},
     "output_type": "display_data"
    },
    {
     "data": {
      "application/vnd.jupyter.widget-view+json": {
       "model_id": "9ca743285bfb4d79970c19d08f98e51b",
       "version_major": 2,
       "version_minor": 0
      },
      "text/plain": [
       "Map:   0%|          | 0/106 [00:00<?, ? examples/s]"
      ]
     },
     "metadata": {},
     "output_type": "display_data"
    },
    {
     "data": {
      "application/vnd.jupyter.widget-view+json": {
       "model_id": "dbfe8687ba784b6b89eff49f7e02a52f",
       "version_major": 2,
       "version_minor": 0
      },
      "text/plain": [
       "Map:   0%|          | 0/106 [00:00<?, ? examples/s]"
      ]
     },
     "metadata": {},
     "output_type": "display_data"
    },
    {
     "data": {
      "application/vnd.jupyter.widget-view+json": {
       "model_id": "22f1f65d402e411bae219e97e135d88b",
       "version_major": 2,
       "version_minor": 0
      },
      "text/plain": [
       "Map:   0%|          | 0/106 [00:00<?, ? examples/s]"
      ]
     },
     "metadata": {},
     "output_type": "display_data"
    },
    {
     "data": {
      "application/vnd.jupyter.widget-view+json": {
       "model_id": "b6172093b5a6412091ba1d144df3e2af",
       "version_major": 2,
       "version_minor": 0
      },
      "text/plain": [
       "Map:   0%|          | 0/106 [00:00<?, ? examples/s]"
      ]
     },
     "metadata": {},
     "output_type": "display_data"
    },
    {
     "data": {
      "application/vnd.jupyter.widget-view+json": {
       "model_id": "516e4b2685104061972dfed48e77a763",
       "version_major": 2,
       "version_minor": 0
      },
      "text/plain": [
       "Map:   0%|          | 0/106 [00:00<?, ? examples/s]"
      ]
     },
     "metadata": {},
     "output_type": "display_data"
    },
    {
     "data": {
      "application/vnd.jupyter.widget-view+json": {
       "model_id": "a2c48a481b994405ae396dcc3ebddeb1",
       "version_major": 2,
       "version_minor": 0
      },
      "text/plain": [
       "Map:   0%|          | 0/106 [00:00<?, ? examples/s]"
      ]
     },
     "metadata": {},
     "output_type": "display_data"
    },
    {
     "data": {
      "application/vnd.jupyter.widget-view+json": {
       "model_id": "faf6c98f8ce346cea3a5bfc87d23c8a5",
       "version_major": 2,
       "version_minor": 0
      },
      "text/plain": [
       "Map:   0%|          | 0/106 [00:00<?, ? examples/s]"
      ]
     },
     "metadata": {},
     "output_type": "display_data"
    },
    {
     "data": {
      "application/vnd.jupyter.widget-view+json": {
       "model_id": "21facdb05fc343dca31bd886b7b9a8bb",
       "version_major": 2,
       "version_minor": 0
      },
      "text/plain": [
       "Map:   0%|          | 0/106 [00:00<?, ? examples/s]"
      ]
     },
     "metadata": {},
     "output_type": "display_data"
    },
    {
     "data": {
      "application/vnd.jupyter.widget-view+json": {
       "model_id": "92b79a7325ad4d80a781674bad9eb50d",
       "version_major": 2,
       "version_minor": 0
      },
      "text/plain": [
       "Map:   0%|          | 0/106 [00:00<?, ? examples/s]"
      ]
     },
     "metadata": {},
     "output_type": "display_data"
    },
    {
     "data": {
      "application/vnd.jupyter.widget-view+json": {
       "model_id": "ed275cc261b64a3ea04429483d3d9b63",
       "version_major": 2,
       "version_minor": 0
      },
      "text/plain": [
       "Map:   0%|          | 0/106 [00:00<?, ? examples/s]"
      ]
     },
     "metadata": {},
     "output_type": "display_data"
    },
    {
     "data": {
      "application/vnd.jupyter.widget-view+json": {
       "model_id": "1747382b71ea442b8fddfb4c6b492784",
       "version_major": 2,
       "version_minor": 0
      },
      "text/plain": [
       "Map:   0%|          | 0/106 [00:00<?, ? examples/s]"
      ]
     },
     "metadata": {},
     "output_type": "display_data"
    },
    {
     "data": {
      "application/vnd.jupyter.widget-view+json": {
       "model_id": "5b2af98fe8dc49cba410ad3b6def87f2",
       "version_major": 2,
       "version_minor": 0
      },
      "text/plain": [
       "Map:   0%|          | 0/106 [00:00<?, ? examples/s]"
      ]
     },
     "metadata": {},
     "output_type": "display_data"
    },
    {
     "data": {
      "application/vnd.jupyter.widget-view+json": {
       "model_id": "76cbd49af1cd432b891a7134c35d2283",
       "version_major": 2,
       "version_minor": 0
      },
      "text/plain": [
       "Map:   0%|          | 0/106 [00:00<?, ? examples/s]"
      ]
     },
     "metadata": {},
     "output_type": "display_data"
    },
    {
     "data": {
      "application/vnd.jupyter.widget-view+json": {
       "model_id": "0459f0d2a38c47fca622f4c188be0d1a",
       "version_major": 2,
       "version_minor": 0
      },
      "text/plain": [
       "Map:   0%|          | 0/106 [00:00<?, ? examples/s]"
      ]
     },
     "metadata": {},
     "output_type": "display_data"
    },
    {
     "data": {
      "application/vnd.jupyter.widget-view+json": {
       "model_id": "23246023b8a843cd866417bc4061eaec",
       "version_major": 2,
       "version_minor": 0
      },
      "text/plain": [
       "Map:   0%|          | 0/106 [00:00<?, ? examples/s]"
      ]
     },
     "metadata": {},
     "output_type": "display_data"
    },
    {
     "data": {
      "application/vnd.jupyter.widget-view+json": {
       "model_id": "20e0b803d0ff481c961908da220ae694",
       "version_major": 2,
       "version_minor": 0
      },
      "text/plain": [
       "Map:   0%|          | 0/106 [00:00<?, ? examples/s]"
      ]
     },
     "metadata": {},
     "output_type": "display_data"
    },
    {
     "data": {
      "application/vnd.jupyter.widget-view+json": {
       "model_id": "3de5e296758c4215919e6074c875e090",
       "version_major": 2,
       "version_minor": 0
      },
      "text/plain": [
       "Map:   0%|          | 0/106 [00:00<?, ? examples/s]"
      ]
     },
     "metadata": {},
     "output_type": "display_data"
    },
    {
     "data": {
      "application/vnd.jupyter.widget-view+json": {
       "model_id": "b4de6676390044b7a714511c10a61e58",
       "version_major": 2,
       "version_minor": 0
      },
      "text/plain": [
       "Map:   0%|          | 0/106 [00:00<?, ? examples/s]"
      ]
     },
     "metadata": {},
     "output_type": "display_data"
    },
    {
     "data": {
      "application/vnd.jupyter.widget-view+json": {
       "model_id": "084db84777644dfcb2cb48fbf71e9d9f",
       "version_major": 2,
       "version_minor": 0
      },
      "text/plain": [
       "Map:   0%|          | 0/106 [00:00<?, ? examples/s]"
      ]
     },
     "metadata": {},
     "output_type": "display_data"
    },
    {
     "data": {
      "application/vnd.jupyter.widget-view+json": {
       "model_id": "696407f93ab84188a3a2397b3f11fe1c",
       "version_major": 2,
       "version_minor": 0
      },
      "text/plain": [
       "Map:   0%|          | 0/106 [00:00<?, ? examples/s]"
      ]
     },
     "metadata": {},
     "output_type": "display_data"
    },
    {
     "data": {
      "application/vnd.jupyter.widget-view+json": {
       "model_id": "3a02e732f4a64da5a4ea84cafda08630",
       "version_major": 2,
       "version_minor": 0
      },
      "text/plain": [
       "Map:   0%|          | 0/106 [00:00<?, ? examples/s]"
      ]
     },
     "metadata": {},
     "output_type": "display_data"
    },
    {
     "data": {
      "application/vnd.jupyter.widget-view+json": {
       "model_id": "da124764ca7b49ff9a890d4f5f3a75d8",
       "version_major": 2,
       "version_minor": 0
      },
      "text/plain": [
       "Map:   0%|          | 0/106 [00:00<?, ? examples/s]"
      ]
     },
     "metadata": {},
     "output_type": "display_data"
    },
    {
     "data": {
      "application/vnd.jupyter.widget-view+json": {
       "model_id": "7b9b4d0bee044c399723931d37f03002",
       "version_major": 2,
       "version_minor": 0
      },
      "text/plain": [
       "Map:   0%|          | 0/106 [00:00<?, ? examples/s]"
      ]
     },
     "metadata": {},
     "output_type": "display_data"
    },
    {
     "data": {
      "application/vnd.jupyter.widget-view+json": {
       "model_id": "632688a2979a42e893166655694cec38",
       "version_major": 2,
       "version_minor": 0
      },
      "text/plain": [
       "Map:   0%|          | 0/106 [00:00<?, ? examples/s]"
      ]
     },
     "metadata": {},
     "output_type": "display_data"
    },
    {
     "data": {
      "application/vnd.jupyter.widget-view+json": {
       "model_id": "4aeda7c5d7834395868f5be5f1efaf9c",
       "version_major": 2,
       "version_minor": 0
      },
      "text/plain": [
       "Map:   0%|          | 0/106 [00:00<?, ? examples/s]"
      ]
     },
     "metadata": {},
     "output_type": "display_data"
    },
    {
     "data": {
      "application/vnd.jupyter.widget-view+json": {
       "model_id": "5114a8ddc3a94a64ad4745deb7c04907",
       "version_major": 2,
       "version_minor": 0
      },
      "text/plain": [
       "Map:   0%|          | 0/106 [00:00<?, ? examples/s]"
      ]
     },
     "metadata": {},
     "output_type": "display_data"
    },
    {
     "data": {
      "application/vnd.jupyter.widget-view+json": {
       "model_id": "4ea09fb82d94443e9e9edd8273837086",
       "version_major": 2,
       "version_minor": 0
      },
      "text/plain": [
       "Map:   0%|          | 0/106 [00:00<?, ? examples/s]"
      ]
     },
     "metadata": {},
     "output_type": "display_data"
    },
    {
     "data": {
      "application/vnd.jupyter.widget-view+json": {
       "model_id": "b0c6450bea154f0fbd9c35e00603e7d1",
       "version_major": 2,
       "version_minor": 0
      },
      "text/plain": [
       "Map:   0%|          | 0/106 [00:00<?, ? examples/s]"
      ]
     },
     "metadata": {},
     "output_type": "display_data"
    },
    {
     "data": {
      "application/vnd.jupyter.widget-view+json": {
       "model_id": "c65ac235b70945f98efa168f7722f79e",
       "version_major": 2,
       "version_minor": 0
      },
      "text/plain": [
       "Map:   0%|          | 0/106 [00:00<?, ? examples/s]"
      ]
     },
     "metadata": {},
     "output_type": "display_data"
    },
    {
     "data": {
      "application/vnd.jupyter.widget-view+json": {
       "model_id": "814c0e6ba02c4f7fbf04c896825fe201",
       "version_major": 2,
       "version_minor": 0
      },
      "text/plain": [
       "Map:   0%|          | 0/106 [00:00<?, ? examples/s]"
      ]
     },
     "metadata": {},
     "output_type": "display_data"
    },
    {
     "data": {
      "application/vnd.jupyter.widget-view+json": {
       "model_id": "f03ebcf8fbf4431888a6eec892417c57",
       "version_major": 2,
       "version_minor": 0
      },
      "text/plain": [
       "Map:   0%|          | 0/106 [00:00<?, ? examples/s]"
      ]
     },
     "metadata": {},
     "output_type": "display_data"
    },
    {
     "data": {
      "application/vnd.jupyter.widget-view+json": {
       "model_id": "f2d0abf382904765a60e3652b76246c9",
       "version_major": 2,
       "version_minor": 0
      },
      "text/plain": [
       "Map:   0%|          | 0/106 [00:00<?, ? examples/s]"
      ]
     },
     "metadata": {},
     "output_type": "display_data"
    },
    {
     "data": {
      "application/vnd.jupyter.widget-view+json": {
       "model_id": "1c5d02d417374490b3c8b41970a1b3ae",
       "version_major": 2,
       "version_minor": 0
      },
      "text/plain": [
       "Map:   0%|          | 0/106 [00:00<?, ? examples/s]"
      ]
     },
     "metadata": {},
     "output_type": "display_data"
    },
    {
     "data": {
      "application/vnd.jupyter.widget-view+json": {
       "model_id": "c698384203654ba790bee76431346ae7",
       "version_major": 2,
       "version_minor": 0
      },
      "text/plain": [
       "Map:   0%|          | 0/106 [00:00<?, ? examples/s]"
      ]
     },
     "metadata": {},
     "output_type": "display_data"
    },
    {
     "data": {
      "image/png": "[encoded data removed]",
      "text/plain": [
       "<Figure size 640x480 with 1 Axes>"
      ]
     },
     "metadata": {},
     "output_type": "display_data"
    }
   ],
   "source": [
    "macros , micros = [] , []\n",
    "thresholds = np.linspace(0.01, 1, 100)\n",
    "for threshold in thresholds: \n",
    "    # dont print progress bar\n",
    "    ds_zero_shot = ds_zero_shot.map(get_preds, batched = False, fn_kwargs={\"threshold\": threshold}) \n",
    "    clf_report = get_clf_report(ds_zero_shot) \n",
    "    macros.append(clf_report[\"macro avg\"][\"f1-score\"]) \n",
    "    micros.append(clf_report[\"micro avg\"][\"f1-score\"])\n",
    "\n",
    "plt.plot(thresholds, micros, label=\"Micro F1 score\")\n",
    "plt.plot(thresholds, macros, label=\"Macro F1 score\")\n",
    "plt.xlabel(\"Threshold predictions\")\n",
    "plt.ylabel(\"F1 score\")\n",
    "plt.legend(loc = 'best')\n",
    "plt.show()"
   ]
  },
  {
   "cell_type": "code",
   "execution_count": 50,
   "metadata": {},
   "outputs": [
    {
     "name": "stdout",
     "output_type": "stream",
     "text": [
      "Best threshold (micro): 0.78 with F1-score 0.48.\n",
      "Best threshold (micro): 0.74 with F1-score 0.42.\n"
     ]
    }
   ],
   "source": [
    "best_t, best_micro = thresholds[np.argmax(micros)], np.max(micros)\n",
    "print(f'Best threshold (micro): {best_t} with F1-score {best_micro:.2f}.')\n",
    "best_t, best_macro = thresholds[np.argmax(macros)], np.max(macros)\n",
    "print(f'Best threshold (micro): {best_t} with F1-score {best_macro:.2f}.')"
   ]
  },
  {
   "cell_type": "code",
   "execution_count": 51,
   "metadata": {},
   "outputs": [],
   "source": [
    "# micro_scores"
   ]
  },
  {
   "cell_type": "code",
   "execution_count": 52,
   "metadata": {},
   "outputs": [],
   "source": [
    "# macro_scores"
   ]
  },
  {
   "cell_type": "code",
   "execution_count": 53,
   "metadata": {},
   "outputs": [
    {
     "data": {
      "application/vnd.jupyter.widget-view+json": {
       "model_id": "7accb60899814b45a31334e117d5910a",
       "version_major": 2,
       "version_minor": 0
      },
      "text/plain": [
       "Map:   0%|          | 0/111 [00:00<?, ? examples/s]"
      ]
     },
     "metadata": {},
     "output_type": "display_data"
    },
    {
     "data": {
      "application/vnd.jupyter.widget-view+json": {
       "model_id": "56aa642c569943d2b9ae197aab019f91",
       "version_major": 2,
       "version_minor": 0
      },
      "text/plain": [
       "Map:   0%|          | 0/111 [00:00<?, ? examples/s]"
      ]
     },
     "metadata": {},
     "output_type": "display_data"
    }
   ],
   "source": [
    "ds_zero_shot = ds['test'].map(zero_shot_pipeline)\n",
    "ds_zero_shot = ds_zero_shot.map(get_preds, batched = False, fn_kwargs={\"topk\": 1})\n",
    "clf_report = get_clf_report(ds_zero_shot)\n",
    "for train_slice in train_slices: \n",
    "    macro_scores[\"Zero-Shot\"].append(clf_report[\"macro avg\"][\"f1-score\"])\n",
    "    micro_scores[\"Zero-Shot\"].append(clf_report[\"micro avg\"][\"f1-score\"])\n"
   ]
  },
  {
   "cell_type": "code",
   "execution_count": 54,
   "metadata": {},
   "outputs": [
    {
     "name": "stdout",
     "output_type": "stream",
     "text": [
      "Naive Bayes\n",
      "Zero-Shot\n"
     ]
    },
    {
     "data": {
      "image/png": "[encoded data removed]",
      "text/plain": [
       "<Figure size 1000x400 with 2 Axes>"
      ]
     },
     "metadata": {},
     "output_type": "display_data"
    }
   ],
   "source": [
    "plot_metrics(micro_scores, macro_scores, train_samples, \"Zero-Shot\")\n"
   ]
  },
  {
   "cell_type": "code",
   "execution_count": 55,
   "metadata": {},
   "outputs": [
    {
     "data": {
      "text/plain": [
       "dict_keys(['Naive Bayes', 'Zero-Shot'])"
      ]
     },
     "execution_count": 55,
     "metadata": {},
     "output_type": "execute_result"
    }
   ],
   "source": [
    "micro_scores.keys()"
   ]
  },
  {
   "cell_type": "markdown",
   "metadata": {},
   "source": [
    "# Few shot learning"
   ]
  },
  {
   "cell_type": "code",
   "execution_count": 56,
   "metadata": {},
   "outputs": [
    {
     "name": "stdout",
     "output_type": "stream",
     "text": [
      "Original: Transformers are the most popular toys\n",
      "Augmented Text: ['transformers produce the most famous toys']\n"
     ]
    }
   ],
   "source": [
    "set_seed(3)\n",
    "aug = naw.ContextualWordEmbsAug(\n",
    "    model_path = 'distilbert-base-uncased',\n",
    "    device = device, \n",
    "    action = 'substitute' # thay the\n",
    ")\n",
    "text = 'Transformers are the most popular toys' \n",
    "print(f\"Original: {text}\") \n",
    "print(f\"Augmented Text: {aug.augment(text)}\") "
   ]
  },
  {
   "cell_type": "markdown",
   "metadata": {},
   "source": [
    "## Augment function"
   ]
  },
  {
   "cell_type": "code",
   "execution_count": 58,
   "metadata": {},
   "outputs": [],
   "source": [
    "ds_train_sample_copy = ds_train_sample"
   ]
  },
  {
   "cell_type": "code",
   "execution_count": 59,
   "metadata": {},
   "outputs": [
    {
     "name": "stdout",
     "output_type": "stream",
     "text": [
      "output:  {'text': ['Transformers are the most popular toys', 'transformers are considered most common toys', 'frogs are the most common toys', 'transformers are generally most common toys'], 'label_ids': [[0, 0, 0, 0, 0, 0, 0, 0, 0, 0], [0, 0, 0, 0, 0, 0, 0, 0, 0, 0], [0, 0, 0, 0, 0, 0, 0, 0, 0, 0], [0, 0, 0, 0, 0, 0, 0, 0, 0, 0]]}\n",
      "type of output labels_ids:  <class 'list'>\n"
     ]
    }
   ],
   "source": [
    "def augment_text(batch, transformation_per_example = 10): \n",
    "    \"\"\"return augment text and label ids\n",
    "\n",
    "    Args:\n",
    "        batch (_type_): batch of data\n",
    "        transformation_per_example (int, optional):  Defaults to 10.\n",
    "        more augment data more accuracy\n",
    "    Returns:\n",
    "        dict: batch of data augmented\n",
    "    \"\"\"\n",
    "    text_aug , label_ids = [], [] \n",
    "    for text, labels in zip(batch['text'], batch['label_ids']): \n",
    "        text_aug += [text]\n",
    "        label_ids += [labels] \n",
    "        for _ in range(transformation_per_example):\n",
    "            text_aug += aug.augment(text)\n",
    "            label_ids += [labels]\n",
    "    return {'text': text_aug, 'label_ids': label_ids}\n",
    "# test function augment text\n",
    "batch = {'text': ['Transformers are the most popular toys'], 'label_ids': [[0, 0, 0, 0, 0, 0, 0, 0, 0, 0]]}\n",
    "output = augment_text(batch, transformation_per_example=3)\n",
    "print(\"output: \", output) \n",
    "print(\"type of output labels_ids: \", type(output['label_ids']))"
   ]
  },
  {
   "cell_type": "markdown",
   "metadata": {},
   "source": [
    "## Create training set"
   ]
  },
  {
   "cell_type": "code",
   "execution_count": 60,
   "metadata": {},
   "outputs": [
    {
     "data": {
      "application/vnd.jupyter.widget-view+json": {
       "model_id": "86eb7f9aa3db447596c0d8285b000c3a",
       "version_major": 2,
       "version_minor": 0
      },
      "text/plain": [
       "Map:   0%|          | 0/223 [00:00<?, ? examples/s]"
      ]
     },
     "metadata": {},
     "output_type": "display_data"
    }
   ],
   "source": [
    "ds_train_sample_copy = ds_train_sample_copy.map(\n",
    "    augment_text, \n",
    "    batched = True,\n",
    "    remove_columns= ds_train_sample_copy.column_names,\n",
    ").shuffle(seed = 42)"
   ]
  },
  {
   "cell_type": "code",
   "execution_count": 61,
   "metadata": {},
   "outputs": [
    {
     "name": "stdout",
     "output_type": "stream",
     "text": [
      "dict_keys(['text', 'label_ids'])\n",
      "exposing prepare _ for _ model for both slow & fast tokenizers + with version v3. 0. 1, two breaking\n",
      "[0, 0, 0, 0, 0, 0, 0, 1, 0]\n",
      "dict_keys(['text', 'label_ids'])\n",
      "new tokenizers issue in ner demo + # [UNK] bug when i use transformers 2. html i get the following e\n",
      "[0, 0, 0, 0, 0, 0, 0, 1, 0]\n"
     ]
    }
   ],
   "source": [
    "# iter through ds_train_sample_copy\n",
    "dem = 0\n",
    "for sample in ds_train_sample_copy:\n",
    "    print(sample.keys())\n",
    "    print(sample['text'][:100])\n",
    "    print(sample['label_ids'][:100])\n",
    "    dem += 1\n",
    "    if dem == 2:\n",
    "        break"
   ]
  },
  {
   "cell_type": "markdown",
   "metadata": {},
   "source": [
    "## Retrain naive bayes with augment data"
   ]
  },
  {
   "cell_type": "code",
   "execution_count": 62,
   "metadata": {},
   "outputs": [
    {
     "data": {
      "text/plain": [
       "Dataset({\n",
       "    features: ['text', 'label_ids'],\n",
       "    num_rows: 2453\n",
       "})"
      ]
     },
     "execution_count": 62,
     "metadata": {},
     "output_type": "execute_result"
    }
   ],
   "source": [
    "ds_train_sample_copy"
   ]
  },
  {
   "cell_type": "code",
   "execution_count": 63,
   "metadata": {},
   "outputs": [
    {
     "data": {
      "text/plain": [
       "['new tokenizers issue in ner demo + # [UNK] bug when i use transformers 2. html i get the following error when running the run _ ner demo. it seems to work from when i use 2. 4. i am guessing this is because of a slight difference in the tokenization script? it seems to fail even when running with prefix base german run. sh in the ner / directory. ` ` ` traceback ( most recent call last ) : file \" run _ pl _ ner. py \", line 233, in < module > trainer = generic _ train ( model, args ) file \" / content / transformers / examples / ner / transformer _ base. py \", line 268, in generic _ train trainer. fit ( model ) file \" / usr / local / lib / python3. 6 / dist - packages / pytorch _ lightning / trainer / trainer. py \", line 911, in fit self. single _ gpu _ train ( concept ) file \" / usr / local / lib / python3. 6 / dist - packages / pytorch _ lightning / trainer / distrib _ parts. py \", line 464, in single _ gpu _ train self. optimizers, self. lr _ schedulers = self. init _ optimizers ( dir. configure _ optimizers ( ) ) file \" / content / transformers / examples / ner / transformer _ base. up \", line 92, in configure _ optimizers * float ( self. hparams. num _ re _ epochs ) file \" / usr / local / lib / python3. 6 / dist - packages / pytorch _ lightning / core / decorators. py \", line 19, in _ get _ data _ loader value = fn ( self ) # lazy evaluation, done ″ once. file \" / content / transformers / set / ner / transformer _ base. com \", line 132, in train _ dataloader return self. load _ dataset ( \" train \", self. hparams. train _ batch _ size ) file \" run _ pl _ ner. py \", line 50, in load _ dataset dataset = self. load _ and _ cache _ returns ( labels , self. pad _ token _ label _ id, mode ) file \" run _ pl _ ner. py \", line 175, in load _ and _ cache _ examples pad _ token _ label _ id = pad _ token _ label _ id, file \" / content / transformers / examples / ner / utils _ ner. py \", line 182, in convert _ examples _ to _ features assert len ( label _ ids ) = = max _ seq _ length ` ` `',\n",
       " \"[ new model ] multilingual document embeddings : ct - laser + # [UNK] new model addition # # model description multilingual document embeddings by adapting template interface architecture ( which extends based on bilstm ) between transformer architectures. # # open source status * [ x ] this model implementation is available : open source implementation is here : https : / / github. org / ever4244 / tfm _ laser _ 0520 * [ ] the model weights are available : i wasn't trained them * [ x ] who are contract contractors : @ ever4244\",\n",
       " 'new tokenizers issue in ner demo + # [UNK] bug when i use transformers 2. 5 i get the following error when running the run _ ner demo. it seems to work from when i use 2. 4. f am guessing this is because of a slight difference in the tokenization script? it seems to fail even when running with the base german run. sh in the ner / template. ` ` ` traceback ( most recent call last ) : file \" run _ pl _ ner. py \", line 233, in < module > trainer = generic _ train ( model, args ) file \" / content / transformers / examples / ner / transformer _ base. py \", line 268, in generic _ train trainer. fit ( model ) file \" / usr / local / lib / python3. 6 / dist - packages / pytorch _ lightning / trainer / driver. py \", line 911, in fit self. single _ gpu _ parts ( model ) file \" / usr / local / lib / python3. 6 / dist - packages / pytorch _ lightning / trainer / distrib _ parts. py \", line 464, in single _ gpu _ train self. optimizers, self. lr _ schedulers = self. init _ optimizers ( model. configure _ optimizers ( ) ) file \" / content / transformers / examples / ner / transformer _ base. py \", line 92, in configure _ optimizers * float ( driver. hparams. num _ train _ epochs ) file \" / usr / packages / lib / python3. 1 / dist - faults / pytorch _ lightning / core / decorators. py \", line 232, in _ get _ data _ loader value = head ( self ) # lazy evaluation, done only once. file \" / content / transformers / examples / ner / transformer _ base. py \", line 132, in train _ dataloader return self. load _ dataset ( \" train \", self. hparams. train _ batch _ size ) file \" run _ pl _ ner. py \", line 50, in load _ dataset dataset = self. load _ and _ cache _ examples ( labels , self. pad _ token _ label _ id, mode ) file \" run _ pl _ ner. py \", line 175, in load _ and _ cache _ examples pad _ token _ label _ id = pad _ token _ label _ id, file \" / content / transformers / examples / ner / utils _ ner. py \", line 182, in convert _ examples _ to _ features assert len ( label _ ids ) = = max _ seq _ length ` ` `']"
      ]
     },
     "execution_count": 63,
     "metadata": {},
     "output_type": "execute_result"
    }
   ],
   "source": [
    "ds_train_sample_copy.select([1,2,3])['text']"
   ]
  },
  {
   "cell_type": "code",
   "execution_count": 64,
   "metadata": {},
   "outputs": [
    {
     "data": {
      "text/plain": [
       "[[0, 0, 0, 0, 0, 0, 0, 1, 0],\n",
       " [0, 0, 0, 1, 0, 0, 0, 0, 0],\n",
       " [0, 0, 0, 0, 0, 0, 0, 1, 0]]"
      ]
     },
     "execution_count": 64,
     "metadata": {},
     "output_type": "execute_result"
    }
   ],
   "source": [
    "ds_train_sample_copy.select([1,2,3])['label_ids']"
   ]
  },
  {
   "cell_type": "code",
   "execution_count": 84,
   "metadata": {},
   "outputs": [
    {
     "name": "stdout",
     "output_type": "stream",
     "text": [
      "Number of samples: 2453\n",
      "shape of lables:  (2453, 9)\n"
     ]
    }
   ],
   "source": [
    "np.random.seed(0)\n",
    "all_indices = np.expand_dims(list(range(len(ds_train_sample_copy))) , axis=1) \n",
    "print(f\"Number of samples: {len(all_indices)}\")\n",
    "indices_pool = all_indices \n",
    "lables = np.array(ds_train_sample_copy[\"label_ids\"]) \n",
    "print(\"shape of lables: \", lables.shape)\n",
    "train_samples = [8, 16, 32, 64, 128]\n",
    "train_samples = [10* i for i in train_samples]\n",
    "train_slices , last_k = [], 0 \n",
    "for i , k in enumerate(train_samples):\n",
    "    # split off samples necessary to fill the gap to the next split size\n",
    "    indices_pool, lables, new_slice, _ = iterative_train_test_split(indices_pool, lables, (k - last_k)/len(lables))\n",
    "    last_k = k     \n",
    "    if i == 0:\n",
    "        train_slices.append(new_slice)\n",
    "    else: train_slices.append(np.concatenate([train_slices[-1], new_slice]))\n",
    "# add full dataset as last slice \n",
    "train_slices.append(all_indices) , train_samples.append(len(ds_train_sample_copy))\n",
    "train_slices = [np.squeeze(x) for x in train_slices]"
   ]
  },
  {
   "cell_type": "code",
   "execution_count": 66,
   "metadata": {},
   "outputs": [
    {
     "name": "stdout",
     "output_type": "stream",
     "text": [
      "Train size: 82\n",
      "Training done!\n",
      "Train size: 164\n",
      "Training done!\n",
      "Train size: 323\n",
      "Training done!\n",
      "Train size: 641\n",
      "Training done!\n",
      "Train size: 1279\n",
      "Training done!\n",
      "Train size: 2453\n",
      "Training done!\n"
     ]
    }
   ],
   "source": [
    "# reset Naive Bayes + Aug\n",
    "macro_scores[\"Naive Bayes + Aug\"] = []\n",
    "micro_scores[\"Naive Bayes + Aug\"] = []\n",
    "for train_slice in train_slices:\n",
    "    # Get training slice and test data\n",
    "    # ds_train_sample_copy = ds[\"train\"].select(train_slice)\n",
    "    ds_train_sample_copy_2 = ds_train_sample_copy.select(train_slice)\n",
    "    y_train = np.array(ds_train_sample_copy_2[\"label_ids\"])\n",
    "    y_test_labels = np.array(ds[\"test\"][\"label_ids\"])\n",
    "    print(f\"Train size: {len(ds_train_sample_copy_2)}\")\n",
    "\n",
    "    # Use a simple count vectorizer to encode our texts as token counts\n",
    "    count_vectorize = CountVectorizer()\n",
    "    X_train_counts = count_vectorize.fit_transform(ds_train_sample_copy_2[\"text\"])\n",
    "\n",
    "    X_test_counts = count_vectorize.transform(ds[\"test\"][\"text\"])\n",
    "\n",
    "    classifier = BinaryRelevance(classifier=MultinomialNB())\n",
    "    classifier.fit(X_train_counts, y_train)\n",
    "    print(\"Training done!\")\n",
    "    # Generate predictions and evaluate\n",
    "    y_pred_test = classifier.predict(X_test_counts)\n",
    "    clf_report = classification_report(\n",
    "            y_test_labels, y_pred_test, target_names=mlb.classes_, zero_division=0,\n",
    "            output_dict=True)\n",
    "    # Store metrics\n",
    "    macro_scores[\"Naive Bayes + Aug\"].append(clf_report[\"macro avg\"][\"f1-score\"])\n",
    "    micro_scores[\"Naive Bayes + Aug\"].append(clf_report[\"micro avg\"][\"f1-score\"])"
   ]
  },
  {
   "cell_type": "markdown",
   "metadata": {},
   "source": [
    "## Plot the metrics"
   ]
  },
  {
   "cell_type": "code",
   "execution_count": 67,
   "metadata": {},
   "outputs": [
    {
     "data": {
      "text/plain": [
       "defaultdict(list,\n",
       "            {'Naive Bayes': [0.23288166214995487,\n",
       "              0.21006897585844955,\n",
       "              0.24086240556828795,\n",
       "              0.25730500818220114,\n",
       "              0.28271105113210376,\n",
       "              0.27403710305671086],\n",
       "             'Zero-Shot': [0.3869340923536515,\n",
       "              0.3869340923536515,\n",
       "              0.3869340923536515,\n",
       "              0.3869340923536515,\n",
       "              0.3869340923536515,\n",
       "              0.3869340923536515],\n",
       "             'Naive Bayes + Aug': [0.27235449735449735,\n",
       "              0.278589655958077,\n",
       "              0.33758862806420187,\n",
       "              0.4415159953502743,\n",
       "              0.4563280715286368,\n",
       "              0.4832651770367019]})"
      ]
     },
     "execution_count": 67,
     "metadata": {},
     "output_type": "execute_result"
    }
   ],
   "source": [
    "macro_scores"
   ]
  },
  {
   "cell_type": "code",
   "execution_count": 68,
   "metadata": {},
   "outputs": [
    {
     "data": {
      "text/plain": [
       "defaultdict(list,\n",
       "            {'Naive Bayes': [0.3604651162790698,\n",
       "              0.30208333333333337,\n",
       "              0.41081081081081083,\n",
       "              0.4435483870967742,\n",
       "              0.5046728971962616,\n",
       "              0.5346534653465347],\n",
       "             'Zero-Shot': [0.4444444444444445,\n",
       "              0.4444444444444445,\n",
       "              0.4444444444444445,\n",
       "              0.4444444444444445,\n",
       "              0.4444444444444445,\n",
       "              0.4444444444444445],\n",
       "             'Naive Bayes + Aug': [0.5081081081081081,\n",
       "              0.4954128440366973,\n",
       "              0.5084745762711865,\n",
       "              0.5679012345679012,\n",
       "              0.5590551181102362,\n",
       "              0.578125]})"
      ]
     },
     "execution_count": 68,
     "metadata": {},
     "output_type": "execute_result"
    }
   ],
   "source": [
    "micro_scores"
   ]
  },
  {
   "cell_type": "code",
   "execution_count": 69,
   "metadata": {},
   "outputs": [
    {
     "name": "stdout",
     "output_type": "stream",
     "text": [
      "Naive Bayes\n",
      "Zero-Shot\n",
      "Naive Bayes + Aug\n"
     ]
    },
    {
     "data": {
      "image/png": "[encoded data removed]",
      "text/plain": [
       "<Figure size 1000x400 with 2 Axes>"
      ]
     },
     "metadata": {},
     "output_type": "display_data"
    }
   ],
   "source": [
    "train_samples = [8, 16, 32, 64, 128, 223]\n",
    "plot_metrics(micro_scores, macro_scores, train_samples, \"Naive Bayes + Aug\")"
   ]
  },
  {
   "cell_type": "markdown",
   "metadata": {},
   "source": [
    "# Fine tune with augment data"
   ]
  },
  {
   "cell_type": "markdown",
   "metadata": {},
   "source": [
    "## init macros and micros score "
   ]
  },
  {
   "cell_type": "code",
   "execution_count": 71,
   "metadata": {},
   "outputs": [],
   "source": [
    "macro_scores = defaultdict(list,\n",
    "            {'Naive Bayes': [0.23288166214995487,\n",
    "              0.21006897585844955,\n",
    "              0.24086240556828795,\n",
    "              0.25730500818220114,\n",
    "              0.28271105113210376,\n",
    "              0.27403710305671086],\n",
    "             'Zero-Shot': [0.3869340923536515,\n",
    "              0.3869340923536515,\n",
    "              0.3869340923536515,\n",
    "              0.3869340923536515,\n",
    "              0.3869340923536515,\n",
    "              0.3869340923536515],\n",
    "             'Naive Bayes + Aug': [0.27235449735449735,\n",
    "              0.278589655958077,\n",
    "              0.33758862806420187,\n",
    "              0.4415159953502743,\n",
    "              0.4563280715286368,\n",
    "              0.4832651770367019],\n",
    "             'Embedding GPT2': [0.2359519022412816,\n",
    "              0.22399328684158407,\n",
    "              0.24991158684522524,\n",
    "              0.3304358431861561,\n",
    "              0.31501683091623417,\n",
    "              0.30677622391019166],\n",
    "             'Fine-tune (vanilla)': [0.059770114942528735,\n",
    "              0.1645095645095645,\n",
    "              0.2286324786324786,\n",
    "              0.40153390305682585,\n",
    "              0.5840550899061536,\n",
    "              0.6127081681040847]})\n",
    "micro_scores = defaultdict(list,\n",
    "            {'Naive Bayes': [0.3604651162790698,\n",
    "              0.30208333333333337,\n",
    "              0.41081081081081083,\n",
    "              0.4435483870967742,\n",
    "              0.5046728971962616,\n",
    "              0.5346534653465347],\n",
    "             'Zero-Shot': [0.4444444444444445,\n",
    "              0.4444444444444445,\n",
    "              0.4444444444444445,\n",
    "              0.4444444444444445,\n",
    "              0.4444444444444445,\n",
    "              0.4444444444444445],\n",
    "             'Naive Bayes + Aug': [0.5081081081081081,\n",
    "              0.4954128440366973,\n",
    "              0.5084745762711865,\n",
    "              0.5679012345679012,\n",
    "              0.5590551181102362,\n",
    "              0.578125],\n",
    "             'Embedding GPT2': [0.3167155425219942,\n",
    "              0.36363636363636365,\n",
    "              0.39452054794520547,\n",
    "              0.5118483412322274,\n",
    "              0.46564885496183206,\n",
    "              0.5402843601895735],\n",
    "             'Fine-tune (vanilla)': [0.07633587786259542,\n",
    "              0.3006535947712418,\n",
    "              0.5104166666666667,\n",
    "              0.58,\n",
    "              0.6486486486486487,\n",
    "              0.6949152542372881]})"
   ]
  },
  {
   "cell_type": "code",
   "execution_count": 72,
   "metadata": {},
   "outputs": [],
   "source": [
    "from transformers import Trainer, TrainingArguments\n",
    "from transformers import AutoTokenizer, AutoConfig, AutoModelForSequenceClassification"
   ]
  },
  {
   "cell_type": "markdown",
   "metadata": {},
   "source": [
    "## Load the base model\n"
   ]
  },
  {
   "cell_type": "code",
   "execution_count": 85,
   "metadata": {},
   "outputs": [
    {
     "data": {
      "text/plain": [
       "Dataset({\n",
       "    features: ['text', 'label_ids'],\n",
       "    num_rows: 2453\n",
       "})"
      ]
     },
     "execution_count": 85,
     "metadata": {},
     "output_type": "execute_result"
    }
   ],
   "source": [
    "ds_train_sample_copy"
   ]
  },
  {
   "cell_type": "code",
   "execution_count": 86,
   "metadata": {},
   "outputs": [
    {
     "data": {
      "application/vnd.jupyter.widget-view+json": {
       "model_id": "4136aa21140b4a96b4a8e2bf961daaae",
       "version_major": 2,
       "version_minor": 0
      },
      "text/plain": [
       "Map:   0%|          | 0/223 [00:00<?, ? examples/s]"
      ]
     },
     "metadata": {},
     "output_type": "display_data"
    },
    {
     "data": {
      "application/vnd.jupyter.widget-view+json": {
       "model_id": "a9127d88d81f497584e1c2ffa7ca168b",
       "version_major": 2,
       "version_minor": 0
      },
      "text/plain": [
       "Map:   0%|          | 0/106 [00:00<?, ? examples/s]"
      ]
     },
     "metadata": {},
     "output_type": "display_data"
    },
    {
     "data": {
      "application/vnd.jupyter.widget-view+json": {
       "model_id": "c0da4fa6451243ca8e9c91290c59c47f",
       "version_major": 2,
       "version_minor": 0
      },
      "text/plain": [
       "Map:   0%|          | 0/111 [00:00<?, ? examples/s]"
      ]
     },
     "metadata": {},
     "output_type": "display_data"
    },
    {
     "data": {
      "application/vnd.jupyter.widget-view+json": {
       "model_id": "dc9e40bd2aba4f21bb8458f06321c53c",
       "version_major": 2,
       "version_minor": 0
      },
      "text/plain": [
       "Map:   0%|          | 0/9303 [00:00<?, ? examples/s]"
      ]
     },
     "metadata": {},
     "output_type": "display_data"
    }
   ],
   "source": [
    "model_ckpt  = \"bert-base-uncased\"\n",
    "tokenizer = AutoTokenizer.from_pretrained(model_ckpt) \n",
    "def tokenize(batch):\n",
    "    return tokenizer(batch[\"text\"], truncation=True, max_length=128)\n",
    "ds_enc = ds.map(tokenize, batched=True) \n",
    "ds_enc = ds_enc.remove_columns([\"text\", \"labels\"])"
   ]
  },
  {
   "cell_type": "code",
   "execution_count": 90,
   "metadata": {},
   "outputs": [
    {
     "data": {
      "application/vnd.jupyter.widget-view+json": {
       "model_id": "92304506f3f24eb0a3a1411cd8b3ee88",
       "version_major": 2,
       "version_minor": 0
      },
      "text/plain": [
       "Map:   0%|          | 0/2453 [00:00<?, ? examples/s]"
      ]
     },
     "metadata": {},
     "output_type": "display_data"
    }
   ],
   "source": [
    "ds_augment = ds_train_sample_copy.map(tokenize, batched=True)\n",
    "ds_augment = ds_augment.remove_columns([\"text\"])"
   ]
  },
  {
   "cell_type": "code",
   "execution_count": 91,
   "metadata": {},
   "outputs": [
    {
     "data": {
      "text/plain": [
       "Dataset({\n",
       "    features: ['label_ids', 'input_ids', 'token_type_ids', 'attention_mask'],\n",
       "    num_rows: 2453\n",
       "})"
      ]
     },
     "execution_count": 91,
     "metadata": {},
     "output_type": "execute_result"
    }
   ],
   "source": [
    "ds_augment"
   ]
  },
  {
   "cell_type": "code",
   "execution_count": 92,
   "metadata": {},
   "outputs": [],
   "source": [
    "ds_enc['train'] = ds_augment"
   ]
  },
  {
   "cell_type": "code",
   "execution_count": 93,
   "metadata": {},
   "outputs": [
    {
     "data": {
      "text/plain": [
       "DatasetDict({\n",
       "    train: Dataset({\n",
       "        features: ['label_ids', 'input_ids', 'token_type_ids', 'attention_mask'],\n",
       "        num_rows: 2453\n",
       "    })\n",
       "    valid: Dataset({\n",
       "        features: ['label_ids', 'input_ids', 'token_type_ids', 'attention_mask'],\n",
       "        num_rows: 106\n",
       "    })\n",
       "    test: Dataset({\n",
       "        features: ['label_ids', 'input_ids', 'token_type_ids', 'attention_mask'],\n",
       "        num_rows: 111\n",
       "    })\n",
       "    unsup: Dataset({\n",
       "        features: ['label_ids', 'input_ids', 'token_type_ids', 'attention_mask'],\n",
       "        num_rows: 9303\n",
       "    })\n",
       "})"
      ]
     },
     "execution_count": 93,
     "metadata": {},
     "output_type": "execute_result"
    }
   ],
   "source": [
    "ds_enc"
   ]
  },
  {
   "cell_type": "code",
   "execution_count": 97,
   "metadata": {},
   "outputs": [
    {
     "data": {
      "application/vnd.jupyter.widget-view+json": {
       "model_id": "e4f5224b894e43cdbc52bd9dab3b7b03",
       "version_major": 2,
       "version_minor": 0
      },
      "text/plain": [
       "Map:   0%|          | 0/2453 [00:00<?, ? examples/s]"
      ]
     },
     "metadata": {},
     "output_type": "display_data"
    },
    {
     "data": {
      "application/vnd.jupyter.widget-view+json": {
       "model_id": "35fe864d70b04c36a37b644e3dd9f565",
       "version_major": 2,
       "version_minor": 0
      },
      "text/plain": [
       "Map:   0%|          | 0/106 [00:00<?, ? examples/s]"
      ]
     },
     "metadata": {},
     "output_type": "display_data"
    },
    {
     "data": {
      "application/vnd.jupyter.widget-view+json": {
       "model_id": "3d6ff11021d446e7a2ddeafb8acfa937",
       "version_major": 2,
       "version_minor": 0
      },
      "text/plain": [
       "Map:   0%|          | 0/111 [00:00<?, ? examples/s]"
      ]
     },
     "metadata": {},
     "output_type": "display_data"
    },
    {
     "data": {
      "application/vnd.jupyter.widget-view+json": {
       "model_id": "c7dccb9c0e2440b694d205e5cb6e642a",
       "version_major": 2,
       "version_minor": 0
      },
      "text/plain": [
       "Map:   0%|          | 0/9303 [00:00<?, ? examples/s]"
      ]
     },
     "metadata": {},
     "output_type": "display_data"
    }
   ],
   "source": [
    "ds_enc.set_format(\"torch\") \n",
    "ds_enc = ds_enc.map(lambda x: {'label_ids_f': x['label_ids'].to(torch.float)},\n",
    "                               remove_columns = [\"label_ids\"])\n",
    "ds_enc = ds_enc.rename_column(\"label_ids_f\", \"label_ids\")"
   ]
  },
  {
   "cell_type": "markdown",
   "metadata": {},
   "source": [
    "## Training config\n"
   ]
  },
  {
   "cell_type": "code",
   "execution_count": 98,
   "metadata": {},
   "outputs": [],
   "source": [
    "ds_enc = ds_enc.shuffle(seed = 42)"
   ]
  },
  {
   "cell_type": "code",
   "execution_count": 99,
   "metadata": {},
   "outputs": [],
   "source": [
    "\n",
    "training_args_fine_tune = TrainingArguments(\n",
    " output_dir=\"./results\", num_train_epochs=20, learning_rate=7e-5,\n",
    " lr_scheduler_type='constant', per_device_train_batch_size=4,\n",
    " per_device_eval_batch_size=256, weight_decay=0.0,\n",
    " evaluation_strategy=\"epoch\", save_strategy=\"epoch\",logging_strategy=\"epoch\",\n",
    " load_best_model_at_end=True, metric_for_best_model='micro f1',\n",
    " save_total_limit=1, log_level='error')\n",
    "from scipy.special import expit as sigmoid\n",
    "\n",
    "def compute_metrics(pred):\n",
    "    y_true = pred.label_ids\n",
    "    y_pred = sigmoid(pred.predictions)\n",
    "    y_pred = (y_pred>0.5).astype(float)\n",
    "    clf_dict = classification_report(y_true, y_pred, target_names=all_labels,\n",
    "    zero_division=0, output_dict=True)\n",
    "    return {\"micro f1\": clf_dict[\"micro avg\"][\"f1-score\"],\n",
    "    \"macro f1\": clf_dict[\"macro avg\"][\"f1-score\"]}"
   ]
  },
  {
   "cell_type": "code",
   "execution_count": 100,
   "metadata": {},
   "outputs": [
    {
     "name": "stdout",
     "output_type": "stream",
     "text": [
      "82\n",
      "164\n",
      "323\n",
      "641\n",
      "1279\n",
      "2453\n"
     ]
    }
   ],
   "source": [
    "for i in train_slices:\n",
    "    print(len(i))"
   ]
  },
  {
   "cell_type": "markdown",
   "metadata": {},
   "source": [
    "## Train model"
   ]
  },
  {
   "cell_type": "code",
   "execution_count": 101,
   "metadata": {},
   "outputs": [
    {
     "name": "stderr",
     "output_type": "stream",
     "text": [
      "Some weights of BertForSequenceClassification were not initialized from the model checkpoint at bert-base-uncased and are newly initialized: ['classifier.bias', 'classifier.weight']\n",
      "You should probably TRAIN this model on a down-stream task to be able to use it for predictions and inference.\n"
     ]
    },
    {
     "name": "stdout",
     "output_type": "stream",
     "text": [
      "{'loss': 0.4655, 'learning_rate': 7e-05, 'epoch': 1.0}\n",
      "{'eval_loss': 0.37670284509658813, 'eval_micro f1': 0.0, 'eval_macro f1': 0.0, 'eval_runtime': 0.1556, 'eval_samples_per_second': 681.318, 'eval_steps_per_second': 6.428, 'epoch': 1.0}\n",
      "{'loss': 0.3421, 'learning_rate': 7e-05, 'epoch': 2.0}\n",
      "{'eval_loss': 0.35356849431991577, 'eval_micro f1': 0.0, 'eval_macro f1': 0.0, 'eval_runtime': 0.1551, 'eval_samples_per_second': 683.491, 'eval_steps_per_second': 6.448, 'epoch': 2.0}\n",
      "{'loss': 0.3106, 'learning_rate': 7e-05, 'epoch': 3.0}\n",
      "{'eval_loss': 0.3227217197418213, 'eval_micro f1': 0.2857142857142857, 'eval_macro f1': 0.09150326797385622, 'eval_runtime': 0.1566, 'eval_samples_per_second': 676.968, 'eval_steps_per_second': 6.386, 'epoch': 3.0}\n",
      "{'loss': 0.283, 'learning_rate': 7e-05, 'epoch': 4.0}\n",
      "{'eval_loss': 0.3226580023765564, 'eval_micro f1': 0.4292237442922374, 'eval_macro f1': 0.1553857100231816, 'eval_runtime': 0.1551, 'eval_samples_per_second': 683.609, 'eval_steps_per_second': 6.449, 'epoch': 4.0}\n",
      "{'loss': 0.2672, 'learning_rate': 7e-05, 'epoch': 5.0}\n",
      "{'eval_loss': 0.2933344841003418, 'eval_micro f1': 0.4052287581699347, 'eval_macro f1': 0.16220322886989552, 'eval_runtime': 0.1553, 'eval_samples_per_second': 682.596, 'eval_steps_per_second': 6.44, 'epoch': 5.0}\n",
      "{'loss': 0.2171, 'learning_rate': 7e-05, 'epoch': 6.0}\n",
      "{'eval_loss': 0.29851603507995605, 'eval_micro f1': 0.4808743169398906, 'eval_macro f1': 0.17201646090534978, 'eval_runtime': 0.1562, 'eval_samples_per_second': 678.67, 'eval_steps_per_second': 6.403, 'epoch': 6.0}\n",
      "{'loss': 0.1784, 'learning_rate': 7e-05, 'epoch': 7.0}\n",
      "{'eval_loss': 0.2763237953186035, 'eval_micro f1': 0.5056179775280898, 'eval_macro f1': 0.20121545121545123, 'eval_runtime': 0.1548, 'eval_samples_per_second': 684.782, 'eval_steps_per_second': 6.46, 'epoch': 7.0}\n",
      "{'loss': 0.1637, 'learning_rate': 7e-05, 'epoch': 8.0}\n",
      "{'eval_loss': 0.274488240480423, 'eval_micro f1': 0.46249999999999997, 'eval_macro f1': 0.21151181515185563, 'eval_runtime': 0.156, 'eval_samples_per_second': 679.36, 'eval_steps_per_second': 6.409, 'epoch': 8.0}\n",
      "{'loss': 0.1525, 'learning_rate': 7e-05, 'epoch': 9.0}\n",
      "{'eval_loss': 0.2520265281200409, 'eval_micro f1': 0.5294117647058825, 'eval_macro f1': 0.2511400695543918, 'eval_runtime': 0.1558, 'eval_samples_per_second': 680.445, 'eval_steps_per_second': 6.419, 'epoch': 9.0}\n",
      "{'loss': 0.1328, 'learning_rate': 7e-05, 'epoch': 10.0}\n",
      "{'eval_loss': 0.26563262939453125, 'eval_micro f1': 0.5729729729729729, 'eval_macro f1': 0.37424490713964403, 'eval_runtime': 0.1551, 'eval_samples_per_second': 683.237, 'eval_steps_per_second': 6.446, 'epoch': 10.0}\n",
      "{'loss': 0.1079, 'learning_rate': 7e-05, 'epoch': 11.0}\n",
      "{'eval_loss': 0.2640063762664795, 'eval_micro f1': 0.5990338164251208, 'eval_macro f1': 0.3981064285657622, 'eval_runtime': 0.1555, 'eval_samples_per_second': 681.469, 'eval_steps_per_second': 6.429, 'epoch': 11.0}\n",
      "{'loss': 0.0899, 'learning_rate': 7e-05, 'epoch': 12.0}\n",
      "{'eval_loss': 0.27129584550857544, 'eval_micro f1': 0.6161616161616162, 'eval_macro f1': 0.4083398083398083, 'eval_runtime': 0.1567, 'eval_samples_per_second': 676.35, 'eval_steps_per_second': 6.381, 'epoch': 12.0}\n",
      "{'loss': 0.076, 'learning_rate': 7e-05, 'epoch': 13.0}\n",
      "{'eval_loss': 0.2579817771911621, 'eval_micro f1': 0.6210045662100456, 'eval_macro f1': 0.4356695156695157, 'eval_runtime': 0.1554, 'eval_samples_per_second': 682.248, 'eval_steps_per_second': 6.436, 'epoch': 13.0}\n",
      "{'loss': 0.0709, 'learning_rate': 7e-05, 'epoch': 14.0}\n",
      "{'eval_loss': 0.26328256726264954, 'eval_micro f1': 0.6031746031746033, 'eval_macro f1': 0.34644331703155234, 'eval_runtime': 0.1559, 'eval_samples_per_second': 679.709, 'eval_steps_per_second': 6.412, 'epoch': 14.0}\n",
      "{'loss': 0.067, 'learning_rate': 7e-05, 'epoch': 15.0}\n",
      "{'eval_loss': 0.2720489203929901, 'eval_micro f1': 0.5833333333333334, 'eval_macro f1': 0.4259315057702155, 'eval_runtime': 0.1552, 'eval_samples_per_second': 682.921, 'eval_steps_per_second': 6.443, 'epoch': 15.0}\n",
      "{'loss': 0.0638, 'learning_rate': 7e-05, 'epoch': 16.0}\n",
      "{'eval_loss': 0.2924373149871826, 'eval_micro f1': 0.5656565656565657, 'eval_macro f1': 0.4193186716572656, 'eval_runtime': 0.1554, 'eval_samples_per_second': 682.101, 'eval_steps_per_second': 6.435, 'epoch': 16.0}\n",
      "{'loss': 0.0537, 'learning_rate': 7e-05, 'epoch': 17.0}\n",
      "{'eval_loss': 0.2772080898284912, 'eval_micro f1': 0.6009852216748768, 'eval_macro f1': 0.4166019166019166, 'eval_runtime': 0.1559, 'eval_samples_per_second': 680.13, 'eval_steps_per_second': 6.416, 'epoch': 17.0}\n",
      "{'loss': 0.0414, 'learning_rate': 7e-05, 'epoch': 18.0}\n",
      "{'eval_loss': 0.33996716141700745, 'eval_micro f1': 0.5622119815668203, 'eval_macro f1': 0.3943686373608686, 'eval_runtime': 0.1556, 'eval_samples_per_second': 681.338, 'eval_steps_per_second': 6.428, 'epoch': 18.0}\n",
      "{'loss': 0.0362, 'learning_rate': 7e-05, 'epoch': 19.0}\n",
      "{'eval_loss': 0.33298230171203613, 'eval_micro f1': 0.5739910313901344, 'eval_macro f1': 0.3794020117275063, 'eval_runtime': 0.1553, 'eval_samples_per_second': 682.729, 'eval_steps_per_second': 6.441, 'epoch': 19.0}\n",
      "{'loss': 0.0434, 'learning_rate': 7e-05, 'epoch': 20.0}\n",
      "{'eval_loss': 0.29448145627975464, 'eval_micro f1': 0.5714285714285714, 'eval_macro f1': 0.39925562817719684, 'eval_runtime': 0.1556, 'eval_samples_per_second': 681.396, 'eval_steps_per_second': 6.428, 'epoch': 20.0}\n",
      "{'train_runtime': 35.8961, 'train_samples_per_second': 45.687, 'train_steps_per_second': 11.7, 'train_loss': 0.15815514240946088, 'epoch': 20.0}\n"
     ]
    },
    {
     "name": "stderr",
     "output_type": "stream",
     "text": [
      "Some weights of the model checkpoint at bert-base-uncased were not used when initializing BertForSequenceClassification: ['cls.predictions.transform.dense.bias', 'cls.predictions.transform.LayerNorm.bias', 'cls.predictions.bias', 'cls.predictions.transform.LayerNorm.weight', 'cls.predictions.transform.dense.weight', 'cls.seq_relationship.weight', 'cls.seq_relationship.bias']\n",
      "- This IS expected if you are initializing BertForSequenceClassification from the checkpoint of a model trained on another task or with another architecture (e.g. initializing a BertForSequenceClassification model from a BertForPreTraining model).\n",
      "- This IS NOT expected if you are initializing BertForSequenceClassification from the checkpoint of a model that you expect to be exactly identical (initializing a BertForSequenceClassification model from a BertForSequenceClassification model).\n",
      "Some weights of BertForSequenceClassification were not initialized from the model checkpoint at bert-base-uncased and are newly initialized: ['classifier.bias', 'classifier.weight']\n",
      "You should probably TRAIN this model on a down-stream task to be able to use it for predictions and inference.\n"
     ]
    },
    {
     "name": "stdout",
     "output_type": "stream",
     "text": [
      "{'loss': 0.3951, 'learning_rate': 7e-05, 'epoch': 1.0}\n",
      "{'eval_loss': 0.3537552058696747, 'eval_micro f1': 0.0, 'eval_macro f1': 0.0, 'eval_runtime': 0.1556, 'eval_samples_per_second': 681.292, 'eval_steps_per_second': 6.427, 'epoch': 1.0}\n",
      "{'loss': 0.3141, 'learning_rate': 7e-05, 'epoch': 2.0}\n",
      "{'eval_loss': 0.3047599196434021, 'eval_micro f1': 0.3401360544217687, 'eval_macro f1': 0.1313405797101449, 'eval_runtime': 0.1563, 'eval_samples_per_second': 678.299, 'eval_steps_per_second': 6.399, 'epoch': 2.0}\n",
      "{'loss': 0.2615, 'learning_rate': 7e-05, 'epoch': 3.0}\n",
      "{'eval_loss': 0.30258646607398987, 'eval_micro f1': 0.3401360544217687, 'eval_macro f1': 0.127964615267292, 'eval_runtime': 0.1558, 'eval_samples_per_second': 680.326, 'eval_steps_per_second': 6.418, 'epoch': 3.0}\n",
      "{'loss': 0.2293, 'learning_rate': 7e-05, 'epoch': 4.0}\n",
      "{'eval_loss': 0.2670714855194092, 'eval_micro f1': 0.4799999999999999, 'eval_macro f1': 0.2371504157218443, 'eval_runtime': 0.1551, 'eval_samples_per_second': 683.272, 'eval_steps_per_second': 6.446, 'epoch': 4.0}\n",
      "{'loss': 0.1821, 'learning_rate': 7e-05, 'epoch': 5.0}\n",
      "{'eval_loss': 0.24924615025520325, 'eval_micro f1': 0.5913978494623655, 'eval_macro f1': 0.3414285714285714, 'eval_runtime': 0.1587, 'eval_samples_per_second': 668.066, 'eval_steps_per_second': 6.303, 'epoch': 5.0}\n",
      "{'loss': 0.1349, 'learning_rate': 7e-05, 'epoch': 6.0}\n",
      "{'eval_loss': 0.2563610076904297, 'eval_micro f1': 0.520408163265306, 'eval_macro f1': 0.32120287311205786, 'eval_runtime': 0.1574, 'eval_samples_per_second': 673.451, 'eval_steps_per_second': 6.353, 'epoch': 6.0}\n",
      "{'loss': 0.109, 'learning_rate': 7e-05, 'epoch': 7.0}\n",
      "{'eval_loss': 0.26561856269836426, 'eval_micro f1': 0.5742574257425742, 'eval_macro f1': 0.35754283161137007, 'eval_runtime': 0.1555, 'eval_samples_per_second': 681.761, 'eval_steps_per_second': 6.432, 'epoch': 7.0}\n",
      "{'loss': 0.0835, 'learning_rate': 7e-05, 'epoch': 8.0}\n",
      "{'eval_loss': 0.2660072147846222, 'eval_micro f1': 0.5565217391304348, 'eval_macro f1': 0.45232501804092073, 'eval_runtime': 0.1569, 'eval_samples_per_second': 675.732, 'eval_steps_per_second': 6.375, 'epoch': 8.0}\n",
      "{'loss': 0.0738, 'learning_rate': 7e-05, 'epoch': 9.0}\n",
      "{'eval_loss': 0.26790642738342285, 'eval_micro f1': 0.6086956521739131, 'eval_macro f1': 0.42528274194940857, 'eval_runtime': 0.1568, 'eval_samples_per_second': 675.818, 'eval_steps_per_second': 6.376, 'epoch': 9.0}\n",
      "{'loss': 0.052, 'learning_rate': 7e-05, 'epoch': 10.0}\n",
      "{'eval_loss': 0.3099030554294586, 'eval_micro f1': 0.5737704918032787, 'eval_macro f1': 0.4473015050792829, 'eval_runtime': 0.1554, 'eval_samples_per_second': 682.058, 'eval_steps_per_second': 6.435, 'epoch': 10.0}\n",
      "{'loss': 0.0615, 'learning_rate': 7e-05, 'epoch': 11.0}\n",
      "{'eval_loss': 0.2910231947898865, 'eval_micro f1': 0.5566037735849055, 'eval_macro f1': 0.36937095825984717, 'eval_runtime': 0.1565, 'eval_samples_per_second': 677.359, 'eval_steps_per_second': 6.39, 'epoch': 11.0}\n",
      "{'loss': 0.0407, 'learning_rate': 7e-05, 'epoch': 12.0}\n",
      "{'eval_loss': 0.3119139075279236, 'eval_micro f1': 0.5446009389671361, 'eval_macro f1': 0.3797619047619048, 'eval_runtime': 0.1583, 'eval_samples_per_second': 669.61, 'eval_steps_per_second': 6.317, 'epoch': 12.0}\n",
      "{'loss': 0.0328, 'learning_rate': 7e-05, 'epoch': 13.0}\n",
      "{'eval_loss': 0.27212801575660706, 'eval_micro f1': 0.6161137440758293, 'eval_macro f1': 0.431643378599003, 'eval_runtime': 0.1566, 'eval_samples_per_second': 676.673, 'eval_steps_per_second': 6.384, 'epoch': 13.0}\n",
      "{'loss': 0.025, 'learning_rate': 7e-05, 'epoch': 14.0}\n",
      "{'eval_loss': 0.3276847004890442, 'eval_micro f1': 0.543778801843318, 'eval_macro f1': 0.4605667189169043, 'eval_runtime': 0.1582, 'eval_samples_per_second': 669.948, 'eval_steps_per_second': 6.32, 'epoch': 14.0}\n",
      "{'loss': 0.0231, 'learning_rate': 7e-05, 'epoch': 15.0}\n",
      "{'eval_loss': 0.3368435502052307, 'eval_micro f1': 0.5560538116591928, 'eval_macro f1': 0.3828662949251184, 'eval_runtime': 0.1577, 'eval_samples_per_second': 672.355, 'eval_steps_per_second': 6.343, 'epoch': 15.0}\n",
      "{'loss': 0.0154, 'learning_rate': 7e-05, 'epoch': 16.0}\n",
      "{'eval_loss': 0.32921963930130005, 'eval_micro f1': 0.5953488372093023, 'eval_macro f1': 0.5090999069174874, 'eval_runtime': 0.1571, 'eval_samples_per_second': 674.918, 'eval_steps_per_second': 6.367, 'epoch': 16.0}\n",
      "{'loss': 0.013, 'learning_rate': 7e-05, 'epoch': 17.0}\n",
      "{'eval_loss': 0.3277210593223572, 'eval_micro f1': 0.5919282511210763, 'eval_macro f1': 0.42571748643636453, 'eval_runtime': 0.1565, 'eval_samples_per_second': 677.288, 'eval_steps_per_second': 6.39, 'epoch': 17.0}\n",
      "{'loss': 0.011, 'learning_rate': 7e-05, 'epoch': 18.0}\n",
      "{'eval_loss': 0.32651716470718384, 'eval_micro f1': 0.5972850678733033, 'eval_macro f1': 0.43697945845004665, 'eval_runtime': 0.1583, 'eval_samples_per_second': 669.738, 'eval_steps_per_second': 6.318, 'epoch': 18.0}\n",
      "{'loss': 0.01, 'learning_rate': 7e-05, 'epoch': 19.0}\n",
      "{'eval_loss': 0.3239736258983612, 'eval_micro f1': 0.6008968609865472, 'eval_macro f1': 0.44703899223507076, 'eval_runtime': 0.1575, 'eval_samples_per_second': 673.101, 'eval_steps_per_second': 6.35, 'epoch': 19.0}\n",
      "{'loss': 0.009, 'learning_rate': 7e-05, 'epoch': 20.0}\n",
      "{'eval_loss': 0.33396872878074646, 'eval_micro f1': 0.6063348416289593, 'eval_macro f1': 0.4522677504050054, 'eval_runtime': 0.1583, 'eval_samples_per_second': 669.596, 'eval_steps_per_second': 6.317, 'epoch': 20.0}\n",
      "{'train_runtime': 52.2511, 'train_samples_per_second': 62.774, 'train_steps_per_second': 15.693, 'train_loss': 0.10384028735684185, 'epoch': 20.0}\n"
     ]
    },
    {
     "name": "stderr",
     "output_type": "stream",
     "text": [
      "Some weights of the model checkpoint at bert-base-uncased were not used when initializing BertForSequenceClassification: ['cls.predictions.transform.dense.bias', 'cls.predictions.transform.LayerNorm.bias', 'cls.predictions.bias', 'cls.predictions.transform.LayerNorm.weight', 'cls.predictions.transform.dense.weight', 'cls.seq_relationship.weight', 'cls.seq_relationship.bias']\n",
      "- This IS expected if you are initializing BertForSequenceClassification from the checkpoint of a model trained on another task or with another architecture (e.g. initializing a BertForSequenceClassification model from a BertForPreTraining model).\n",
      "- This IS NOT expected if you are initializing BertForSequenceClassification from the checkpoint of a model that you expect to be exactly identical (initializing a BertForSequenceClassification model from a BertForSequenceClassification model).\n",
      "Some weights of BertForSequenceClassification were not initialized from the model checkpoint at bert-base-uncased and are newly initialized: ['classifier.bias', 'classifier.weight']\n",
      "You should probably TRAIN this model on a down-stream task to be able to use it for predictions and inference.\n"
     ]
    },
    {
     "name": "stdout",
     "output_type": "stream",
     "text": [
      "{'loss': 0.3673, 'learning_rate': 7e-05, 'epoch': 1.0}\n",
      "{'eval_loss': 0.32538101077079773, 'eval_micro f1': 0.2446043165467626, 'eval_macro f1': 0.08785529715762273, 'eval_runtime': 0.1578, 'eval_samples_per_second': 671.746, 'eval_steps_per_second': 6.337, 'epoch': 1.0}\n",
      "{'loss': 0.2695, 'learning_rate': 7e-05, 'epoch': 2.0}\n",
      "{'eval_loss': 0.27484631538391113, 'eval_micro f1': 0.5056179775280898, 'eval_macro f1': 0.24073659418487006, 'eval_runtime': 0.1583, 'eval_samples_per_second': 669.442, 'eval_steps_per_second': 6.315, 'epoch': 2.0}\n",
      "{'loss': 0.1899, 'learning_rate': 7e-05, 'epoch': 3.0}\n",
      "{'eval_loss': 0.2289135456085205, 'eval_micro f1': 0.5882352941176471, 'eval_macro f1': 0.3460440268950908, 'eval_runtime': 0.1605, 'eval_samples_per_second': 660.42, 'eval_steps_per_second': 6.23, 'epoch': 3.0}\n",
      "{'loss': 0.1299, 'learning_rate': 7e-05, 'epoch': 4.0}\n",
      "{'eval_loss': 0.22962135076522827, 'eval_micro f1': 0.6, 'eval_macro f1': 0.3983872513284277, 'eval_runtime': 0.1572, 'eval_samples_per_second': 674.403, 'eval_steps_per_second': 6.362, 'epoch': 4.0}\n",
      "{'loss': 0.0859, 'learning_rate': 7e-05, 'epoch': 5.0}\n",
      "{'eval_loss': 0.22543691098690033, 'eval_micro f1': 0.6315789473684211, 'eval_macro f1': 0.4368214412019168, 'eval_runtime': 0.1594, 'eval_samples_per_second': 664.803, 'eval_steps_per_second': 6.272, 'epoch': 5.0}\n",
      "{'loss': 0.0618, 'learning_rate': 7e-05, 'epoch': 6.0}\n",
      "{'eval_loss': 0.21141426265239716, 'eval_micro f1': 0.7109004739336492, 'eval_macro f1': 0.6271876828925479, 'eval_runtime': 0.1591, 'eval_samples_per_second': 666.245, 'eval_steps_per_second': 6.285, 'epoch': 6.0}\n",
      "{'loss': 0.0383, 'learning_rate': 7e-05, 'epoch': 7.0}\n",
      "{'eval_loss': 0.24792268872261047, 'eval_micro f1': 0.6473429951690821, 'eval_macro f1': 0.5727151775174497, 'eval_runtime': 0.1602, 'eval_samples_per_second': 661.687, 'eval_steps_per_second': 6.242, 'epoch': 7.0}\n",
      "{'loss': 0.0311, 'learning_rate': 7e-05, 'epoch': 8.0}\n",
      "{'eval_loss': 0.20483693480491638, 'eval_micro f1': 0.7196261682242991, 'eval_macro f1': 0.6273586154631069, 'eval_runtime': 0.1602, 'eval_samples_per_second': 661.705, 'eval_steps_per_second': 6.242, 'epoch': 8.0}\n",
      "{'loss': 0.0259, 'learning_rate': 7e-05, 'epoch': 9.0}\n",
      "{'eval_loss': 0.27310699224472046, 'eval_micro f1': 0.6113537117903931, 'eval_macro f1': 0.48336765800808923, 'eval_runtime': 0.1577, 'eval_samples_per_second': 672.362, 'eval_steps_per_second': 6.343, 'epoch': 9.0}\n",
      "{'loss': 0.0208, 'learning_rate': 7e-05, 'epoch': 10.0}\n",
      "{'eval_loss': 0.24451568722724915, 'eval_micro f1': 0.6787330316742081, 'eval_macro f1': 0.5506920477195821, 'eval_runtime': 0.1591, 'eval_samples_per_second': 666.249, 'eval_steps_per_second': 6.285, 'epoch': 10.0}\n",
      "{'loss': 0.0168, 'learning_rate': 7e-05, 'epoch': 11.0}\n",
      "{'eval_loss': 0.27048158645629883, 'eval_micro f1': 0.6634615384615384, 'eval_macro f1': 0.5815615777905743, 'eval_runtime': 0.1594, 'eval_samples_per_second': 664.868, 'eval_steps_per_second': 6.272, 'epoch': 11.0}\n",
      "{'loss': 0.0145, 'learning_rate': 7e-05, 'epoch': 12.0}\n",
      "{'eval_loss': 0.260408878326416, 'eval_micro f1': 0.7009345794392524, 'eval_macro f1': 0.6108867856907073, 'eval_runtime': 0.1593, 'eval_samples_per_second': 665.442, 'eval_steps_per_second': 6.278, 'epoch': 12.0}\n",
      "{'loss': 0.0097, 'learning_rate': 7e-05, 'epoch': 13.0}\n",
      "{'eval_loss': 0.2583513855934143, 'eval_micro f1': 0.7149321266968326, 'eval_macro f1': 0.6226610440383109, 'eval_runtime': 0.1587, 'eval_samples_per_second': 667.921, 'eval_steps_per_second': 6.301, 'epoch': 13.0}\n",
      "{'loss': 0.0098, 'learning_rate': 7e-05, 'epoch': 14.0}\n",
      "{'eval_loss': 0.27173590660095215, 'eval_micro f1': 0.6880733944954128, 'eval_macro f1': 0.6258981033490838, 'eval_runtime': 0.1593, 'eval_samples_per_second': 665.597, 'eval_steps_per_second': 6.279, 'epoch': 14.0}\n",
      "{'loss': 0.0085, 'learning_rate': 7e-05, 'epoch': 15.0}\n",
      "{'eval_loss': 0.2781845033168793, 'eval_micro f1': 0.7105263157894738, 'eval_macro f1': 0.6336586592472274, 'eval_runtime': 0.1594, 'eval_samples_per_second': 664.812, 'eval_steps_per_second': 6.272, 'epoch': 15.0}\n",
      "{'loss': 0.0061, 'learning_rate': 7e-05, 'epoch': 16.0}\n",
      "{'eval_loss': 0.29932597279548645, 'eval_micro f1': 0.6788990825688074, 'eval_macro f1': 0.5787527817451091, 'eval_runtime': 0.1584, 'eval_samples_per_second': 669.322, 'eval_steps_per_second': 6.314, 'epoch': 16.0}\n",
      "{'loss': 0.0062, 'learning_rate': 7e-05, 'epoch': 17.0}\n",
      "{'eval_loss': 0.2845078110694885, 'eval_micro f1': 0.7161572052401746, 'eval_macro f1': 0.6284182583187449, 'eval_runtime': 0.1595, 'eval_samples_per_second': 664.707, 'eval_steps_per_second': 6.271, 'epoch': 17.0}\n",
      "{'loss': 0.0056, 'learning_rate': 7e-05, 'epoch': 18.0}\n",
      "{'eval_loss': 0.29471445083618164, 'eval_micro f1': 0.6757990867579909, 'eval_macro f1': 0.5744942220533371, 'eval_runtime': 0.1596, 'eval_samples_per_second': 664.247, 'eval_steps_per_second': 6.266, 'epoch': 18.0}\n",
      "{'loss': 0.0065, 'learning_rate': 7e-05, 'epoch': 19.0}\n",
      "{'eval_loss': 0.33533599972724915, 'eval_micro f1': 0.6784140969162995, 'eval_macro f1': 0.5976388388738064, 'eval_runtime': 0.16, 'eval_samples_per_second': 662.409, 'eval_steps_per_second': 6.249, 'epoch': 19.0}\n",
      "{'loss': 0.0067, 'learning_rate': 7e-05, 'epoch': 20.0}\n",
      "{'eval_loss': 0.3304414451122284, 'eval_micro f1': 0.6788990825688074, 'eval_macro f1': 0.5975986238667398, 'eval_runtime': 0.1599, 'eval_samples_per_second': 662.982, 'eval_steps_per_second': 6.255, 'epoch': 20.0}\n",
      "{'train_runtime': 80.041, 'train_samples_per_second': 80.709, 'train_steps_per_second': 20.24, 'train_loss': 0.06555333978232042, 'epoch': 20.0}\n"
     ]
    },
    {
     "name": "stderr",
     "output_type": "stream",
     "text": [
      "Some weights of the model checkpoint at bert-base-uncased were not used when initializing BertForSequenceClassification: ['cls.predictions.transform.dense.bias', 'cls.predictions.transform.LayerNorm.bias', 'cls.predictions.bias', 'cls.predictions.transform.LayerNorm.weight', 'cls.predictions.transform.dense.weight', 'cls.seq_relationship.weight', 'cls.seq_relationship.bias']\n",
      "- This IS expected if you are initializing BertForSequenceClassification from the checkpoint of a model trained on another task or with another architecture (e.g. initializing a BertForSequenceClassification model from a BertForPreTraining model).\n",
      "- This IS NOT expected if you are initializing BertForSequenceClassification from the checkpoint of a model that you expect to be exactly identical (initializing a BertForSequenceClassification model from a BertForSequenceClassification model).\n",
      "Some weights of BertForSequenceClassification were not initialized from the model checkpoint at bert-base-uncased and are newly initialized: ['classifier.bias', 'classifier.weight']\n",
      "You should probably TRAIN this model on a down-stream task to be able to use it for predictions and inference.\n"
     ]
    },
    {
     "name": "stdout",
     "output_type": "stream",
     "text": [
      "{'loss': 0.335, 'learning_rate': 7e-05, 'epoch': 1.0}\n",
      "{'eval_loss': 0.29244565963745117, 'eval_micro f1': 0.29577464788732394, 'eval_macro f1': 0.10144927536231883, 'eval_runtime': 0.1591, 'eval_samples_per_second': 666.07, 'eval_steps_per_second': 6.284, 'epoch': 1.0}\n",
      "{'loss': 0.211, 'learning_rate': 7e-05, 'epoch': 2.0}\n",
      "{'eval_loss': 0.23455506563186646, 'eval_micro f1': 0.5961538461538463, 'eval_macro f1': 0.4229304456440889, 'eval_runtime': 0.1587, 'eval_samples_per_second': 667.768, 'eval_steps_per_second': 6.3, 'epoch': 2.0}\n",
      "{'loss': 0.125, 'learning_rate': 7e-05, 'epoch': 3.0}\n",
      "{'eval_loss': 0.26951736211776733, 'eval_micro f1': 0.6074766355140186, 'eval_macro f1': 0.416120541899142, 'eval_runtime': 0.1591, 'eval_samples_per_second': 666.264, 'eval_steps_per_second': 6.286, 'epoch': 3.0}\n",
      "{'loss': 0.0729, 'learning_rate': 7e-05, 'epoch': 4.0}\n",
      "{'eval_loss': 0.2174108326435089, 'eval_micro f1': 0.676056338028169, 'eval_macro f1': 0.6112209618917566, 'eval_runtime': 0.1585, 'eval_samples_per_second': 668.934, 'eval_steps_per_second': 6.311, 'epoch': 4.0}\n",
      "{'loss': 0.0428, 'learning_rate': 7e-05, 'epoch': 5.0}\n",
      "{'eval_loss': 0.24296028912067413, 'eval_micro f1': 0.6846846846846847, 'eval_macro f1': 0.6143433100901038, 'eval_runtime': 0.1598, 'eval_samples_per_second': 663.373, 'eval_steps_per_second': 6.258, 'epoch': 5.0}\n",
      "{'loss': 0.0302, 'learning_rate': 7e-05, 'epoch': 6.0}\n",
      "{'eval_loss': 0.26837849617004395, 'eval_micro f1': 0.6755555555555555, 'eval_macro f1': 0.6016534159247633, 'eval_runtime': 0.1584, 'eval_samples_per_second': 669.287, 'eval_steps_per_second': 6.314, 'epoch': 6.0}\n",
      "{'loss': 0.0289, 'learning_rate': 7e-05, 'epoch': 7.0}\n",
      "{'eval_loss': 0.2786900997161865, 'eval_micro f1': 0.6727272727272727, 'eval_macro f1': 0.5963104397418122, 'eval_runtime': 0.1597, 'eval_samples_per_second': 663.696, 'eval_steps_per_second': 6.261, 'epoch': 7.0}\n",
      "{'loss': 0.0182, 'learning_rate': 7e-05, 'epoch': 8.0}\n",
      "{'eval_loss': 0.3100817799568176, 'eval_micro f1': 0.6919831223628692, 'eval_macro f1': 0.6558377148607034, 'eval_runtime': 0.1593, 'eval_samples_per_second': 665.31, 'eval_steps_per_second': 6.277, 'epoch': 8.0}\n",
      "{'loss': 0.0104, 'learning_rate': 7e-05, 'epoch': 9.0}\n",
      "{'eval_loss': 0.33306461572647095, 'eval_micro f1': 0.6696035242290749, 'eval_macro f1': 0.5925570801301796, 'eval_runtime': 0.1583, 'eval_samples_per_second': 669.516, 'eval_steps_per_second': 6.316, 'epoch': 9.0}\n",
      "{'loss': 0.0141, 'learning_rate': 7e-05, 'epoch': 10.0}\n",
      "{'eval_loss': 0.30971759557724, 'eval_micro f1': 0.6814159292035399, 'eval_macro f1': 0.629837675310052, 'eval_runtime': 0.1584, 'eval_samples_per_second': 669.031, 'eval_steps_per_second': 6.312, 'epoch': 10.0}\n",
      "{'loss': 0.0091, 'learning_rate': 7e-05, 'epoch': 11.0}\n",
      "{'eval_loss': 0.33441540598869324, 'eval_micro f1': 0.6991150442477875, 'eval_macro f1': 0.6694384252055026, 'eval_runtime': 0.1595, 'eval_samples_per_second': 664.394, 'eval_steps_per_second': 6.268, 'epoch': 11.0}\n",
      "{'loss': 0.0045, 'learning_rate': 7e-05, 'epoch': 12.0}\n",
      "{'eval_loss': 0.32794469594955444, 'eval_micro f1': 0.6991150442477875, 'eval_macro f1': 0.664578955807026, 'eval_runtime': 0.1589, 'eval_samples_per_second': 666.965, 'eval_steps_per_second': 6.292, 'epoch': 12.0}\n",
      "{'loss': 0.0042, 'learning_rate': 7e-05, 'epoch': 13.0}\n",
      "{'eval_loss': 0.3376855254173279, 'eval_micro f1': 0.6696428571428571, 'eval_macro f1': 0.6217320015788705, 'eval_runtime': 0.1605, 'eval_samples_per_second': 660.6, 'eval_steps_per_second': 6.232, 'epoch': 13.0}\n",
      "{'loss': 0.0031, 'learning_rate': 7e-05, 'epoch': 14.0}\n",
      "{'eval_loss': 0.3373228907585144, 'eval_micro f1': 0.6755555555555555, 'eval_macro f1': 0.6288144893494051, 'eval_runtime': 0.1604, 'eval_samples_per_second': 661.007, 'eval_steps_per_second': 6.236, 'epoch': 14.0}\n",
      "{'loss': 0.0027, 'learning_rate': 7e-05, 'epoch': 15.0}\n",
      "{'eval_loss': 0.35517922043800354, 'eval_micro f1': 0.7022222222222223, 'eval_macro f1': 0.6527472527472528, 'eval_runtime': 0.1604, 'eval_samples_per_second': 661.043, 'eval_steps_per_second': 6.236, 'epoch': 15.0}\n",
      "{'loss': 0.004, 'learning_rate': 7e-05, 'epoch': 16.0}\n",
      "{'eval_loss': 0.37264055013656616, 'eval_micro f1': 0.7074235807860263, 'eval_macro f1': 0.6560645294811686, 'eval_runtime': 0.1602, 'eval_samples_per_second': 661.704, 'eval_steps_per_second': 6.242, 'epoch': 16.0}\n",
      "{'loss': 0.0023, 'learning_rate': 7e-05, 'epoch': 17.0}\n",
      "{'eval_loss': 0.3846438527107239, 'eval_micro f1': 0.6933333333333334, 'eval_macro f1': 0.6446084565589209, 'eval_runtime': 0.1611, 'eval_samples_per_second': 658.156, 'eval_steps_per_second': 6.209, 'epoch': 17.0}\n",
      "{'loss': 0.0162, 'learning_rate': 7e-05, 'epoch': 18.0}\n",
      "{'eval_loss': 0.39889511466026306, 'eval_micro f1': 0.6609442060085837, 'eval_macro f1': 0.5913486504621575, 'eval_runtime': 0.1596, 'eval_samples_per_second': 663.964, 'eval_steps_per_second': 6.264, 'epoch': 18.0}\n",
      "{'loss': 0.037, 'learning_rate': 7e-05, 'epoch': 19.0}\n",
      "{'eval_loss': 0.4293895363807678, 'eval_micro f1': 0.6519823788546256, 'eval_macro f1': 0.5639703578919265, 'eval_runtime': 0.1604, 'eval_samples_per_second': 660.925, 'eval_steps_per_second': 6.235, 'epoch': 19.0}\n",
      "{'loss': 0.061, 'learning_rate': 7e-05, 'epoch': 20.0}\n",
      "{'eval_loss': 0.41375309228897095, 'eval_micro f1': 0.6363636363636364, 'eval_macro f1': 0.5545169622731041, 'eval_runtime': 0.1596, 'eval_samples_per_second': 664.196, 'eval_steps_per_second': 6.266, 'epoch': 20.0}\n",
      "{'train_runtime': 136.9344, 'train_samples_per_second': 93.621, 'train_steps_per_second': 23.515, 'train_loss': 0.0516335782889994, 'epoch': 20.0}\n"
     ]
    },
    {
     "name": "stderr",
     "output_type": "stream",
     "text": [
      "Some weights of the model checkpoint at bert-base-uncased were not used when initializing BertForSequenceClassification: ['cls.predictions.transform.dense.bias', 'cls.predictions.transform.LayerNorm.bias', 'cls.predictions.bias', 'cls.predictions.transform.LayerNorm.weight', 'cls.predictions.transform.dense.weight', 'cls.seq_relationship.weight', 'cls.seq_relationship.bias']\n",
      "- This IS expected if you are initializing BertForSequenceClassification from the checkpoint of a model trained on another task or with another architecture (e.g. initializing a BertForSequenceClassification model from a BertForPreTraining model).\n",
      "- This IS NOT expected if you are initializing BertForSequenceClassification from the checkpoint of a model that you expect to be exactly identical (initializing a BertForSequenceClassification model from a BertForSequenceClassification model).\n",
      "Some weights of BertForSequenceClassification were not initialized from the model checkpoint at bert-base-uncased and are newly initialized: ['classifier.bias', 'classifier.weight']\n",
      "You should probably TRAIN this model on a down-stream task to be able to use it for predictions and inference.\n"
     ]
    },
    {
     "name": "stdout",
     "output_type": "stream",
     "text": [
      "{'loss': 0.2647, 'learning_rate': 7e-05, 'epoch': 1.0}\n",
      "{'eval_loss': 0.28209832310676575, 'eval_micro f1': 0.5056179775280898, 'eval_macro f1': 0.3020567801269556, 'eval_runtime': 0.1587, 'eval_samples_per_second': 668.01, 'eval_steps_per_second': 6.302, 'epoch': 1.0}\n",
      "{'loss': 0.0888, 'learning_rate': 7e-05, 'epoch': 2.0}\n",
      "{'eval_loss': 0.24599404633045197, 'eval_micro f1': 0.6905829596412557, 'eval_macro f1': 0.6302817584360636, 'eval_runtime': 0.1612, 'eval_samples_per_second': 657.524, 'eval_steps_per_second': 6.203, 'epoch': 2.0}\n",
      "{'loss': 0.0309, 'learning_rate': 7e-05, 'epoch': 3.0}\n",
      "{'eval_loss': 0.2232477366924286, 'eval_micro f1': 0.7657657657657657, 'eval_macro f1': 0.7166670509015733, 'eval_runtime': 0.1597, 'eval_samples_per_second': 663.583, 'eval_steps_per_second': 6.26, 'epoch': 3.0}\n",
      "{'loss': 0.0183, 'learning_rate': 7e-05, 'epoch': 4.0}\n",
      "{'eval_loss': 0.2435903698205948, 'eval_micro f1': 0.7659574468085107, 'eval_macro f1': 0.7314864329570212, 'eval_runtime': 0.1608, 'eval_samples_per_second': 659.034, 'eval_steps_per_second': 6.217, 'epoch': 4.0}\n",
      "{'loss': 0.0112, 'learning_rate': 7e-05, 'epoch': 5.0}\n",
      "{'eval_loss': 0.3722495436668396, 'eval_micro f1': 0.6607142857142857, 'eval_macro f1': 0.5784752203305662, 'eval_runtime': 0.1595, 'eval_samples_per_second': 664.574, 'eval_steps_per_second': 6.27, 'epoch': 5.0}\n",
      "{'loss': 0.0056, 'learning_rate': 7e-05, 'epoch': 6.0}\n",
      "{'eval_loss': 0.3571697175502777, 'eval_micro f1': 0.6844444444444444, 'eval_macro f1': 0.6222312284919784, 'eval_runtime': 0.1592, 'eval_samples_per_second': 666.013, 'eval_steps_per_second': 6.283, 'epoch': 6.0}\n",
      "{'loss': 0.0055, 'learning_rate': 7e-05, 'epoch': 7.0}\n",
      "{'eval_loss': 0.31766268610954285, 'eval_micro f1': 0.7105263157894738, 'eval_macro f1': 0.6420109211775878, 'eval_runtime': 0.161, 'eval_samples_per_second': 658.209, 'eval_steps_per_second': 6.21, 'epoch': 7.0}\n",
      "{'loss': 0.0025, 'learning_rate': 7e-05, 'epoch': 8.0}\n",
      "{'eval_loss': 0.3266753554344177, 'eval_micro f1': 0.6820276497695853, 'eval_macro f1': 0.5971474778199924, 'eval_runtime': 0.1605, 'eval_samples_per_second': 660.596, 'eval_steps_per_second': 6.232, 'epoch': 8.0}\n",
      "{'loss': 0.0112, 'learning_rate': 7e-05, 'epoch': 9.0}\n",
      "{'eval_loss': 0.4462418556213379, 'eval_micro f1': 0.6695652173913043, 'eval_macro f1': 0.615592386820457, 'eval_runtime': 0.1601, 'eval_samples_per_second': 662.277, 'eval_steps_per_second': 6.248, 'epoch': 9.0}\n",
      "{'loss': 0.0409, 'learning_rate': 7e-05, 'epoch': 10.0}\n",
      "{'eval_loss': 0.5011991858482361, 'eval_micro f1': 0.6224066390041494, 'eval_macro f1': 0.5753470254054639, 'eval_runtime': 0.1621, 'eval_samples_per_second': 653.984, 'eval_steps_per_second': 6.17, 'epoch': 10.0}\n",
      "{'loss': 0.0192, 'learning_rate': 7e-05, 'epoch': 11.0}\n",
      "{'eval_loss': 0.38983818888664246, 'eval_micro f1': 0.7012987012987014, 'eval_macro f1': 0.6588926862611072, 'eval_runtime': 0.1606, 'eval_samples_per_second': 659.959, 'eval_steps_per_second': 6.226, 'epoch': 11.0}\n",
      "{'loss': 0.0196, 'learning_rate': 7e-05, 'epoch': 12.0}\n",
      "{'eval_loss': 0.4389985501766205, 'eval_micro f1': 0.6929824561403509, 'eval_macro f1': 0.6148363633952606, 'eval_runtime': 0.1605, 'eval_samples_per_second': 660.439, 'eval_steps_per_second': 6.231, 'epoch': 12.0}\n",
      "{'loss': 0.0083, 'learning_rate': 7e-05, 'epoch': 13.0}\n",
      "{'eval_loss': 0.40802639722824097, 'eval_micro f1': 0.6986899563318778, 'eval_macro f1': 0.6132267596918587, 'eval_runtime': 0.1619, 'eval_samples_per_second': 654.879, 'eval_steps_per_second': 6.178, 'epoch': 13.0}\n",
      "{'loss': 0.0053, 'learning_rate': 7e-05, 'epoch': 14.0}\n",
      "{'eval_loss': 0.4449162781238556, 'eval_micro f1': 0.706896551724138, 'eval_macro f1': 0.6441697191697191, 'eval_runtime': 0.1621, 'eval_samples_per_second': 654.039, 'eval_steps_per_second': 6.17, 'epoch': 14.0}\n",
      "{'loss': 0.0006, 'learning_rate': 7e-05, 'epoch': 15.0}\n",
      "{'eval_loss': 0.46557632088661194, 'eval_micro f1': 0.7043478260869566, 'eval_macro f1': 0.6483635370477475, 'eval_runtime': 0.1623, 'eval_samples_per_second': 652.994, 'eval_steps_per_second': 6.16, 'epoch': 15.0}\n",
      "{'loss': 0.0005, 'learning_rate': 7e-05, 'epoch': 16.0}\n",
      "{'eval_loss': 0.4787987172603607, 'eval_micro f1': 0.7012987012987014, 'eval_macro f1': 0.6434795321637427, 'eval_runtime': 0.161, 'eval_samples_per_second': 658.297, 'eval_steps_per_second': 6.21, 'epoch': 16.0}\n",
      "{'loss': 0.0004, 'learning_rate': 7e-05, 'epoch': 17.0}\n",
      "{'eval_loss': 0.49407896399497986, 'eval_micro f1': 0.7012987012987014, 'eval_macro f1': 0.6434795321637427, 'eval_runtime': 0.1619, 'eval_samples_per_second': 654.532, 'eval_steps_per_second': 6.175, 'epoch': 17.0}\n",
      "{'loss': 0.0003, 'learning_rate': 7e-05, 'epoch': 18.0}\n",
      "{'eval_loss': 0.5026612877845764, 'eval_micro f1': 0.7012987012987014, 'eval_macro f1': 0.6434795321637427, 'eval_runtime': 0.1619, 'eval_samples_per_second': 654.888, 'eval_steps_per_second': 6.178, 'epoch': 18.0}\n",
      "{'loss': 0.0003, 'learning_rate': 7e-05, 'epoch': 19.0}\n",
      "{'eval_loss': 0.5182436108589172, 'eval_micro f1': 0.6986899563318778, 'eval_macro f1': 0.6417042921532086, 'eval_runtime': 0.1602, 'eval_samples_per_second': 661.682, 'eval_steps_per_second': 6.242, 'epoch': 19.0}\n",
      "{'loss': 0.0003, 'learning_rate': 7e-05, 'epoch': 20.0}\n",
      "{'eval_loss': 0.5271645784378052, 'eval_micro f1': 0.70995670995671, 'eval_macro f1': 0.655135305584222, 'eval_runtime': 0.161, 'eval_samples_per_second': 658.377, 'eval_steps_per_second': 6.211, 'epoch': 20.0}\n",
      "{'train_runtime': 253.1371, 'train_samples_per_second': 101.052, 'train_steps_per_second': 25.283, 'train_loss': 0.02672967531369068, 'epoch': 20.0}\n"
     ]
    },
    {
     "name": "stderr",
     "output_type": "stream",
     "text": [
      "Some weights of the model checkpoint at bert-base-uncased were not used when initializing BertForSequenceClassification: ['cls.predictions.transform.dense.bias', 'cls.predictions.transform.LayerNorm.bias', 'cls.predictions.bias', 'cls.predictions.transform.LayerNorm.weight', 'cls.predictions.transform.dense.weight', 'cls.seq_relationship.weight', 'cls.seq_relationship.bias']\n",
      "- This IS expected if you are initializing BertForSequenceClassification from the checkpoint of a model trained on another task or with another architecture (e.g. initializing a BertForSequenceClassification model from a BertForPreTraining model).\n",
      "- This IS NOT expected if you are initializing BertForSequenceClassification from the checkpoint of a model that you expect to be exactly identical (initializing a BertForSequenceClassification model from a BertForSequenceClassification model).\n",
      "Some weights of BertForSequenceClassification were not initialized from the model checkpoint at bert-base-uncased and are newly initialized: ['classifier.bias', 'classifier.weight']\n",
      "You should probably TRAIN this model on a down-stream task to be able to use it for predictions and inference.\n"
     ]
    },
    {
     "name": "stdout",
     "output_type": "stream",
     "text": [
      "{'loss': 0.1955, 'learning_rate': 7e-05, 'epoch': 1.0}\n",
      "{'eval_loss': 0.2283172458410263, 'eval_micro f1': 0.7255813953488371, 'eval_macro f1': 0.6380827133700697, 'eval_runtime': 0.1615, 'eval_samples_per_second': 656.446, 'eval_steps_per_second': 6.193, 'epoch': 1.0}\n",
      "{'loss': 0.0347, 'learning_rate': 7e-05, 'epoch': 2.0}\n",
      "{'eval_loss': 0.2832457721233368, 'eval_micro f1': 0.6995515695067265, 'eval_macro f1': 0.6092696365171393, 'eval_runtime': 0.1608, 'eval_samples_per_second': 659.223, 'eval_steps_per_second': 6.219, 'epoch': 2.0}\n",
      "{'loss': 0.0067, 'learning_rate': 7e-05, 'epoch': 3.0}\n",
      "{'eval_loss': 0.30614209175109863, 'eval_micro f1': 0.6926406926406925, 'eval_macro f1': 0.5884608335631052, 'eval_runtime': 0.1621, 'eval_samples_per_second': 653.774, 'eval_steps_per_second': 6.168, 'epoch': 3.0}\n",
      "{'loss': 0.0037, 'learning_rate': 7e-05, 'epoch': 4.0}\n",
      "{'eval_loss': 0.36556926369667053, 'eval_micro f1': 0.7048458149779735, 'eval_macro f1': 0.6192634363686994, 'eval_runtime': 0.1622, 'eval_samples_per_second': 653.338, 'eval_steps_per_second': 6.164, 'epoch': 4.0}\n",
      "{'loss': 0.0278, 'learning_rate': 7e-05, 'epoch': 5.0}\n",
      "{'eval_loss': 0.40536215901374817, 'eval_micro f1': 0.6666666666666666, 'eval_macro f1': 0.5824795969842641, 'eval_runtime': 0.1607, 'eval_samples_per_second': 659.771, 'eval_steps_per_second': 6.224, 'epoch': 5.0}\n",
      "{'loss': 0.0313, 'learning_rate': 7e-05, 'epoch': 6.0}\n",
      "{'eval_loss': 0.4657403528690338, 'eval_micro f1': 0.6577777777777778, 'eval_macro f1': 0.5578339211307128, 'eval_runtime': 0.162, 'eval_samples_per_second': 654.403, 'eval_steps_per_second': 6.174, 'epoch': 6.0}\n",
      "{'loss': 0.0117, 'learning_rate': 7e-05, 'epoch': 7.0}\n",
      "{'eval_loss': 0.4323936700820923, 'eval_micro f1': 0.6844444444444444, 'eval_macro f1': 0.6045091306787213, 'eval_runtime': 0.1611, 'eval_samples_per_second': 657.974, 'eval_steps_per_second': 6.207, 'epoch': 7.0}\n",
      "{'loss': 0.0008, 'learning_rate': 7e-05, 'epoch': 8.0}\n",
      "{'eval_loss': 0.44761550426483154, 'eval_micro f1': 0.6929824561403509, 'eval_macro f1': 0.6253067434264571, 'eval_runtime': 0.1612, 'eval_samples_per_second': 657.592, 'eval_steps_per_second': 6.204, 'epoch': 8.0}\n",
      "{'loss': 0.0005, 'learning_rate': 7e-05, 'epoch': 9.0}\n",
      "{'eval_loss': 0.4718647599220276, 'eval_micro f1': 0.6986899563318778, 'eval_macro f1': 0.6309419520203834, 'eval_runtime': 0.1609, 'eval_samples_per_second': 658.73, 'eval_steps_per_second': 6.214, 'epoch': 9.0}\n",
      "{'loss': 0.0004, 'learning_rate': 7e-05, 'epoch': 10.0}\n",
      "{'eval_loss': 0.49227461218833923, 'eval_micro f1': 0.6956521739130435, 'eval_macro f1': 0.6363772574556887, 'eval_runtime': 0.1618, 'eval_samples_per_second': 655.204, 'eval_steps_per_second': 6.181, 'epoch': 10.0}\n",
      "{'loss': 0.0003, 'learning_rate': 7e-05, 'epoch': 11.0}\n",
      "{'eval_loss': 0.5611966848373413, 'eval_micro f1': 0.6812227074235808, 'eval_macro f1': 0.6125406002856982, 'eval_runtime': 0.1616, 'eval_samples_per_second': 656.061, 'eval_steps_per_second': 6.189, 'epoch': 11.0}\n",
      "{'loss': 0.0002, 'learning_rate': 7e-05, 'epoch': 12.0}\n",
      "{'eval_loss': 0.5663012862205505, 'eval_micro f1': 0.6754385964912281, 'eval_macro f1': 0.6080827067669172, 'eval_runtime': 0.1622, 'eval_samples_per_second': 653.664, 'eval_steps_per_second': 6.167, 'epoch': 12.0}\n",
      "{'loss': 0.0002, 'learning_rate': 7e-05, 'epoch': 13.0}\n",
      "{'eval_loss': 0.5889662504196167, 'eval_micro f1': 0.6814159292035399, 'eval_macro f1': 0.6146912761205846, 'eval_runtime': 0.1611, 'eval_samples_per_second': 658.175, 'eval_steps_per_second': 6.209, 'epoch': 13.0}\n",
      "{'loss': 0.0001, 'learning_rate': 7e-05, 'epoch': 14.0}\n",
      "{'eval_loss': 0.6133278012275696, 'eval_micro f1': 0.6784140969162995, 'eval_macro f1': 0.6162563976992288, 'eval_runtime': 0.1617, 'eval_samples_per_second': 655.608, 'eval_steps_per_second': 6.185, 'epoch': 14.0}\n",
      "{'loss': 0.0001, 'learning_rate': 7e-05, 'epoch': 15.0}\n",
      "{'eval_loss': 0.6343525648117065, 'eval_micro f1': 0.672566371681416, 'eval_macro f1': 0.6051452865881177, 'eval_runtime': 0.1615, 'eval_samples_per_second': 656.28, 'eval_steps_per_second': 6.191, 'epoch': 15.0}\n",
      "{'loss': 0.0001, 'learning_rate': 7e-05, 'epoch': 16.0}\n",
      "{'eval_loss': 0.6619832515716553, 'eval_micro f1': 0.663716814159292, 'eval_macro f1': 0.5940643434896309, 'eval_runtime': 0.1636, 'eval_samples_per_second': 648.092, 'eval_steps_per_second': 6.114, 'epoch': 16.0}\n",
      "{'loss': 0.0, 'learning_rate': 7e-05, 'epoch': 17.0}\n",
      "{'eval_loss': 0.6805981397628784, 'eval_micro f1': 0.663716814159292, 'eval_macro f1': 0.5940643434896309, 'eval_runtime': 0.1615, 'eval_samples_per_second': 656.273, 'eval_steps_per_second': 6.191, 'epoch': 17.0}\n",
      "{'loss': 0.0965, 'learning_rate': 7e-05, 'epoch': 18.0}\n",
      "{'eval_loss': 0.34760069847106934, 'eval_micro f1': 0.24581005586592178, 'eval_macro f1': 0.05890227576974565, 'eval_runtime': 0.1601, 'eval_samples_per_second': 661.904, 'eval_steps_per_second': 6.244, 'epoch': 18.0}\n",
      "{'loss': 0.3393, 'learning_rate': 7e-05, 'epoch': 19.0}\n",
      "{'eval_loss': 0.3331204056739807, 'eval_micro f1': 0.0, 'eval_macro f1': 0.0, 'eval_runtime': 0.1586, 'eval_samples_per_second': 668.143, 'eval_steps_per_second': 6.303, 'epoch': 19.0}\n",
      "{'loss': 0.3279, 'learning_rate': 7e-05, 'epoch': 20.0}\n",
      "{'eval_loss': 0.3457445800304413, 'eval_micro f1': 0.0, 'eval_macro f1': 0.0, 'eval_runtime': 0.1615, 'eval_samples_per_second': 656.311, 'eval_steps_per_second': 6.192, 'epoch': 20.0}\n",
      "{'train_runtime': 466.6919, 'train_samples_per_second': 105.123, 'train_steps_per_second': 26.313, 'train_loss': 0.0538885838761683, 'epoch': 20.0}\n"
     ]
    }
   ],
   "source": [
    "## Train the model through training slices\n",
    "config = AutoConfig.from_pretrained(model_ckpt)\n",
    "config.num_labels = len(all_labels)\n",
    "config.problem_type = \"multi_label_classification\"\n",
    "for train_slice in train_slices:\n",
    "    model = AutoModelForSequenceClassification.from_pretrained(model_ckpt,\n",
    "    config=config)\n",
    "    trainer = Trainer(\n",
    "    model=model, tokenizer=tokenizer,\n",
    "    args=training_args_fine_tune,\n",
    "    compute_metrics=compute_metrics,\n",
    "    train_dataset=ds_enc[\"train\"].select(train_slice),\n",
    "    eval_dataset=ds_enc[\"valid\"],)\n",
    "    trainer.train()\n",
    "    pred = trainer.predict(ds_enc[\"test\"])\n",
    "    metrics = compute_metrics(pred)\n",
    "    macro_scores[\"Fine-tune (vanilla) + Aug\"].append(metrics[\"macro f1\"])\n",
    "    micro_scores[\"Fine-tune (vanilla) + Aug\"].append(metrics[\"micro f1\"])\n"
   ]
  },
  {
   "cell_type": "code",
   "execution_count": 104,
   "metadata": {},
   "outputs": [
    {
     "data": {
      "text/plain": [
       "defaultdict(list,\n",
       "            {'Naive Bayes': [0.3604651162790698,\n",
       "              0.30208333333333337,\n",
       "              0.41081081081081083,\n",
       "              0.4435483870967742,\n",
       "              0.5046728971962616,\n",
       "              0.5346534653465347],\n",
       "             'Zero-Shot': [0.4444444444444445,\n",
       "              0.4444444444444445,\n",
       "              0.4444444444444445,\n",
       "              0.4444444444444445,\n",
       "              0.4444444444444445,\n",
       "              0.4444444444444445],\n",
       "             'Naive Bayes + Aug': [0.5081081081081081,\n",
       "              0.4954128440366973,\n",
       "              0.5084745762711865,\n",
       "              0.5679012345679012,\n",
       "              0.5590551181102362,\n",
       "              0.578125],\n",
       "             'Embedding GPT2': [0.3167155425219942,\n",
       "              0.36363636363636365,\n",
       "              0.39452054794520547,\n",
       "              0.5118483412322274,\n",
       "              0.46564885496183206,\n",
       "              0.5402843601895735],\n",
       "             'Fine-tune (vanilla)': [0.07633587786259542,\n",
       "              0.3006535947712418,\n",
       "              0.5104166666666667,\n",
       "              0.58,\n",
       "              0.6486486486486487,\n",
       "              0.6949152542372881,\n",
       "              0.5625,\n",
       "              0.6454545454545455,\n",
       "              0.7096774193548387,\n",
       "              0.6752136752136751,\n",
       "              0.6720647773279351,\n",
       "              0.7031963470319634]})"
      ]
     },
     "execution_count": 104,
     "metadata": {},
     "output_type": "execute_result"
    }
   ],
   "source": [
    "micro_scores"
   ]
  },
  {
   "cell_type": "code",
   "execution_count": 110,
   "metadata": {},
   "outputs": [],
   "source": []
  },
  {
   "cell_type": "code",
   "execution_count": 111,
   "metadata": {},
   "outputs": [
    {
     "name": "stdout",
     "output_type": "stream",
     "text": [
      "Naive Bayes\n",
      "Zero-Shot\n",
      "Naive Bayes + Aug\n",
      "Embedding GPT2\n",
      "Fine-tune (vanilla)\n",
      "Fine-tune (vanilla) + Aug\n"
     ]
    },
    {
     "data": {
      "image/png": "[encoded data removed]",
      "text/plain": [
       "<Figure size 1000x400 with 2 Axes>"
      ]
     },
     "metadata": {},
     "output_type": "display_data"
    }
   ],
   "source": [
    "train_samples = [8, 16, 32, 64, 128, 223]\n",
    "plot_metrics(micro_scores, macro_scores, train_samples, \"Fine-tune (vanilla)\")"
   ]
  },
  {
   "cell_type": "markdown",
   "metadata": {},
   "source": [
    "## save results"
   ]
  },
  {
   "cell_type": "code",
   "execution_count": null,
   "metadata": {},
   "outputs": [],
   "source": [
    "micro_scores = defaultdict(list,\n",
    "            {'Naive Bayes': [0.3604651162790698,\n",
    "              0.30208333333333337,\n",
    "              0.41081081081081083,\n",
    "              0.4435483870967742,\n",
    "              0.5046728971962616,\n",
    "              0.5346534653465347],\n",
    "             'Zero-Shot': [0.4444444444444445,\n",
    "              0.4444444444444445,\n",
    "              0.4444444444444445,\n",
    "              0.4444444444444445,\n",
    "              0.4444444444444445,\n",
    "              0.4444444444444445],\n",
    "             'Naive Bayes + Aug': [0.5081081081081081,\n",
    "              0.4954128440366973,\n",
    "              0.5084745762711865,\n",
    "              0.5679012345679012,\n",
    "              0.5590551181102362,\n",
    "              0.578125],\n",
    "             'Embedding GPT2': [0.3167155425219942,\n",
    "              0.36363636363636365,\n",
    "              0.39452054794520547,\n",
    "              0.5118483412322274,\n",
    "              0.46564885496183206,\n",
    "              0.5402843601895735],\n",
    "             'Fine-tune (vanilla)': [0.07633587786259542,\n",
    "              0.3006535947712418,\n",
    "              0.5104166666666667,\n",
    "              0.58,\n",
    "              0.6486486486486487,\n",
    "              0.6949152542372881,],\n",
    "             'Fine-tune (vanilla) + Aug': [0.5625,\n",
    "              0.6454545454545455,\n",
    "              0.7096774193548387,\n",
    "              0.6752136752136751,\n",
    "              0.6720647773279351,\n",
    "              0.7031963470319634]})\n",
    "macro_scores = defaultdict(list,\n",
    "            {'Naive Bayes': [0.23288166214995487,\n",
    "              0.21006897585844955,\n",
    "              0.24086240556828795,\n",
    "              0.25730500818220114,\n",
    "              0.28271105113210376,\n",
    "              0.27403710305671086],\n",
    "             'Zero-Shot': [0.3869340923536515,\n",
    "              0.3869340923536515,\n",
    "              0.3869340923536515,\n",
    "              0.3869340923536515,\n",
    "              0.3869340923536515,\n",
    "              0.3869340923536515],\n",
    "             'Naive Bayes + Aug': [0.27235449735449735,\n",
    "              0.278589655958077,\n",
    "              0.33758862806420187,\n",
    "              0.4415159953502743,\n",
    "              0.4563280715286368,\n",
    "              0.4832651770367019],\n",
    "             'Embedding GPT2': [0.2359519022412816,\n",
    "              0.22399328684158407,\n",
    "              0.24991158684522524,\n",
    "              0.3304358431861561,\n",
    "              0.31501683091623417,\n",
    "              0.30677622391019166],\n",
    "             'Fine-tune (vanilla)': [0.059770114942528735,\n",
    "              0.1645095645095645,\n",
    "              0.2286324786324786,\n",
    "              0.40153390305682585,\n",
    "              0.5840550899061536,\n",
    "              0.6127081681040847,], \n",
    "             'Fine-tune (vanilla) + Aug': [              0.42355811829496043,\n",
    "              0.5132509044178506,\n",
    "              0.5930741709345828,\n",
    "              0.6041033085580728,\n",
    "              0.5977837061033886,\n",
    "              0.606465900200236]})"
   ]
  },
  {
   "cell_type": "code",
   "execution_count": null,
   "metadata": {},
   "outputs": [],
   "source": []
  },
  {
   "cell_type": "code",
   "execution_count": null,
   "metadata": {},
   "outputs": [],
   "source": []
  }
 ],
 "metadata": {
  "kernelspec": {
   "display_name": "GEC_env",
   "language": "python",
   "name": "python3"
  },
  "language_info": {
   "codemirror_mode": {
    "name": "ipython",
    "version": 3
   },
   "file_extension": ".py",
   "mimetype": "text/x-python",
   "name": "python",
   "nbconvert_exporter": "python",
   "pygments_lexer": "ipython3",
   "version": "3.8.10"
  },
  "orig_nbformat": 4
 },
 "nbformat": 4,
 "nbformat_minor": 2
}
