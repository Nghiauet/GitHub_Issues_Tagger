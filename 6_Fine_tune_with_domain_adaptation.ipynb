{
 "cells": [
  {
   "cell_type": "markdown",
   "metadata": {},
   "source": [
    "# Import lib and dataset"
   ]
  },
  {
   "cell_type": "code",
   "execution_count": 1,
   "metadata": {},
   "outputs": [],
   "source": [
    "import pandas as pd\n",
    "import json\n",
    "import numpy as np \n",
    "import matplotlib.pyplot as plt\n",
    "from transformers import set_seed \n",
    "import nlpaug.augmenter.word as naw \n",
    "from sklearn.naive_bayes import MultinomialNB\n",
    "from sklearn.metrics import classification_report \n",
    "from skmultilearn.problem_transform import BinaryRelevance \n",
    "from sklearn.feature_extraction.text import CountVectorizer \n",
    "import torch \n",
    "from sklearn.preprocessing import MultiLabelBinarizer\n",
    "from skmultilearn.model_selection import iterative_train_test_split \n",
    "from transformers import AutoTokenizer, AutoConfig, AutoModelForSequenceClassification\n",
    "import os\n",
    "pd.set_option('display.max_colwidth', 200)\n"
   ]
  },
  {
   "cell_type": "markdown",
   "metadata": {},
   "source": [
    "## Read .env file and login to hub"
   ]
  },
  {
   "cell_type": "code",
   "execution_count": 2,
   "metadata": {},
   "outputs": [
    {
     "name": "stdout",
     "output_type": "stream",
     "text": [
      "Token will not been saved to git credential helper. Pass `add_to_git_credential=True` if you want to set the git credential as well.\n",
      "Token is valid (permission: write).\n",
      "Your token has been saved to /home/nghiaph/.cache/huggingface/token\n",
      "Login successful\n"
     ]
    }
   ],
   "source": [
    "# login to hugging face to push model \n",
    "from huggingface_hub import login\n",
    "# load token from file  .env \n",
    "import os\n",
    "from dotenv import load_dotenv\n",
    "load_dotenv()\n",
    "token = os.getenv(\"HF_AUTH_TOKEN\")\n",
    "login(token = token)\n"
   ]
  },
  {
   "cell_type": "markdown",
   "metadata": {},
   "source": [
    "## Load data to json file"
   ]
  },
  {
   "cell_type": "code",
   "execution_count": 3,
   "metadata": {},
   "outputs": [
    {
     "data": {
      "text/html": [
       "<div>\n",
       "<style scoped>\n",
       "    .dataframe tbody tr th:only-of-type {\n",
       "        vertical-align: middle;\n",
       "    }\n",
       "\n",
       "    .dataframe tbody tr th {\n",
       "        vertical-align: top;\n",
       "    }\n",
       "\n",
       "    .dataframe thead th {\n",
       "        text-align: right;\n",
       "    }\n",
       "</style>\n",
       "<table border=\"1\" class=\"dataframe\">\n",
       "  <thead>\n",
       "    <tr style=\"text-align: right;\">\n",
       "      <th></th>\n",
       "      <th>2</th>\n",
       "    </tr>\n",
       "  </thead>\n",
       "  <tbody>\n",
       "    <tr>\n",
       "      <th>url</th>\n",
       "      <td>https://api.github.com/repos/huggingface/transformers/issues/11044</td>\n",
       "    </tr>\n",
       "    <tr>\n",
       "      <th>id</th>\n",
       "      <td>849529761</td>\n",
       "    </tr>\n",
       "    <tr>\n",
       "      <th>title</th>\n",
       "      <td>[DeepSpeed] ZeRO stage 3 integration: getting started and issues</td>\n",
       "    </tr>\n",
       "    <tr>\n",
       "      <th>user</th>\n",
       "      <td>{'login': 'stas00', 'id': 10676103, 'node_id': 'MDQ6VXNlcjEwNjc2MTAz', 'avatar_url': 'https://avatars.githubusercontent.com/u/10676103?v=4', 'gravatar_id': '', 'url': 'https://api.github.com/users...</td>\n",
       "    </tr>\n",
       "    <tr>\n",
       "      <th>labels</th>\n",
       "      <td>[{'id': 2659267025, 'node_id': 'MDU6TGFiZWwyNjU5MjY3MDI1', 'url': 'https://api.github.com/repos/huggingface/transformers/labels/DeepSpeed', 'name': 'DeepSpeed', 'color': '4D34F7', 'default': False...</td>\n",
       "    </tr>\n",
       "    <tr>\n",
       "      <th>state</th>\n",
       "      <td>open</td>\n",
       "    </tr>\n",
       "    <tr>\n",
       "      <th>created_at</th>\n",
       "      <td>2021-04-02 23:40:42</td>\n",
       "    </tr>\n",
       "    <tr>\n",
       "      <th>body</th>\n",
       "      <td>**[This is not yet alive, preparing for the release, so please ignore for now]**\\r\\n\\r\\nThe DeepSpeed ZeRO-3 has been integrated into HF `transformers`. \\r\\n\\r\\nWhile I tried to write tests for a ...</td>\n",
       "    </tr>\n",
       "  </tbody>\n",
       "</table>\n",
       "</div>"
      ],
      "text/plain": [
       "                                                                                                                                                                                                                  2\n",
       "url                                                                                                                                              https://api.github.com/repos/huggingface/transformers/issues/11044\n",
       "id                                                                                                                                                                                                        849529761\n",
       "title                                                                                                                                              [DeepSpeed] ZeRO stage 3 integration: getting started and issues\n",
       "user        {'login': 'stas00', 'id': 10676103, 'node_id': 'MDQ6VXNlcjEwNjc2MTAz', 'avatar_url': 'https://avatars.githubusercontent.com/u/10676103?v=4', 'gravatar_id': '', 'url': 'https://api.github.com/users...\n",
       "labels      [{'id': 2659267025, 'node_id': 'MDU6TGFiZWwyNjU5MjY3MDI1', 'url': 'https://api.github.com/repos/huggingface/transformers/labels/DeepSpeed', 'name': 'DeepSpeed', 'color': '4D34F7', 'default': False...\n",
       "state                                                                                                                                                                                                          open\n",
       "created_at                                                                                                                                                                                      2021-04-02 23:40:42\n",
       "body        **[This is not yet alive, preparing for the release, so please ignore for now]**\\r\\n\\r\\nThe DeepSpeed ZeRO-3 has been integrated into HF `transformers`. \\r\\n\\r\\nWhile I tried to write tests for a ..."
      ]
     },
     "execution_count": 3,
     "metadata": {},
     "output_type": "execute_result"
    }
   ],
   "source": [
    "df_issues = pd.read_json(\"issues.json\", lines=True)\n",
    "cols = [\"url\", \"id\", \"title\", \"user\", \"labels\", \"state\", \"created_at\", \"body\"]\n",
    "df_issues.loc[2, cols].to_frame()"
   ]
  },
  {
   "cell_type": "markdown",
   "metadata": {},
   "source": [
    "## Process data"
   ]
  },
  {
   "cell_type": "code",
   "execution_count": 4,
   "metadata": {},
   "outputs": [
    {
     "data": {
      "text/html": [
       "<div>\n",
       "<style scoped>\n",
       "    .dataframe tbody tr th:only-of-type {\n",
       "        vertical-align: middle;\n",
       "    }\n",
       "\n",
       "    .dataframe tbody tr th {\n",
       "        vertical-align: top;\n",
       "    }\n",
       "\n",
       "    .dataframe thead th {\n",
       "        text-align: right;\n",
       "    }\n",
       "</style>\n",
       "<table border=\"1\" class=\"dataframe\">\n",
       "  <thead>\n",
       "    <tr style=\"text-align: right;\">\n",
       "      <th></th>\n",
       "      <th>labels</th>\n",
       "    </tr>\n",
       "  </thead>\n",
       "  <tbody>\n",
       "    <tr>\n",
       "      <th>0</th>\n",
       "      <td>[]</td>\n",
       "    </tr>\n",
       "    <tr>\n",
       "      <th>1</th>\n",
       "      <td>[]</td>\n",
       "    </tr>\n",
       "    <tr>\n",
       "      <th>2</th>\n",
       "      <td>[DeepSpeed]</td>\n",
       "    </tr>\n",
       "    <tr>\n",
       "      <th>3</th>\n",
       "      <td>[]</td>\n",
       "    </tr>\n",
       "    <tr>\n",
       "      <th>4</th>\n",
       "      <td>[]</td>\n",
       "    </tr>\n",
       "  </tbody>\n",
       "</table>\n",
       "</div>"
      ],
      "text/plain": [
       "        labels\n",
       "0           []\n",
       "1           []\n",
       "2  [DeepSpeed]\n",
       "3           []\n",
       "4           []"
      ]
     },
     "execution_count": 4,
     "metadata": {},
     "output_type": "execute_result"
    }
   ],
   "source": [
    "df_issues[\"labels\"] = (df_issues[\"labels\"]\n",
    "        .apply(lambda x: [meta[\"name\"] for meta in x]))\n",
    "df_issues[[\"labels\"]].head()"
   ]
  },
  {
   "cell_type": "code",
   "execution_count": 5,
   "metadata": {},
   "outputs": [
    {
     "name": "stdout",
     "output_type": "stream",
     "text": [
      "Number of labels: 65\n"
     ]
    },
    {
     "data": {
      "text/html": [
       "<div>\n",
       "<style scoped>\n",
       "    .dataframe tbody tr th:only-of-type {\n",
       "        vertical-align: middle;\n",
       "    }\n",
       "\n",
       "    .dataframe tbody tr th {\n",
       "        vertical-align: top;\n",
       "    }\n",
       "\n",
       "    .dataframe thead th {\n",
       "        text-align: right;\n",
       "    }\n",
       "</style>\n",
       "<table border=\"1\" class=\"dataframe\">\n",
       "  <thead>\n",
       "    <tr style=\"text-align: right;\">\n",
       "      <th>labels</th>\n",
       "      <th>wontfix</th>\n",
       "      <th>model card</th>\n",
       "      <th>Core: Tokenization</th>\n",
       "      <th>New model</th>\n",
       "      <th>Core: Modeling</th>\n",
       "      <th>Help wanted</th>\n",
       "      <th>Good First Issue</th>\n",
       "      <th>Usage</th>\n",
       "      <th>Core: Pipeline</th>\n",
       "      <th>Feature request</th>\n",
       "    </tr>\n",
       "  </thead>\n",
       "  <tbody>\n",
       "    <tr>\n",
       "      <th>count</th>\n",
       "      <td>2284</td>\n",
       "      <td>649</td>\n",
       "      <td>106</td>\n",
       "      <td>98</td>\n",
       "      <td>64</td>\n",
       "      <td>52</td>\n",
       "      <td>50</td>\n",
       "      <td>46</td>\n",
       "      <td>42</td>\n",
       "      <td>41</td>\n",
       "    </tr>\n",
       "  </tbody>\n",
       "</table>\n",
       "</div>"
      ],
      "text/plain": [
       "labels  wontfix  model card  Core: Tokenization  New model  Core: Modeling  \\\n",
       "count      2284         649                 106         98              64   \n",
       "\n",
       "labels  Help wanted  Good First Issue  Usage  Core: Pipeline  Feature request  \n",
       "count            52                50     46              42               41  "
      ]
     },
     "execution_count": 5,
     "metadata": {},
     "output_type": "execute_result"
    }
   ],
   "source": [
    "df_counts = df_issues[\"labels\"].explode().value_counts()\n",
    "print(f\"Number of labels: {len(df_counts)}\") \n",
    "df_counts.head(10).to_frame().T"
   ]
  },
  {
   "cell_type": "code",
   "execution_count": 6,
   "metadata": {},
   "outputs": [],
   "source": [
    "label_map = {\"Core: Tokenization\": \"tokenization\",\n",
    " \"New model\": \"new model\",\n",
    " \"Core: Modeling\": \"model training\",\n",
    " \"Usage\": \"usage\",\n",
    " \"Core: Pipeline\": \"pipeline\",\n",
    " \"TensorFlow\": \"tensorflow or tf\",\n",
    " \"PyTorch\": \"pytorch\",\n",
    " \"Examples\": \"examples\",\n",
    " \"Documentation\": \"documentation\"}"
   ]
  },
  {
   "cell_type": "code",
   "execution_count": 7,
   "metadata": {},
   "outputs": [],
   "source": [
    "def filter_lables(x): \n",
    "    return [label_map[label] for label in x if label in label_map] \n",
    "df_issues[\"labels\"] = df_issues[\"labels\"].apply(filter_lables) \n",
    "all_labels = list(label_map.values()) "
   ]
  },
  {
   "cell_type": "code",
   "execution_count": 8,
   "metadata": {},
   "outputs": [
    {
     "name": "stdout",
     "output_type": "stream",
     "text": [
      "Number of labels: 9\n"
     ]
    },
    {
     "data": {
      "text/html": [
       "<div>\n",
       "<style scoped>\n",
       "    .dataframe tbody tr th:only-of-type {\n",
       "        vertical-align: middle;\n",
       "    }\n",
       "\n",
       "    .dataframe tbody tr th {\n",
       "        vertical-align: top;\n",
       "    }\n",
       "\n",
       "    .dataframe thead th {\n",
       "        text-align: right;\n",
       "    }\n",
       "</style>\n",
       "<table border=\"1\" class=\"dataframe\">\n",
       "  <thead>\n",
       "    <tr style=\"text-align: right;\">\n",
       "      <th>labels</th>\n",
       "      <th>tokenization</th>\n",
       "      <th>new model</th>\n",
       "      <th>model training</th>\n",
       "      <th>usage</th>\n",
       "      <th>pipeline</th>\n",
       "      <th>tensorflow or tf</th>\n",
       "      <th>pytorch</th>\n",
       "      <th>documentation</th>\n",
       "      <th>examples</th>\n",
       "    </tr>\n",
       "  </thead>\n",
       "  <tbody>\n",
       "    <tr>\n",
       "      <th>count</th>\n",
       "      <td>106</td>\n",
       "      <td>98</td>\n",
       "      <td>64</td>\n",
       "      <td>46</td>\n",
       "      <td>42</td>\n",
       "      <td>41</td>\n",
       "      <td>37</td>\n",
       "      <td>28</td>\n",
       "      <td>24</td>\n",
       "    </tr>\n",
       "  </tbody>\n",
       "</table>\n",
       "</div>"
      ],
      "text/plain": [
       "labels  tokenization  new model  model training  usage  pipeline  \\\n",
       "count            106         98              64     46        42   \n",
       "\n",
       "labels  tensorflow or tf  pytorch  documentation  examples  \n",
       "count                 41       37             28        24  "
      ]
     },
     "execution_count": 8,
     "metadata": {},
     "output_type": "execute_result"
    }
   ],
   "source": [
    "df_counts = df_issues[\"labels\"].explode().value_counts()\n",
    "print(f\"Number of labels: {len(df_counts)}\")\n",
    "df_counts.head(10).to_frame().T"
   ]
  },
  {
   "cell_type": "markdown",
   "metadata": {},
   "source": [
    "## save the unlabels data"
   ]
  },
  {
   "cell_type": "code",
   "execution_count": 9,
   "metadata": {},
   "outputs": [
    {
     "data": {
      "text/html": [
       "<div>\n",
       "<style scoped>\n",
       "    .dataframe tbody tr th:only-of-type {\n",
       "        vertical-align: middle;\n",
       "    }\n",
       "\n",
       "    .dataframe tbody tr th {\n",
       "        vertical-align: top;\n",
       "    }\n",
       "\n",
       "    .dataframe thead th {\n",
       "        text-align: right;\n",
       "    }\n",
       "</style>\n",
       "<table border=\"1\" class=\"dataframe\">\n",
       "  <thead>\n",
       "    <tr style=\"text-align: right;\">\n",
       "      <th></th>\n",
       "      <th>count</th>\n",
       "    </tr>\n",
       "    <tr>\n",
       "      <th>split</th>\n",
       "      <th></th>\n",
       "    </tr>\n",
       "  </thead>\n",
       "  <tbody>\n",
       "    <tr>\n",
       "      <th>unlabeled</th>\n",
       "      <td>9489</td>\n",
       "    </tr>\n",
       "    <tr>\n",
       "      <th>labeled</th>\n",
       "      <td>441</td>\n",
       "    </tr>\n",
       "  </tbody>\n",
       "</table>\n",
       "</div>"
      ],
      "text/plain": [
       "           count\n",
       "split           \n",
       "unlabeled   9489\n",
       "labeled      441"
      ]
     },
     "execution_count": 9,
     "metadata": {},
     "output_type": "execute_result"
    }
   ],
   "source": [
    "df_issues[\"split\"] = \"unlabeled\"\n",
    "mark = df_issues[\"labels\"].apply(lambda x: len(x) > 0)\n",
    "df_issues.loc[mark, \"split\"] = \"labeled\"\n",
    "df_issues[\"split\"].value_counts().to_frame()"
   ]
  },
  {
   "cell_type": "code",
   "execution_count": 10,
   "metadata": {},
   "outputs": [
    {
     "name": "stdout",
     "output_type": "stream",
     "text": [
      "title: Add new CANINE model\n",
      "\n",
      "body: # 🌟 New model addition\n",
      "\n",
      "## Model description\n",
      "\n",
      "Google recently proposed a new **C**haracter **A**rchitecture with **N**o tokenization **I**n **N**eural **E**ncoders architecture (CANINE). Not only the title is exciting:\n",
      "\n",
      "> Pipelined NLP systems have largely been superseded by end-to-end neural modeling, yet nearly all commonly-used models still require an explicit tokenization step. While recent tokenization approaches based on data-derived subword lexicons are less brittle than manually en\n",
      "\n",
      "labels: ['new model']\n",
      "\n"
     ]
    }
   ],
   "source": [
    "# print some examples\n",
    "for colume in ['title', 'body', 'labels']:\n",
    "    print(f\"{colume}: {df_issues[colume].iloc[26][:500]}\\n\")"
   ]
  },
  {
   "cell_type": "code",
   "execution_count": 11,
   "metadata": {},
   "outputs": [],
   "source": [
    "# concat the title and body \n",
    "df_issues['text'] = (df_issues\n",
    "                     .apply(lambda x: f\"{x['title']} +  {x['body']}\", axis=1))"
   ]
  },
  {
   "cell_type": "code",
   "execution_count": 12,
   "metadata": {},
   "outputs": [
    {
     "data": {
      "text/plain": [
       "0    Potential incorrect application of layer norm in BlenderbotSmallDecoder +  In BlenderbotSmallDecoder,  layer norm is applied only on the token embeddings, and not on the hidden_states, whereas in ...\n",
       "1    Multi-GPU seq2seq example evaluation significantly slower than legacy example evaluation +  \\r\\n### Who can help\\r\\n@patil-suraj @sgugger \\r\\n\\r\\nModels:\\r\\nT5\\r\\n\\r\\n## Information\\r\\n\\r\\nI've be...\n",
       "2    [DeepSpeed] ZeRO stage 3 integration: getting started and issues +  **[This is not yet alive, preparing for the release, so please ignore for now]**\\r\\n\\r\\nThe DeepSpeed ZeRO-3 has been integrated...\n",
       "3    Can't load model to estimater +  I was trying to follow the Sagemaker instructions [here](https://docs.aws.amazon.com/sagemaker/latest/dg/deploy-model.html) to load the model I just trained and te...\n",
       "4    [LXMERT] Unclear what img_tensorize does with color spaces +  ## Environment info\\r\\n\\r\\n- `transformers` version: Not using transformers directly, I'm loading a model \"unc-nlp/frcnn-vg-finetuned\"...\n",
       "Name: text, dtype: object"
      ]
     },
     "execution_count": 12,
     "metadata": {},
     "output_type": "execute_result"
    }
   ],
   "source": [
    "df_issues['text'].head()"
   ]
  },
  {
   "cell_type": "code",
   "execution_count": 13,
   "metadata": {},
   "outputs": [
    {
     "name": "stdout",
     "output_type": "stream",
     "text": [
      "Remove 1.88% duplicates.\n"
     ]
    }
   ],
   "source": [
    "len_before = len(df_issues)\n",
    "df_issues = df_issues.drop_duplicates(subset=['text'])\n",
    "print(f\"Remove {(len_before - len(df_issues)) / len_before:.2%} duplicates.\")\n"
   ]
  },
  {
   "cell_type": "markdown",
   "metadata": {},
   "source": [
    "## Plot the dataset"
   ]
  },
  {
   "cell_type": "code",
   "execution_count": 14,
   "metadata": {},
   "outputs": [
    {
     "data": {
      "image/png": "[encoded data removed]",
      "text/plain": [
       "<Figure size 640x480 with 1 Axes>"
      ]
     },
     "metadata": {},
     "output_type": "display_data"
    }
   ],
   "source": [
    "df_issues['text'].str.split().apply(len).hist(bins = np.linspace(0, 500, 50), grid=False, edgecolor='C0') \n",
    "plt.title(\"Words per issue\") \n",
    "plt.xlabel(\"Number of words\")\n",
    "plt.ylabel(\"Number of issues\")\n",
    "plt.show()"
   ]
  },
  {
   "cell_type": "markdown",
   "metadata": {},
   "source": [
    "# Creating training set"
   ]
  },
  {
   "cell_type": "code",
   "execution_count": 15,
   "metadata": {},
   "outputs": [
    {
     "data": {
      "text/plain": [
       "array([[0, 0, 0, 1, 0, 0, 0, 1, 0],\n",
       "       [0, 0, 0, 0, 0, 1, 0, 0, 0]])"
      ]
     },
     "execution_count": 15,
     "metadata": {},
     "output_type": "execute_result"
    }
   ],
   "source": [
    "#create balance split by using sk ml\n",
    "mlb = MultiLabelBinarizer()\n",
    "mlb.fit([all_labels])\n",
    "mlb.transform([[\"tokenization\", \"new model\"], [\"pytorch\"]])  # example of target encoding"
   ]
  },
  {
   "cell_type": "markdown",
   "metadata": {},
   "source": [
    "## split dataset"
   ]
  },
  {
   "cell_type": "code",
   "execution_count": 16,
   "metadata": {},
   "outputs": [],
   "source": [
    "def balanced_split(df , test_size = 0.5): \n",
    "    ind = np.expand_dims(np.arange(len(df)), axis=1)\n",
    "    labels = mlb.transform(df[\"labels\"]) # transform labels to binary\n",
    "    ind_train , _ , ind_test, _  = iterative_train_test_split(ind, labels, test_size=test_size) # split data\n",
    "    return df.iloc[ind_train[:, 0]], df.iloc[ind_test[:, 0]]  # return train and test DataFrames"
   ]
  },
  {
   "cell_type": "markdown",
   "metadata": {},
   "source": [
    "Example of balance split\n",
    "![Alt text](image-1.png)"
   ]
  },
  {
   "cell_type": "code",
   "execution_count": 17,
   "metadata": {},
   "outputs": [],
   "source": [
    "from sklearn.model_selection import train_test_split\n",
    "df_clean = df_issues[[\"text\" , \"labels\", \"split\"]].reset_index(drop=True).copy() \n",
    "df_unsup = df_clean.loc[df_clean[\"split\"] == \"unlabeled\", [\"text\", \"labels\"]].copy()\n",
    "df_sup = df_clean.loc[df_clean[\"split\"] == \"labeled\", [\"text\", \"labels\"]].copy()\n",
    "\n",
    "np.random.seed(0)\n",
    " \n",
    "df_train , df_tmp = balanced_split(df_sup, test_size=0.5) \n",
    "df_valid , df_test = balanced_split(df_tmp, test_size=0.5) "
   ]
  },
  {
   "cell_type": "markdown",
   "metadata": {},
   "source": [
    "## Create datasetDict"
   ]
  },
  {
   "cell_type": "code",
   "execution_count": 18,
   "metadata": {},
   "outputs": [],
   "source": [
    "from datasets import Dataset, DatasetDict \n",
    "ds = DatasetDict({\"train\": Dataset.from_pandas(df_train.reset_index(drop=True)),\n",
    "                  \"valid\": Dataset.from_pandas(df_valid.reset_index(drop=True)),\n",
    "                    \"test\": Dataset.from_pandas(df_test.reset_index(drop=True)),\n",
    "                    \"unsup\": Dataset.from_pandas(df_unsup.reset_index(drop=True))\n",
    "                  })"
   ]
  },
  {
   "cell_type": "markdown",
   "metadata": {},
   "source": [
    "## Creating Training slices"
   ]
  },
  {
   "cell_type": "code",
   "execution_count": 19,
   "metadata": {},
   "outputs": [
    {
     "name": "stdout",
     "output_type": "stream",
     "text": [
      "Number of samples: 223\n"
     ]
    }
   ],
   "source": [
    "np.random.seed(0)\n",
    "all_indices = np.expand_dims(list(range(len(ds[\"train\"]))) , axis=1) \n",
    "print(f\"Number of samples: {len(all_indices)}\")\n",
    "indices_pool = all_indices \n",
    "lables = mlb.transform(ds[\"train\"][\"labels\"]) \n",
    "train_samples =  [8, 16, 32, 64, 128] \n",
    "train_slices , last_k = [], 0 \n",
    "for i , k in enumerate(train_samples):\n",
    "    # split off samples necessary to fill the gap to the next split size\n",
    "    indices_pool, lables, new_slice, _ = iterative_train_test_split(indices_pool, lables, (k - last_k)/len(lables))\n",
    "    last_k = k \n",
    "    if i == 0:\n",
    "        train_slices.append(new_slice)\n",
    "    else: train_slices.append(np.concatenate([train_slices[-1], new_slice]))\n",
    "# add full dataset as last slice \n",
    "train_slices.append(all_indices) , train_samples.append(len(ds[\"train\"]))\n",
    "train_slices = [np.squeeze(x) for x in train_slices]"
   ]
  },
  {
   "cell_type": "code",
   "execution_count": 20,
   "metadata": {},
   "outputs": [
    {
     "data": {
      "application/vnd.jupyter.widget-view+json": {
       "model_id": "6d8baad0ce0a42c2ab8fd24bfb2efac8",
       "version_major": 2,
       "version_minor": 0
      },
      "text/plain": [
       "Map:   0%|          | 0/223 [00:00<?, ? examples/s]"
      ]
     },
     "metadata": {},
     "output_type": "display_data"
    },
    {
     "data": {
      "application/vnd.jupyter.widget-view+json": {
       "model_id": "17334d6a6fc34dfc8bc313b6ee72c662",
       "version_major": 2,
       "version_minor": 0
      },
      "text/plain": [
       "Map:   0%|          | 0/106 [00:00<?, ? examples/s]"
      ]
     },
     "metadata": {},
     "output_type": "display_data"
    },
    {
     "data": {
      "application/vnd.jupyter.widget-view+json": {
       "model_id": "131ed6cb73d04a188377d7f3eb25f8b9",
       "version_major": 2,
       "version_minor": 0
      },
      "text/plain": [
       "Map:   0%|          | 0/111 [00:00<?, ? examples/s]"
      ]
     },
     "metadata": {},
     "output_type": "display_data"
    },
    {
     "data": {
      "application/vnd.jupyter.widget-view+json": {
       "model_id": "06623720903a48a8b6b5a508008a4ae8",
       "version_major": 2,
       "version_minor": 0
      },
      "text/plain": [
       "Map:   0%|          | 0/9303 [00:00<?, ? examples/s]"
      ]
     },
     "metadata": {},
     "output_type": "display_data"
    }
   ],
   "source": [
    "def prepare_labels(batch): \n",
    "    batch[\"label_ids\"] = mlb.transform(batch[\"labels\"])\n",
    "    return batch\n",
    "ds = ds.map(prepare_labels, batched=True) "
   ]
  },
  {
   "cell_type": "code",
   "execution_count": 21,
   "metadata": {},
   "outputs": [
    {
     "data": {
      "text/html": [
       "<div>\n",
       "<style scoped>\n",
       "    .dataframe tbody tr th:only-of-type {\n",
       "        vertical-align: middle;\n",
       "    }\n",
       "\n",
       "    .dataframe tbody tr th {\n",
       "        vertical-align: top;\n",
       "    }\n",
       "\n",
       "    .dataframe thead th {\n",
       "        text-align: right;\n",
       "    }\n",
       "</style>\n",
       "<table border=\"1\" class=\"dataframe\">\n",
       "  <thead>\n",
       "    <tr style=\"text-align: right;\">\n",
       "      <th></th>\n",
       "      <th>text</th>\n",
       "      <th>labels</th>\n",
       "    </tr>\n",
       "  </thead>\n",
       "  <tbody>\n",
       "    <tr>\n",
       "      <th>26</th>\n",
       "      <td>Add new CANINE model +  # 🌟 New model addition\\r\\n\\r\\n## Model description\\r\\n\\r\\nGoogle recently proposed a new **C**haracter **A**rchitecture with **N**o tokenization **I**n **N**eural **E**ncod...</td>\n",
       "      <td>[new model]</td>\n",
       "    </tr>\n",
       "    <tr>\n",
       "      <th>107</th>\n",
       "      <td>Please implement DUMA: Reading Comprehension with Transposition Thinking +  # 🚀 Feature request\\r\\n\\r\\n&lt;!-- A clear and concise description of the feature proposal.\\r\\n     Please provide a link t...</td>\n",
       "      <td>[new model]</td>\n",
       "    </tr>\n",
       "    <tr>\n",
       "      <th>264</th>\n",
       "      <td>Can DeepSpeed ZeRO-3 be applied for training?  +  # 🌟 New model addition\\r\\n\\r\\nWe have applied DeepSpeed v0.3.10(ZeRO-2) on T5 training. \\r\\nI heard DeepSpeed ZeRO-3 library has been released 10 ...</td>\n",
       "      <td>[new model]</td>\n",
       "    </tr>\n",
       "    <tr>\n",
       "      <th>484</th>\n",
       "      <td>XLSR-53 +  # 🚀 Feature request\\r\\n\\r\\nIs it possible to use XLSR-53 with transformers in the near future? \\r\\n</td>\n",
       "      <td>[new model]</td>\n",
       "    </tr>\n",
       "    <tr>\n",
       "      <th>566</th>\n",
       "      <td>[examples] should all examples support the predict stage? +  This is part of the ongoing effort to sync the example scripts.\\r\\n\\r\\nIn https://github.com/huggingface/transformers/issues/10437#issu...</td>\n",
       "      <td>[examples]</td>\n",
       "    </tr>\n",
       "  </tbody>\n",
       "</table>\n",
       "</div>"
      ],
      "text/plain": [
       "                                                                                                                                                                                                        text  \\\n",
       "26   Add new CANINE model +  # 🌟 New model addition\\r\\n\\r\\n## Model description\\r\\n\\r\\nGoogle recently proposed a new **C**haracter **A**rchitecture with **N**o tokenization **I**n **N**eural **E**ncod...   \n",
       "107  Please implement DUMA: Reading Comprehension with Transposition Thinking +  # 🚀 Feature request\\r\\n\\r\\n<!-- A clear and concise description of the feature proposal.\\r\\n     Please provide a link t...   \n",
       "264  Can DeepSpeed ZeRO-3 be applied for training?  +  # 🌟 New model addition\\r\\n\\r\\nWe have applied DeepSpeed v0.3.10(ZeRO-2) on T5 training. \\r\\nI heard DeepSpeed ZeRO-3 library has been released 10 ...   \n",
       "484                                                                                           XLSR-53 +  # 🚀 Feature request\\r\\n\\r\\nIs it possible to use XLSR-53 with transformers in the near future? \\r\\n   \n",
       "566  [examples] should all examples support the predict stage? +  This is part of the ongoing effort to sync the example scripts.\\r\\n\\r\\nIn https://github.com/huggingface/transformers/issues/10437#issu...   \n",
       "\n",
       "          labels  \n",
       "26   [new model]  \n",
       "107  [new model]  \n",
       "264  [new model]  \n",
       "484  [new model]  \n",
       "566   [examples]  "
      ]
     },
     "execution_count": 21,
     "metadata": {},
     "output_type": "execute_result"
    }
   ],
   "source": [
    "df_train.head()"
   ]
  },
  {
   "cell_type": "code",
   "execution_count": 22,
   "metadata": {},
   "outputs": [],
   "source": [
    "def plot_metrics(micro_scores, macro_scores, sample_sizes, current_model):\n",
    "    fig, (ax0, ax1) = plt.subplots(1, 2, figsize=(10, 4), sharey=True)\n",
    "    for run in micro_scores.keys():\n",
    "        if run == current_model:\n",
    "            print(run)\n",
    "            ax0.plot(sample_sizes, micro_scores[run], label = run , linewidth=2)            \n",
    "            ax1.plot(sample_sizes, macro_scores[run], label = run , linewidth=2)\n",
    "        else:\n",
    "            print(run)\n",
    "            ax0.plot(sample_sizes, micro_scores[run], label=run,linestyle=\"dashed\")\n",
    "            ax1.plot(sample_sizes, macro_scores[run], label=run,linestyle=\"dashed\")\n",
    "    ax0.set_title(\"Micro F1 scores\")\n",
    "    ax1.set_title(\"Macro F1 scores\")\n",
    "    ax0.set_ylabel(\"Test set F1 score\")\n",
    "    ax0.legend(loc=\"lower right\")\n",
    "    for ax in [ax0, ax1]:\n",
    "        ax.set_xlabel(\"Number of training samples\")\n",
    "        ax.set_xscale(\"log\")\n",
    "        ax.set_xticks(sample_sizes)\n",
    "        ax.set_xticklabels(sample_sizes)\n",
    "        ax.minorticks_off()\n",
    "    plt.tight_layout()\n",
    "    plt.show()\n",
    "# plot_metrics(micro_scores, macro_scores, train_samples, \"Naive Bayes\")"
   ]
  },
  {
   "cell_type": "code",
   "execution_count": 23,
   "metadata": {},
   "outputs": [],
   "source": [
    "import torch\n",
    "device  = \"cuda\" if torch.cuda.is_available() else \"cpu\""
   ]
  },
  {
   "cell_type": "markdown",
   "metadata": {},
   "source": [
    "## Plot the metrics"
   ]
  },
  {
   "cell_type": "markdown",
   "metadata": {},
   "source": [
    "### init macro and micro"
   ]
  },
  {
   "cell_type": "code",
   "execution_count": 24,
   "metadata": {},
   "outputs": [],
   "source": [
    "# import defaultdict\n",
    "from collections import defaultdict\n",
    "macro_scores = defaultdict(list,\n",
    "            {'Naive Bayes': [0.23288166214995487,\n",
    "              0.21006897585844955,\n",
    "              0.24086240556828795,\n",
    "              0.25730500818220114,\n",
    "              0.28271105113210376,\n",
    "              0.27403710305671086],\n",
    "             'Zero-Shot': [0.3869340923536515,\n",
    "              0.3869340923536515,\n",
    "              0.3869340923536515,\n",
    "              0.3869340923536515,\n",
    "              0.3869340923536515,\n",
    "              0.3869340923536515],\n",
    "             'Naive Bayes + Aug': [0.27235449735449735,\n",
    "              0.278589655958077,\n",
    "              0.33758862806420187,\n",
    "              0.4415159953502743,\n",
    "              0.4563280715286368,\n",
    "              0.4832651770367019],\n",
    "             'Embedding GPT2': [0.2359519022412816,\n",
    "              0.22399328684158407,\n",
    "              0.24991158684522524,\n",
    "              0.3304358431861561,\n",
    "              0.31501683091623417,\n",
    "              0.30677622391019166]})\n",
    "\n",
    "micro_scores = defaultdict(list,\n",
    "            {'Naive Bayes': [0.3604651162790698,\n",
    "              0.30208333333333337,\n",
    "              0.41081081081081083,\n",
    "              0.4435483870967742,\n",
    "              0.5046728971962616,\n",
    "              0.5346534653465347],\n",
    "             'Zero-Shot': [0.4444444444444445,\n",
    "              0.4444444444444445,\n",
    "              0.4444444444444445,\n",
    "              0.4444444444444445,\n",
    "              0.4444444444444445,\n",
    "              0.4444444444444445],\n",
    "             'Naive Bayes + Aug': [0.5081081081081081,\n",
    "              0.4954128440366973,\n",
    "              0.5084745762711865,\n",
    "              0.5679012345679012,\n",
    "              0.5590551181102362,\n",
    "              0.578125],\n",
    "             'Embedding GPT2': [0.3167155425219942,\n",
    "              0.36363636363636365,\n",
    "              0.39452054794520547,\n",
    "              0.5118483412322274,\n",
    "              0.46564885496183206,\n",
    "              0.5402843601895735]})\n"
   ]
  },
  {
   "cell_type": "code",
   "execution_count": 25,
   "metadata": {},
   "outputs": [
    {
     "name": "stdout",
     "output_type": "stream",
     "text": [
      "Naive Bayes\n",
      "Zero-Shot\n",
      "Naive Bayes + Aug\n",
      "Embedding GPT2\n"
     ]
    },
    {
     "data": {
      "image/png": "[encoded data removed]",
      "text/plain": [
       "<Figure size 1000x400 with 2 Axes>"
      ]
     },
     "metadata": {},
     "output_type": "display_data"
    }
   ],
   "source": [
    "plot_metrics(micro_scores, macro_scores, train_samples, \"Embedding\")"
   ]
  },
  {
   "cell_type": "markdown",
   "metadata": {},
   "source": [
    "# Domain adaptation "
   ]
  },
  {
   "cell_type": "markdown",
   "metadata": {},
   "source": [
    "## Load the base model"
   ]
  },
  {
   "cell_type": "code",
   "execution_count": 26,
   "metadata": {},
   "outputs": [
    {
     "data": {
      "application/vnd.jupyter.widget-view+json": {
       "model_id": "bb913afa61054be8b1c04b0537e79274",
       "version_major": 2,
       "version_minor": 0
      },
      "text/plain": [
       "Map:   0%|          | 0/223 [00:00<?, ? examples/s]"
      ]
     },
     "metadata": {},
     "output_type": "display_data"
    },
    {
     "data": {
      "application/vnd.jupyter.widget-view+json": {
       "model_id": "62e3c9af111d4b8a927765c1e2fbee86",
       "version_major": 2,
       "version_minor": 0
      },
      "text/plain": [
       "Map:   0%|          | 0/106 [00:00<?, ? examples/s]"
      ]
     },
     "metadata": {},
     "output_type": "display_data"
    },
    {
     "data": {
      "application/vnd.jupyter.widget-view+json": {
       "model_id": "a912f2a81cab42888fcac923d7cf2abe",
       "version_major": 2,
       "version_minor": 0
      },
      "text/plain": [
       "Map:   0%|          | 0/111 [00:00<?, ? examples/s]"
      ]
     },
     "metadata": {},
     "output_type": "display_data"
    },
    {
     "data": {
      "application/vnd.jupyter.widget-view+json": {
       "model_id": "1d3fa90aa987490a819ca0eb8bcc222c",
       "version_major": 2,
       "version_minor": 0
      },
      "text/plain": [
       "Map:   0%|          | 0/9303 [00:00<?, ? examples/s]"
      ]
     },
     "metadata": {},
     "output_type": "display_data"
    }
   ],
   "source": [
    "model_ckpt  = \"bert-base-uncased\"\n",
    "tokenizer = AutoTokenizer.from_pretrained(model_ckpt)\n",
    "def tokenize(batch):\n",
    "    return tokenizer(batch[\"text\"], truncation=True, max_length=128, return_special_tokens_mask=True)\n",
    "ds_mlm = ds.map(tokenize, batched=True) \n",
    "ds_mlm = ds_mlm.remove_columns([\"text\", \"labels\", \"label_ids\"])"
   ]
  },
  {
   "cell_type": "code",
   "execution_count": 27,
   "metadata": {},
   "outputs": [
    {
     "data": {
      "text/plain": [
       "DatasetDict({\n",
       "    train: Dataset({\n",
       "        features: ['input_ids', 'token_type_ids', 'attention_mask', 'special_tokens_mask'],\n",
       "        num_rows: 223\n",
       "    })\n",
       "    valid: Dataset({\n",
       "        features: ['input_ids', 'token_type_ids', 'attention_mask', 'special_tokens_mask'],\n",
       "        num_rows: 106\n",
       "    })\n",
       "    test: Dataset({\n",
       "        features: ['input_ids', 'token_type_ids', 'attention_mask', 'special_tokens_mask'],\n",
       "        num_rows: 111\n",
       "    })\n",
       "    unsup: Dataset({\n",
       "        features: ['input_ids', 'token_type_ids', 'attention_mask', 'special_tokens_mask'],\n",
       "        num_rows: 9303\n",
       "    })\n",
       "})"
      ]
     },
     "execution_count": 27,
     "metadata": {},
     "output_type": "execute_result"
    }
   ],
   "source": [
    "ds_mlm "
   ]
  },
  {
   "cell_type": "markdown",
   "metadata": {},
   "source": [
    "## Create data CollatorForLanguageModelling\n"
   ]
  },
  {
   "cell_type": "code",
   "execution_count": 28,
   "metadata": {},
   "outputs": [
    {
     "name": "stderr",
     "output_type": "stream",
     "text": [
      "You're using a BertTokenizerFast tokenizer. Please note that with a fast tokenizer, using the `__call__` method is faster than using a method to encode the text followed by a call to the `pad` method to get a padded encoding.\n"
     ]
    },
    {
     "data": {
      "text/html": [
       "<div>\n",
       "<style scoped>\n",
       "    .dataframe tbody tr th:only-of-type {\n",
       "        vertical-align: middle;\n",
       "    }\n",
       "\n",
       "    .dataframe tbody tr th {\n",
       "        vertical-align: top;\n",
       "    }\n",
       "\n",
       "    .dataframe thead th {\n",
       "        text-align: right;\n",
       "    }\n",
       "</style>\n",
       "<table border=\"1\" class=\"dataframe\">\n",
       "  <thead>\n",
       "    <tr style=\"text-align: right;\">\n",
       "      <th></th>\n",
       "      <th>0</th>\n",
       "      <th>1</th>\n",
       "      <th>2</th>\n",
       "      <th>3</th>\n",
       "      <th>4</th>\n",
       "      <th>5</th>\n",
       "    </tr>\n",
       "  </thead>\n",
       "  <tbody>\n",
       "    <tr>\n",
       "      <th>Original input_ids</th>\n",
       "      <td>101</td>\n",
       "      <td>19081</td>\n",
       "      <td>2024</td>\n",
       "      <td>12476</td>\n",
       "      <td>999</td>\n",
       "      <td>102</td>\n",
       "    </tr>\n",
       "    <tr>\n",
       "      <th>Markd input_ids</th>\n",
       "      <td>101</td>\n",
       "      <td>103</td>\n",
       "      <td>2024</td>\n",
       "      <td>1997</td>\n",
       "      <td>999</td>\n",
       "      <td>102</td>\n",
       "    </tr>\n",
       "    <tr>\n",
       "      <th>Original tokens</th>\n",
       "      <td>[CLS]</td>\n",
       "      <td>transformers</td>\n",
       "      <td>are</td>\n",
       "      <td>awesome</td>\n",
       "      <td>!</td>\n",
       "      <td>[SEP]</td>\n",
       "    </tr>\n",
       "    <tr>\n",
       "      <th>Masked tokens</th>\n",
       "      <td>[CLS]</td>\n",
       "      <td>[MASK]</td>\n",
       "      <td>are</td>\n",
       "      <td>of</td>\n",
       "      <td>!</td>\n",
       "      <td>[SEP]</td>\n",
       "    </tr>\n",
       "    <tr>\n",
       "      <th>lables</th>\n",
       "      <td>-100</td>\n",
       "      <td>19081</td>\n",
       "      <td>-100</td>\n",
       "      <td>12476</td>\n",
       "      <td>-100</td>\n",
       "      <td>-100</td>\n",
       "    </tr>\n",
       "  </tbody>\n",
       "</table>\n",
       "</div>"
      ],
      "text/plain": [
       "                        0             1     2        3     4      5\n",
       "Original input_ids    101         19081  2024    12476   999    102\n",
       "Markd input_ids       101           103  2024     1997   999    102\n",
       "Original tokens     [CLS]  transformers   are  awesome     !  [SEP]\n",
       "Masked tokens       [CLS]        [MASK]   are       of     !  [SEP]\n",
       "lables               -100         19081  -100    12476  -100   -100"
      ]
     },
     "execution_count": 28,
     "metadata": {},
     "output_type": "execute_result"
    }
   ],
   "source": [
    "from transformers import DataCollatorForLanguageModeling , set_seed\n",
    "data_collator = DataCollatorForLanguageModeling(tokenizer=tokenizer, mlm_probability=0.15) \n",
    "set_seed(3)\n",
    "# test data collator \n",
    "data_collator.return_tensors = \"pt\"\n",
    "inputs = tokenizer(\"Transformers are awesome!\", return_tensors=\"pt\") \n",
    "outputs = data_collator([{\"input_ids\" : inputs[\"input_ids\"][0]}])\n",
    "pd.DataFrame( {\n",
    "    \"Original input_ids\" :  inputs[\"input_ids\"][0] ,\n",
    "    \"Markd input_ids\" : outputs[\"input_ids\"][0],\n",
    "    \"Original tokens\":  tokenizer.convert_ids_to_tokens(inputs[\"input_ids\"][0]) , \n",
    "    \"Masked tokens\" :  tokenizer.convert_ids_to_tokens(outputs[\"input_ids\"][0]) , \n",
    "    \"lables\" : outputs[\"labels\"][0]\n",
    "}).T"
   ]
  },
  {
   "cell_type": "markdown",
   "metadata": {},
   "source": [
    "## Config model and trainer"
   ]
  },
  {
   "cell_type": "code",
   "execution_count": 30,
   "metadata": {},
   "outputs": [
    {
     "name": "stderr",
     "output_type": "stream",
     "text": [
      "Some weights of the model checkpoint at bert-base-uncased were not used when initializing BertForMaskedLM: ['cls.seq_relationship.bias', 'cls.seq_relationship.weight', 'bert.pooler.dense.weight', 'bert.pooler.dense.bias']\n",
      "- This IS expected if you are initializing BertForMaskedLM from the checkpoint of a model trained on another task or with another architecture (e.g. initializing a BertForSequenceClassification model from a BertForPreTraining model).\n",
      "- This IS NOT expected if you are initializing BertForMaskedLM from the checkpoint of a model that you expect to be exactly identical (initializing a BertForSequenceClassification model from a BertForSequenceClassification model).\n"
     ]
    }
   ],
   "source": [
    "from transformers import AutoModelForMaskedLM,TrainingArguments,Trainer\n",
    "training_args = TrainingArguments(\n",
    "    output_dir=f\"{model_ckpt}-issues-128\", per_device_train_batch_size = 128 ,\n",
    "    logging_strategy=\"epoch\", evaluation_strategy=\"epoch\", save_strategy=\"no\", \n",
    "    num_train_epochs=16, push_to_hub=True, log_level=\"error\", report_to=\"none\",\n",
    "    ) \n",
    "model_AD = AutoModelForMaskedLM.from_pretrained(model_ckpt).to(device)\n"
   ]
  },
  {
   "cell_type": "code",
   "execution_count": 31,
   "metadata": {},
   "outputs": [
    {
     "data": {
      "text/html": [
       "\n",
       "    <div>\n",
       "      \n",
       "      <progress value='1168' max='1168' style='width:300px; height:20px; vertical-align: middle;'></progress>\n",
       "      [1168/1168 12:58, Epoch 16/16]\n",
       "    </div>\n",
       "    <table border=\"1\" class=\"dataframe\">\n",
       "  <thead>\n",
       " <tr style=\"text-align: left;\">\n",
       "      <th>Epoch</th>\n",
       "      <th>Training Loss</th>\n",
       "      <th>Validation Loss</th>\n",
       "    </tr>\n",
       "  </thead>\n",
       "  <tbody>\n",
       "    <tr>\n",
       "      <td>1</td>\n",
       "      <td>2.326700</td>\n",
       "      <td>1.886230</td>\n",
       "    </tr>\n",
       "    <tr>\n",
       "      <td>2</td>\n",
       "      <td>1.774000</td>\n",
       "      <td>1.545418</td>\n",
       "    </tr>\n",
       "    <tr>\n",
       "      <td>3</td>\n",
       "      <td>1.600100</td>\n",
       "      <td>1.491579</td>\n",
       "    </tr>\n",
       "    <tr>\n",
       "      <td>4</td>\n",
       "      <td>1.511100</td>\n",
       "      <td>1.467649</td>\n",
       "    </tr>\n",
       "    <tr>\n",
       "      <td>5</td>\n",
       "      <td>1.449000</td>\n",
       "      <td>1.310001</td>\n",
       "    </tr>\n",
       "    <tr>\n",
       "      <td>6</td>\n",
       "      <td>1.385500</td>\n",
       "      <td>1.425466</td>\n",
       "    </tr>\n",
       "    <tr>\n",
       "      <td>7</td>\n",
       "      <td>1.352200</td>\n",
       "      <td>1.290089</td>\n",
       "    </tr>\n",
       "    <tr>\n",
       "      <td>8</td>\n",
       "      <td>1.326200</td>\n",
       "      <td>1.329382</td>\n",
       "    </tr>\n",
       "    <tr>\n",
       "      <td>9</td>\n",
       "      <td>1.292000</td>\n",
       "      <td>1.345770</td>\n",
       "    </tr>\n",
       "    <tr>\n",
       "      <td>10</td>\n",
       "      <td>1.274600</td>\n",
       "      <td>1.308569</td>\n",
       "    </tr>\n",
       "    <tr>\n",
       "      <td>11</td>\n",
       "      <td>1.251500</td>\n",
       "      <td>1.217464</td>\n",
       "    </tr>\n",
       "    <tr>\n",
       "      <td>12</td>\n",
       "      <td>1.239900</td>\n",
       "      <td>1.152122</td>\n",
       "    </tr>\n",
       "    <tr>\n",
       "      <td>13</td>\n",
       "      <td>1.222600</td>\n",
       "      <td>1.245332</td>\n",
       "    </tr>\n",
       "    <tr>\n",
       "      <td>14</td>\n",
       "      <td>1.214800</td>\n",
       "      <td>1.146606</td>\n",
       "    </tr>\n",
       "    <tr>\n",
       "      <td>15</td>\n",
       "      <td>1.208400</td>\n",
       "      <td>1.300790</td>\n",
       "    </tr>\n",
       "    <tr>\n",
       "      <td>16</td>\n",
       "      <td>1.196400</td>\n",
       "      <td>1.322632</td>\n",
       "    </tr>\n",
       "  </tbody>\n",
       "</table><p>"
      ],
      "text/plain": [
       "<IPython.core.display.HTML object>"
      ]
     },
     "metadata": {},
     "output_type": "display_data"
    },
    {
     "data": {
      "application/vnd.jupyter.widget-view+json": {
       "model_id": "d8eebf5cc7e342bfa4e594aa64f05b51",
       "version_major": 2,
       "version_minor": 0
      },
      "text/plain": [
       "Upload 2 LFS files:   0%|          | 0/2 [00:00<?, ?it/s]"
      ]
     },
     "metadata": {},
     "output_type": "display_data"
    },
    {
     "data": {
      "application/vnd.jupyter.widget-view+json": {
       "model_id": "006dbfa6e1d14cb6a112c76139a791dd",
       "version_major": 2,
       "version_minor": 0
      },
      "text/plain": [
       "pytorch_model.bin:   0%|          | 0.00/438M [00:00<?, ?B/s]"
      ]
     },
     "metadata": {},
     "output_type": "display_data"
    },
    {
     "data": {
      "application/vnd.jupyter.widget-view+json": {
       "model_id": "036e38f5bd9f44e9b4882bdfb7dcc9f6",
       "version_major": 2,
       "version_minor": 0
      },
      "text/plain": [
       "training_args.bin:   0%|          | 0.00/4.03k [00:00<?, ?B/s]"
      ]
     },
     "metadata": {},
     "output_type": "display_data"
    },
    {
     "data": {
      "text/plain": [
       "'https://huggingface.co/phnghiapro/bert-base-uncased-issues-128/tree/main/'"
      ]
     },
     "execution_count": 31,
     "metadata": {},
     "output_type": "execute_result"
    }
   ],
   "source": [
    "trainer  = Trainer(\n",
    "    model = model_AD,\n",
    "    tokenizer=tokenizer,\n",
    "    args=training_args,\n",
    "    data_collator=data_collator,    \n",
    "    train_dataset=ds_mlm[\"unsup\"],\n",
    "    eval_dataset=ds_mlm[\"train\"],\n",
    ")\n",
    "trainer.train()\n",
    "trainer.push_to_hub(\"Training complete!\")"
   ]
  },
  {
   "cell_type": "markdown",
   "metadata": {},
   "source": [
    "## Plot the log"
   ]
  },
  {
   "cell_type": "code",
   "execution_count": 33,
   "metadata": {},
   "outputs": [
    {
     "data": {
      "image/png": "[encoded data removed]",
      "text/plain": [
       "<Figure size 640x480 with 1 Axes>"
      ]
     },
     "metadata": {},
     "output_type": "display_data"
    }
   ],
   "source": [
    "# Since the training and validation loss\n",
    "# are recorded at different steps, there are missing values in the dataframe.\n",
    "df_log = pd.DataFrame(trainer.state.log_history)\n",
    "\n",
    "(df_log.dropna(subset=[\"eval_loss\"]).reset_index()[\"eval_loss\"]\n",
    "               .plot(label=\"Validation\"))\n",
    "df_log.dropna(subset=[\"loss\"]).reset_index()[\"loss\"].plot(label=\"Train\") \n",
    "# save df log\n",
    "df_log.to_csv(\"df_log.csv\")\n",
    "plt.xlabel(\"Epoch\")\n",
    "plt.ylabel(\"Loss\")\n",
    "plt.legend(loc = \"upper right\") \n",
    "plt.show()"
   ]
  },
  {
   "cell_type": "markdown",
   "metadata": {},
   "source": [
    "# Fine tune model"
   ]
  },
  {
   "cell_type": "code",
   "execution_count": 34,
   "metadata": {},
   "outputs": [],
   "source": [
    "from scipy.special import expit as sigmoid\n",
    "def compute_metrics(pred):\n",
    "    y_true = pred.label_ids\n",
    "    y_pred = (sigmoid(pred.predictions) > 0.5).astype(float)\n",
    "    \n",
    "    clf_dict = classification_report(y_true, y_pred, target_names = all_labels, \n",
    "                                     zero_division=0, output_dict=True)\n",
    "    return {\"micro f1\": clf_dict[\"micro avg\"][\"f1-score\"],\n",
    "            \"macro f1\": clf_dict[\"macro avg\"][\"f1-score\"]}"
   ]
  },
  {
   "cell_type": "code",
   "execution_count": 39,
   "metadata": {},
   "outputs": [],
   "source": [
    "model_ckpt = \"bert-base-uncased\""
   ]
  },
  {
   "cell_type": "markdown",
   "metadata": {},
   "source": [
    "## Load model from check point"
   ]
  },
  {
   "cell_type": "code",
   "execution_count": null,
   "metadata": {},
   "outputs": [
    {
     "name": "stdout",
     "output_type": "stream",
     "text": [
      "model checkpoint:  bert-base-uncased-issues-128\n"
     ]
    }
   ],
   "source": [
    "micro_scores[\"Fine-tune (DA)\"] = []\n",
    "macro_scores[\"Fine-tune (DA)\"] = []\n",
    "model_ckpt = f'{model_ckpt}-issues-128'\n",
    "print('model checkpoint: ', model_ckpt)\n",
    "config = AutoConfig.from_pretrained(model_ckpt)\n",
    "config.num_labels = len(all_labels)\n",
    "config.problem_type = \"multi_label_classification\"\n",
    "config.problem_type = \"multi_label_classification\"\n",
    "    "
   ]
  },
  {
   "cell_type": "markdown",
   "metadata": {},
   "source": [
    "## Create dataset "
   ]
  },
  {
   "cell_type": "code",
   "execution_count": null,
   "metadata": {},
   "outputs": [
    {
     "data": {
      "application/vnd.jupyter.widget-view+json": {
       "model_id": "99067ac058d441fcb073075130ef7984",
       "version_major": 2,
       "version_minor": 0
      },
      "text/plain": [
       "Map:   0%|          | 0/223 [00:00<?, ? examples/s]"
      ]
     },
     "metadata": {},
     "output_type": "display_data"
    },
    {
     "data": {
      "application/vnd.jupyter.widget-view+json": {
       "model_id": "2540c924917c4d20abf7da11d780fe4c",
       "version_major": 2,
       "version_minor": 0
      },
      "text/plain": [
       "Map:   0%|          | 0/106 [00:00<?, ? examples/s]"
      ]
     },
     "metadata": {},
     "output_type": "display_data"
    },
    {
     "data": {
      "application/vnd.jupyter.widget-view+json": {
       "model_id": "465bda98de354067bf824e8eca72ae18",
       "version_major": 2,
       "version_minor": 0
      },
      "text/plain": [
       "Map:   0%|          | 0/111 [00:00<?, ? examples/s]"
      ]
     },
     "metadata": {},
     "output_type": "display_data"
    },
    {
     "data": {
      "application/vnd.jupyter.widget-view+json": {
       "model_id": "ffb49815a6df47bfa663e29b877f1fb5",
       "version_major": 2,
       "version_minor": 0
      },
      "text/plain": [
       "Map:   0%|          | 0/9303 [00:00<?, ? examples/s]"
      ]
     },
     "metadata": {},
     "output_type": "display_data"
    },
    {
     "data": {
      "application/vnd.jupyter.widget-view+json": {
       "model_id": "15494d5e929a4989b1f5a802f00e78c3",
       "version_major": 2,
       "version_minor": 0
      },
      "text/plain": [
       "Map:   0%|          | 0/223 [00:00<?, ? examples/s]"
      ]
     },
     "metadata": {},
     "output_type": "display_data"
    },
    {
     "data": {
      "application/vnd.jupyter.widget-view+json": {
       "model_id": "67e79e420e7c4e858edee98daeee6332",
       "version_major": 2,
       "version_minor": 0
      },
      "text/plain": [
       "Map:   0%|          | 0/106 [00:00<?, ? examples/s]"
      ]
     },
     "metadata": {},
     "output_type": "display_data"
    },
    {
     "data": {
      "application/vnd.jupyter.widget-view+json": {
       "model_id": "25f9b971a5e045e5869e09d4d9b5a480",
       "version_major": 2,
       "version_minor": 0
      },
      "text/plain": [
       "Map:   0%|          | 0/111 [00:00<?, ? examples/s]"
      ]
     },
     "metadata": {},
     "output_type": "display_data"
    },
    {
     "data": {
      "application/vnd.jupyter.widget-view+json": {
       "model_id": "8e1fee595cd44b2ab70326f71352a7ef",
       "version_major": 2,
       "version_minor": 0
      },
      "text/plain": [
       "Map:   0%|          | 0/9303 [00:00<?, ? examples/s]"
      ]
     },
     "metadata": {},
     "output_type": "display_data"
    }
   ],
   "source": [
    "tokenizer = AutoTokenizer.from_pretrained(model_ckpt) \n",
    "def tokenize(batch):\n",
    "    return tokenizer(batch[\"text\"], truncation=True, max_length=128)\n",
    "ds_enc = ds.map(tokenize, batched=True) \n",
    "ds_enc = ds_enc.remove_columns([\"text\", \"labels\"])\n",
    "ds_enc.set_format(\"torch\") \n",
    "ds_enc = ds_enc.map(lambda x: {'label_ids_f': x['label_ids'].to(torch.float)},\n",
    "                               remove_columns = [\"label_ids\"])\n",
    "ds_enc = ds_enc.rename_column(\"label_ids_f\", \"label_ids\")"
   ]
  },
  {
   "cell_type": "code",
   "execution_count": 40,
   "metadata": {},
   "outputs": [
    {
     "name": "stdout",
     "output_type": "stream",
     "text": [
      "model checkpoint:  bert-base-uncased-issues-128\n"
     ]
    }
   ],
   "source": [
    "micro_scores[\"Fine-tune (DA)\"] = []\n",
    "macro_scores[\"Fine-tune (DA)\"] = []\n",
    "model_ckpt = f'{model_ckpt}-issues-128'\n",
    "print('model checkpoint: ', model_ckpt)\n",
    "config = AutoConfig.from_pretrained(model_ckpt)\n",
    "config.num_labels = len(all_labels)\n",
    "config.problem_type = \"multi_label_classification\"\n",
    "config.problem_type = \"multi_label_classification\"\n",
    "    "
   ]
  },
  {
   "cell_type": "markdown",
   "metadata": {},
   "source": [
    "##  Config fine tune"
   ]
  },
  {
   "cell_type": "code",
   "execution_count": 58,
   "metadata": {},
   "outputs": [],
   "source": [
    "from transformers import Trainer, TrainingArguments\n",
    "training_args_fine_tune = TrainingArguments(\n",
    "    output_dir=\"./results\", num_train_epochs=20, learning_rate=7e-5,\n",
    "    lr_scheduler_type='constant', per_device_train_batch_size=4,\n",
    "    per_device_eval_batch_size=256, weight_decay=0.0,\n",
    "    evaluation_strategy=\"epoch\", save_strategy=\"epoch\",logging_strategy=\"epoch\",\n",
    "    load_best_model_at_end=True, metric_for_best_model='micro f1',\n",
    "    save_total_limit=1, log_level='error')"
   ]
  },
  {
   "cell_type": "markdown",
   "metadata": {},
   "source": [
    "## Train the model"
   ]
  },
  {
   "cell_type": "code",
   "execution_count": 59,
   "metadata": {},
   "outputs": [
    {
     "name": "stdout",
     "output_type": "stream",
     "text": [
      "{'loss': 0.6158, 'learning_rate': 7e-05, 'epoch': 1.0}\n",
      "{'eval_loss': 0.46255114674568176, 'eval_micro f1': 0.0, 'eval_macro f1': 0.0, 'eval_runtime': 0.1533, 'eval_samples_per_second': 691.463, 'eval_steps_per_second': 6.523, 'epoch': 1.0}\n",
      "{'loss': 0.4188, 'learning_rate': 7e-05, 'epoch': 2.0}\n",
      "{'eval_loss': 0.40126222372055054, 'eval_micro f1': 0.0, 'eval_macro f1': 0.0, 'eval_runtime': 0.1565, 'eval_samples_per_second': 677.269, 'eval_steps_per_second': 6.389, 'epoch': 2.0}\n",
      "{'loss': 0.3604, 'learning_rate': 7e-05, 'epoch': 3.0}\n",
      "{'eval_loss': 0.37385040521621704, 'eval_micro f1': 0.0, 'eval_macro f1': 0.0, 'eval_runtime': 0.1542, 'eval_samples_per_second': 687.331, 'eval_steps_per_second': 6.484, 'epoch': 3.0}\n",
      "{'loss': 0.3358, 'learning_rate': 7e-05, 'epoch': 4.0}\n",
      "{'eval_loss': 0.3620068430900574, 'eval_micro f1': 0.0, 'eval_macro f1': 0.0, 'eval_runtime': 0.1557, 'eval_samples_per_second': 680.595, 'eval_steps_per_second': 6.421, 'epoch': 4.0}\n",
      "{'loss': 0.304, 'learning_rate': 7e-05, 'epoch': 5.0}\n",
      "{'eval_loss': 0.3583330810070038, 'eval_micro f1': 0.0, 'eval_macro f1': 0.0, 'eval_runtime': 0.1559, 'eval_samples_per_second': 679.87, 'eval_steps_per_second': 6.414, 'epoch': 5.0}\n",
      "{'loss': 0.2785, 'learning_rate': 7e-05, 'epoch': 6.0}\n",
      "{'eval_loss': 0.35983797907829285, 'eval_micro f1': 0.0, 'eval_macro f1': 0.0, 'eval_runtime': 0.1538, 'eval_samples_per_second': 689.346, 'eval_steps_per_second': 6.503, 'epoch': 6.0}\n",
      "{'loss': 0.2507, 'learning_rate': 7e-05, 'epoch': 7.0}\n",
      "{'eval_loss': 0.3601663410663605, 'eval_micro f1': 0.0, 'eval_macro f1': 0.0, 'eval_runtime': 0.1542, 'eval_samples_per_second': 687.27, 'eval_steps_per_second': 6.484, 'epoch': 7.0}\n",
      "{'loss': 0.2247, 'learning_rate': 7e-05, 'epoch': 8.0}\n",
      "{'eval_loss': 0.3532986044883728, 'eval_micro f1': 0.0, 'eval_macro f1': 0.0, 'eval_runtime': 0.1549, 'eval_samples_per_second': 684.371, 'eval_steps_per_second': 6.456, 'epoch': 8.0}\n",
      "{'loss': 0.2013, 'learning_rate': 7e-05, 'epoch': 9.0}\n",
      "{'eval_loss': 0.3509092926979065, 'eval_micro f1': 0.03225806451612903, 'eval_macro f1': 0.014336917562724014, 'eval_runtime': 0.1565, 'eval_samples_per_second': 677.279, 'eval_steps_per_second': 6.389, 'epoch': 9.0}\n",
      "{'loss': 0.1902, 'learning_rate': 7e-05, 'epoch': 10.0}\n",
      "{'eval_loss': 0.349750816822052, 'eval_micro f1': 0.03225806451612903, 'eval_macro f1': 0.014336917562724014, 'eval_runtime': 0.1558, 'eval_samples_per_second': 680.177, 'eval_steps_per_second': 6.417, 'epoch': 10.0}\n",
      "{'loss': 0.1664, 'learning_rate': 7e-05, 'epoch': 11.0}\n",
      "{'eval_loss': 0.34894290566444397, 'eval_micro f1': 0.03225806451612903, 'eval_macro f1': 0.014336917562724014, 'eval_runtime': 0.1561, 'eval_samples_per_second': 679.196, 'eval_steps_per_second': 6.408, 'epoch': 11.0}\n",
      "{'loss': 0.1595, 'learning_rate': 7e-05, 'epoch': 12.0}\n",
      "{'eval_loss': 0.34924834966659546, 'eval_micro f1': 0.03225806451612903, 'eval_macro f1': 0.014336917562724014, 'eval_runtime': 0.1562, 'eval_samples_per_second': 678.714, 'eval_steps_per_second': 6.403, 'epoch': 12.0}\n",
      "{'loss': 0.1492, 'learning_rate': 7e-05, 'epoch': 13.0}\n",
      "{'eval_loss': 0.35096052289009094, 'eval_micro f1': 0.03225806451612903, 'eval_macro f1': 0.014336917562724014, 'eval_runtime': 0.1576, 'eval_samples_per_second': 672.521, 'eval_steps_per_second': 6.345, 'epoch': 13.0}\n",
      "{'loss': 0.1335, 'learning_rate': 7e-05, 'epoch': 14.0}\n",
      "{'eval_loss': 0.35342472791671753, 'eval_micro f1': 0.048, 'eval_macro f1': 0.03453893776474422, 'eval_runtime': 0.1554, 'eval_samples_per_second': 681.92, 'eval_steps_per_second': 6.433, 'epoch': 14.0}\n",
      "{'loss': 0.127, 'learning_rate': 7e-05, 'epoch': 15.0}\n",
      "{'eval_loss': 0.35688263177871704, 'eval_micro f1': 0.047619047619047616, 'eval_macro f1': 0.03453893776474422, 'eval_runtime': 0.152, 'eval_samples_per_second': 697.398, 'eval_steps_per_second': 6.579, 'epoch': 15.0}\n",
      "{'loss': 0.1212, 'learning_rate': 7e-05, 'epoch': 16.0}\n",
      "{'eval_loss': 0.35951343178749084, 'eval_micro f1': 0.03225806451612903, 'eval_macro f1': 0.014336917562724014, 'eval_runtime': 0.1571, 'eval_samples_per_second': 674.891, 'eval_steps_per_second': 6.367, 'epoch': 16.0}\n",
      "{'loss': 0.1092, 'learning_rate': 7e-05, 'epoch': 17.0}\n",
      "{'eval_loss': 0.3598935008049011, 'eval_micro f1': 0.048, 'eval_macro f1': 0.03453893776474422, 'eval_runtime': 0.156, 'eval_samples_per_second': 679.549, 'eval_steps_per_second': 6.411, 'epoch': 17.0}\n",
      "{'loss': 0.1033, 'learning_rate': 7e-05, 'epoch': 18.0}\n",
      "{'eval_loss': 0.3583969473838806, 'eval_micro f1': 0.078125, 'eval_macro f1': 0.06565004887585532, 'eval_runtime': 0.1562, 'eval_samples_per_second': 678.458, 'eval_steps_per_second': 6.401, 'epoch': 18.0}\n",
      "{'loss': 0.1079, 'learning_rate': 7e-05, 'epoch': 19.0}\n",
      "{'eval_loss': 0.36205121874809265, 'eval_micro f1': 0.1076923076923077, 'eval_macro f1': 0.07510398098633392, 'eval_runtime': 0.1562, 'eval_samples_per_second': 678.632, 'eval_steps_per_second': 6.402, 'epoch': 19.0}\n",
      "{'loss': 0.0936, 'learning_rate': 7e-05, 'epoch': 20.0}\n",
      "{'eval_loss': 0.3650415241718292, 'eval_micro f1': 0.09302325581395349, 'eval_macro f1': 0.06936026936026936, 'eval_runtime': 0.1561, 'eval_samples_per_second': 678.836, 'eval_steps_per_second': 6.404, 'epoch': 20.0}\n",
      "{'train_runtime': 23.995, 'train_samples_per_second': 8.335, 'train_steps_per_second': 2.501, 'train_loss': 0.22254355102777482, 'epoch': 20.0}\n",
      "{'loss': 0.5262, 'learning_rate': 7e-05, 'epoch': 1.0}\n",
      "{'eval_loss': 0.41210103034973145, 'eval_micro f1': 0.0, 'eval_macro f1': 0.0, 'eval_runtime': 0.1569, 'eval_samples_per_second': 675.762, 'eval_steps_per_second': 6.375, 'epoch': 1.0}\n",
      "{'loss': 0.3726, 'learning_rate': 7e-05, 'epoch': 2.0}\n",
      "{'eval_loss': 0.36834609508514404, 'eval_micro f1': 0.0, 'eval_macro f1': 0.0, 'eval_runtime': 0.1565, 'eval_samples_per_second': 677.396, 'eval_steps_per_second': 6.391, 'epoch': 2.0}\n",
      "{'loss': 0.3236, 'learning_rate': 7e-05, 'epoch': 3.0}\n",
      "{'eval_loss': 0.3566376268863678, 'eval_micro f1': 0.0, 'eval_macro f1': 0.0, 'eval_runtime': 0.1544, 'eval_samples_per_second': 686.724, 'eval_steps_per_second': 6.479, 'epoch': 3.0}\n",
      "{'loss': 0.2916, 'learning_rate': 7e-05, 'epoch': 4.0}\n",
      "{'eval_loss': 0.3477904200553894, 'eval_micro f1': 0.0, 'eval_macro f1': 0.0, 'eval_runtime': 0.1538, 'eval_samples_per_second': 689.259, 'eval_steps_per_second': 6.502, 'epoch': 4.0}\n",
      "{'loss': 0.258, 'learning_rate': 7e-05, 'epoch': 5.0}\n",
      "{'eval_loss': 0.334689199924469, 'eval_micro f1': 0.12213740458015267, 'eval_macro f1': 0.058516196447230925, 'eval_runtime': 0.1558, 'eval_samples_per_second': 680.426, 'eval_steps_per_second': 6.419, 'epoch': 5.0}\n",
      "{'loss': 0.2237, 'learning_rate': 7e-05, 'epoch': 6.0}\n",
      "{'eval_loss': 0.3346662223339081, 'eval_micro f1': 0.01652892561983471, 'eval_macro f1': 0.020202020202020204, 'eval_runtime': 0.1547, 'eval_samples_per_second': 685.057, 'eval_steps_per_second': 6.463, 'epoch': 6.0}\n",
      "{'loss': 0.195, 'learning_rate': 7e-05, 'epoch': 7.0}\n",
      "{'eval_loss': 0.3340897560119629, 'eval_micro f1': 0.10606060606060606, 'eval_macro f1': 0.04884004884004884, 'eval_runtime': 0.156, 'eval_samples_per_second': 679.69, 'eval_steps_per_second': 6.412, 'epoch': 7.0}\n",
      "{'loss': 0.1683, 'learning_rate': 7e-05, 'epoch': 8.0}\n",
      "{'eval_loss': 0.32955458760261536, 'eval_micro f1': 0.2818791946308725, 'eval_macro f1': 0.1471861471861472, 'eval_runtime': 0.1564, 'eval_samples_per_second': 677.648, 'eval_steps_per_second': 6.393, 'epoch': 8.0}\n",
      "{'loss': 0.1421, 'learning_rate': 7e-05, 'epoch': 9.0}\n",
      "{'eval_loss': 0.3327907621860504, 'eval_micro f1': 0.18055555555555558, 'eval_macro f1': 0.11987079466754264, 'eval_runtime': 0.1544, 'eval_samples_per_second': 686.557, 'eval_steps_per_second': 6.477, 'epoch': 9.0}\n",
      "{'loss': 0.1287, 'learning_rate': 7e-05, 'epoch': 10.0}\n",
      "{'eval_loss': 0.32813557982444763, 'eval_micro f1': 0.2933333333333333, 'eval_macro f1': 0.1694083694083694, 'eval_runtime': 0.1558, 'eval_samples_per_second': 680.314, 'eval_steps_per_second': 6.418, 'epoch': 10.0}\n",
      "{'loss': 0.1127, 'learning_rate': 7e-05, 'epoch': 11.0}\n",
      "{'eval_loss': 0.3357073962688446, 'eval_micro f1': 0.27450980392156865, 'eval_macro f1': 0.16323552990219656, 'eval_runtime': 0.156, 'eval_samples_per_second': 679.67, 'eval_steps_per_second': 6.412, 'epoch': 11.0}\n",
      "{'loss': 0.1003, 'learning_rate': 7e-05, 'epoch': 12.0}\n",
      "{'eval_loss': 0.3392030894756317, 'eval_micro f1': 0.23448275862068965, 'eval_macro f1': 0.14836250965283224, 'eval_runtime': 0.1557, 'eval_samples_per_second': 680.604, 'eval_steps_per_second': 6.421, 'epoch': 12.0}\n",
      "{'loss': 0.0898, 'learning_rate': 7e-05, 'epoch': 13.0}\n",
      "{'eval_loss': 0.33780431747436523, 'eval_micro f1': 0.2933333333333333, 'eval_macro f1': 0.1573365231259968, 'eval_runtime': 0.1509, 'eval_samples_per_second': 702.628, 'eval_steps_per_second': 6.629, 'epoch': 13.0}\n",
      "{'loss': 0.0828, 'learning_rate': 7e-05, 'epoch': 14.0}\n",
      "{'eval_loss': 0.3478339612483978, 'eval_micro f1': 0.3139534883720931, 'eval_macro f1': 0.17568033863962362, 'eval_runtime': 0.1561, 'eval_samples_per_second': 678.928, 'eval_steps_per_second': 6.405, 'epoch': 14.0}\n",
      "{'loss': 0.0725, 'learning_rate': 7e-05, 'epoch': 15.0}\n",
      "{'eval_loss': 0.3527519404888153, 'eval_micro f1': 0.30057803468208094, 'eval_macro f1': 0.17658781776428836, 'eval_runtime': 0.1558, 'eval_samples_per_second': 680.337, 'eval_steps_per_second': 6.418, 'epoch': 15.0}\n",
      "{'loss': 0.0681, 'learning_rate': 7e-05, 'epoch': 16.0}\n",
      "{'eval_loss': 0.3529539704322815, 'eval_micro f1': 0.2891566265060241, 'eval_macro f1': 0.17334567769350379, 'eval_runtime': 0.1559, 'eval_samples_per_second': 679.826, 'eval_steps_per_second': 6.413, 'epoch': 16.0}\n",
      "{'loss': 0.0616, 'learning_rate': 7e-05, 'epoch': 17.0}\n",
      "{'eval_loss': 0.3562907576560974, 'eval_micro f1': 0.31952662721893493, 'eval_macro f1': 0.18541243185206033, 'eval_runtime': 0.1546, 'eval_samples_per_second': 685.784, 'eval_steps_per_second': 6.47, 'epoch': 17.0}\n",
      "{'loss': 0.0587, 'learning_rate': 7e-05, 'epoch': 18.0}\n",
      "{'eval_loss': 0.35952380299568176, 'eval_micro f1': 0.31578947368421056, 'eval_macro f1': 0.18318464015058442, 'eval_runtime': 0.1548, 'eval_samples_per_second': 684.969, 'eval_steps_per_second': 6.462, 'epoch': 18.0}\n",
      "{'loss': 0.0558, 'learning_rate': 7e-05, 'epoch': 19.0}\n",
      "{'eval_loss': 0.36636069416999817, 'eval_micro f1': 0.289308176100629, 'eval_macro f1': 0.16789137622470954, 'eval_runtime': 0.1559, 'eval_samples_per_second': 679.99, 'eval_steps_per_second': 6.415, 'epoch': 19.0}\n",
      "{'loss': 0.0544, 'learning_rate': 7e-05, 'epoch': 20.0}\n",
      "{'eval_loss': 0.373775452375412, 'eval_micro f1': 0.28235294117647064, 'eval_macro f1': 0.17009915137574713, 'eval_runtime': 0.1566, 'eval_samples_per_second': 676.968, 'eval_steps_per_second': 6.386, 'epoch': 20.0}\n",
      "{'train_runtime': 23.7313, 'train_samples_per_second': 16.013, 'train_steps_per_second': 4.214, 'train_loss': 0.16932586193084717, 'epoch': 20.0}\n",
      "{'loss': 0.4793, 'learning_rate': 7e-05, 'epoch': 1.0}\n",
      "{'eval_loss': 0.37629181146621704, 'eval_micro f1': 0.0, 'eval_macro f1': 0.0, 'eval_runtime': 0.153, 'eval_samples_per_second': 692.67, 'eval_steps_per_second': 6.535, 'epoch': 1.0}\n",
      "{'loss': 0.3411, 'learning_rate': 7e-05, 'epoch': 2.0}\n",
      "{'eval_loss': 0.3553907573223114, 'eval_micro f1': 0.0, 'eval_macro f1': 0.0, 'eval_runtime': 0.1543, 'eval_samples_per_second': 687.024, 'eval_steps_per_second': 6.481, 'epoch': 2.0}\n",
      "{'loss': 0.3175, 'learning_rate': 7e-05, 'epoch': 3.0}\n",
      "{'eval_loss': 0.3457607328891754, 'eval_micro f1': 0.0, 'eval_macro f1': 0.0, 'eval_runtime': 0.1554, 'eval_samples_per_second': 681.954, 'eval_steps_per_second': 6.434, 'epoch': 3.0}\n",
      "{'loss': 0.2721, 'learning_rate': 7e-05, 'epoch': 4.0}\n",
      "{'eval_loss': 0.3282913565635681, 'eval_micro f1': 0.12403100775193798, 'eval_macro f1': 0.05836139169472502, 'eval_runtime': 0.1555, 'eval_samples_per_second': 681.802, 'eval_steps_per_second': 6.432, 'epoch': 4.0}\n",
      "{'loss': 0.2244, 'learning_rate': 7e-05, 'epoch': 5.0}\n",
      "{'eval_loss': 0.3138517737388611, 'eval_micro f1': 0.18045112781954886, 'eval_macro f1': 0.08384924513956772, 'eval_runtime': 0.156, 'eval_samples_per_second': 679.371, 'eval_steps_per_second': 6.409, 'epoch': 5.0}\n",
      "{'loss': 0.1861, 'learning_rate': 7e-05, 'epoch': 6.0}\n",
      "{'eval_loss': 0.3033895194530487, 'eval_micro f1': 0.30872483221476515, 'eval_macro f1': 0.12614870509607354, 'eval_runtime': 0.1475, 'eval_samples_per_second': 718.441, 'eval_steps_per_second': 6.778, 'epoch': 6.0}\n",
      "{'loss': 0.1615, 'learning_rate': 7e-05, 'epoch': 7.0}\n",
      "{'eval_loss': 0.29502958059310913, 'eval_micro f1': 0.34210526315789475, 'eval_macro f1': 0.16222508775700265, 'eval_runtime': 0.157, 'eval_samples_per_second': 675.027, 'eval_steps_per_second': 6.368, 'epoch': 7.0}\n",
      "{'loss': 0.1302, 'learning_rate': 7e-05, 'epoch': 8.0}\n",
      "{'eval_loss': 0.3063943386077881, 'eval_micro f1': 0.26760563380281693, 'eval_macro f1': 0.13234512305719737, 'eval_runtime': 0.1548, 'eval_samples_per_second': 684.581, 'eval_steps_per_second': 6.458, 'epoch': 8.0}\n",
      "{'loss': 0.1088, 'learning_rate': 7e-05, 'epoch': 9.0}\n",
      "{'eval_loss': 0.3010900318622589, 'eval_micro f1': 0.36477987421383645, 'eval_macro f1': 0.21583926145329654, 'eval_runtime': 0.1541, 'eval_samples_per_second': 687.803, 'eval_steps_per_second': 6.489, 'epoch': 9.0}\n",
      "{'loss': 0.0904, 'learning_rate': 7e-05, 'epoch': 10.0}\n",
      "{'eval_loss': 0.30115723609924316, 'eval_micro f1': 0.389937106918239, 'eval_macro f1': 0.22889991670479473, 'eval_runtime': 0.1544, 'eval_samples_per_second': 686.394, 'eval_steps_per_second': 6.475, 'epoch': 10.0}\n",
      "{'loss': 0.0756, 'learning_rate': 7e-05, 'epoch': 11.0}\n",
      "{'eval_loss': 0.29743051528930664, 'eval_micro f1': 0.38961038961038963, 'eval_macro f1': 0.23473193473193474, 'eval_runtime': 0.1565, 'eval_samples_per_second': 677.422, 'eval_steps_per_second': 6.391, 'epoch': 11.0}\n",
      "{'loss': 0.066, 'learning_rate': 7e-05, 'epoch': 12.0}\n",
      "{'eval_loss': 0.30330419540405273, 'eval_micro f1': 0.3846153846153846, 'eval_macro f1': 0.22836237836237835, 'eval_runtime': 0.1552, 'eval_samples_per_second': 682.942, 'eval_steps_per_second': 6.443, 'epoch': 12.0}\n",
      "{'loss': 0.0581, 'learning_rate': 7e-05, 'epoch': 13.0}\n",
      "{'eval_loss': 0.30635735392570496, 'eval_micro f1': 0.40740740740740744, 'eval_macro f1': 0.24741463966715038, 'eval_runtime': 0.1566, 'eval_samples_per_second': 676.897, 'eval_steps_per_second': 6.386, 'epoch': 13.0}\n",
      "{'loss': 0.0517, 'learning_rate': 7e-05, 'epoch': 14.0}\n",
      "{'eval_loss': 0.31404855847358704, 'eval_micro f1': 0.379746835443038, 'eval_macro f1': 0.2246993746993747, 'eval_runtime': 0.1547, 'eval_samples_per_second': 685.239, 'eval_steps_per_second': 6.465, 'epoch': 14.0}\n",
      "{'loss': 0.0474, 'learning_rate': 7e-05, 'epoch': 15.0}\n",
      "{'eval_loss': 0.3175652027130127, 'eval_micro f1': 0.3902439024390244, 'eval_macro f1': 0.2267296506957164, 'eval_runtime': 0.1546, 'eval_samples_per_second': 685.498, 'eval_steps_per_second': 6.467, 'epoch': 15.0}\n",
      "{'loss': 0.0443, 'learning_rate': 7e-05, 'epoch': 16.0}\n",
      "{'eval_loss': 0.3189394474029541, 'eval_micro f1': 0.3875, 'eval_macro f1': 0.23194918776314127, 'eval_runtime': 0.1542, 'eval_samples_per_second': 687.639, 'eval_steps_per_second': 6.487, 'epoch': 16.0}\n",
      "{'loss': 0.0417, 'learning_rate': 7e-05, 'epoch': 17.0}\n",
      "{'eval_loss': 0.3227458894252777, 'eval_micro f1': 0.3875, 'eval_macro f1': 0.2276094276094276, 'eval_runtime': 0.1554, 'eval_samples_per_second': 682.15, 'eval_steps_per_second': 6.435, 'epoch': 17.0}\n",
      "{'loss': 0.0373, 'learning_rate': 7e-05, 'epoch': 18.0}\n",
      "{'eval_loss': 0.31880930066108704, 'eval_micro f1': 0.402439024390244, 'eval_macro f1': 0.24171877505210837, 'eval_runtime': 0.1565, 'eval_samples_per_second': 677.231, 'eval_steps_per_second': 6.389, 'epoch': 18.0}\n",
      "{'loss': 0.0371, 'learning_rate': 7e-05, 'epoch': 19.0}\n",
      "{'eval_loss': 0.32523462176322937, 'eval_micro f1': 0.402439024390244, 'eval_macro f1': 0.24171877505210837, 'eval_runtime': 0.1559, 'eval_samples_per_second': 679.712, 'eval_steps_per_second': 6.412, 'epoch': 19.0}\n",
      "{'loss': 0.0326, 'learning_rate': 7e-05, 'epoch': 20.0}\n",
      "{'eval_loss': 0.3334377706050873, 'eval_micro f1': 0.3950617283950617, 'eval_macro f1': 0.23554593554593556, 'eval_runtime': 0.1552, 'eval_samples_per_second': 683.0, 'eval_steps_per_second': 6.443, 'epoch': 20.0}\n",
      "{'train_runtime': 28.4699, 'train_samples_per_second': 25.29, 'train_steps_per_second': 6.322, 'train_loss': 0.1401587888598442, 'epoch': 20.0}\n",
      "{'loss': 0.4202, 'learning_rate': 7e-05, 'epoch': 1.0}\n",
      "{'eval_loss': 0.3623731732368469, 'eval_micro f1': 0.0, 'eval_macro f1': 0.0, 'eval_runtime': 0.1557, 'eval_samples_per_second': 680.903, 'eval_steps_per_second': 6.424, 'epoch': 1.0}\n",
      "{'loss': 0.3465, 'learning_rate': 7e-05, 'epoch': 2.0}\n",
      "{'eval_loss': 0.33736008405685425, 'eval_micro f1': 0.03278688524590164, 'eval_macro f1': 0.017094017094017096, 'eval_runtime': 0.1563, 'eval_samples_per_second': 678.079, 'eval_steps_per_second': 6.397, 'epoch': 2.0}\n",
      "{'loss': 0.3069, 'learning_rate': 7e-05, 'epoch': 3.0}\n",
      "{'eval_loss': 0.3102281391620636, 'eval_micro f1': 0.13846153846153847, 'eval_macro f1': 0.061808561808561806, 'eval_runtime': 0.1594, 'eval_samples_per_second': 664.866, 'eval_steps_per_second': 6.272, 'epoch': 3.0}\n",
      "{'loss': 0.245, 'learning_rate': 7e-05, 'epoch': 4.0}\n",
      "{'eval_loss': 0.2973978519439697, 'eval_micro f1': 0.23943661971830987, 'eval_macro f1': 0.08395061728395063, 'eval_runtime': 0.1568, 'eval_samples_per_second': 675.829, 'eval_steps_per_second': 6.376, 'epoch': 4.0}\n",
      "{'loss': 0.1891, 'learning_rate': 7e-05, 'epoch': 5.0}\n",
      "{'eval_loss': 0.24584944546222687, 'eval_micro f1': 0.5090909090909091, 'eval_macro f1': 0.23143390425999122, 'eval_runtime': 0.1555, 'eval_samples_per_second': 681.525, 'eval_steps_per_second': 6.429, 'epoch': 5.0}\n",
      "{'loss': 0.1407, 'learning_rate': 7e-05, 'epoch': 6.0}\n",
      "{'eval_loss': 0.25848323106765747, 'eval_micro f1': 0.4912280701754386, 'eval_macro f1': 0.2929081758350051, 'eval_runtime': 0.1548, 'eval_samples_per_second': 684.835, 'eval_steps_per_second': 6.461, 'epoch': 6.0}\n",
      "{'loss': 0.107, 'learning_rate': 7e-05, 'epoch': 7.0}\n",
      "{'eval_loss': 0.22939196228981018, 'eval_micro f1': 0.5317919075144509, 'eval_macro f1': 0.3308321308321308, 'eval_runtime': 0.1561, 'eval_samples_per_second': 679.151, 'eval_steps_per_second': 6.407, 'epoch': 7.0}\n",
      "{'loss': 0.0849, 'learning_rate': 7e-05, 'epoch': 8.0}\n",
      "{'eval_loss': 0.22746744751930237, 'eval_micro f1': 0.5227272727272727, 'eval_macro f1': 0.3401742257186562, 'eval_runtime': 0.1549, 'eval_samples_per_second': 684.27, 'eval_steps_per_second': 6.455, 'epoch': 8.0}\n",
      "{'loss': 0.0654, 'learning_rate': 7e-05, 'epoch': 9.0}\n",
      "{'eval_loss': 0.21046607196331024, 'eval_micro f1': 0.5869565217391305, 'eval_macro f1': 0.3951334944301696, 'eval_runtime': 0.1557, 'eval_samples_per_second': 680.858, 'eval_steps_per_second': 6.423, 'epoch': 9.0}\n",
      "{'loss': 0.0548, 'learning_rate': 7e-05, 'epoch': 10.0}\n",
      "{'eval_loss': 0.21950998902320862, 'eval_micro f1': 0.5714285714285714, 'eval_macro f1': 0.3936904530222933, 'eval_runtime': 0.1553, 'eval_samples_per_second': 682.42, 'eval_steps_per_second': 6.438, 'epoch': 10.0}\n",
      "{'loss': 0.0465, 'learning_rate': 7e-05, 'epoch': 11.0}\n",
      "{'eval_loss': 0.22799937427043915, 'eval_micro f1': 0.5649717514124294, 'eval_macro f1': 0.3456783597394143, 'eval_runtime': 0.1558, 'eval_samples_per_second': 680.283, 'eval_steps_per_second': 6.418, 'epoch': 11.0}\n",
      "{'loss': 0.043, 'learning_rate': 7e-05, 'epoch': 12.0}\n",
      "{'eval_loss': 0.24786211550235748, 'eval_micro f1': 0.5513513513513513, 'eval_macro f1': 0.3802923142977571, 'eval_runtime': 0.1547, 'eval_samples_per_second': 685.181, 'eval_steps_per_second': 6.464, 'epoch': 12.0}\n",
      "{'loss': 0.0375, 'learning_rate': 7e-05, 'epoch': 13.0}\n",
      "{'eval_loss': 0.2363986372947693, 'eval_micro f1': 0.5632183908045977, 'eval_macro f1': 0.3475971949063313, 'eval_runtime': 0.1553, 'eval_samples_per_second': 682.586, 'eval_steps_per_second': 6.439, 'epoch': 13.0}\n",
      "{'loss': 0.032, 'learning_rate': 7e-05, 'epoch': 14.0}\n",
      "{'eval_loss': 0.23019598424434662, 'eval_micro f1': 0.6031746031746033, 'eval_macro f1': 0.40953197669926916, 'eval_runtime': 0.1553, 'eval_samples_per_second': 682.381, 'eval_steps_per_second': 6.438, 'epoch': 14.0}\n",
      "{'loss': 0.0284, 'learning_rate': 7e-05, 'epoch': 15.0}\n",
      "{'eval_loss': 0.22128921747207642, 'eval_micro f1': 0.634920634920635, 'eval_macro f1': 0.43173030234033805, 'eval_runtime': 0.157, 'eval_samples_per_second': 675.358, 'eval_steps_per_second': 6.371, 'epoch': 15.0}\n",
      "{'loss': 0.0262, 'learning_rate': 7e-05, 'epoch': 16.0}\n",
      "{'eval_loss': 0.23150542378425598, 'eval_micro f1': 0.6236559139784946, 'eval_macro f1': 0.4139206266359255, 'eval_runtime': 0.1557, 'eval_samples_per_second': 680.936, 'eval_steps_per_second': 6.424, 'epoch': 16.0}\n",
      "{'loss': 0.0231, 'learning_rate': 7e-05, 'epoch': 17.0}\n",
      "{'eval_loss': 0.2298373579978943, 'eval_micro f1': 0.6421052631578947, 'eval_macro f1': 0.4348167220934245, 'eval_runtime': 0.1561, 'eval_samples_per_second': 678.947, 'eval_steps_per_second': 6.405, 'epoch': 17.0}\n",
      "{'loss': 0.0211, 'learning_rate': 7e-05, 'epoch': 18.0}\n",
      "{'eval_loss': 0.23590819537639618, 'eval_micro f1': 0.6229508196721311, 'eval_macro f1': 0.40280951552481437, 'eval_runtime': 0.1551, 'eval_samples_per_second': 683.529, 'eval_steps_per_second': 6.448, 'epoch': 18.0}\n",
      "{'loss': 0.0197, 'learning_rate': 7e-05, 'epoch': 19.0}\n",
      "{'eval_loss': 0.2317965179681778, 'eval_micro f1': 0.6276595744680851, 'eval_macro f1': 0.41938462332799237, 'eval_runtime': 0.1555, 'eval_samples_per_second': 681.879, 'eval_steps_per_second': 6.433, 'epoch': 19.0}\n",
      "{'loss': 0.0184, 'learning_rate': 7e-05, 'epoch': 20.0}\n",
      "{'eval_loss': 0.2370416522026062, 'eval_micro f1': 0.6276595744680851, 'eval_macro f1': 0.41938462332799237, 'eval_runtime': 0.1555, 'eval_samples_per_second': 681.641, 'eval_steps_per_second': 6.431, 'epoch': 20.0}\n",
      "{'train_runtime': 33.9585, 'train_samples_per_second': 40.049, 'train_steps_per_second': 10.012, 'train_loss': 0.11282893822473639, 'epoch': 20.0}\n",
      "{'loss': 0.3844, 'learning_rate': 7e-05, 'epoch': 1.0}\n",
      "{'eval_loss': 0.348599910736084, 'eval_micro f1': 0.2608695652173913, 'eval_macro f1': 0.09523809523809523, 'eval_runtime': 0.1562, 'eval_samples_per_second': 678.652, 'eval_steps_per_second': 6.402, 'epoch': 1.0}\n",
      "{'loss': 0.3145, 'learning_rate': 7e-05, 'epoch': 2.0}\n",
      "{'eval_loss': 0.29258257150650024, 'eval_micro f1': 0.3790849673202615, 'eval_macro f1': 0.14352941176470585, 'eval_runtime': 0.1558, 'eval_samples_per_second': 680.336, 'eval_steps_per_second': 6.418, 'epoch': 2.0}\n",
      "{'loss': 0.2478, 'learning_rate': 7e-05, 'epoch': 3.0}\n",
      "{'eval_loss': 0.26441049575805664, 'eval_micro f1': 0.29530201342281875, 'eval_macro f1': 0.10826210826210828, 'eval_runtime': 0.1579, 'eval_samples_per_second': 671.208, 'eval_steps_per_second': 6.332, 'epoch': 3.0}\n",
      "{'loss': 0.1832, 'learning_rate': 7e-05, 'epoch': 4.0}\n",
      "{'eval_loss': 0.24412892758846283, 'eval_micro f1': 0.576271186440678, 'eval_macro f1': 0.32093467804773607, 'eval_runtime': 0.157, 'eval_samples_per_second': 675.248, 'eval_steps_per_second': 6.37, 'epoch': 4.0}\n",
      "{'loss': 0.136, 'learning_rate': 7e-05, 'epoch': 5.0}\n",
      "{'eval_loss': 0.19913648068904877, 'eval_micro f1': 0.6054054054054054, 'eval_macro f1': 0.4764605743889059, 'eval_runtime': 0.1569, 'eval_samples_per_second': 675.519, 'eval_steps_per_second': 6.373, 'epoch': 5.0}\n",
      "{'loss': 0.0866, 'learning_rate': 7e-05, 'epoch': 6.0}\n",
      "{'eval_loss': 0.1826014369726181, 'eval_micro f1': 0.7058823529411764, 'eval_macro f1': 0.6404347353806108, 'eval_runtime': 0.1553, 'eval_samples_per_second': 682.413, 'eval_steps_per_second': 6.438, 'epoch': 6.0}\n",
      "{'loss': 0.0582, 'learning_rate': 7e-05, 'epoch': 7.0}\n",
      "{'eval_loss': 0.19117644429206848, 'eval_micro f1': 0.6995073891625616, 'eval_macro f1': 0.6407341666923391, 'eval_runtime': 0.1573, 'eval_samples_per_second': 673.735, 'eval_steps_per_second': 6.356, 'epoch': 7.0}\n",
      "{'loss': 0.0437, 'learning_rate': 7e-05, 'epoch': 8.0}\n",
      "{'eval_loss': 0.1922893226146698, 'eval_micro f1': 0.7115384615384616, 'eval_macro f1': 0.6528239791397686, 'eval_runtime': 0.1588, 'eval_samples_per_second': 667.487, 'eval_steps_per_second': 6.297, 'epoch': 8.0}\n",
      "{'loss': 0.0356, 'learning_rate': 7e-05, 'epoch': 9.0}\n",
      "{'eval_loss': 0.19165430963039398, 'eval_micro f1': 0.6995073891625616, 'eval_macro f1': 0.6163159679826345, 'eval_runtime': 0.1557, 'eval_samples_per_second': 680.852, 'eval_steps_per_second': 6.423, 'epoch': 9.0}\n",
      "{'loss': 0.0308, 'learning_rate': 7e-05, 'epoch': 10.0}\n",
      "{'eval_loss': 0.2000037133693695, 'eval_micro f1': 0.6666666666666667, 'eval_macro f1': 0.559206242100979, 'eval_runtime': 0.1556, 'eval_samples_per_second': 681.099, 'eval_steps_per_second': 6.425, 'epoch': 10.0}\n",
      "{'loss': 0.0258, 'learning_rate': 7e-05, 'epoch': 11.0}\n",
      "{'eval_loss': 0.19957628846168518, 'eval_micro f1': 0.6798029556650247, 'eval_macro f1': 0.5915138038203054, 'eval_runtime': 0.1563, 'eval_samples_per_second': 678.017, 'eval_steps_per_second': 6.396, 'epoch': 11.0}\n",
      "{'loss': 0.0216, 'learning_rate': 7e-05, 'epoch': 12.0}\n",
      "{'eval_loss': 0.20118069648742676, 'eval_micro f1': 0.6896551724137933, 'eval_macro f1': 0.6158505237452606, 'eval_runtime': 0.1562, 'eval_samples_per_second': 678.814, 'eval_steps_per_second': 6.404, 'epoch': 12.0}\n",
      "{'loss': 0.018, 'learning_rate': 7e-05, 'epoch': 13.0}\n",
      "{'eval_loss': 0.19736413657665253, 'eval_micro f1': 0.7203791469194313, 'eval_macro f1': 0.6744690007847903, 'eval_runtime': 0.155, 'eval_samples_per_second': 683.668, 'eval_steps_per_second': 6.45, 'epoch': 13.0}\n",
      "{'loss': 0.0159, 'learning_rate': 7e-05, 'epoch': 14.0}\n",
      "{'eval_loss': 0.2079019397497177, 'eval_micro f1': 0.6926829268292684, 'eval_macro f1': 0.6261241872797937, 'eval_runtime': 0.1567, 'eval_samples_per_second': 676.414, 'eval_steps_per_second': 6.381, 'epoch': 14.0}\n",
      "{'loss': 0.0139, 'learning_rate': 7e-05, 'epoch': 15.0}\n",
      "{'eval_loss': 0.2184208631515503, 'eval_micro f1': 0.7087378640776699, 'eval_macro f1': 0.6419493599318161, 'eval_runtime': 0.1564, 'eval_samples_per_second': 677.786, 'eval_steps_per_second': 6.394, 'epoch': 15.0}\n",
      "{'loss': 0.0122, 'learning_rate': 7e-05, 'epoch': 16.0}\n",
      "{'eval_loss': 0.20153304934501648, 'eval_micro f1': 0.7314814814814814, 'eval_macro f1': 0.6843814783873264, 'eval_runtime': 0.1573, 'eval_samples_per_second': 673.839, 'eval_steps_per_second': 6.357, 'epoch': 16.0}\n",
      "{'loss': 0.0112, 'learning_rate': 7e-05, 'epoch': 17.0}\n",
      "{'eval_loss': 0.21224237978458405, 'eval_micro f1': 0.7019230769230769, 'eval_macro f1': 0.6433298660594843, 'eval_runtime': 0.1565, 'eval_samples_per_second': 677.326, 'eval_steps_per_second': 6.39, 'epoch': 17.0}\n",
      "{'loss': 0.0098, 'learning_rate': 7e-05, 'epoch': 18.0}\n",
      "{'eval_loss': 0.21886207163333893, 'eval_micro f1': 0.7087378640776699, 'eval_macro f1': 0.638052074631022, 'eval_runtime': 0.1562, 'eval_samples_per_second': 678.641, 'eval_steps_per_second': 6.402, 'epoch': 18.0}\n",
      "{'loss': 0.0089, 'learning_rate': 7e-05, 'epoch': 19.0}\n",
      "{'eval_loss': 0.21911199390888214, 'eval_micro f1': 0.7298578199052134, 'eval_macro f1': 0.6750882181687134, 'eval_runtime': 0.1577, 'eval_samples_per_second': 671.968, 'eval_steps_per_second': 6.339, 'epoch': 19.0}\n",
      "{'loss': 0.0083, 'learning_rate': 7e-05, 'epoch': 20.0}\n",
      "{'eval_loss': 0.22175195813179016, 'eval_micro f1': 0.7238095238095237, 'eval_macro f1': 0.6654792283739651, 'eval_runtime': 0.1563, 'eval_samples_per_second': 678.005, 'eval_steps_per_second': 6.396, 'epoch': 20.0}\n",
      "{'train_runtime': 46.0772, 'train_samples_per_second': 58.163, 'train_steps_per_second': 14.758, 'train_loss': 0.08331876037751927, 'epoch': 20.0}\n",
      "{'loss': 0.3643, 'learning_rate': 7e-05, 'epoch': 1.0}\n",
      "{'eval_loss': 0.3082338273525238, 'eval_micro f1': 0.3013698630136986, 'eval_macro f1': 0.09777777777777777, 'eval_runtime': 0.1565, 'eval_samples_per_second': 677.41, 'eval_steps_per_second': 6.391, 'epoch': 1.0}\n",
      "{'loss': 0.2611, 'learning_rate': 7e-05, 'epoch': 2.0}\n",
      "{'eval_loss': 0.21647781133651733, 'eval_micro f1': 0.5945945945945945, 'eval_macro f1': 0.32826044129235615, 'eval_runtime': 0.1573, 'eval_samples_per_second': 673.677, 'eval_steps_per_second': 6.355, 'epoch': 2.0}\n",
      "{'loss': 0.1907, 'learning_rate': 7e-05, 'epoch': 3.0}\n",
      "{'eval_loss': 0.1936379224061966, 'eval_micro f1': 0.6702127659574468, 'eval_macro f1': 0.4795282785478864, 'eval_runtime': 0.1588, 'eval_samples_per_second': 667.609, 'eval_steps_per_second': 6.298, 'epoch': 3.0}\n",
      "{'loss': 0.1357, 'learning_rate': 7e-05, 'epoch': 4.0}\n",
      "{'eval_loss': 0.1777963489294052, 'eval_micro f1': 0.7053140096618357, 'eval_macro f1': 0.583242556281772, 'eval_runtime': 0.1571, 'eval_samples_per_second': 674.813, 'eval_steps_per_second': 6.366, 'epoch': 4.0}\n",
      "{'loss': 0.0932, 'learning_rate': 7e-05, 'epoch': 5.0}\n",
      "{'eval_loss': 0.18981687724590302, 'eval_micro f1': 0.7081339712918661, 'eval_macro f1': 0.6365273901854716, 'eval_runtime': 0.1576, 'eval_samples_per_second': 672.746, 'eval_steps_per_second': 6.347, 'epoch': 5.0}\n",
      "{'loss': 0.0629, 'learning_rate': 7e-05, 'epoch': 6.0}\n",
      "{'eval_loss': 0.1662895679473877, 'eval_micro f1': 0.75, 'eval_macro f1': 0.7020697167755992, 'eval_runtime': 0.161, 'eval_samples_per_second': 658.189, 'eval_steps_per_second': 6.209, 'epoch': 6.0}\n",
      "{'loss': 0.0437, 'learning_rate': 7e-05, 'epoch': 7.0}\n",
      "{'eval_loss': 0.18360832333564758, 'eval_micro f1': 0.7211538461538461, 'eval_macro f1': 0.631325412176476, 'eval_runtime': 0.1597, 'eval_samples_per_second': 663.567, 'eval_steps_per_second': 6.26, 'epoch': 7.0}\n",
      "{'loss': 0.0328, 'learning_rate': 7e-05, 'epoch': 8.0}\n",
      "{'eval_loss': 0.18354938924312592, 'eval_micro f1': 0.7477477477477478, 'eval_macro f1': 0.7076798493152268, 'eval_runtime': 0.1588, 'eval_samples_per_second': 667.444, 'eval_steps_per_second': 6.297, 'epoch': 8.0}\n",
      "{'loss': 0.0253, 'learning_rate': 7e-05, 'epoch': 9.0}\n",
      "{'eval_loss': 0.1820404976606369, 'eval_micro f1': 0.761904761904762, 'eval_macro f1': 0.7121469550413626, 'eval_runtime': 0.1593, 'eval_samples_per_second': 665.528, 'eval_steps_per_second': 6.279, 'epoch': 9.0}\n",
      "{'loss': 0.0257, 'learning_rate': 7e-05, 'epoch': 10.0}\n",
      "{'eval_loss': 0.17408038675785065, 'eval_micro f1': 0.75, 'eval_macro f1': 0.7017604581330071, 'eval_runtime': 0.1578, 'eval_samples_per_second': 671.943, 'eval_steps_per_second': 6.339, 'epoch': 10.0}\n",
      "{'loss': 0.0169, 'learning_rate': 7e-05, 'epoch': 11.0}\n",
      "{'eval_loss': 0.19214986264705658, 'eval_micro f1': 0.7557603686635946, 'eval_macro f1': 0.7120175465528209, 'eval_runtime': 0.1583, 'eval_samples_per_second': 669.476, 'eval_steps_per_second': 6.316, 'epoch': 11.0}\n",
      "{'loss': 0.0216, 'learning_rate': 7e-05, 'epoch': 12.0}\n",
      "{'eval_loss': 0.19801276922225952, 'eval_micro f1': 0.7297297297297296, 'eval_macro f1': 0.6683959905187714, 'eval_runtime': 0.1575, 'eval_samples_per_second': 673.172, 'eval_steps_per_second': 6.351, 'epoch': 12.0}\n",
      "{'loss': 0.0131, 'learning_rate': 7e-05, 'epoch': 13.0}\n",
      "{'eval_loss': 0.20019295811653137, 'eval_micro f1': 0.728110599078341, 'eval_macro f1': 0.6693315719871472, 'eval_runtime': 0.1587, 'eval_samples_per_second': 667.777, 'eval_steps_per_second': 6.3, 'epoch': 13.0}\n",
      "{'loss': 0.0112, 'learning_rate': 7e-05, 'epoch': 14.0}\n",
      "{'eval_loss': 0.21907278895378113, 'eval_micro f1': 0.7232142857142857, 'eval_macro f1': 0.6870796968781292, 'eval_runtime': 0.1584, 'eval_samples_per_second': 669.305, 'eval_steps_per_second': 6.314, 'epoch': 14.0}\n",
      "{'loss': 0.0107, 'learning_rate': 7e-05, 'epoch': 15.0}\n",
      "{'eval_loss': 0.20498579740524292, 'eval_micro f1': 0.751131221719457, 'eval_macro f1': 0.6970204578715217, 'eval_runtime': 0.1592, 'eval_samples_per_second': 665.753, 'eval_steps_per_second': 6.281, 'epoch': 15.0}\n",
      "{'loss': 0.0095, 'learning_rate': 7e-05, 'epoch': 16.0}\n",
      "{'eval_loss': 0.1940411478281021, 'eval_micro f1': 0.7665198237885462, 'eval_macro f1': 0.7322565194943899, 'eval_runtime': 0.1592, 'eval_samples_per_second': 665.989, 'eval_steps_per_second': 6.283, 'epoch': 16.0}\n",
      "{'loss': 0.0086, 'learning_rate': 7e-05, 'epoch': 17.0}\n",
      "{'eval_loss': 0.21680954098701477, 'eval_micro f1': 0.7488584474885845, 'eval_macro f1': 0.6727954144620811, 'eval_runtime': 0.1577, 'eval_samples_per_second': 671.988, 'eval_steps_per_second': 6.34, 'epoch': 17.0}\n",
      "{'loss': 0.0089, 'learning_rate': 7e-05, 'epoch': 18.0}\n",
      "{'eval_loss': 0.22873641550540924, 'eval_micro f1': 0.7522935779816514, 'eval_macro f1': 0.6940450254175745, 'eval_runtime': 0.1592, 'eval_samples_per_second': 665.681, 'eval_steps_per_second': 6.28, 'epoch': 18.0}\n",
      "{'loss': 0.0059, 'learning_rate': 7e-05, 'epoch': 19.0}\n",
      "{'eval_loss': 0.22018997371196747, 'eval_micro f1': 0.7570093457943925, 'eval_macro f1': 0.6982940516273849, 'eval_runtime': 0.1582, 'eval_samples_per_second': 669.925, 'eval_steps_per_second': 6.32, 'epoch': 19.0}\n",
      "{'loss': 0.0053, 'learning_rate': 7e-05, 'epoch': 20.0}\n",
      "{'eval_loss': 0.21918703615665436, 'eval_micro f1': 0.7592592592592592, 'eval_macro f1': 0.7147514145450162, 'eval_runtime': 0.1603, 'eval_samples_per_second': 661.199, 'eval_steps_per_second': 6.238, 'epoch': 20.0}\n",
      "{'train_runtime': 61.3104, 'train_samples_per_second': 72.745, 'train_steps_per_second': 18.268, 'train_loss': 0.06735630149820021, 'epoch': 20.0}\n"
     ]
    }
   ],
   "source": [
    "micro_scores[\"Fine-tune (DA)\"] = []\n",
    "macro_scores[\"Fine-tune (DA)\"] = []\n",
    "for train_slice in train_slices: \n",
    "    model = AutoModelForSequenceClassification.from_pretrained(model_ckpt, config=config).to(device) \n",
    "    \n",
    "    trainer = Trainer(\n",
    "        model = model,\n",
    "        tokenizer=tokenizer,\n",
    "        args=training_args_fine_tune,\n",
    "        compute_metrics = compute_metrics,\n",
    "        train_dataset=ds_enc[\"train\"].select(train_slice),\n",
    "        eval_dataset=ds_enc[\"valid\"],\n",
    "    )\n",
    "    trainer.train()\n",
    "    pred = trainer.predict(ds_enc[\"test\"])\n",
    "    metrics = compute_metrics(pred)\n",
    "    micro_scores[\"Fine-tune (DA)\"].append(metrics[\"micro f1\"])\n",
    "    macro_scores[\"Fine-tune (DA)\"].append(metrics[\"macro f1\"])"
   ]
  },
  {
   "cell_type": "markdown",
   "metadata": {},
   "source": [
    "## Plot the log"
   ]
  },
  {
   "cell_type": "code",
   "execution_count": 60,
   "metadata": {},
   "outputs": [
    {
     "name": "stdout",
     "output_type": "stream",
     "text": [
      "Naive Bayes\n",
      "Zero-Shot\n",
      "Naive Bayes + Aug\n",
      "Embedding GPT2\n",
      "Fine-tune (DA)\n"
     ]
    },
    {
     "data": {
      "image/png": "[encoded data removed]",
      "text/plain": [
       "<Figure size 1000x400 with 2 Axes>"
      ]
     },
     "metadata": {},
     "output_type": "display_data"
    }
   ],
   "source": [
    "plot_metrics(micro_scores, macro_scores, train_samples, \"Fine-tune (DA)\")"
   ]
  },
  {
   "cell_type": "markdown",
   "metadata": {},
   "source": [
    "## save the results"
   ]
  },
  {
   "cell_type": "code",
   "execution_count": 63,
   "metadata": {},
   "outputs": [],
   "source": [
    "micro_scores = defaultdict(list,\n",
    "            {'Naive Bayes': [0.3604651162790698,\n",
    "              0.30208333333333337,\n",
    "              0.41081081081081083,\n",
    "              0.4435483870967742,\n",
    "              0.5046728971962616,\n",
    "              0.5346534653465347],\n",
    "             'Zero-Shot': [0.4444444444444445,\n",
    "              0.4444444444444445,\n",
    "              0.4444444444444445,\n",
    "              0.4444444444444445,\n",
    "              0.4444444444444445,\n",
    "              0.4444444444444445],\n",
    "             'Naive Bayes + Aug': [0.5081081081081081,\n",
    "              0.4954128440366973,\n",
    "              0.5084745762711865,\n",
    "              0.5679012345679012,\n",
    "              0.5590551181102362,\n",
    "              0.578125],\n",
    "             'Embedding GPT2': [0.3167155425219942,\n",
    "              0.36363636363636365,\n",
    "              0.39452054794520547,\n",
    "              0.5118483412322274,\n",
    "              0.46564885496183206,\n",
    "              0.5402843601895735],\n",
    "             'Fine-tune (DA)': [0.16058394160583941,\n",
    "              0.4021739130434783,\n",
    "              0.5494505494505494,\n",
    "              0.6213592233009709,\n",
    "              0.7111111111111111,\n",
    "              0.7416666666666666],\n",
    "             'Fine-tune (vanilla)': [0.07633587786259542,\n",
    "              0.3006535947712418,\n",
    "              0.5104166666666667,\n",
    "              0.58,\n",
    "              0.6486486486486487,\n",
    "              0.6949152542372881]})"
   ]
  },
  {
   "cell_type": "code",
   "execution_count": 64,
   "metadata": {},
   "outputs": [],
   "source": [
    "macro_scores = defaultdict(list,\n",
    "            {'Naive Bayes': [0.23288166214995487,\n",
    "              0.21006897585844955,\n",
    "              0.24086240556828795,\n",
    "              0.25730500818220114,\n",
    "              0.28271105113210376,\n",
    "              0.27403710305671086],\n",
    "             'Zero-Shot': [0.3869340923536515,\n",
    "              0.3869340923536515,\n",
    "              0.3869340923536515,\n",
    "              0.3869340923536515,\n",
    "              0.3869340923536515,\n",
    "              0.3869340923536515],\n",
    "             'Naive Bayes + Aug': [0.27235449735449735,\n",
    "              0.278589655958077,\n",
    "              0.33758862806420187,\n",
    "              0.4415159953502743,\n",
    "              0.4563280715286368,\n",
    "              0.4832651770367019],\n",
    "             'Embedding GPT2': [0.2359519022412816,\n",
    "              0.22399328684158407,\n",
    "              0.24991158684522524,\n",
    "              0.3304358431861561,\n",
    "              0.31501683091623417,\n",
    "              0.30677622391019166],\n",
    "             'Fine-tune (DA)': [0.12468577174459528,\n",
    "              0.2410383733913146,\n",
    "              0.3562242454271439,\n",
    "              0.44004609895487984,\n",
    "              0.6492905242905243,\n",
    "              0.6718880103719547],\n",
    "             'Fine-tune (vanilla)': [0.059770114942528735,\n",
    "              0.1645095645095645,\n",
    "              0.2286324786324786,\n",
    "              0.40153390305682585,\n",
    "              0.5840550899061536,\n",
    "              0.6127081681040847]})"
   ]
  },
  {
   "cell_type": "code",
   "execution_count": 65,
   "metadata": {},
   "outputs": [
    {
     "name": "stdout",
     "output_type": "stream",
     "text": [
      "Naive Bayes\n",
      "Zero-Shot\n",
      "Naive Bayes + Aug\n",
      "Embedding GPT2\n",
      "Fine-tune (DA)\n",
      "Fine-tune (vanilla)\n"
     ]
    },
    {
     "data": {
      "image/png": "[encoded data removed]",
      "text/plain": [
       "<Figure size 1000x400 with 2 Axes>"
      ]
     },
     "metadata": {},
     "output_type": "display_data"
    }
   ],
   "source": [
    "plot_metrics(micro_scores, macro_scores, train_samples, \"Fine-tune (DA)\")"
   ]
  },
  {
   "cell_type": "code",
   "execution_count": null,
   "metadata": {},
   "outputs": [],
   "source": []
  }
 ],
 "metadata": {
  "kernelspec": {
   "display_name": "GEC_env",
   "language": "python",
   "name": "python3"
  },
  "language_info": {
   "codemirror_mode": {
    "name": "ipython",
    "version": 3
   },
   "file_extension": ".py",
   "mimetype": "text/x-python",
   "name": "python",
   "nbconvert_exporter": "python",
   "pygments_lexer": "ipython3",
   "version": "3.8.10"
  },
  "orig_nbformat": 4
 },
 "nbformat": 4,
 "nbformat_minor": 2
}
