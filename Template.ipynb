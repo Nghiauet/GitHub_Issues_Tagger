{
 "cells": [
  {
   "cell_type": "markdown",
   "metadata": {},
   "source": [
    "# Import lib and dataset"
   ]
  },
  {
   "cell_type": "code",
   "execution_count": 1,
   "metadata": {},
   "outputs": [],
   "source": [
    "import pandas as pd\n",
    "import json\n",
    "import numpy as np \n",
    "import matplotlib.pyplot as plt\n",
    "from transformers import set_seed \n",
    "import nlpaug.augmenter.word as naw \n",
    "from sklearn.naive_bayes import MultinomialNB\n",
    "from sklearn.metrics import classification_report \n",
    "from skmultilearn.problem_transform import BinaryRelevance \n",
    "from sklearn.feature_extraction.text import CountVectorizer \n",
    "import torch \n",
    "from sklearn.preprocessing import MultiLabelBinarizer\n",
    "from skmultilearn.model_selection import iterative_train_test_split \n",
    "from transformers import AutoTokenizer, AutoConfig, AutoModelForSequenceClassification\n",
    "pd.set_option('display.max_colwidth', 200)\n"
   ]
  },
  {
   "cell_type": "code",
   "execution_count": 2,
   "metadata": {},
   "outputs": [],
   "source": []
  },
  {
   "cell_type": "markdown",
   "metadata": {},
   "source": [
    "## Load data to json file"
   ]
  },
  {
   "cell_type": "code",
   "execution_count": 3,
   "metadata": {},
   "outputs": [],
   "source": [
    "df_issues = pd.read_json(\"issues.json\", lines=True)"
   ]
  },
  {
   "cell_type": "code",
   "execution_count": 4,
   "metadata": {},
   "outputs": [
    {
     "data": {
      "text/html": [
       "<div>\n",
       "<style scoped>\n",
       "    .dataframe tbody tr th:only-of-type {\n",
       "        vertical-align: middle;\n",
       "    }\n",
       "\n",
       "    .dataframe tbody tr th {\n",
       "        vertical-align: top;\n",
       "    }\n",
       "\n",
       "    .dataframe thead th {\n",
       "        text-align: right;\n",
       "    }\n",
       "</style>\n",
       "<table border=\"1\" class=\"dataframe\">\n",
       "  <thead>\n",
       "    <tr style=\"text-align: right;\">\n",
       "      <th></th>\n",
       "      <th>2</th>\n",
       "    </tr>\n",
       "  </thead>\n",
       "  <tbody>\n",
       "    <tr>\n",
       "      <th>url</th>\n",
       "      <td>https://api.github.com/repos/huggingface/transformers/issues/11044</td>\n",
       "    </tr>\n",
       "    <tr>\n",
       "      <th>id</th>\n",
       "      <td>849529761</td>\n",
       "    </tr>\n",
       "    <tr>\n",
       "      <th>title</th>\n",
       "      <td>[DeepSpeed] ZeRO stage 3 integration: getting started and issues</td>\n",
       "    </tr>\n",
       "    <tr>\n",
       "      <th>user</th>\n",
       "      <td>{'login': 'stas00', 'id': 10676103, 'node_id': 'MDQ6VXNlcjEwNjc2MTAz', 'avatar_url': 'https://avatars.githubusercontent.com/u/10676103?v=4', 'gravatar_id': '', 'url': 'https://api.github.com/users...</td>\n",
       "    </tr>\n",
       "    <tr>\n",
       "      <th>labels</th>\n",
       "      <td>[{'id': 2659267025, 'node_id': 'MDU6TGFiZWwyNjU5MjY3MDI1', 'url': 'https://api.github.com/repos/huggingface/transformers/labels/DeepSpeed', 'name': 'DeepSpeed', 'color': '4D34F7', 'default': False...</td>\n",
       "    </tr>\n",
       "    <tr>\n",
       "      <th>state</th>\n",
       "      <td>open</td>\n",
       "    </tr>\n",
       "    <tr>\n",
       "      <th>created_at</th>\n",
       "      <td>2021-04-02 23:40:42</td>\n",
       "    </tr>\n",
       "    <tr>\n",
       "      <th>body</th>\n",
       "      <td>**[This is not yet alive, preparing for the release, so please ignore for now]**\\r\\n\\r\\nThe DeepSpeed ZeRO-3 has been integrated into HF `transformers`. \\r\\n\\r\\nWhile I tried to write tests for a ...</td>\n",
       "    </tr>\n",
       "  </tbody>\n",
       "</table>\n",
       "</div>"
      ],
      "text/plain": [
       "                                                                                                                                                                                                                  2\n",
       "url                                                                                                                                              https://api.github.com/repos/huggingface/transformers/issues/11044\n",
       "id                                                                                                                                                                                                        849529761\n",
       "title                                                                                                                                              [DeepSpeed] ZeRO stage 3 integration: getting started and issues\n",
       "user        {'login': 'stas00', 'id': 10676103, 'node_id': 'MDQ6VXNlcjEwNjc2MTAz', 'avatar_url': 'https://avatars.githubusercontent.com/u/10676103?v=4', 'gravatar_id': '', 'url': 'https://api.github.com/users...\n",
       "labels      [{'id': 2659267025, 'node_id': 'MDU6TGFiZWwyNjU5MjY3MDI1', 'url': 'https://api.github.com/repos/huggingface/transformers/labels/DeepSpeed', 'name': 'DeepSpeed', 'color': '4D34F7', 'default': False...\n",
       "state                                                                                                                                                                                                          open\n",
       "created_at                                                                                                                                                                                      2021-04-02 23:40:42\n",
       "body        **[This is not yet alive, preparing for the release, so please ignore for now]**\\r\\n\\r\\nThe DeepSpeed ZeRO-3 has been integrated into HF `transformers`. \\r\\n\\r\\nWhile I tried to write tests for a ..."
      ]
     },
     "execution_count": 4,
     "metadata": {},
     "output_type": "execute_result"
    }
   ],
   "source": [
    "cols = [\"url\", \"id\", \"title\", \"user\", \"labels\", \"state\", \"created_at\", \"body\"]\n",
    "df_issues.loc[2, cols].to_frame()"
   ]
  },
  {
   "cell_type": "markdown",
   "metadata": {},
   "source": [
    "## Process data"
   ]
  },
  {
   "cell_type": "code",
   "execution_count": 6,
   "metadata": {},
   "outputs": [
    {
     "data": {
      "text/html": [
       "<div>\n",
       "<style scoped>\n",
       "    .dataframe tbody tr th:only-of-type {\n",
       "        vertical-align: middle;\n",
       "    }\n",
       "\n",
       "    .dataframe tbody tr th {\n",
       "        vertical-align: top;\n",
       "    }\n",
       "\n",
       "    .dataframe thead th {\n",
       "        text-align: right;\n",
       "    }\n",
       "</style>\n",
       "<table border=\"1\" class=\"dataframe\">\n",
       "  <thead>\n",
       "    <tr style=\"text-align: right;\">\n",
       "      <th></th>\n",
       "      <th>labels</th>\n",
       "    </tr>\n",
       "  </thead>\n",
       "  <tbody>\n",
       "    <tr>\n",
       "      <th>0</th>\n",
       "      <td>[]</td>\n",
       "    </tr>\n",
       "    <tr>\n",
       "      <th>1</th>\n",
       "      <td>[]</td>\n",
       "    </tr>\n",
       "    <tr>\n",
       "      <th>2</th>\n",
       "      <td>[DeepSpeed]</td>\n",
       "    </tr>\n",
       "    <tr>\n",
       "      <th>3</th>\n",
       "      <td>[]</td>\n",
       "    </tr>\n",
       "    <tr>\n",
       "      <th>4</th>\n",
       "      <td>[]</td>\n",
       "    </tr>\n",
       "  </tbody>\n",
       "</table>\n",
       "</div>"
      ],
      "text/plain": [
       "        labels\n",
       "0           []\n",
       "1           []\n",
       "2  [DeepSpeed]\n",
       "3           []\n",
       "4           []"
      ]
     },
     "execution_count": 6,
     "metadata": {},
     "output_type": "execute_result"
    }
   ],
   "source": [
    "df_issues[\"labels\"] = (df_issues[\"labels\"]\n",
    "        .apply(lambda x: [meta[\"name\"] for meta in x]))\n",
    "df_issues[[\"labels\"]].head()"
   ]
  },
  {
   "cell_type": "code",
   "execution_count": 7,
   "metadata": {},
   "outputs": [
    {
     "name": "stdout",
     "output_type": "stream",
     "text": [
      "Number of labels: 65\n"
     ]
    },
    {
     "data": {
      "text/html": [
       "<div>\n",
       "<style scoped>\n",
       "    .dataframe tbody tr th:only-of-type {\n",
       "        vertical-align: middle;\n",
       "    }\n",
       "\n",
       "    .dataframe tbody tr th {\n",
       "        vertical-align: top;\n",
       "    }\n",
       "\n",
       "    .dataframe thead th {\n",
       "        text-align: right;\n",
       "    }\n",
       "</style>\n",
       "<table border=\"1\" class=\"dataframe\">\n",
       "  <thead>\n",
       "    <tr style=\"text-align: right;\">\n",
       "      <th>labels</th>\n",
       "      <th>wontfix</th>\n",
       "      <th>model card</th>\n",
       "      <th>Core: Tokenization</th>\n",
       "      <th>New model</th>\n",
       "      <th>Core: Modeling</th>\n",
       "      <th>Help wanted</th>\n",
       "      <th>Good First Issue</th>\n",
       "      <th>Usage</th>\n",
       "      <th>Core: Pipeline</th>\n",
       "      <th>Feature request</th>\n",
       "    </tr>\n",
       "  </thead>\n",
       "  <tbody>\n",
       "    <tr>\n",
       "      <th>count</th>\n",
       "      <td>2284</td>\n",
       "      <td>649</td>\n",
       "      <td>106</td>\n",
       "      <td>98</td>\n",
       "      <td>64</td>\n",
       "      <td>52</td>\n",
       "      <td>50</td>\n",
       "      <td>46</td>\n",
       "      <td>42</td>\n",
       "      <td>41</td>\n",
       "    </tr>\n",
       "  </tbody>\n",
       "</table>\n",
       "</div>"
      ],
      "text/plain": [
       "labels  wontfix  model card  Core: Tokenization  New model  Core: Modeling  \\\n",
       "count      2284         649                 106         98              64   \n",
       "\n",
       "labels  Help wanted  Good First Issue  Usage  Core: Pipeline  Feature request  \n",
       "count            52                50     46              42               41  "
      ]
     },
     "execution_count": 7,
     "metadata": {},
     "output_type": "execute_result"
    }
   ],
   "source": [
    "df_counts = df_issues[\"labels\"].explode().value_counts()\n",
    "print(f\"Number of labels: {len(df_counts)}\") \n",
    "df_counts.head(10).to_frame().T"
   ]
  },
  {
   "cell_type": "code",
   "execution_count": 8,
   "metadata": {},
   "outputs": [],
   "source": [
    "label_map = {\"Core: Tokenization\": \"tokenization\",\n",
    " \"New model\": \"new model\",\n",
    " \"Core: Modeling\": \"model training\",\n",
    " \"Usage\": \"usage\",\n",
    " \"Core: Pipeline\": \"pipeline\",\n",
    " \"TensorFlow\": \"tensorflow or tf\",\n",
    " \"PyTorch\": \"pytorch\",\n",
    " \"Examples\": \"examples\",\n",
    " \"Documentation\": \"documentation\"}"
   ]
  },
  {
   "cell_type": "code",
   "execution_count": 9,
   "metadata": {},
   "outputs": [],
   "source": [
    "def filter_lables(x): \n",
    "    return [label_map[label] for label in x if label in label_map] \n",
    "df_issues[\"labels\"] = df_issues[\"labels\"].apply(filter_lables) \n",
    "all_labels = list(label_map.values()) "
   ]
  },
  {
   "cell_type": "code",
   "execution_count": 10,
   "metadata": {},
   "outputs": [
    {
     "name": "stdout",
     "output_type": "stream",
     "text": [
      "Number of labels: 9\n"
     ]
    },
    {
     "data": {
      "text/html": [
       "<div>\n",
       "<style scoped>\n",
       "    .dataframe tbody tr th:only-of-type {\n",
       "        vertical-align: middle;\n",
       "    }\n",
       "\n",
       "    .dataframe tbody tr th {\n",
       "        vertical-align: top;\n",
       "    }\n",
       "\n",
       "    .dataframe thead th {\n",
       "        text-align: right;\n",
       "    }\n",
       "</style>\n",
       "<table border=\"1\" class=\"dataframe\">\n",
       "  <thead>\n",
       "    <tr style=\"text-align: right;\">\n",
       "      <th>labels</th>\n",
       "      <th>tokenization</th>\n",
       "      <th>new model</th>\n",
       "      <th>model training</th>\n",
       "      <th>usage</th>\n",
       "      <th>pipeline</th>\n",
       "      <th>tensorflow or tf</th>\n",
       "      <th>pytorch</th>\n",
       "      <th>documentation</th>\n",
       "      <th>examples</th>\n",
       "    </tr>\n",
       "  </thead>\n",
       "  <tbody>\n",
       "    <tr>\n",
       "      <th>count</th>\n",
       "      <td>106</td>\n",
       "      <td>98</td>\n",
       "      <td>64</td>\n",
       "      <td>46</td>\n",
       "      <td>42</td>\n",
       "      <td>41</td>\n",
       "      <td>37</td>\n",
       "      <td>28</td>\n",
       "      <td>24</td>\n",
       "    </tr>\n",
       "  </tbody>\n",
       "</table>\n",
       "</div>"
      ],
      "text/plain": [
       "labels  tokenization  new model  model training  usage  pipeline  \\\n",
       "count            106         98              64     46        42   \n",
       "\n",
       "labels  tensorflow or tf  pytorch  documentation  examples  \n",
       "count                 41       37             28        24  "
      ]
     },
     "execution_count": 10,
     "metadata": {},
     "output_type": "execute_result"
    }
   ],
   "source": [
    "df_counts = df_issues[\"labels\"].explode().value_counts()\n",
    "print(f\"Number of labels: {len(df_counts)}\")\n",
    "df_counts.head(10).to_frame().T"
   ]
  },
  {
   "cell_type": "markdown",
   "metadata": {},
   "source": [
    "## save the unlabels data"
   ]
  },
  {
   "cell_type": "code",
   "execution_count": 11,
   "metadata": {},
   "outputs": [
    {
     "data": {
      "text/html": [
       "<div>\n",
       "<style scoped>\n",
       "    .dataframe tbody tr th:only-of-type {\n",
       "        vertical-align: middle;\n",
       "    }\n",
       "\n",
       "    .dataframe tbody tr th {\n",
       "        vertical-align: top;\n",
       "    }\n",
       "\n",
       "    .dataframe thead th {\n",
       "        text-align: right;\n",
       "    }\n",
       "</style>\n",
       "<table border=\"1\" class=\"dataframe\">\n",
       "  <thead>\n",
       "    <tr style=\"text-align: right;\">\n",
       "      <th></th>\n",
       "      <th>count</th>\n",
       "    </tr>\n",
       "    <tr>\n",
       "      <th>split</th>\n",
       "      <th></th>\n",
       "    </tr>\n",
       "  </thead>\n",
       "  <tbody>\n",
       "    <tr>\n",
       "      <th>unlabeled</th>\n",
       "      <td>9489</td>\n",
       "    </tr>\n",
       "    <tr>\n",
       "      <th>labeled</th>\n",
       "      <td>441</td>\n",
       "    </tr>\n",
       "  </tbody>\n",
       "</table>\n",
       "</div>"
      ],
      "text/plain": [
       "           count\n",
       "split           \n",
       "unlabeled   9489\n",
       "labeled      441"
      ]
     },
     "execution_count": 11,
     "metadata": {},
     "output_type": "execute_result"
    }
   ],
   "source": [
    "df_issues[\"split\"] = \"unlabeled\"\n",
    "mark = df_issues[\"labels\"].apply(lambda x: len(x) > 0)\n",
    "df_issues.loc[mark, \"split\"] = \"labeled\"\n",
    "df_issues[\"split\"].value_counts().to_frame()"
   ]
  },
  {
   "cell_type": "code",
   "execution_count": 12,
   "metadata": {},
   "outputs": [
    {
     "name": "stdout",
     "output_type": "stream",
     "text": [
      "title: Add new CANINE model\n",
      "\n",
      "body: # 🌟 New model addition\n",
      "\n",
      "## Model description\n",
      "\n",
      "Google recently proposed a new **C**haracter **A**rchitecture with **N**o tokenization **I**n **N**eural **E**ncoders architecture (CANINE). Not only the title is exciting:\n",
      "\n",
      "> Pipelined NLP systems have largely been superseded by end-to-end neural modeling, yet nearly all commonly-used models still require an explicit tokenization step. While recent tokenization approaches based on data-derived subword lexicons are less brittle than manually en\n",
      "\n",
      "labels: ['new model']\n",
      "\n"
     ]
    }
   ],
   "source": [
    "# print some examples\n",
    "for colume in ['title', 'body', 'labels']:\n",
    "    print(f\"{colume}: {df_issues[colume].iloc[26][:500]}\\n\")"
   ]
  },
  {
   "cell_type": "code",
   "execution_count": 13,
   "metadata": {},
   "outputs": [],
   "source": [
    "# concat the title and body \n",
    "df_issues['text'] = (df_issues\n",
    "                     .apply(lambda x: f\"{x['title']} +  {x['body']}\", axis=1))"
   ]
  },
  {
   "cell_type": "code",
   "execution_count": 14,
   "metadata": {},
   "outputs": [
    {
     "data": {
      "text/plain": [
       "0    Potential incorrect application of layer norm in BlenderbotSmallDecoder +  In BlenderbotSmallDecoder,  layer norm is applied only on the token embeddings, and not on the hidden_states, whereas in ...\n",
       "1    Multi-GPU seq2seq example evaluation significantly slower than legacy example evaluation +  \\r\\n### Who can help\\r\\n@patil-suraj @sgugger \\r\\n\\r\\nModels:\\r\\nT5\\r\\n\\r\\n## Information\\r\\n\\r\\nI've be...\n",
       "2    [DeepSpeed] ZeRO stage 3 integration: getting started and issues +  **[This is not yet alive, preparing for the release, so please ignore for now]**\\r\\n\\r\\nThe DeepSpeed ZeRO-3 has been integrated...\n",
       "3    Can't load model to estimater +  I was trying to follow the Sagemaker instructions [here](https://docs.aws.amazon.com/sagemaker/latest/dg/deploy-model.html) to load the model I just trained and te...\n",
       "4    [LXMERT] Unclear what img_tensorize does with color spaces +  ## Environment info\\r\\n\\r\\n- `transformers` version: Not using transformers directly, I'm loading a model \"unc-nlp/frcnn-vg-finetuned\"...\n",
       "Name: text, dtype: object"
      ]
     },
     "execution_count": 14,
     "metadata": {},
     "output_type": "execute_result"
    }
   ],
   "source": [
    "df_issues['text'].head()"
   ]
  },
  {
   "cell_type": "code",
   "execution_count": 15,
   "metadata": {},
   "outputs": [
    {
     "name": "stdout",
     "output_type": "stream",
     "text": [
      "Remove 1.88% duplicates.\n"
     ]
    }
   ],
   "source": [
    "len_before = len(df_issues)\n",
    "df_issues = df_issues.drop_duplicates(subset=['text'])\n",
    "print(f\"Remove {(len_before - len(df_issues)) / len_before:.2%} duplicates.\")\n"
   ]
  },
  {
   "cell_type": "markdown",
   "metadata": {},
   "source": [
    "## Plot the dataset"
   ]
  },
  {
   "cell_type": "code",
   "execution_count": 16,
   "metadata": {},
   "outputs": [
    {
     "data": {
      "image/png": "[encoded data removed]",
      "text/plain": [
       "<Figure size 640x480 with 1 Axes>"
      ]
     },
     "metadata": {},
     "output_type": "display_data"
    }
   ],
   "source": [
    "df_issues['text'].str.split().apply(len).hist(bins = np.linspace(0, 500, 50), grid=False, edgecolor='C0') \n",
    "plt.title(\"Words per issue\") \n",
    "plt.xlabel(\"Number of words\")\n",
    "plt.ylabel(\"Number of issues\")\n",
    "plt.show()"
   ]
  },
  {
   "cell_type": "markdown",
   "metadata": {},
   "source": [
    "# Creating training set"
   ]
  },
  {
   "cell_type": "code",
   "execution_count": 17,
   "metadata": {},
   "outputs": [
    {
     "data": {
      "text/plain": [
       "array([[0, 0, 0, 1, 0, 0, 0, 1, 0],\n",
       "       [0, 0, 0, 0, 0, 1, 0, 0, 0]])"
      ]
     },
     "execution_count": 17,
     "metadata": {},
     "output_type": "execute_result"
    }
   ],
   "source": [
    "#create balance split by using sk ml\n",
    "mlb = MultiLabelBinarizer()\n",
    "mlb.fit([all_labels])\n",
    "mlb.transform([[\"tokenization\", \"new model\"], [\"pytorch\"]])  # example of target encoding"
   ]
  },
  {
   "cell_type": "markdown",
   "metadata": {},
   "source": [
    "## split dataset"
   ]
  },
  {
   "cell_type": "code",
   "execution_count": 18,
   "metadata": {},
   "outputs": [],
   "source": [
    "def balanced_split(df , test_size = 0.5): \n",
    "    ind = np.expand_dims(np.arange(len(df)), axis=1)\n",
    "    labels = mlb.transform(df[\"labels\"]) # transform labels to binary\n",
    "    ind_train , _ , ind_test, _  = iterative_train_test_split(ind, labels, test_size=test_size) # split data\n",
    "    return df.iloc[ind_train[:, 0]], df.iloc[ind_test[:, 0]]  # return train and test DataFrames"
   ]
  },
  {
   "cell_type": "markdown",
   "metadata": {},
   "source": [
    "Example of balance split\n",
    "![Alt text](image-1.png)"
   ]
  },
  {
   "cell_type": "code",
   "execution_count": 19,
   "metadata": {},
   "outputs": [],
   "source": [
    "from sklearn.model_selection import train_test_split\n",
    "df_clean = df_issues[[\"text\" , \"labels\", \"split\"]].reset_index(drop=True).copy() \n",
    "df_unsup = df_clean.loc[df_clean[\"split\"] == \"unlabeled\", [\"text\", \"labels\"]].copy()\n",
    "df_sup = df_clean.loc[df_clean[\"split\"] == \"labeled\", [\"text\", \"labels\"]].copy()\n",
    "\n",
    "np.random.seed(0)\n",
    " \n",
    "df_train , df_tmp = balanced_split(df_sup, test_size=0.5) \n",
    "df_valid , df_test = balanced_split(df_tmp, test_size=0.5) "
   ]
  },
  {
   "cell_type": "markdown",
   "metadata": {},
   "source": [
    "## Create datasetDict"
   ]
  },
  {
   "cell_type": "code",
   "execution_count": 20,
   "metadata": {},
   "outputs": [],
   "source": [
    "from datasets import Dataset, DatasetDict \n",
    "ds = DatasetDict({\"train\": Dataset.from_pandas(df_train.reset_index(drop=True)),\n",
    "                  \"valid\": Dataset.from_pandas(df_valid.reset_index(drop=True)),\n",
    "                    \"test\": Dataset.from_pandas(df_test.reset_index(drop=True)),\n",
    "                    \"unsup\": Dataset.from_pandas(df_unsup.reset_index(drop=True))\n",
    "                  })"
   ]
  },
  {
   "cell_type": "markdown",
   "metadata": {},
   "source": [
    "## Creating Training slices"
   ]
  },
  {
   "cell_type": "code",
   "execution_count": 21,
   "metadata": {},
   "outputs": [
    {
     "name": "stdout",
     "output_type": "stream",
     "text": [
      "Number of samples: 223\n"
     ]
    }
   ],
   "source": [
    "np.random.seed(0)\n",
    "all_indices = np.expand_dims(list(range(len(ds[\"train\"]))) , axis=1) \n",
    "print(f\"Number of samples: {len(all_indices)}\")\n",
    "indices_pool = all_indices \n",
    "lables = mlb.transform(ds[\"train\"][\"labels\"]) \n",
    "train_samples =  [8, 16, 32, 64, 128] \n",
    "train_slices , last_k = [], 0 \n",
    "for i , k in enumerate(train_samples):\n",
    "    # split off samples necessary to fill the gap to the next split size\n",
    "    indices_pool, lables, new_slice, _ = iterative_train_test_split(indices_pool, lables, (k - last_k)/len(lables))\n",
    "    last_k = k \n",
    "    if i == 0:\n",
    "        train_slices.append(new_slice)\n",
    "    else: train_slices.append(np.concatenate([train_slices[-1], new_slice]))\n",
    "# add full dataset as last slice \n",
    "train_slices.append(all_indices) , train_samples.append(len(ds[\"train\"]))\n",
    "train_slices = [np.squeeze(x) for x in train_slices]"
   ]
  },
  {
   "cell_type": "code",
   "execution_count": 22,
   "metadata": {},
   "outputs": [
    {
     "data": {
      "application/vnd.jupyter.widget-view+json": {
       "model_id": "e4ff2bcd3bbd42aebfd71d94eab5e4d0",
       "version_major": 2,
       "version_minor": 0
      },
      "text/plain": [
       "Map:   0%|          | 0/223 [00:00<?, ? examples/s]"
      ]
     },
     "metadata": {},
     "output_type": "display_data"
    },
    {
     "data": {
      "application/vnd.jupyter.widget-view+json": {
       "model_id": "462f31460191401bb28389bf4d621eca",
       "version_major": 2,
       "version_minor": 0
      },
      "text/plain": [
       "Map:   0%|          | 0/106 [00:00<?, ? examples/s]"
      ]
     },
     "metadata": {},
     "output_type": "display_data"
    },
    {
     "data": {
      "application/vnd.jupyter.widget-view+json": {
       "model_id": "8f679315a8ae4c71a1bd55ae5562d53a",
       "version_major": 2,
       "version_minor": 0
      },
      "text/plain": [
       "Map:   0%|          | 0/111 [00:00<?, ? examples/s]"
      ]
     },
     "metadata": {},
     "output_type": "display_data"
    },
    {
     "data": {
      "application/vnd.jupyter.widget-view+json": {
       "model_id": "21a5546df6f7405ea43e158e132c424b",
       "version_major": 2,
       "version_minor": 0
      },
      "text/plain": [
       "Map:   0%|          | 0/9303 [00:00<?, ? examples/s]"
      ]
     },
     "metadata": {},
     "output_type": "display_data"
    }
   ],
   "source": [
    "def prepare_labels(batch): \n",
    "    batch[\"label_ids\"] = mlb.transform(batch[\"labels\"])\n",
    "    return batch\n",
    "ds = ds.map(prepare_labels, batched=True) "
   ]
  },
  {
   "cell_type": "code",
   "execution_count": 23,
   "metadata": {},
   "outputs": [
    {
     "data": {
      "text/html": [
       "<div>\n",
       "<style scoped>\n",
       "    .dataframe tbody tr th:only-of-type {\n",
       "        vertical-align: middle;\n",
       "    }\n",
       "\n",
       "    .dataframe tbody tr th {\n",
       "        vertical-align: top;\n",
       "    }\n",
       "\n",
       "    .dataframe thead th {\n",
       "        text-align: right;\n",
       "    }\n",
       "</style>\n",
       "<table border=\"1\" class=\"dataframe\">\n",
       "  <thead>\n",
       "    <tr style=\"text-align: right;\">\n",
       "      <th></th>\n",
       "      <th>text</th>\n",
       "      <th>labels</th>\n",
       "    </tr>\n",
       "  </thead>\n",
       "  <tbody>\n",
       "    <tr>\n",
       "      <th>26</th>\n",
       "      <td>Add new CANINE model +  # 🌟 New model addition\\r\\n\\r\\n## Model description\\r\\n\\r\\nGoogle recently proposed a new **C**haracter **A**rchitecture with **N**o tokenization **I**n **N**eural **E**ncod...</td>\n",
       "      <td>[new model]</td>\n",
       "    </tr>\n",
       "    <tr>\n",
       "      <th>107</th>\n",
       "      <td>Please implement DUMA: Reading Comprehension with Transposition Thinking +  # 🚀 Feature request\\r\\n\\r\\n&lt;!-- A clear and concise description of the feature proposal.\\r\\n     Please provide a link t...</td>\n",
       "      <td>[new model]</td>\n",
       "    </tr>\n",
       "    <tr>\n",
       "      <th>264</th>\n",
       "      <td>Can DeepSpeed ZeRO-3 be applied for training?  +  # 🌟 New model addition\\r\\n\\r\\nWe have applied DeepSpeed v0.3.10(ZeRO-2) on T5 training. \\r\\nI heard DeepSpeed ZeRO-3 library has been released 10 ...</td>\n",
       "      <td>[new model]</td>\n",
       "    </tr>\n",
       "    <tr>\n",
       "      <th>484</th>\n",
       "      <td>XLSR-53 +  # 🚀 Feature request\\r\\n\\r\\nIs it possible to use XLSR-53 with transformers in the near future? \\r\\n</td>\n",
       "      <td>[new model]</td>\n",
       "    </tr>\n",
       "    <tr>\n",
       "      <th>566</th>\n",
       "      <td>[examples] should all examples support the predict stage? +  This is part of the ongoing effort to sync the example scripts.\\r\\n\\r\\nIn https://github.com/huggingface/transformers/issues/10437#issu...</td>\n",
       "      <td>[examples]</td>\n",
       "    </tr>\n",
       "  </tbody>\n",
       "</table>\n",
       "</div>"
      ],
      "text/plain": [
       "                                                                                                                                                                                                        text  \\\n",
       "26   Add new CANINE model +  # 🌟 New model addition\\r\\n\\r\\n## Model description\\r\\n\\r\\nGoogle recently proposed a new **C**haracter **A**rchitecture with **N**o tokenization **I**n **N**eural **E**ncod...   \n",
       "107  Please implement DUMA: Reading Comprehension with Transposition Thinking +  # 🚀 Feature request\\r\\n\\r\\n<!-- A clear and concise description of the feature proposal.\\r\\n     Please provide a link t...   \n",
       "264  Can DeepSpeed ZeRO-3 be applied for training?  +  # 🌟 New model addition\\r\\n\\r\\nWe have applied DeepSpeed v0.3.10(ZeRO-2) on T5 training. \\r\\nI heard DeepSpeed ZeRO-3 library has been released 10 ...   \n",
       "484                                                                                           XLSR-53 +  # 🚀 Feature request\\r\\n\\r\\nIs it possible to use XLSR-53 with transformers in the near future? \\r\\n   \n",
       "566  [examples] should all examples support the predict stage? +  This is part of the ongoing effort to sync the example scripts.\\r\\n\\r\\nIn https://github.com/huggingface/transformers/issues/10437#issu...   \n",
       "\n",
       "          labels  \n",
       "26   [new model]  \n",
       "107  [new model]  \n",
       "264  [new model]  \n",
       "484  [new model]  \n",
       "566   [examples]  "
      ]
     },
     "execution_count": 23,
     "metadata": {},
     "output_type": "execute_result"
    }
   ],
   "source": [
    "df_train.head()"
   ]
  },
  {
   "cell_type": "code",
   "execution_count": 24,
   "metadata": {},
   "outputs": [],
   "source": [
    "def plot_metrics(micro_scores, macro_scores, sample_sizes, current_model):\n",
    "    fig, (ax0, ax1) = plt.subplots(1, 2, figsize=(10, 4), sharey=True)\n",
    "    for run in micro_scores.keys():\n",
    "        if run == current_model:\n",
    "            print(run)\n",
    "            ax0.plot(sample_sizes, micro_scores[run], label = run , linewidth=2)            \n",
    "            ax1.plot(sample_sizes, macro_scores[run], label = run , linewidth=2)\n",
    "        else:\n",
    "            print(run)\n",
    "            ax0.plot(sample_sizes, micro_scores[run], label=run,linestyle=\"dashed\")\n",
    "            ax1.plot(sample_sizes, macro_scores[run], label=run,linestyle=\"dashed\")\n",
    "    ax0.set_title(\"Micro F1 scores\")\n",
    "    ax1.set_title(\"Macro F1 scores\")\n",
    "    ax0.set_ylabel(\"Test set F1 score\")\n",
    "    ax0.legend(loc=\"lower right\")\n",
    "    for ax in [ax0, ax1]:\n",
    "        ax.set_xlabel(\"Number of training samples\")\n",
    "        ax.set_xscale(\"log\")\n",
    "        ax.set_xticks(sample_sizes)\n",
    "        ax.set_xticklabels(sample_sizes)\n",
    "        ax.minorticks_off()\n",
    "    plt.tight_layout()\n",
    "    plt.show()\n",
    "# plot_metrics(micro_scores, macro_scores, train_samples, \"Naive Bayes\")"
   ]
  },
  {
   "cell_type": "code",
   "execution_count": 25,
   "metadata": {},
   "outputs": [],
   "source": [
    "import torch\n",
    "device  = \"cuda\" if torch.cuda.is_available() else \"cpu\""
   ]
  },
  {
   "cell_type": "markdown",
   "metadata": {},
   "source": [
    "## Plot the metrics"
   ]
  },
  {
   "cell_type": "markdown",
   "metadata": {},
   "source": [
    "### init macro and micro"
   ]
  },
  {
   "cell_type": "code",
   "execution_count": 26,
   "metadata": {},
   "outputs": [],
   "source": [
    "# import defaultdict\n",
    "from collections import defaultdict\n",
    "macro_scores = defaultdict(list,\n",
    "            {'Naive Bayes': [0.23288166214995487,\n",
    "              0.21006897585844955,\n",
    "              0.24086240556828795,\n",
    "              0.25730500818220114,\n",
    "              0.28271105113210376,\n",
    "              0.27403710305671086],\n",
    "             'Zero-Shot': [0.3869340923536515,\n",
    "              0.3869340923536515,\n",
    "              0.3869340923536515,\n",
    "              0.3869340923536515,\n",
    "              0.3869340923536515,\n",
    "              0.3869340923536515],\n",
    "             'Naive Bayes + Aug': [0.27235449735449735,\n",
    "              0.278589655958077,\n",
    "              0.33758862806420187,\n",
    "              0.4415159953502743,\n",
    "              0.4563280715286368,\n",
    "              0.4832651770367019],\n",
    "             'Embedding GPT2': [0.2359519022412816,\n",
    "              0.22399328684158407,\n",
    "              0.24991158684522524,\n",
    "              0.3304358431861561,\n",
    "              0.31501683091623417,\n",
    "              0.30677622391019166]})\n",
    "\n",
    "micro_scores = defaultdict(list,\n",
    "            {'Naive Bayes': [0.3604651162790698,\n",
    "              0.30208333333333337,\n",
    "              0.41081081081081083,\n",
    "              0.4435483870967742,\n",
    "              0.5046728971962616,\n",
    "              0.5346534653465347],\n",
    "             'Zero-Shot': [0.4444444444444445,\n",
    "              0.4444444444444445,\n",
    "              0.4444444444444445,\n",
    "              0.4444444444444445,\n",
    "              0.4444444444444445,\n",
    "              0.4444444444444445],\n",
    "             'Naive Bayes + Aug': [0.5081081081081081,\n",
    "              0.4954128440366973,\n",
    "              0.5084745762711865,\n",
    "              0.5679012345679012,\n",
    "              0.5590551181102362,\n",
    "              0.578125],\n",
    "             'Embedding GPT2': [0.3167155425219942,\n",
    "              0.36363636363636365,\n",
    "              0.39452054794520547,\n",
    "              0.5118483412322274,\n",
    "              0.46564885496183206,\n",
    "              0.5402843601895735]})\n"
   ]
  },
  {
   "cell_type": "code",
   "execution_count": 27,
   "metadata": {},
   "outputs": [
    {
     "name": "stdout",
     "output_type": "stream",
     "text": [
      "Naive Bayes\n",
      "Zero-Shot\n",
      "Naive Bayes + Aug\n",
      "Embedding GPT2\n"
     ]
    },
    {
     "data": {
      "image/png": "[encoded data removed]",
      "text/plain": [
       "<Figure size 1000x400 with 2 Axes>"
      ]
     },
     "metadata": {},
     "output_type": "display_data"
    }
   ],
   "source": [
    "plot_metrics(micro_scores, macro_scores, train_samples, \"Embedding\")"
   ]
  },
  {
   "cell_type": "markdown",
   "metadata": {},
   "source": [
    "# Fine tune Vanilla Transformer"
   ]
  },
  {
   "cell_type": "markdown",
   "metadata": {},
   "source": [
    "## Load the base model"
   ]
  },
  {
   "cell_type": "code",
   "execution_count": 28,
   "metadata": {},
   "outputs": [
    {
     "data": {
      "application/vnd.jupyter.widget-view+json": {
       "model_id": "04abe9109d4f48de899f6af9391a12c4",
       "version_major": 2,
       "version_minor": 0
      },
      "text/plain": [
       "Map:   0%|          | 0/223 [00:00<?, ? examples/s]"
      ]
     },
     "metadata": {},
     "output_type": "display_data"
    },
    {
     "data": {
      "application/vnd.jupyter.widget-view+json": {
       "model_id": "f41102dcbf5e48009e0943dfceea76d5",
       "version_major": 2,
       "version_minor": 0
      },
      "text/plain": [
       "Map:   0%|          | 0/106 [00:00<?, ? examples/s]"
      ]
     },
     "metadata": {},
     "output_type": "display_data"
    },
    {
     "data": {
      "application/vnd.jupyter.widget-view+json": {
       "model_id": "b7669a115c86452eb5e9ad29861eccd1",
       "version_major": 2,
       "version_minor": 0
      },
      "text/plain": [
       "Map:   0%|          | 0/111 [00:00<?, ? examples/s]"
      ]
     },
     "metadata": {},
     "output_type": "display_data"
    },
    {
     "data": {
      "application/vnd.jupyter.widget-view+json": {
       "model_id": "cd7ff4667b754b0c84e46726c36109fc",
       "version_major": 2,
       "version_minor": 0
      },
      "text/plain": [
       "Map:   0%|          | 0/9303 [00:00<?, ? examples/s]"
      ]
     },
     "metadata": {},
     "output_type": "display_data"
    }
   ],
   "source": [
    "model_ckpt  = \"bert-base-uncased\"\n",
    "tokenizer = AutoTokenizer.from_pretrained(model_ckpt) \n",
    "def tokenize(batch):\n",
    "    return tokenizer(batch[\"text\"], truncation=True, max_length=128)\n",
    "ds_enc = ds.map(tokenize, batched=True) \n",
    "ds_enc = ds_enc.remove_columns([\"text\", \"labels\"])"
   ]
  },
  {
   "cell_type": "code",
   "execution_count": 29,
   "metadata": {},
   "outputs": [
    {
     "data": {
      "text/plain": [
       "DatasetDict({\n",
       "    train: Dataset({\n",
       "        features: ['label_ids', 'input_ids', 'token_type_ids', 'attention_mask'],\n",
       "        num_rows: 223\n",
       "    })\n",
       "    valid: Dataset({\n",
       "        features: ['label_ids', 'input_ids', 'token_type_ids', 'attention_mask'],\n",
       "        num_rows: 106\n",
       "    })\n",
       "    test: Dataset({\n",
       "        features: ['label_ids', 'input_ids', 'token_type_ids', 'attention_mask'],\n",
       "        num_rows: 111\n",
       "    })\n",
       "    unsup: Dataset({\n",
       "        features: ['label_ids', 'input_ids', 'token_type_ids', 'attention_mask'],\n",
       "        num_rows: 9303\n",
       "    })\n",
       "})"
      ]
     },
     "execution_count": 29,
     "metadata": {},
     "output_type": "execute_result"
    }
   ],
   "source": [
    "ds_enc"
   ]
  },
  {
   "cell_type": "markdown",
   "metadata": {},
   "source": [
    "## Convert label_ids to float\n"
   ]
  },
  {
   "cell_type": "code",
   "execution_count": 30,
   "metadata": {},
   "outputs": [
    {
     "data": {
      "application/vnd.jupyter.widget-view+json": {
       "model_id": "947b14ad843e41b6b72429ecc7c9ffc6",
       "version_major": 2,
       "version_minor": 0
      },
      "text/plain": [
       "Map:   0%|          | 0/223 [00:00<?, ? examples/s]"
      ]
     },
     "metadata": {},
     "output_type": "display_data"
    },
    {
     "data": {
      "application/vnd.jupyter.widget-view+json": {
       "model_id": "3ca9bd9e37cc43a68c166ffab598eb07",
       "version_major": 2,
       "version_minor": 0
      },
      "text/plain": [
       "Map:   0%|          | 0/106 [00:00<?, ? examples/s]"
      ]
     },
     "metadata": {},
     "output_type": "display_data"
    },
    {
     "data": {
      "application/vnd.jupyter.widget-view+json": {
       "model_id": "5a783b98bb284bdfaa372f5bffdc64d8",
       "version_major": 2,
       "version_minor": 0
      },
      "text/plain": [
       "Map:   0%|          | 0/111 [00:00<?, ? examples/s]"
      ]
     },
     "metadata": {},
     "output_type": "display_data"
    },
    {
     "data": {
      "application/vnd.jupyter.widget-view+json": {
       "model_id": "c432c18bc8324a51a805b2e432fc683e",
       "version_major": 2,
       "version_minor": 0
      },
      "text/plain": [
       "Map:   0%|          | 0/9303 [00:00<?, ? examples/s]"
      ]
     },
     "metadata": {},
     "output_type": "display_data"
    }
   ],
   "source": [
    "ds_enc.set_format(\"torch\") \n",
    "ds_enc = ds_enc.map(lambda x: {'label_ids_f': x['label_ids'].to(torch.float)},\n",
    "                               remove_columns = [\"label_ids\"])\n",
    "ds_enc = ds_enc.rename_column(\"label_ids_f\", \"label_ids\")"
   ]
  },
  {
   "cell_type": "markdown",
   "metadata": {},
   "source": [
    "## Training config"
   ]
  },
  {
   "cell_type": "code",
   "execution_count": 31,
   "metadata": {},
   "outputs": [],
   "source": [
    "from transformers import Trainer, TrainingArguments\n",
    "training_args_fine_tune = TrainingArguments(\n",
    " output_dir=\"./results\", num_train_epochs=20, learning_rate=7e-5,\n",
    " lr_scheduler_type='constant', per_device_train_batch_size=4,\n",
    " per_device_eval_batch_size=256, weight_decay=0.0,\n",
    " evaluation_strategy=\"epoch\", save_strategy=\"epoch\",logging_strategy=\"epoch\",\n",
    " load_best_model_at_end=True, metric_for_best_model='micro f1',\n",
    " save_total_limit=1, log_level='error')"
   ]
  },
  {
   "cell_type": "code",
   "execution_count": 32,
   "metadata": {},
   "outputs": [],
   "source": [
    "from scipy.special import expit as sigmoid\n",
    "\n",
    "def compute_metrics(pred):\n",
    "    y_true = pred.label_ids\n",
    "    y_pred = sigmoid(pred.predictions)\n",
    "    y_pred = (y_pred>0.5).astype(float)\n",
    "    clf_dict = classification_report(y_true, y_pred, target_names=all_labels,\n",
    "    zero_division=0, output_dict=True)\n",
    "    return {\"micro f1\": clf_dict[\"micro avg\"][\"f1-score\"],\n",
    "    \"macro f1\": clf_dict[\"macro avg\"][\"f1-score\"]}\n"
   ]
  },
  {
   "cell_type": "markdown",
   "metadata": {},
   "source": [
    "## Train the model through training slices"
   ]
  },
  {
   "cell_type": "code",
   "execution_count": 33,
   "metadata": {},
   "outputs": [
    {
     "name": "stderr",
     "output_type": "stream",
     "text": [
      "Some weights of BertForSequenceClassification were not initialized from the model checkpoint at bert-base-uncased and are newly initialized: ['classifier.bias', 'classifier.weight']\n",
      "You should probably TRAIN this model on a down-stream task to be able to use it for predictions and inference.\n"
     ]
    },
    {
     "data": {
      "text/html": [
       "\n",
       "    <div>\n",
       "      \n",
       "      <progress value='60' max='60' style='width:300px; height:20px; vertical-align: middle;'></progress>\n",
       "      [60/60 00:23, Epoch 20/20]\n",
       "    </div>\n",
       "    <table border=\"1\" class=\"dataframe\">\n",
       "  <thead>\n",
       " <tr style=\"text-align: left;\">\n",
       "      <th>Epoch</th>\n",
       "      <th>Training Loss</th>\n",
       "      <th>Validation Loss</th>\n",
       "      <th>Micro f1</th>\n",
       "      <th>Macro f1</th>\n",
       "    </tr>\n",
       "  </thead>\n",
       "  <tbody>\n",
       "    <tr>\n",
       "      <td>1</td>\n",
       "      <td>0.595500</td>\n",
       "      <td>0.533070</td>\n",
       "      <td>0.000000</td>\n",
       "      <td>0.000000</td>\n",
       "    </tr>\n",
       "    <tr>\n",
       "      <td>2</td>\n",
       "      <td>0.492500</td>\n",
       "      <td>0.470690</td>\n",
       "      <td>0.000000</td>\n",
       "      <td>0.000000</td>\n",
       "    </tr>\n",
       "    <tr>\n",
       "      <td>3</td>\n",
       "      <td>0.443500</td>\n",
       "      <td>0.426303</td>\n",
       "      <td>0.000000</td>\n",
       "      <td>0.000000</td>\n",
       "    </tr>\n",
       "    <tr>\n",
       "      <td>4</td>\n",
       "      <td>0.392900</td>\n",
       "      <td>0.393829</td>\n",
       "      <td>0.000000</td>\n",
       "      <td>0.000000</td>\n",
       "    </tr>\n",
       "    <tr>\n",
       "      <td>5</td>\n",
       "      <td>0.365400</td>\n",
       "      <td>0.385273</td>\n",
       "      <td>0.000000</td>\n",
       "      <td>0.000000</td>\n",
       "    </tr>\n",
       "    <tr>\n",
       "      <td>6</td>\n",
       "      <td>0.347800</td>\n",
       "      <td>0.370951</td>\n",
       "      <td>0.000000</td>\n",
       "      <td>0.000000</td>\n",
       "    </tr>\n",
       "    <tr>\n",
       "      <td>7</td>\n",
       "      <td>0.317000</td>\n",
       "      <td>0.364666</td>\n",
       "      <td>0.000000</td>\n",
       "      <td>0.000000</td>\n",
       "    </tr>\n",
       "    <tr>\n",
       "      <td>8</td>\n",
       "      <td>0.316400</td>\n",
       "      <td>0.360983</td>\n",
       "      <td>0.000000</td>\n",
       "      <td>0.000000</td>\n",
       "    </tr>\n",
       "    <tr>\n",
       "      <td>9</td>\n",
       "      <td>0.283000</td>\n",
       "      <td>0.360329</td>\n",
       "      <td>0.000000</td>\n",
       "      <td>0.000000</td>\n",
       "    </tr>\n",
       "    <tr>\n",
       "      <td>10</td>\n",
       "      <td>0.279600</td>\n",
       "      <td>0.356374</td>\n",
       "      <td>0.000000</td>\n",
       "      <td>0.000000</td>\n",
       "    </tr>\n",
       "    <tr>\n",
       "      <td>11</td>\n",
       "      <td>0.254400</td>\n",
       "      <td>0.354101</td>\n",
       "      <td>0.000000</td>\n",
       "      <td>0.000000</td>\n",
       "    </tr>\n",
       "    <tr>\n",
       "      <td>12</td>\n",
       "      <td>0.258000</td>\n",
       "      <td>0.353156</td>\n",
       "      <td>0.000000</td>\n",
       "      <td>0.000000</td>\n",
       "    </tr>\n",
       "    <tr>\n",
       "      <td>13</td>\n",
       "      <td>0.222500</td>\n",
       "      <td>0.351979</td>\n",
       "      <td>0.000000</td>\n",
       "      <td>0.000000</td>\n",
       "    </tr>\n",
       "    <tr>\n",
       "      <td>14</td>\n",
       "      <td>0.206300</td>\n",
       "      <td>0.354113</td>\n",
       "      <td>0.000000</td>\n",
       "      <td>0.000000</td>\n",
       "    </tr>\n",
       "    <tr>\n",
       "      <td>15</td>\n",
       "      <td>0.192100</td>\n",
       "      <td>0.355619</td>\n",
       "      <td>0.016260</td>\n",
       "      <td>0.007407</td>\n",
       "    </tr>\n",
       "    <tr>\n",
       "      <td>16</td>\n",
       "      <td>0.181800</td>\n",
       "      <td>0.356744</td>\n",
       "      <td>0.032258</td>\n",
       "      <td>0.014337</td>\n",
       "    </tr>\n",
       "    <tr>\n",
       "      <td>17</td>\n",
       "      <td>0.164900</td>\n",
       "      <td>0.359172</td>\n",
       "      <td>0.032258</td>\n",
       "      <td>0.014337</td>\n",
       "    </tr>\n",
       "    <tr>\n",
       "      <td>18</td>\n",
       "      <td>0.159800</td>\n",
       "      <td>0.358588</td>\n",
       "      <td>0.032258</td>\n",
       "      <td>0.014337</td>\n",
       "    </tr>\n",
       "    <tr>\n",
       "      <td>19</td>\n",
       "      <td>0.161700</td>\n",
       "      <td>0.363320</td>\n",
       "      <td>0.032000</td>\n",
       "      <td>0.014337</td>\n",
       "    </tr>\n",
       "    <tr>\n",
       "      <td>20</td>\n",
       "      <td>0.154300</td>\n",
       "      <td>0.365680</td>\n",
       "      <td>0.047244</td>\n",
       "      <td>0.034539</td>\n",
       "    </tr>\n",
       "  </tbody>\n",
       "</table><p>"
      ],
      "text/plain": [
       "<IPython.core.display.HTML object>"
      ]
     },
     "metadata": {},
     "output_type": "display_data"
    },
    {
     "data": {
      "text/html": [],
      "text/plain": [
       "<IPython.core.display.HTML object>"
      ]
     },
     "metadata": {},
     "output_type": "display_data"
    },
    {
     "data": {
      "text/html": [
       "\n",
       "    <div>\n",
       "      \n",
       "      <progress value='100' max='100' style='width:300px; height:20px; vertical-align: middle;'></progress>\n",
       "      [100/100 00:25, Epoch 20/20]\n",
       "    </div>\n",
       "    <table border=\"1\" class=\"dataframe\">\n",
       "  <thead>\n",
       " <tr style=\"text-align: left;\">\n",
       "      <th>Epoch</th>\n",
       "      <th>Training Loss</th>\n",
       "      <th>Validation Loss</th>\n",
       "      <th>Micro f1</th>\n",
       "      <th>Macro f1</th>\n",
       "    </tr>\n",
       "  </thead>\n",
       "  <tbody>\n",
       "    <tr>\n",
       "      <td>1</td>\n",
       "      <td>0.574400</td>\n",
       "      <td>0.481124</td>\n",
       "      <td>0.000000</td>\n",
       "      <td>0.000000</td>\n",
       "    </tr>\n",
       "    <tr>\n",
       "      <td>2</td>\n",
       "      <td>0.433100</td>\n",
       "      <td>0.412370</td>\n",
       "      <td>0.000000</td>\n",
       "      <td>0.000000</td>\n",
       "    </tr>\n",
       "    <tr>\n",
       "      <td>3</td>\n",
       "      <td>0.369700</td>\n",
       "      <td>0.375688</td>\n",
       "      <td>0.000000</td>\n",
       "      <td>0.000000</td>\n",
       "    </tr>\n",
       "    <tr>\n",
       "      <td>4</td>\n",
       "      <td>0.335100</td>\n",
       "      <td>0.364295</td>\n",
       "      <td>0.000000</td>\n",
       "      <td>0.000000</td>\n",
       "    </tr>\n",
       "    <tr>\n",
       "      <td>5</td>\n",
       "      <td>0.330800</td>\n",
       "      <td>0.359429</td>\n",
       "      <td>0.000000</td>\n",
       "      <td>0.000000</td>\n",
       "    </tr>\n",
       "    <tr>\n",
       "      <td>6</td>\n",
       "      <td>0.295300</td>\n",
       "      <td>0.356723</td>\n",
       "      <td>0.000000</td>\n",
       "      <td>0.000000</td>\n",
       "    </tr>\n",
       "    <tr>\n",
       "      <td>7</td>\n",
       "      <td>0.279100</td>\n",
       "      <td>0.355294</td>\n",
       "      <td>0.000000</td>\n",
       "      <td>0.000000</td>\n",
       "    </tr>\n",
       "    <tr>\n",
       "      <td>8</td>\n",
       "      <td>0.260300</td>\n",
       "      <td>0.356004</td>\n",
       "      <td>0.000000</td>\n",
       "      <td>0.000000</td>\n",
       "    </tr>\n",
       "    <tr>\n",
       "      <td>9</td>\n",
       "      <td>0.236000</td>\n",
       "      <td>0.349928</td>\n",
       "      <td>0.000000</td>\n",
       "      <td>0.000000</td>\n",
       "    </tr>\n",
       "    <tr>\n",
       "      <td>10</td>\n",
       "      <td>0.211700</td>\n",
       "      <td>0.355449</td>\n",
       "      <td>0.000000</td>\n",
       "      <td>0.000000</td>\n",
       "    </tr>\n",
       "    <tr>\n",
       "      <td>11</td>\n",
       "      <td>0.194600</td>\n",
       "      <td>0.361325</td>\n",
       "      <td>0.032000</td>\n",
       "      <td>0.013889</td>\n",
       "    </tr>\n",
       "    <tr>\n",
       "      <td>12</td>\n",
       "      <td>0.187600</td>\n",
       "      <td>0.339803</td>\n",
       "      <td>0.243243</td>\n",
       "      <td>0.119088</td>\n",
       "    </tr>\n",
       "    <tr>\n",
       "      <td>13</td>\n",
       "      <td>0.163600</td>\n",
       "      <td>0.355675</td>\n",
       "      <td>0.057971</td>\n",
       "      <td>0.046272</td>\n",
       "    </tr>\n",
       "    <tr>\n",
       "      <td>14</td>\n",
       "      <td>0.145600</td>\n",
       "      <td>0.354811</td>\n",
       "      <td>0.046154</td>\n",
       "      <td>0.033670</td>\n",
       "    </tr>\n",
       "    <tr>\n",
       "      <td>15</td>\n",
       "      <td>0.140100</td>\n",
       "      <td>0.364298</td>\n",
       "      <td>0.147651</td>\n",
       "      <td>0.070541</td>\n",
       "    </tr>\n",
       "    <tr>\n",
       "      <td>16</td>\n",
       "      <td>0.123700</td>\n",
       "      <td>0.367664</td>\n",
       "      <td>0.108108</td>\n",
       "      <td>0.067527</td>\n",
       "    </tr>\n",
       "    <tr>\n",
       "      <td>17</td>\n",
       "      <td>0.115400</td>\n",
       "      <td>0.368686</td>\n",
       "      <td>0.162500</td>\n",
       "      <td>0.083077</td>\n",
       "    </tr>\n",
       "    <tr>\n",
       "      <td>18</td>\n",
       "      <td>0.104400</td>\n",
       "      <td>0.373262</td>\n",
       "      <td>0.195122</td>\n",
       "      <td>0.132436</td>\n",
       "    </tr>\n",
       "    <tr>\n",
       "      <td>19</td>\n",
       "      <td>0.095000</td>\n",
       "      <td>0.379704</td>\n",
       "      <td>0.207317</td>\n",
       "      <td>0.137989</td>\n",
       "    </tr>\n",
       "    <tr>\n",
       "      <td>20</td>\n",
       "      <td>0.092600</td>\n",
       "      <td>0.387939</td>\n",
       "      <td>0.193939</td>\n",
       "      <td>0.117016</td>\n",
       "    </tr>\n",
       "  </tbody>\n",
       "</table><p>"
      ],
      "text/plain": [
       "<IPython.core.display.HTML object>"
      ]
     },
     "metadata": {},
     "output_type": "display_data"
    },
    {
     "data": {
      "text/html": [],
      "text/plain": [
       "<IPython.core.display.HTML object>"
      ]
     },
     "metadata": {},
     "output_type": "display_data"
    },
    {
     "data": {
      "text/html": [
       "\n",
       "    <div>\n",
       "      \n",
       "      <progress value='180' max='180' style='width:300px; height:20px; vertical-align: middle;'></progress>\n",
       "      [180/180 00:27, Epoch 20/20]\n",
       "    </div>\n",
       "    <table border=\"1\" class=\"dataframe\">\n",
       "  <thead>\n",
       " <tr style=\"text-align: left;\">\n",
       "      <th>Epoch</th>\n",
       "      <th>Training Loss</th>\n",
       "      <th>Validation Loss</th>\n",
       "      <th>Micro f1</th>\n",
       "      <th>Macro f1</th>\n",
       "    </tr>\n",
       "  </thead>\n",
       "  <tbody>\n",
       "    <tr>\n",
       "      <td>1</td>\n",
       "      <td>0.518400</td>\n",
       "      <td>0.425813</td>\n",
       "      <td>0.000000</td>\n",
       "      <td>0.000000</td>\n",
       "    </tr>\n",
       "    <tr>\n",
       "      <td>2</td>\n",
       "      <td>0.382100</td>\n",
       "      <td>0.368521</td>\n",
       "      <td>0.000000</td>\n",
       "      <td>0.000000</td>\n",
       "    </tr>\n",
       "    <tr>\n",
       "      <td>3</td>\n",
       "      <td>0.342300</td>\n",
       "      <td>0.361721</td>\n",
       "      <td>0.000000</td>\n",
       "      <td>0.000000</td>\n",
       "    </tr>\n",
       "    <tr>\n",
       "      <td>4</td>\n",
       "      <td>0.319900</td>\n",
       "      <td>0.354651</td>\n",
       "      <td>0.000000</td>\n",
       "      <td>0.000000</td>\n",
       "    </tr>\n",
       "    <tr>\n",
       "      <td>5</td>\n",
       "      <td>0.301900</td>\n",
       "      <td>0.346286</td>\n",
       "      <td>0.000000</td>\n",
       "      <td>0.000000</td>\n",
       "    </tr>\n",
       "    <tr>\n",
       "      <td>6</td>\n",
       "      <td>0.282000</td>\n",
       "      <td>0.336562</td>\n",
       "      <td>0.125000</td>\n",
       "      <td>0.055556</td>\n",
       "    </tr>\n",
       "    <tr>\n",
       "      <td>7</td>\n",
       "      <td>0.251200</td>\n",
       "      <td>0.334875</td>\n",
       "      <td>0.253521</td>\n",
       "      <td>0.086957</td>\n",
       "    </tr>\n",
       "    <tr>\n",
       "      <td>8</td>\n",
       "      <td>0.231500</td>\n",
       "      <td>0.342683</td>\n",
       "      <td>0.211268</td>\n",
       "      <td>0.090956</td>\n",
       "    </tr>\n",
       "    <tr>\n",
       "      <td>9</td>\n",
       "      <td>0.204700</td>\n",
       "      <td>0.313656</td>\n",
       "      <td>0.328767</td>\n",
       "      <td>0.121513</td>\n",
       "    </tr>\n",
       "    <tr>\n",
       "      <td>10</td>\n",
       "      <td>0.179800</td>\n",
       "      <td>0.310766</td>\n",
       "      <td>0.344371</td>\n",
       "      <td>0.150713</td>\n",
       "    </tr>\n",
       "    <tr>\n",
       "      <td>11</td>\n",
       "      <td>0.156000</td>\n",
       "      <td>0.320502</td>\n",
       "      <td>0.414201</td>\n",
       "      <td>0.177541</td>\n",
       "    </tr>\n",
       "    <tr>\n",
       "      <td>12</td>\n",
       "      <td>0.139800</td>\n",
       "      <td>0.325447</td>\n",
       "      <td>0.350649</td>\n",
       "      <td>0.156695</td>\n",
       "    </tr>\n",
       "    <tr>\n",
       "      <td>13</td>\n",
       "      <td>0.125600</td>\n",
       "      <td>0.338233</td>\n",
       "      <td>0.325301</td>\n",
       "      <td>0.150000</td>\n",
       "    </tr>\n",
       "    <tr>\n",
       "      <td>14</td>\n",
       "      <td>0.105000</td>\n",
       "      <td>0.343748</td>\n",
       "      <td>0.344828</td>\n",
       "      <td>0.150213</td>\n",
       "    </tr>\n",
       "    <tr>\n",
       "      <td>15</td>\n",
       "      <td>0.091800</td>\n",
       "      <td>0.344853</td>\n",
       "      <td>0.391061</td>\n",
       "      <td>0.189122</td>\n",
       "    </tr>\n",
       "    <tr>\n",
       "      <td>16</td>\n",
       "      <td>0.077300</td>\n",
       "      <td>0.346211</td>\n",
       "      <td>0.402174</td>\n",
       "      <td>0.240665</td>\n",
       "    </tr>\n",
       "    <tr>\n",
       "      <td>17</td>\n",
       "      <td>0.069300</td>\n",
       "      <td>0.355935</td>\n",
       "      <td>0.384181</td>\n",
       "      <td>0.207079</td>\n",
       "    </tr>\n",
       "    <tr>\n",
       "      <td>18</td>\n",
       "      <td>0.062400</td>\n",
       "      <td>0.361371</td>\n",
       "      <td>0.393443</td>\n",
       "      <td>0.195012</td>\n",
       "    </tr>\n",
       "    <tr>\n",
       "      <td>19</td>\n",
       "      <td>0.054700</td>\n",
       "      <td>0.367370</td>\n",
       "      <td>0.402174</td>\n",
       "      <td>0.217234</td>\n",
       "    </tr>\n",
       "    <tr>\n",
       "      <td>20</td>\n",
       "      <td>0.055300</td>\n",
       "      <td>0.367729</td>\n",
       "      <td>0.384615</td>\n",
       "      <td>0.240566</td>\n",
       "    </tr>\n",
       "  </tbody>\n",
       "</table><p>"
      ],
      "text/plain": [
       "<IPython.core.display.HTML object>"
      ]
     },
     "metadata": {},
     "output_type": "display_data"
    },
    {
     "data": {
      "text/html": [],
      "text/plain": [
       "<IPython.core.display.HTML object>"
      ]
     },
     "metadata": {},
     "output_type": "display_data"
    },
    {
     "data": {
      "text/html": [
       "\n",
       "    <div>\n",
       "      \n",
       "      <progress value='340' max='340' style='width:300px; height:20px; vertical-align: middle;'></progress>\n",
       "      [340/340 00:33, Epoch 20/20]\n",
       "    </div>\n",
       "    <table border=\"1\" class=\"dataframe\">\n",
       "  <thead>\n",
       " <tr style=\"text-align: left;\">\n",
       "      <th>Epoch</th>\n",
       "      <th>Training Loss</th>\n",
       "      <th>Validation Loss</th>\n",
       "      <th>Micro f1</th>\n",
       "      <th>Macro f1</th>\n",
       "    </tr>\n",
       "  </thead>\n",
       "  <tbody>\n",
       "    <tr>\n",
       "      <td>1</td>\n",
       "      <td>0.460500</td>\n",
       "      <td>0.376354</td>\n",
       "      <td>0.000000</td>\n",
       "      <td>0.000000</td>\n",
       "    </tr>\n",
       "    <tr>\n",
       "      <td>2</td>\n",
       "      <td>0.359400</td>\n",
       "      <td>0.358735</td>\n",
       "      <td>0.000000</td>\n",
       "      <td>0.000000</td>\n",
       "    </tr>\n",
       "    <tr>\n",
       "      <td>3</td>\n",
       "      <td>0.345500</td>\n",
       "      <td>0.353276</td>\n",
       "      <td>0.000000</td>\n",
       "      <td>0.000000</td>\n",
       "    </tr>\n",
       "    <tr>\n",
       "      <td>4</td>\n",
       "      <td>0.311500</td>\n",
       "      <td>0.324853</td>\n",
       "      <td>0.233577</td>\n",
       "      <td>0.086721</td>\n",
       "    </tr>\n",
       "    <tr>\n",
       "      <td>5</td>\n",
       "      <td>0.272400</td>\n",
       "      <td>0.325132</td>\n",
       "      <td>0.258503</td>\n",
       "      <td>0.082789</td>\n",
       "    </tr>\n",
       "    <tr>\n",
       "      <td>6</td>\n",
       "      <td>0.249800</td>\n",
       "      <td>0.288104</td>\n",
       "      <td>0.402597</td>\n",
       "      <td>0.162478</td>\n",
       "    </tr>\n",
       "    <tr>\n",
       "      <td>7</td>\n",
       "      <td>0.204500</td>\n",
       "      <td>0.290821</td>\n",
       "      <td>0.381579</td>\n",
       "      <td>0.155117</td>\n",
       "    </tr>\n",
       "    <tr>\n",
       "      <td>8</td>\n",
       "      <td>0.165000</td>\n",
       "      <td>0.261598</td>\n",
       "      <td>0.528090</td>\n",
       "      <td>0.315971</td>\n",
       "    </tr>\n",
       "    <tr>\n",
       "      <td>9</td>\n",
       "      <td>0.134900</td>\n",
       "      <td>0.264086</td>\n",
       "      <td>0.541667</td>\n",
       "      <td>0.338259</td>\n",
       "    </tr>\n",
       "    <tr>\n",
       "      <td>10</td>\n",
       "      <td>0.112800</td>\n",
       "      <td>0.256927</td>\n",
       "      <td>0.550562</td>\n",
       "      <td>0.310626</td>\n",
       "    </tr>\n",
       "    <tr>\n",
       "      <td>11</td>\n",
       "      <td>0.098200</td>\n",
       "      <td>0.260999</td>\n",
       "      <td>0.534759</td>\n",
       "      <td>0.354651</td>\n",
       "    </tr>\n",
       "    <tr>\n",
       "      <td>12</td>\n",
       "      <td>0.080900</td>\n",
       "      <td>0.245890</td>\n",
       "      <td>0.583333</td>\n",
       "      <td>0.379359</td>\n",
       "    </tr>\n",
       "    <tr>\n",
       "      <td>13</td>\n",
       "      <td>0.064900</td>\n",
       "      <td>0.266616</td>\n",
       "      <td>0.568306</td>\n",
       "      <td>0.341680</td>\n",
       "    </tr>\n",
       "    <tr>\n",
       "      <td>14</td>\n",
       "      <td>0.055200</td>\n",
       "      <td>0.264112</td>\n",
       "      <td>0.592593</td>\n",
       "      <td>0.390182</td>\n",
       "    </tr>\n",
       "    <tr>\n",
       "      <td>15</td>\n",
       "      <td>0.045700</td>\n",
       "      <td>0.266764</td>\n",
       "      <td>0.602151</td>\n",
       "      <td>0.375492</td>\n",
       "    </tr>\n",
       "    <tr>\n",
       "      <td>16</td>\n",
       "      <td>0.041900</td>\n",
       "      <td>0.281127</td>\n",
       "      <td>0.577540</td>\n",
       "      <td>0.351027</td>\n",
       "    </tr>\n",
       "    <tr>\n",
       "      <td>17</td>\n",
       "      <td>0.036700</td>\n",
       "      <td>0.272080</td>\n",
       "      <td>0.606383</td>\n",
       "      <td>0.405452</td>\n",
       "    </tr>\n",
       "    <tr>\n",
       "      <td>18</td>\n",
       "      <td>0.035700</td>\n",
       "      <td>0.297074</td>\n",
       "      <td>0.554974</td>\n",
       "      <td>0.336163</td>\n",
       "    </tr>\n",
       "    <tr>\n",
       "      <td>19</td>\n",
       "      <td>0.030500</td>\n",
       "      <td>0.283939</td>\n",
       "      <td>0.583333</td>\n",
       "      <td>0.380335</td>\n",
       "    </tr>\n",
       "    <tr>\n",
       "      <td>20</td>\n",
       "      <td>0.027300</td>\n",
       "      <td>0.282999</td>\n",
       "      <td>0.578947</td>\n",
       "      <td>0.364479</td>\n",
       "    </tr>\n",
       "  </tbody>\n",
       "</table><p>"
      ],
      "text/plain": [
       "<IPython.core.display.HTML object>"
      ]
     },
     "metadata": {},
     "output_type": "display_data"
    },
    {
     "data": {
      "text/html": [],
      "text/plain": [
       "<IPython.core.display.HTML object>"
      ]
     },
     "metadata": {},
     "output_type": "display_data"
    },
    {
     "data": {
      "text/html": [
       "\n",
       "    <div>\n",
       "      \n",
       "      <progress value='680' max='680' style='width:300px; height:20px; vertical-align: middle;'></progress>\n",
       "      [680/680 00:45, Epoch 20/20]\n",
       "    </div>\n",
       "    <table border=\"1\" class=\"dataframe\">\n",
       "  <thead>\n",
       " <tr style=\"text-align: left;\">\n",
       "      <th>Epoch</th>\n",
       "      <th>Training Loss</th>\n",
       "      <th>Validation Loss</th>\n",
       "      <th>Micro f1</th>\n",
       "      <th>Macro f1</th>\n",
       "    </tr>\n",
       "  </thead>\n",
       "  <tbody>\n",
       "    <tr>\n",
       "      <td>1</td>\n",
       "      <td>0.408300</td>\n",
       "      <td>0.360685</td>\n",
       "      <td>0.000000</td>\n",
       "      <td>0.000000</td>\n",
       "    </tr>\n",
       "    <tr>\n",
       "      <td>2</td>\n",
       "      <td>0.355000</td>\n",
       "      <td>0.361948</td>\n",
       "      <td>0.000000</td>\n",
       "      <td>0.000000</td>\n",
       "    </tr>\n",
       "    <tr>\n",
       "      <td>3</td>\n",
       "      <td>0.328500</td>\n",
       "      <td>0.303682</td>\n",
       "      <td>0.269504</td>\n",
       "      <td>0.093827</td>\n",
       "    </tr>\n",
       "    <tr>\n",
       "      <td>4</td>\n",
       "      <td>0.270100</td>\n",
       "      <td>0.304618</td>\n",
       "      <td>0.486486</td>\n",
       "      <td>0.175983</td>\n",
       "    </tr>\n",
       "    <tr>\n",
       "      <td>5</td>\n",
       "      <td>0.240800</td>\n",
       "      <td>0.261182</td>\n",
       "      <td>0.511628</td>\n",
       "      <td>0.233974</td>\n",
       "    </tr>\n",
       "    <tr>\n",
       "      <td>6</td>\n",
       "      <td>0.192100</td>\n",
       "      <td>0.249143</td>\n",
       "      <td>0.581006</td>\n",
       "      <td>0.311513</td>\n",
       "    </tr>\n",
       "    <tr>\n",
       "      <td>7</td>\n",
       "      <td>0.169400</td>\n",
       "      <td>0.243760</td>\n",
       "      <td>0.576271</td>\n",
       "      <td>0.329221</td>\n",
       "    </tr>\n",
       "    <tr>\n",
       "      <td>8</td>\n",
       "      <td>0.129400</td>\n",
       "      <td>0.223817</td>\n",
       "      <td>0.618357</td>\n",
       "      <td>0.474427</td>\n",
       "    </tr>\n",
       "    <tr>\n",
       "      <td>9</td>\n",
       "      <td>0.090700</td>\n",
       "      <td>0.209712</td>\n",
       "      <td>0.660870</td>\n",
       "      <td>0.575738</td>\n",
       "    </tr>\n",
       "    <tr>\n",
       "      <td>10</td>\n",
       "      <td>0.064500</td>\n",
       "      <td>0.215125</td>\n",
       "      <td>0.644231</td>\n",
       "      <td>0.518467</td>\n",
       "    </tr>\n",
       "    <tr>\n",
       "      <td>11</td>\n",
       "      <td>0.050600</td>\n",
       "      <td>0.228031</td>\n",
       "      <td>0.647887</td>\n",
       "      <td>0.548436</td>\n",
       "    </tr>\n",
       "    <tr>\n",
       "      <td>12</td>\n",
       "      <td>0.041400</td>\n",
       "      <td>0.222612</td>\n",
       "      <td>0.647619</td>\n",
       "      <td>0.540754</td>\n",
       "    </tr>\n",
       "    <tr>\n",
       "      <td>13</td>\n",
       "      <td>0.032900</td>\n",
       "      <td>0.219818</td>\n",
       "      <td>0.666667</td>\n",
       "      <td>0.560077</td>\n",
       "    </tr>\n",
       "    <tr>\n",
       "      <td>14</td>\n",
       "      <td>0.028600</td>\n",
       "      <td>0.230363</td>\n",
       "      <td>0.633028</td>\n",
       "      <td>0.528019</td>\n",
       "    </tr>\n",
       "    <tr>\n",
       "      <td>15</td>\n",
       "      <td>0.023800</td>\n",
       "      <td>0.236847</td>\n",
       "      <td>0.632075</td>\n",
       "      <td>0.519068</td>\n",
       "    </tr>\n",
       "    <tr>\n",
       "      <td>16</td>\n",
       "      <td>0.022800</td>\n",
       "      <td>0.232781</td>\n",
       "      <td>0.672897</td>\n",
       "      <td>0.571356</td>\n",
       "    </tr>\n",
       "    <tr>\n",
       "      <td>17</td>\n",
       "      <td>0.017800</td>\n",
       "      <td>0.246772</td>\n",
       "      <td>0.645161</td>\n",
       "      <td>0.554281</td>\n",
       "    </tr>\n",
       "    <tr>\n",
       "      <td>18</td>\n",
       "      <td>0.015500</td>\n",
       "      <td>0.240895</td>\n",
       "      <td>0.675926</td>\n",
       "      <td>0.571331</td>\n",
       "    </tr>\n",
       "    <tr>\n",
       "      <td>19</td>\n",
       "      <td>0.013900</td>\n",
       "      <td>0.241391</td>\n",
       "      <td>0.676190</td>\n",
       "      <td>0.576041</td>\n",
       "    </tr>\n",
       "    <tr>\n",
       "      <td>20</td>\n",
       "      <td>0.012300</td>\n",
       "      <td>0.240263</td>\n",
       "      <td>0.676056</td>\n",
       "      <td>0.576577</td>\n",
       "    </tr>\n",
       "  </tbody>\n",
       "</table><p>"
      ],
      "text/plain": [
       "<IPython.core.display.HTML object>"
      ]
     },
     "metadata": {},
     "output_type": "display_data"
    },
    {
     "data": {
      "text/html": [],
      "text/plain": [
       "<IPython.core.display.HTML object>"
      ]
     },
     "metadata": {},
     "output_type": "display_data"
    },
    {
     "data": {
      "text/html": [
       "\n",
       "    <div>\n",
       "      \n",
       "      <progress value='1120' max='1120' style='width:300px; height:20px; vertical-align: middle;'></progress>\n",
       "      [1120/1120 01:01, Epoch 20/20]\n",
       "    </div>\n",
       "    <table border=\"1\" class=\"dataframe\">\n",
       "  <thead>\n",
       " <tr style=\"text-align: left;\">\n",
       "      <th>Epoch</th>\n",
       "      <th>Training Loss</th>\n",
       "      <th>Validation Loss</th>\n",
       "      <th>Micro f1</th>\n",
       "      <th>Macro f1</th>\n",
       "    </tr>\n",
       "  </thead>\n",
       "  <tbody>\n",
       "    <tr>\n",
       "      <td>1</td>\n",
       "      <td>0.383700</td>\n",
       "      <td>0.345583</td>\n",
       "      <td>0.000000</td>\n",
       "      <td>0.000000</td>\n",
       "    </tr>\n",
       "    <tr>\n",
       "      <td>2</td>\n",
       "      <td>0.315100</td>\n",
       "      <td>0.273804</td>\n",
       "      <td>0.478528</td>\n",
       "      <td>0.185336</td>\n",
       "    </tr>\n",
       "    <tr>\n",
       "      <td>3</td>\n",
       "      <td>0.257100</td>\n",
       "      <td>0.249668</td>\n",
       "      <td>0.573034</td>\n",
       "      <td>0.292257</td>\n",
       "    </tr>\n",
       "    <tr>\n",
       "      <td>4</td>\n",
       "      <td>0.216500</td>\n",
       "      <td>0.261184</td>\n",
       "      <td>0.521277</td>\n",
       "      <td>0.239952</td>\n",
       "    </tr>\n",
       "    <tr>\n",
       "      <td>5</td>\n",
       "      <td>0.183500</td>\n",
       "      <td>0.226365</td>\n",
       "      <td>0.580645</td>\n",
       "      <td>0.319864</td>\n",
       "    </tr>\n",
       "    <tr>\n",
       "      <td>6</td>\n",
       "      <td>0.145300</td>\n",
       "      <td>0.198739</td>\n",
       "      <td>0.644550</td>\n",
       "      <td>0.514530</td>\n",
       "    </tr>\n",
       "    <tr>\n",
       "      <td>7</td>\n",
       "      <td>0.108300</td>\n",
       "      <td>0.189606</td>\n",
       "      <td>0.676471</td>\n",
       "      <td>0.517358</td>\n",
       "    </tr>\n",
       "    <tr>\n",
       "      <td>8</td>\n",
       "      <td>0.084800</td>\n",
       "      <td>0.200525</td>\n",
       "      <td>0.679612</td>\n",
       "      <td>0.562295</td>\n",
       "    </tr>\n",
       "    <tr>\n",
       "      <td>9</td>\n",
       "      <td>0.055400</td>\n",
       "      <td>0.205257</td>\n",
       "      <td>0.697248</td>\n",
       "      <td>0.603512</td>\n",
       "    </tr>\n",
       "    <tr>\n",
       "      <td>10</td>\n",
       "      <td>0.042900</td>\n",
       "      <td>0.230097</td>\n",
       "      <td>0.672897</td>\n",
       "      <td>0.542338</td>\n",
       "    </tr>\n",
       "    <tr>\n",
       "      <td>11</td>\n",
       "      <td>0.037000</td>\n",
       "      <td>0.249912</td>\n",
       "      <td>0.663636</td>\n",
       "      <td>0.535020</td>\n",
       "    </tr>\n",
       "    <tr>\n",
       "      <td>12</td>\n",
       "      <td>0.033500</td>\n",
       "      <td>0.232538</td>\n",
       "      <td>0.699115</td>\n",
       "      <td>0.618675</td>\n",
       "    </tr>\n",
       "    <tr>\n",
       "      <td>13</td>\n",
       "      <td>0.024800</td>\n",
       "      <td>0.225729</td>\n",
       "      <td>0.693333</td>\n",
       "      <td>0.598581</td>\n",
       "    </tr>\n",
       "    <tr>\n",
       "      <td>14</td>\n",
       "      <td>0.023500</td>\n",
       "      <td>0.258036</td>\n",
       "      <td>0.663677</td>\n",
       "      <td>0.574396</td>\n",
       "    </tr>\n",
       "    <tr>\n",
       "      <td>15</td>\n",
       "      <td>0.020500</td>\n",
       "      <td>0.272360</td>\n",
       "      <td>0.660793</td>\n",
       "      <td>0.572394</td>\n",
       "    </tr>\n",
       "    <tr>\n",
       "      <td>16</td>\n",
       "      <td>0.017200</td>\n",
       "      <td>0.251096</td>\n",
       "      <td>0.696035</td>\n",
       "      <td>0.597445</td>\n",
       "    </tr>\n",
       "    <tr>\n",
       "      <td>17</td>\n",
       "      <td>0.018700</td>\n",
       "      <td>0.316115</td>\n",
       "      <td>0.663594</td>\n",
       "      <td>0.530745</td>\n",
       "    </tr>\n",
       "    <tr>\n",
       "      <td>18</td>\n",
       "      <td>0.018800</td>\n",
       "      <td>0.300655</td>\n",
       "      <td>0.663717</td>\n",
       "      <td>0.572539</td>\n",
       "    </tr>\n",
       "    <tr>\n",
       "      <td>19</td>\n",
       "      <td>0.015700</td>\n",
       "      <td>0.324793</td>\n",
       "      <td>0.651786</td>\n",
       "      <td>0.545813</td>\n",
       "    </tr>\n",
       "    <tr>\n",
       "      <td>20</td>\n",
       "      <td>0.011000</td>\n",
       "      <td>0.336563</td>\n",
       "      <td>0.627803</td>\n",
       "      <td>0.496218</td>\n",
       "    </tr>\n",
       "  </tbody>\n",
       "</table><p>"
      ],
      "text/plain": [
       "<IPython.core.display.HTML object>"
      ]
     },
     "metadata": {},
     "output_type": "display_data"
    },
    {
     "data": {
      "text/html": [],
      "text/plain": [
       "<IPython.core.display.HTML object>"
      ]
     },
     "metadata": {},
     "output_type": "display_data"
    },
    {
     "name": "stdout",
     "output_type": "stream",
     "text": [
      "Naive Bayes\n",
      "Zero-Shot\n",
      "Naive Bayes + Aug\n",
      "Embedding GPT2\n",
      "Fine-tune (vanilla)\n"
     ]
    },
    {
     "data": {
      "image/png": "[encoded data removed]",
      "text/plain": [
       "<Figure size 1000x400 with 2 Axes>"
      ]
     },
     "metadata": {},
     "output_type": "display_data"
    }
   ],
   "source": [
    "config = AutoConfig.from_pretrained(model_ckpt)\n",
    "config.num_labels = len(all_labels)\n",
    "config.problem_type = \"multi_label_classification\"\n",
    "for train_slice in train_slices:\n",
    " model = AutoModelForSequenceClassification.from_pretrained(model_ckpt,\n",
    " config=config)\n",
    " trainer = Trainer(\n",
    " model=model, tokenizer=tokenizer,\n",
    " args=training_args_fine_tune,\n",
    " compute_metrics=compute_metrics,\n",
    " train_dataset=ds_enc[\"train\"].select(train_slice),\n",
    " eval_dataset=ds_enc[\"valid\"],)\n",
    " trainer.train()\n",
    " pred = trainer.predict(ds_enc[\"test\"])\n",
    " metrics = compute_metrics(pred)\n",
    " macro_scores[\"Fine-tune (vanilla)\"].append(metrics[\"macro f1\"])\n",
    " micro_scores[\"Fine-tune (vanilla)\"].append(metrics[\"micro f1\"])\n",
    "plot_metrics(micro_scores, macro_scores, train_samples, \"Fine-tune (vanilla)\")"
   ]
  },
  {
   "cell_type": "code",
   "execution_count": 36,
   "metadata": {},
   "outputs": [],
   "source": [
    "macro_scores = defaultdict(list,\n",
    "            {'Naive Bayes': [0.23288166214995487,\n",
    "              0.21006897585844955,\n",
    "              0.24086240556828795,\n",
    "              0.25730500818220114,\n",
    "              0.28271105113210376,\n",
    "              0.27403710305671086],\n",
    "             'Zero-Shot': [0.3869340923536515,\n",
    "              0.3869340923536515,\n",
    "              0.3869340923536515,\n",
    "              0.3869340923536515,\n",
    "              0.3869340923536515,\n",
    "              0.3869340923536515],\n",
    "             'Naive Bayes + Aug': [0.27235449735449735,\n",
    "              0.278589655958077,\n",
    "              0.33758862806420187,\n",
    "              0.4415159953502743,\n",
    "              0.4563280715286368,\n",
    "              0.4832651770367019],\n",
    "             'Embedding GPT2': [0.2359519022412816,\n",
    "              0.22399328684158407,\n",
    "              0.24991158684522524,\n",
    "              0.3304358431861561,\n",
    "              0.31501683091623417,\n",
    "              0.30677622391019166],\n",
    "             'Fine-tune (vanilla)': [0.059770114942528735,\n",
    "              0.1645095645095645,\n",
    "              0.2286324786324786,\n",
    "              0.40153390305682585,\n",
    "              0.5840550899061536,\n",
    "              0.6127081681040847]})\n",
    "micro_scores = defaultdict(list,\n",
    "            {'Naive Bayes': [0.3604651162790698,\n",
    "              0.30208333333333337,\n",
    "              0.41081081081081083,\n",
    "              0.4435483870967742,\n",
    "              0.5046728971962616,\n",
    "              0.5346534653465347],\n",
    "             'Zero-Shot': [0.4444444444444445,\n",
    "              0.4444444444444445,\n",
    "              0.4444444444444445,\n",
    "              0.4444444444444445,\n",
    "              0.4444444444444445,\n",
    "              0.4444444444444445],\n",
    "             'Naive Bayes + Aug': [0.5081081081081081,\n",
    "              0.4954128440366973,\n",
    "              0.5084745762711865,\n",
    "              0.5679012345679012,\n",
    "              0.5590551181102362,\n",
    "              0.578125],\n",
    "             'Embedding GPT2': [0.3167155425219942,\n",
    "              0.36363636363636365,\n",
    "              0.39452054794520547,\n",
    "              0.5118483412322274,\n",
    "              0.46564885496183206,\n",
    "              0.5402843601895735],\n",
    "             'Fine-tune (vanilla)': [0.07633587786259542,\n",
    "              0.3006535947712418,\n",
    "              0.5104166666666667,\n",
    "              0.58,\n",
    "              0.6486486486486487,\n",
    "              0.6949152542372881]})"
   ]
  },
  {
   "cell_type": "code",
   "execution_count": null,
   "metadata": {},
   "outputs": [],
   "source": []
  }
 ],
 "metadata": {
  "kernelspec": {
   "display_name": "GEC_env",
   "language": "python",
   "name": "python3"
  },
  "language_info": {
   "codemirror_mode": {
    "name": "ipython",
    "version": 3
   },
   "file_extension": ".py",
   "mimetype": "text/x-python",
   "name": "python",
   "nbconvert_exporter": "python",
   "pygments_lexer": "ipython3",
   "version": "3.8.10"
  },
  "orig_nbformat": 4
 },
 "nbformat": 4,
 "nbformat_minor": 2
}
